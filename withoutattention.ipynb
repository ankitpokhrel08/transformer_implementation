{
 "cells": [
  {
   "cell_type": "code",
   "execution_count": 114,
   "metadata": {},
   "outputs": [
    {
     "data": {
      "text/html": [
       "<div>\n",
       "<style scoped>\n",
       "    .dataframe tbody tr th:only-of-type {\n",
       "        vertical-align: middle;\n",
       "    }\n",
       "\n",
       "    .dataframe tbody tr th {\n",
       "        vertical-align: top;\n",
       "    }\n",
       "\n",
       "    .dataframe thead th {\n",
       "        text-align: right;\n",
       "    }\n",
       "</style>\n",
       "<table border=\"1\" class=\"dataframe\">\n",
       "  <thead>\n",
       "    <tr style=\"text-align: right;\">\n",
       "      <th></th>\n",
       "      <th>Sanskrit</th>\n",
       "      <th>English</th>\n",
       "    </tr>\n",
       "  </thead>\n",
       "  <tbody>\n",
       "    <tr>\n",
       "      <th>0</th>\n",
       "      <td>वैशम्पायन उवाच अथ गावल्गणिविद्वान् संयुगादेत्य...</td>\n",
       "      <td>Vaishampayana said O descendant of Bharata, po...</td>\n",
       "    </tr>\n",
       "    <tr>\n",
       "      <th>1</th>\n",
       "      <td>संजय उवाच संजयोऽहं महाराज नमस्ते भरतर्षभ। हतो ...</td>\n",
       "      <td>Sanjaya said O great king, I am Sanjaya , O fo...</td>\n",
       "    </tr>\n",
       "    <tr>\n",
       "      <th>2</th>\n",
       "      <td>ककुदं सर्वयोधानां धाम सर्वधनुष्मताम्। शरतल्पगत...</td>\n",
       "      <td>The foremost of all warriors, that prowess per...</td>\n",
       "    </tr>\n",
       "    <tr>\n",
       "      <th>3</th>\n",
       "      <td>यस्य वीर्यं समाश्रित्य द्यूतं पुत्रस्तवाकरोत्।...</td>\n",
       "      <td>O king, relaying on whose energy, your son pla...</td>\n",
       "    </tr>\n",
       "    <tr>\n",
       "      <th>4</th>\n",
       "      <td>यः सर्वान् पृथिवीपालान् समवेतान् महामृधे। जिगा...</td>\n",
       "      <td>That mighty car-warrior who on a single car ha...</td>\n",
       "    </tr>\n",
       "  </tbody>\n",
       "</table>\n",
       "</div>"
      ],
      "text/plain": [
       "                                            Sanskrit  \\\n",
       "0  वैशम्पायन उवाच अथ गावल्गणिविद्वान् संयुगादेत्य...   \n",
       "1  संजय उवाच संजयोऽहं महाराज नमस्ते भरतर्षभ। हतो ...   \n",
       "2  ककुदं सर्वयोधानां धाम सर्वधनुष्मताम्। शरतल्पगत...   \n",
       "3  यस्य वीर्यं समाश्रित्य द्यूतं पुत्रस्तवाकरोत्।...   \n",
       "4  यः सर्वान् पृथिवीपालान् समवेतान् महामृधे। जिगा...   \n",
       "\n",
       "                                             English  \n",
       "0  Vaishampayana said O descendant of Bharata, po...  \n",
       "1  Sanjaya said O great king, I am Sanjaya , O fo...  \n",
       "2  The foremost of all warriors, that prowess per...  \n",
       "3  O king, relaying on whose energy, your son pla...  \n",
       "4  That mighty car-warrior who on a single car ha...  "
      ]
     },
     "execution_count": 114,
     "metadata": {},
     "output_type": "execute_result"
    }
   ],
   "source": [
    "import pandas as pd\n",
    "\n",
    "#Filtering dataset and arranging into columns of Sanskrit and English\n",
    "\n",
    "with open(\"data/geeta.txt\", \"r\", encoding=\"utf-8\") as file:\n",
    "    lines = [line.strip() for line in file if line.strip()]  \n",
    "\n",
    "# Separate Sanskrit and English lines\n",
    "sanskrit_lines = lines[0::2]  # Sanskrit in even indexes\n",
    "english_lines = lines[1::2]   # English in odd indexes\n",
    "\n",
    "# Ensure both lists have the same length\n",
    "\n",
    "min_length = min(len(sanskrit_lines), len(english_lines))\n",
    "sanskrit_lines = sanskrit_lines[:min_length]\n",
    "english_lines = english_lines[:min_length]\n",
    "\n",
    "# Create DataFrame\n",
    "df = pd.DataFrame({\"Sanskrit\": sanskrit_lines, \"English\": english_lines})\n",
    "\n",
    "df.head(5)"
   ]
  },
  {
   "cell_type": "code",
   "execution_count": 115,
   "metadata": {},
   "outputs": [
    {
     "data": {
      "text/html": [
       "<div>\n",
       "<style scoped>\n",
       "    .dataframe tbody tr th:only-of-type {\n",
       "        vertical-align: middle;\n",
       "    }\n",
       "\n",
       "    .dataframe tbody tr th {\n",
       "        vertical-align: top;\n",
       "    }\n",
       "\n",
       "    .dataframe thead th {\n",
       "        text-align: right;\n",
       "    }\n",
       "</style>\n",
       "<table border=\"1\" class=\"dataframe\">\n",
       "  <thead>\n",
       "    <tr style=\"text-align: right;\">\n",
       "      <th></th>\n",
       "      <th>Sanskrit</th>\n",
       "      <th>English</th>\n",
       "    </tr>\n",
       "  </thead>\n",
       "  <tbody>\n",
       "    <tr>\n",
       "      <th>955</th>\n",
       "      <td>संजय उवाच इत्यहं वासुदेवस्य पार्थस्य च महात्मन...</td>\n",
       "      <td>Sanjay said O king, I heard this wonderful and...</td>\n",
       "    </tr>\n",
       "    <tr>\n",
       "      <th>956</th>\n",
       "      <td>व्यासप्रसादाच्छ्रुतवानेतद् गुह्यमहं परम्। योगय...</td>\n",
       "      <td>Through the favour of Vyasa, I myself heard th...</td>\n",
       "    </tr>\n",
       "    <tr>\n",
       "      <th>957</th>\n",
       "      <td>राजन् संस्मृत्य संस्मृत्य संवादमिममद्भुतम्। के...</td>\n",
       "      <td>O king, I am feeling more and more pleasure as...</td>\n",
       "    </tr>\n",
       "    <tr>\n",
       "      <th>958</th>\n",
       "      <td>तच्च संस्मृत्य संस्मृत्य रूपमत्यद्भुतं हरेः। व...</td>\n",
       "      <td>O king, I am feeling more and more pleasure as...</td>\n",
       "    </tr>\n",
       "    <tr>\n",
       "      <th>959</th>\n",
       "      <td>यत्र योगेश्वरः कृष्णो यत्र पार्थो धनुर्धरः। तत...</td>\n",
       "      <td>Wherever exist the Lord of Yoga Srikrishna and...</td>\n",
       "    </tr>\n",
       "  </tbody>\n",
       "</table>\n",
       "</div>"
      ],
      "text/plain": [
       "                                              Sanskrit  \\\n",
       "955  संजय उवाच इत्यहं वासुदेवस्य पार्थस्य च महात्मन...   \n",
       "956  व्यासप्रसादाच्छ्रुतवानेतद् गुह्यमहं परम्। योगय...   \n",
       "957  राजन् संस्मृत्य संस्मृत्य संवादमिममद्भुतम्। के...   \n",
       "958  तच्च संस्मृत्य संस्मृत्य रूपमत्यद्भुतं हरेः। व...   \n",
       "959  यत्र योगेश्वरः कृष्णो यत्र पार्थो धनुर्धरः। तत...   \n",
       "\n",
       "                                               English  \n",
       "955  Sanjay said O king, I heard this wonderful and...  \n",
       "956  Through the favour of Vyasa, I myself heard th...  \n",
       "957  O king, I am feeling more and more pleasure as...  \n",
       "958  O king, I am feeling more and more pleasure as...  \n",
       "959  Wherever exist the Lord of Yoga Srikrishna and...  "
      ]
     },
     "execution_count": 115,
     "metadata": {},
     "output_type": "execute_result"
    }
   ],
   "source": [
    "df.tail(5)"
   ]
  },
  {
   "cell_type": "code",
   "execution_count": 116,
   "metadata": {},
   "outputs": [],
   "source": [
    "#Lowecasing sentences of english so that it can be used for training\n",
    "df['English'] = df['English'].str.lower()"
   ]
  },
  {
   "cell_type": "code",
   "execution_count": 117,
   "metadata": {},
   "outputs": [
    {
     "data": {
      "text/html": [
       "<div>\n",
       "<style scoped>\n",
       "    .dataframe tbody tr th:only-of-type {\n",
       "        vertical-align: middle;\n",
       "    }\n",
       "\n",
       "    .dataframe tbody tr th {\n",
       "        vertical-align: top;\n",
       "    }\n",
       "\n",
       "    .dataframe thead th {\n",
       "        text-align: right;\n",
       "    }\n",
       "</style>\n",
       "<table border=\"1\" class=\"dataframe\">\n",
       "  <thead>\n",
       "    <tr style=\"text-align: right;\">\n",
       "      <th></th>\n",
       "      <th>Sanskrit</th>\n",
       "      <th>English</th>\n",
       "    </tr>\n",
       "  </thead>\n",
       "  <tbody>\n",
       "    <tr>\n",
       "      <th>0</th>\n",
       "      <td>वैशम्पायन उवाच अथ गावल्गणिविद्वान् संयुगादेत्य...</td>\n",
       "      <td>vaishampayana said o descendant of bharata, po...</td>\n",
       "    </tr>\n",
       "    <tr>\n",
       "      <th>1</th>\n",
       "      <td>संजय उवाच संजयोऽहं महाराज नमस्ते भरतर्षभ। हतो ...</td>\n",
       "      <td>sanjaya said o great king, i am sanjaya , o fo...</td>\n",
       "    </tr>\n",
       "    <tr>\n",
       "      <th>2</th>\n",
       "      <td>ककुदं सर्वयोधानां धाम सर्वधनुष्मताम्। शरतल्पगत...</td>\n",
       "      <td>the foremost of all warriors, that prowess per...</td>\n",
       "    </tr>\n",
       "    <tr>\n",
       "      <th>3</th>\n",
       "      <td>यस्य वीर्यं समाश्रित्य द्यूतं पुत्रस्तवाकरोत्।...</td>\n",
       "      <td>o king, relaying on whose energy, your son pla...</td>\n",
       "    </tr>\n",
       "  </tbody>\n",
       "</table>\n",
       "</div>"
      ],
      "text/plain": [
       "                                            Sanskrit  \\\n",
       "0  वैशम्पायन उवाच अथ गावल्गणिविद्वान् संयुगादेत्य...   \n",
       "1  संजय उवाच संजयोऽहं महाराज नमस्ते भरतर्षभ। हतो ...   \n",
       "2  ककुदं सर्वयोधानां धाम सर्वधनुष्मताम्। शरतल्पगत...   \n",
       "3  यस्य वीर्यं समाश्रित्य द्यूतं पुत्रस्तवाकरोत्।...   \n",
       "\n",
       "                                             English  \n",
       "0  vaishampayana said o descendant of bharata, po...  \n",
       "1  sanjaya said o great king, i am sanjaya , o fo...  \n",
       "2  the foremost of all warriors, that prowess per...  \n",
       "3  o king, relaying on whose energy, your son pla...  "
      ]
     },
     "execution_count": 117,
     "metadata": {},
     "output_type": "execute_result"
    }
   ],
   "source": [
    "df.head(4)"
   ]
  },
  {
   "cell_type": "code",
   "execution_count": 118,
   "metadata": {},
   "outputs": [],
   "source": [
    "#For encoder and decoder model we need to add start and end tokens to the target sentences (sanskrit)\n",
    "df['English'] = df['English'].apply(lambda x: 'start_ ' + x + ' _end')\n"
   ]
  },
  {
   "cell_type": "code",
   "execution_count": 119,
   "metadata": {},
   "outputs": [
    {
     "data": {
      "text/html": [
       "<div>\n",
       "<style scoped>\n",
       "    .dataframe tbody tr th:only-of-type {\n",
       "        vertical-align: middle;\n",
       "    }\n",
       "\n",
       "    .dataframe tbody tr th {\n",
       "        vertical-align: top;\n",
       "    }\n",
       "\n",
       "    .dataframe thead th {\n",
       "        text-align: right;\n",
       "    }\n",
       "</style>\n",
       "<table border=\"1\" class=\"dataframe\">\n",
       "  <thead>\n",
       "    <tr style=\"text-align: right;\">\n",
       "      <th></th>\n",
       "      <th>Sanskrit</th>\n",
       "      <th>English</th>\n",
       "    </tr>\n",
       "  </thead>\n",
       "  <tbody>\n",
       "    <tr>\n",
       "      <th>0</th>\n",
       "      <td>वैशम्पायन उवाच अथ गावल्गणिविद्वान् संयुगादेत्य...</td>\n",
       "      <td>start_ vaishampayana said o descendant of bhar...</td>\n",
       "    </tr>\n",
       "    <tr>\n",
       "      <th>1</th>\n",
       "      <td>संजय उवाच संजयोऽहं महाराज नमस्ते भरतर्षभ। हतो ...</td>\n",
       "      <td>start_ sanjaya said o great king, i am sanjaya...</td>\n",
       "    </tr>\n",
       "    <tr>\n",
       "      <th>2</th>\n",
       "      <td>ककुदं सर्वयोधानां धाम सर्वधनुष्मताम्। शरतल्पगत...</td>\n",
       "      <td>start_ the foremost of all warriors, that prow...</td>\n",
       "    </tr>\n",
       "    <tr>\n",
       "      <th>3</th>\n",
       "      <td>यस्य वीर्यं समाश्रित्य द्यूतं पुत्रस्तवाकरोत्।...</td>\n",
       "      <td>start_ o king, relaying on whose energy, your ...</td>\n",
       "    </tr>\n",
       "  </tbody>\n",
       "</table>\n",
       "</div>"
      ],
      "text/plain": [
       "                                            Sanskrit  \\\n",
       "0  वैशम्पायन उवाच अथ गावल्गणिविद्वान् संयुगादेत्य...   \n",
       "1  संजय उवाच संजयोऽहं महाराज नमस्ते भरतर्षभ। हतो ...   \n",
       "2  ककुदं सर्वयोधानां धाम सर्वधनुष्मताम्। शरतल्पगत...   \n",
       "3  यस्य वीर्यं समाश्रित्य द्यूतं पुत्रस्तवाकरोत्।...   \n",
       "\n",
       "                                             English  \n",
       "0  start_ vaishampayana said o descendant of bhar...  \n",
       "1  start_ sanjaya said o great king, i am sanjaya...  \n",
       "2  start_ the foremost of all warriors, that prow...  \n",
       "3  start_ o king, relaying on whose energy, your ...  "
      ]
     },
     "execution_count": 119,
     "metadata": {},
     "output_type": "execute_result"
    }
   ],
   "source": [
    "df.head(4)"
   ]
  },
  {
   "cell_type": "code",
   "execution_count": 120,
   "metadata": {},
   "outputs": [
    {
     "name": "stdout",
     "output_type": "stream",
     "text": [
      "4926\n",
      "6305\n"
     ]
    }
   ],
   "source": [
    "#Get the english and sanskrit vocabulary\n",
    "all_eng_words=set()\n",
    "for eng in df['English']:\n",
    "    for word in eng.split():\n",
    "        if word not in all_eng_words:\n",
    "            all_eng_words.add(word)\n",
    "\n",
    "all_san_words=set()\n",
    "for sanskrit in df['Sanskrit']:\n",
    "    for word in sanskrit.split():\n",
    "        if word not in all_san_words:\n",
    "            all_san_words.add(word)\n",
    "print(len(all_eng_words))\n",
    "print(len(all_san_words))"
   ]
  },
  {
   "cell_type": "code",
   "execution_count": 121,
   "metadata": {},
   "outputs": [
    {
     "data": {
      "text/html": [
       "<div>\n",
       "<style scoped>\n",
       "    .dataframe tbody tr th:only-of-type {\n",
       "        vertical-align: middle;\n",
       "    }\n",
       "\n",
       "    .dataframe tbody tr th {\n",
       "        vertical-align: top;\n",
       "    }\n",
       "\n",
       "    .dataframe thead th {\n",
       "        text-align: right;\n",
       "    }\n",
       "</style>\n",
       "<table border=\"1\" class=\"dataframe\">\n",
       "  <thead>\n",
       "    <tr style=\"text-align: right;\">\n",
       "      <th></th>\n",
       "      <th>Sanskrit</th>\n",
       "      <th>English</th>\n",
       "    </tr>\n",
       "  </thead>\n",
       "  <tbody>\n",
       "    <tr>\n",
       "      <th>0</th>\n",
       "      <td>वैशम्पायन उवाच अथ गावल्गणिविद्वान् संयुगादेत्य...</td>\n",
       "      <td>start_ vaishampayana said o descendant of bhar...</td>\n",
       "    </tr>\n",
       "    <tr>\n",
       "      <th>1</th>\n",
       "      <td>संजय उवाच संजयोऽहं महाराज नमस्ते भरतर्षभ। हतो ...</td>\n",
       "      <td>start_ sanjaya said o great king, i am sanjaya...</td>\n",
       "    </tr>\n",
       "    <tr>\n",
       "      <th>2</th>\n",
       "      <td>ककुदं सर्वयोधानां धाम सर्वधनुष्मताम्। शरतल्पगत...</td>\n",
       "      <td>start_ the foremost of all warriors, that prow...</td>\n",
       "    </tr>\n",
       "    <tr>\n",
       "      <th>3</th>\n",
       "      <td>यस्य वीर्यं समाश्रित्य द्यूतं पुत्रस्तवाकरोत्।...</td>\n",
       "      <td>start_ o king, relaying on whose energy, your ...</td>\n",
       "    </tr>\n",
       "    <tr>\n",
       "      <th>4</th>\n",
       "      <td>यः सर्वान् पृथिवीपालान् समवेतान् महामृधे। जिगा...</td>\n",
       "      <td>start_ that mighty car-warrior who on a single...</td>\n",
       "    </tr>\n",
       "    <tr>\n",
       "      <th>...</th>\n",
       "      <td>...</td>\n",
       "      <td>...</td>\n",
       "    </tr>\n",
       "    <tr>\n",
       "      <th>955</th>\n",
       "      <td>संजय उवाच इत्यहं वासुदेवस्य पार्थस्य च महात्मन...</td>\n",
       "      <td>start_ sanjay said o king, i heard this wonder...</td>\n",
       "    </tr>\n",
       "    <tr>\n",
       "      <th>956</th>\n",
       "      <td>व्यासप्रसादाच्छ्रुतवानेतद् गुह्यमहं परम्। योगय...</td>\n",
       "      <td>start_ through the favour of vyasa, i myself h...</td>\n",
       "    </tr>\n",
       "    <tr>\n",
       "      <th>957</th>\n",
       "      <td>राजन् संस्मृत्य संस्मृत्य संवादमिममद्भुतम्। के...</td>\n",
       "      <td>start_ o king, i am feeling more and more plea...</td>\n",
       "    </tr>\n",
       "    <tr>\n",
       "      <th>958</th>\n",
       "      <td>तच्च संस्मृत्य संस्मृत्य रूपमत्यद्भुतं हरेः। व...</td>\n",
       "      <td>start_ o king, i am feeling more and more plea...</td>\n",
       "    </tr>\n",
       "    <tr>\n",
       "      <th>959</th>\n",
       "      <td>यत्र योगेश्वरः कृष्णो यत्र पार्थो धनुर्धरः। तत...</td>\n",
       "      <td>start_ wherever exist the lord of yoga srikris...</td>\n",
       "    </tr>\n",
       "  </tbody>\n",
       "</table>\n",
       "<p>960 rows × 2 columns</p>\n",
       "</div>"
      ],
      "text/plain": [
       "                                              Sanskrit  \\\n",
       "0    वैशम्पायन उवाच अथ गावल्गणिविद्वान् संयुगादेत्य...   \n",
       "1    संजय उवाच संजयोऽहं महाराज नमस्ते भरतर्षभ। हतो ...   \n",
       "2    ककुदं सर्वयोधानां धाम सर्वधनुष्मताम्। शरतल्पगत...   \n",
       "3    यस्य वीर्यं समाश्रित्य द्यूतं पुत्रस्तवाकरोत्।...   \n",
       "4    यः सर्वान् पृथिवीपालान् समवेतान् महामृधे। जिगा...   \n",
       "..                                                 ...   \n",
       "955  संजय उवाच इत्यहं वासुदेवस्य पार्थस्य च महात्मन...   \n",
       "956  व्यासप्रसादाच्छ्रुतवानेतद् गुह्यमहं परम्। योगय...   \n",
       "957  राजन् संस्मृत्य संस्मृत्य संवादमिममद्भुतम्। के...   \n",
       "958  तच्च संस्मृत्य संस्मृत्य रूपमत्यद्भुतं हरेः। व...   \n",
       "959  यत्र योगेश्वरः कृष्णो यत्र पार्थो धनुर्धरः। तत...   \n",
       "\n",
       "                                               English  \n",
       "0    start_ vaishampayana said o descendant of bhar...  \n",
       "1    start_ sanjaya said o great king, i am sanjaya...  \n",
       "2    start_ the foremost of all warriors, that prow...  \n",
       "3    start_ o king, relaying on whose energy, your ...  \n",
       "4    start_ that mighty car-warrior who on a single...  \n",
       "..                                                 ...  \n",
       "955  start_ sanjay said o king, i heard this wonder...  \n",
       "956  start_ through the favour of vyasa, i myself h...  \n",
       "957  start_ o king, i am feeling more and more plea...  \n",
       "958  start_ o king, i am feeling more and more plea...  \n",
       "959  start_ wherever exist the lord of yoga srikris...  \n",
       "\n",
       "[960 rows x 2 columns]"
      ]
     },
     "execution_count": 121,
     "metadata": {},
     "output_type": "execute_result"
    }
   ],
   "source": [
    "df.head(1000)"
   ]
  },
  {
   "cell_type": "code",
   "execution_count": 122,
   "metadata": {},
   "outputs": [],
   "source": [
    "df['length_san_sentence']=df['Sanskrit'].apply(lambda x:len(x.split(\" \")))\n",
    "df['length_eng_sentence']=df['English'].apply(lambda x:len(x.split(\" \")))"
   ]
  },
  {
   "cell_type": "code",
   "execution_count": 123,
   "metadata": {},
   "outputs": [
    {
     "data": {
      "text/html": [
       "<div>\n",
       "<style scoped>\n",
       "    .dataframe tbody tr th:only-of-type {\n",
       "        vertical-align: middle;\n",
       "    }\n",
       "\n",
       "    .dataframe tbody tr th {\n",
       "        vertical-align: top;\n",
       "    }\n",
       "\n",
       "    .dataframe thead th {\n",
       "        text-align: right;\n",
       "    }\n",
       "</style>\n",
       "<table border=\"1\" class=\"dataframe\">\n",
       "  <thead>\n",
       "    <tr style=\"text-align: right;\">\n",
       "      <th></th>\n",
       "      <th>Sanskrit</th>\n",
       "      <th>English</th>\n",
       "      <th>length_san_sentence</th>\n",
       "      <th>length_eng_sentence</th>\n",
       "    </tr>\n",
       "  </thead>\n",
       "  <tbody>\n",
       "    <tr>\n",
       "      <th>0</th>\n",
       "      <td>वैशम्पायन उवाच अथ गावल्गणिविद्वान् संयुगादेत्य...</td>\n",
       "      <td>start_ vaishampayana said o descendant of bhar...</td>\n",
       "      <td>18</td>\n",
       "      <td>62</td>\n",
       "    </tr>\n",
       "    <tr>\n",
       "      <th>1</th>\n",
       "      <td>संजय उवाच संजयोऽहं महाराज नमस्ते भरतर्षभ। हतो ...</td>\n",
       "      <td>start_ sanjaya said o great king, i am sanjaya...</td>\n",
       "      <td>11</td>\n",
       "      <td>33</td>\n",
       "    </tr>\n",
       "    <tr>\n",
       "      <th>2</th>\n",
       "      <td>ककुदं सर्वयोधानां धाम सर्वधनुष्मताम्। शरतल्पगत...</td>\n",
       "      <td>start_ the foremost of all warriors, that prow...</td>\n",
       "      <td>8</td>\n",
       "      <td>25</td>\n",
       "    </tr>\n",
       "    <tr>\n",
       "      <th>3</th>\n",
       "      <td>यस्य वीर्यं समाश्रित्य द्यूतं पुत्रस्तवाकरोत्।...</td>\n",
       "      <td>start_ o king, relaying on whose energy, your ...</td>\n",
       "      <td>11</td>\n",
       "      <td>29</td>\n",
       "    </tr>\n",
       "  </tbody>\n",
       "</table>\n",
       "</div>"
      ],
      "text/plain": [
       "                                            Sanskrit  \\\n",
       "0  वैशम्पायन उवाच अथ गावल्गणिविद्वान् संयुगादेत्य...   \n",
       "1  संजय उवाच संजयोऽहं महाराज नमस्ते भरतर्षभ। हतो ...   \n",
       "2  ककुदं सर्वयोधानां धाम सर्वधनुष्मताम्। शरतल्पगत...   \n",
       "3  यस्य वीर्यं समाश्रित्य द्यूतं पुत्रस्तवाकरोत्।...   \n",
       "\n",
       "                                             English  length_san_sentence  \\\n",
       "0  start_ vaishampayana said o descendant of bhar...                   18   \n",
       "1  start_ sanjaya said o great king, i am sanjaya...                   11   \n",
       "2  start_ the foremost of all warriors, that prow...                    8   \n",
       "3  start_ o king, relaying on whose energy, your ...                   11   \n",
       "\n",
       "   length_eng_sentence  \n",
       "0                   62  \n",
       "1                   33  \n",
       "2                   25  \n",
       "3                   29  "
      ]
     },
     "execution_count": 123,
     "metadata": {},
     "output_type": "execute_result"
    }
   ],
   "source": [
    "df.head(4)"
   ]
  },
  {
   "cell_type": "code",
   "execution_count": 124,
   "metadata": {},
   "outputs": [
    {
     "data": {
      "text/plain": [
       "(5, 4)"
      ]
     },
     "execution_count": 124,
     "metadata": {},
     "output_type": "execute_result"
    }
   ],
   "source": [
    "df[df['length_san_sentence']>30].shape"
   ]
  },
  {
   "cell_type": "code",
   "execution_count": 125,
   "metadata": {},
   "outputs": [],
   "source": [
    "df=df[df['length_san_sentence']<=20]\n",
    "df=df[df['length_eng_sentence']<=20]"
   ]
  },
  {
   "cell_type": "code",
   "execution_count": 126,
   "metadata": {},
   "outputs": [
    {
     "data": {
      "text/plain": [
       "(71, 4)"
      ]
     },
     "execution_count": 126,
     "metadata": {},
     "output_type": "execute_result"
    }
   ],
   "source": [
    "df.shape"
   ]
  },
  {
   "cell_type": "code",
   "execution_count": 127,
   "metadata": {},
   "outputs": [
    {
     "name": "stdout",
     "output_type": "stream",
     "text": [
      "maximum length of English Sentence  20\n",
      "maximum length of Sanskrit Sentence  12\n"
     ]
    }
   ],
   "source": [
    "print(\"maximum length of English Sentence \",max(df['length_eng_sentence']))\n",
    "print(\"maximum length of Sanskrit Sentence \",max(df['length_san_sentence']))"
   ]
  },
  {
   "cell_type": "code",
   "execution_count": 128,
   "metadata": {},
   "outputs": [],
   "source": [
    "max_length_src=max(df['length_eng_sentence'])\n",
    "max_length_tar=max(df['length_san_sentence'])"
   ]
  },
  {
   "cell_type": "code",
   "execution_count": 130,
   "metadata": {},
   "outputs": [
    {
     "name": "stdout",
     "output_type": "stream",
     "text": [
      "6305 4926\n"
     ]
    }
   ],
   "source": [
    "# Fix for DataFrame error - directly use the sorted sets\n",
    "input_words = sorted(list(all_san_words))\n",
    "target_words = sorted(list(all_eng_words))\n",
    "num_encoder_tokens = len(all_san_words)\n",
    "num_decoder_tokens = len(all_eng_words)\n",
    "print(num_encoder_tokens, num_decoder_tokens)"
   ]
  },
  {
   "cell_type": "code",
   "execution_count": 131,
   "metadata": {},
   "outputs": [],
   "source": [
    "num_decoder_tokens += 1 #for zero padding"
   ]
  },
  {
   "cell_type": "code",
   "execution_count": 132,
   "metadata": {},
   "outputs": [],
   "source": [
    "input_token_index = dict([(word, i+1) for i, word in enumerate(input_words)])\n",
    "target_token_index = dict([(word, i+1) for i, word in enumerate(target_words)])\n",
    "reverse_input_char_index = dict((i, word) for word, i in input_token_index.items())\n",
    "reverse_target_char_index = dict((i, word) for word, i in target_token_index.items())"
   ]
  },
  {
   "cell_type": "code",
   "execution_count": 136,
   "metadata": {},
   "outputs": [
    {
     "data": {
      "text/html": [
       "<div>\n",
       "<style scoped>\n",
       "    .dataframe tbody tr th:only-of-type {\n",
       "        vertical-align: middle;\n",
       "    }\n",
       "\n",
       "    .dataframe tbody tr th {\n",
       "        vertical-align: top;\n",
       "    }\n",
       "\n",
       "    .dataframe thead th {\n",
       "        text-align: right;\n",
       "    }\n",
       "</style>\n",
       "<table border=\"1\" class=\"dataframe\">\n",
       "  <thead>\n",
       "    <tr style=\"text-align: right;\">\n",
       "      <th></th>\n",
       "      <th>Sanskrit</th>\n",
       "      <th>English</th>\n",
       "      <th>length_san_sentence</th>\n",
       "      <th>length_eng_sentence</th>\n",
       "    </tr>\n",
       "  </thead>\n",
       "  <tbody>\n",
       "    <tr>\n",
       "      <th>67</th>\n",
       "      <td>य आत्मनो दुष्चरितादशुभं प्राप्नुयानरः। एनसा ते...</td>\n",
       "      <td>start_ the man who suffers evil for his own mi...</td>\n",
       "      <td>9</td>\n",
       "      <td>17</td>\n",
       "    </tr>\n",
       "    <tr>\n",
       "      <th>835</th>\n",
       "      <td>दम्भो दर्पोऽभिमानश्च क्रोधः पारुष्यमेव च। अज्ञ...</td>\n",
       "      <td>start_ hypocrisy, pride, conceit, wrath, ruden...</td>\n",
       "      <td>9</td>\n",
       "      <td>17</td>\n",
       "    </tr>\n",
       "    <tr>\n",
       "      <th>903</th>\n",
       "      <td>पृथक्त्वेन तु यज्ज्ञानं नानाभावान् पृथग्विधान्...</td>\n",
       "      <td>start_ raja knowledge is that which sees vario...</td>\n",
       "      <td>11</td>\n",
       "      <td>18</td>\n",
       "    </tr>\n",
       "    <tr>\n",
       "      <th>143</th>\n",
       "      <td>तस्य पर्वतसंकाशा व्यरोचन्त महागजाः यन्त्रतोमरत...</td>\n",
       "      <td>start_ his clephants cach loo king like a hill...</td>\n",
       "      <td>7</td>\n",
       "      <td>19</td>\n",
       "    </tr>\n",
       "    <tr>\n",
       "      <th>184</th>\n",
       "      <td>अक्षौहिण्याथ पाञ्चाल्यो यज्ञसेनो महामनाः। विरा...</td>\n",
       "      <td>start_ the illustration yajnasena the greatly ...</td>\n",
       "      <td>8</td>\n",
       "      <td>20</td>\n",
       "    </tr>\n",
       "    <tr>\n",
       "      <th>293</th>\n",
       "      <td>अनन्तविजयं राजा कुन्तीपुत्रो युधिष्ठिरः। नकुलः...</td>\n",
       "      <td>start_ the son of kunti, king yudhishthira, an...</td>\n",
       "      <td>7</td>\n",
       "      <td>19</td>\n",
       "    </tr>\n",
       "    <tr>\n",
       "      <th>303</th>\n",
       "      <td>श्वशुरान् सुहृदश्चैव सेनयोरुभयोरपि। तान् समीक्...</td>\n",
       "      <td>start_ seeing in the two armies all friends an...</td>\n",
       "      <td>12</td>\n",
       "      <td>19</td>\n",
       "    </tr>\n",
       "    <tr>\n",
       "      <th>802</th>\n",
       "      <td>सत्त्वात् संजायते ज्ञानं रजसो लोभ एव च। प्रमाद...</td>\n",
       "      <td>start_ from sattva is produced knowledge from ...</td>\n",
       "      <td>11</td>\n",
       "      <td>17</td>\n",
       "    </tr>\n",
       "    <tr>\n",
       "      <th>737</th>\n",
       "      <td>ये त्वक्षरमनिर्देश्यमव्यक्तं पर्युपासते। सर्वत...</td>\n",
       "      <td>start_ those, however, who worship the imperis...</td>\n",
       "      <td>7</td>\n",
       "      <td>18</td>\n",
       "    </tr>\n",
       "    <tr>\n",
       "      <th>880</th>\n",
       "      <td>सद्भावे साधुभावे च सदित्येतत् प्रयुज्यते। प्रश...</td>\n",
       "      <td>start_ sat denotes existence and goodness, o p...</td>\n",
       "      <td>11</td>\n",
       "      <td>16</td>\n",
       "    </tr>\n",
       "  </tbody>\n",
       "</table>\n",
       "</div>"
      ],
      "text/plain": [
       "                                              Sanskrit  \\\n",
       "67   य आत्मनो दुष्चरितादशुभं प्राप्नुयानरः। एनसा ते...   \n",
       "835  दम्भो दर्पोऽभिमानश्च क्रोधः पारुष्यमेव च। अज्ञ...   \n",
       "903  पृथक्त्वेन तु यज्ज्ञानं नानाभावान् पृथग्विधान्...   \n",
       "143  तस्य पर्वतसंकाशा व्यरोचन्त महागजाः यन्त्रतोमरत...   \n",
       "184  अक्षौहिण्याथ पाञ्चाल्यो यज्ञसेनो महामनाः। विरा...   \n",
       "293  अनन्तविजयं राजा कुन्तीपुत्रो युधिष्ठिरः। नकुलः...   \n",
       "303  श्वशुरान् सुहृदश्चैव सेनयोरुभयोरपि। तान् समीक्...   \n",
       "802  सत्त्वात् संजायते ज्ञानं रजसो लोभ एव च। प्रमाद...   \n",
       "737  ये त्वक्षरमनिर्देश्यमव्यक्तं पर्युपासते। सर्वत...   \n",
       "880  सद्भावे साधुभावे च सदित्येतत् प्रयुज्यते। प्रश...   \n",
       "\n",
       "                                               English  length_san_sentence  \\\n",
       "67   start_ the man who suffers evil for his own mi...                    9   \n",
       "835  start_ hypocrisy, pride, conceit, wrath, ruden...                    9   \n",
       "903  start_ raja knowledge is that which sees vario...                   11   \n",
       "143  start_ his clephants cach loo king like a hill...                    7   \n",
       "184  start_ the illustration yajnasena the greatly ...                    8   \n",
       "293  start_ the son of kunti, king yudhishthira, an...                    7   \n",
       "303  start_ seeing in the two armies all friends an...                   12   \n",
       "802  start_ from sattva is produced knowledge from ...                   11   \n",
       "737  start_ those, however, who worship the imperis...                    7   \n",
       "880  start_ sat denotes existence and goodness, o p...                   11   \n",
       "\n",
       "     length_eng_sentence  \n",
       "67                    17  \n",
       "835                   17  \n",
       "903                   18  \n",
       "143                   19  \n",
       "184                   20  \n",
       "293                   19  \n",
       "303                   19  \n",
       "802                   17  \n",
       "737                   18  \n",
       "880                   16  "
      ]
     },
     "execution_count": 136,
     "metadata": {},
     "output_type": "execute_result"
    }
   ],
   "source": [
    "from sklearn.utils import shuffle\n",
    "df = shuffle(df)\n",
    "df.head(10)"
   ]
  },
  {
   "cell_type": "code",
   "execution_count": 138,
   "metadata": {},
   "outputs": [
    {
     "data": {
      "text/plain": [
       "((56,), (15,))"
      ]
     },
     "execution_count": 138,
     "metadata": {},
     "output_type": "execute_result"
    }
   ],
   "source": [
    "from sklearn.model_selection import train_test_split\n",
    "X, y = df['Sanskrit'], df['English']\n",
    "X_train, X_test, y_train, y_test = train_test_split(X, y, test_size = 0.2,random_state=42)\n",
    "X_train.shape, X_test.shape"
   ]
  },
  {
   "cell_type": "code",
   "execution_count": 139,
   "metadata": {},
   "outputs": [],
   "source": [
    "X_train.to_pickle('X_train.pkl')\n",
    "X_test.to_pickle('X_test.pkl')"
   ]
  },
  {
   "cell_type": "code",
   "execution_count": 140,
   "metadata": {},
   "outputs": [],
   "source": [
    "import numpy as np\n",
    "def generate_batch(X = X_train, y = y_train, batch_size = 128):\n",
    "    ''' Generate a batch of data '''\n",
    "    while True:\n",
    "        for j in range(0, len(X), batch_size):\n",
    "            encoder_input_data = np.zeros((batch_size, max_length_src),dtype='float32')\n",
    "            decoder_input_data = np.zeros((batch_size, max_length_tar),dtype='float32')\n",
    "            decoder_target_data = np.zeros((batch_size, max_length_tar, num_decoder_tokens),dtype='float32')\n",
    "            for i, (input_text, target_text) in enumerate(zip(X[j:j+batch_size], y[j:j+batch_size])):\n",
    "                for t, word in enumerate(input_text.split()):\n",
    "                    encoder_input_data[i, t] = input_token_index[word] # encoder input seq\n",
    "                for t, word in enumerate(target_text.split()):\n",
    "                    if t<len(target_text.split())-1:\n",
    "                        decoder_input_data[i, t] = target_token_index[word] # decoder input seq\n",
    "                    if t>0:\n",
    "                        # decoder target sequence (one hot encoded)\n",
    "                        # does not include the START_ token\n",
    "                        # Offset by one timestep\n",
    "                        decoder_target_data[i, t - 1, target_token_index[word]] = 1.\n",
    "            yield([encoder_input_data, decoder_input_data], decoder_target_data)\n"
   ]
  },
  {
   "cell_type": "code",
   "execution_count": 141,
   "metadata": {},
   "outputs": [],
   "source": [
    "latent_dim=300"
   ]
  },
  {
   "cell_type": "code",
   "execution_count": 143,
   "metadata": {},
   "outputs": [],
   "source": [
    "\n",
    "from keras.layers import Input, LSTM, Embedding, Dense\n",
    "from keras.models import Model\n",
    "\n",
    "# Encoder\n",
    "encoder_inputs = Input(shape=(None,))\n",
    "enc_emb =  Embedding(num_encoder_tokens, latent_dim, mask_zero = True)(encoder_inputs)\n",
    "encoder_lstm = LSTM(latent_dim, return_state=True)\n",
    "encoder_outputs, state_h, state_c = encoder_lstm(enc_emb)\n",
    "# We discard `encoder_outputs` and only keep the states.\n",
    "encoder_states = [state_h, state_c]"
   ]
  },
  {
   "cell_type": "code",
   "execution_count": 144,
   "metadata": {},
   "outputs": [],
   "source": [
    "# Set up the decoder, using `encoder_states` as initial state.\n",
    "decoder_inputs = Input(shape=(None,))\n",
    "dec_emb_layer = Embedding(num_decoder_tokens, latent_dim, mask_zero = True)\n",
    "dec_emb = dec_emb_layer(decoder_inputs)\n",
    "# We set up our decoder to return full output sequences,\n",
    "# and to return internal states as well. We don't use the\n",
    "# return states in the training model, but we will use them in inference.\n",
    "decoder_lstm = LSTM(latent_dim, return_sequences=True, return_state=True)\n",
    "decoder_outputs, _, _ = decoder_lstm(dec_emb,\n",
    "                                     initial_state=encoder_states)\n",
    "decoder_dense = Dense(num_decoder_tokens, activation='softmax')\n",
    "decoder_outputs = decoder_dense(decoder_outputs)\n",
    "\n",
    "# Define the model that will turn\n",
    "# `encoder_input_data` & `decoder_input_data` into `decoder_target_data`\n",
    "model = Model([encoder_inputs, decoder_inputs], decoder_outputs)"
   ]
  },
  {
   "cell_type": "code",
   "execution_count": 145,
   "metadata": {},
   "outputs": [],
   "source": [
    "model.compile(optimizer='rmsprop', loss='categorical_crossentropy')"
   ]
  },
  {
   "cell_type": "code",
   "execution_count": 146,
   "metadata": {},
   "outputs": [
    {
     "data": {
      "text/html": [
       "<pre style=\"white-space:pre;overflow-x:auto;line-height:normal;font-family:Menlo,'DejaVu Sans Mono',consolas,'Courier New',monospace\"><span style=\"font-weight: bold\">Model: \"functional_3\"</span>\n",
       "</pre>\n"
      ],
      "text/plain": [
       "\u001b[1mModel: \"functional_3\"\u001b[0m\n"
      ]
     },
     "metadata": {},
     "output_type": "display_data"
    },
    {
     "data": {
      "text/html": [
       "<pre style=\"white-space:pre;overflow-x:auto;line-height:normal;font-family:Menlo,'DejaVu Sans Mono',consolas,'Courier New',monospace\">┏━━━━━━━━━━━━━━━━━━━━━┳━━━━━━━━━━━━━━━━━━━┳━━━━━━━━━━━━┳━━━━━━━━━━━━━━━━━━━┓\n",
       "┃<span style=\"font-weight: bold\"> Layer (type)        </span>┃<span style=\"font-weight: bold\"> Output Shape      </span>┃<span style=\"font-weight: bold\">    Param # </span>┃<span style=\"font-weight: bold\"> Connected to      </span>┃\n",
       "┡━━━━━━━━━━━━━━━━━━━━━╇━━━━━━━━━━━━━━━━━━━╇━━━━━━━━━━━━╇━━━━━━━━━━━━━━━━━━━┩\n",
       "│ input_layer_6       │ (<span style=\"color: #00d7ff; text-decoration-color: #00d7ff\">None</span>, <span style=\"color: #00d7ff; text-decoration-color: #00d7ff\">None</span>)      │          <span style=\"color: #00af00; text-decoration-color: #00af00\">0</span> │ -                 │\n",
       "│ (<span style=\"color: #0087ff; text-decoration-color: #0087ff\">InputLayer</span>)        │                   │            │                   │\n",
       "├─────────────────────┼───────────────────┼────────────┼───────────────────┤\n",
       "│ input_layer_7       │ (<span style=\"color: #00d7ff; text-decoration-color: #00d7ff\">None</span>, <span style=\"color: #00d7ff; text-decoration-color: #00d7ff\">None</span>)      │          <span style=\"color: #00af00; text-decoration-color: #00af00\">0</span> │ -                 │\n",
       "│ (<span style=\"color: #0087ff; text-decoration-color: #0087ff\">InputLayer</span>)        │                   │            │                   │\n",
       "├─────────────────────┼───────────────────┼────────────┼───────────────────┤\n",
       "│ embedding_4         │ (<span style=\"color: #00d7ff; text-decoration-color: #00d7ff\">None</span>, <span style=\"color: #00d7ff; text-decoration-color: #00d7ff\">None</span>, <span style=\"color: #00af00; text-decoration-color: #00af00\">300</span>) │  <span style=\"color: #00af00; text-decoration-color: #00af00\">1,891,500</span> │ input_layer_6[<span style=\"color: #00af00; text-decoration-color: #00af00\">0</span>]… │\n",
       "│ (<span style=\"color: #0087ff; text-decoration-color: #0087ff\">Embedding</span>)         │                   │            │                   │\n",
       "├─────────────────────┼───────────────────┼────────────┼───────────────────┤\n",
       "│ not_equal_5         │ (<span style=\"color: #00d7ff; text-decoration-color: #00d7ff\">None</span>, <span style=\"color: #00d7ff; text-decoration-color: #00d7ff\">None</span>)      │          <span style=\"color: #00af00; text-decoration-color: #00af00\">0</span> │ input_layer_6[<span style=\"color: #00af00; text-decoration-color: #00af00\">0</span>]… │\n",
       "│ (<span style=\"color: #0087ff; text-decoration-color: #0087ff\">NotEqual</span>)          │                   │            │                   │\n",
       "├─────────────────────┼───────────────────┼────────────┼───────────────────┤\n",
       "│ embedding_5         │ (<span style=\"color: #00d7ff; text-decoration-color: #00d7ff\">None</span>, <span style=\"color: #00d7ff; text-decoration-color: #00d7ff\">None</span>, <span style=\"color: #00af00; text-decoration-color: #00af00\">300</span>) │  <span style=\"color: #00af00; text-decoration-color: #00af00\">1,478,100</span> │ input_layer_7[<span style=\"color: #00af00; text-decoration-color: #00af00\">0</span>]… │\n",
       "│ (<span style=\"color: #0087ff; text-decoration-color: #0087ff\">Embedding</span>)         │                   │            │                   │\n",
       "├─────────────────────┼───────────────────┼────────────┼───────────────────┤\n",
       "│ lstm_4 (<span style=\"color: #0087ff; text-decoration-color: #0087ff\">LSTM</span>)       │ [(<span style=\"color: #00d7ff; text-decoration-color: #00d7ff\">None</span>, <span style=\"color: #00af00; text-decoration-color: #00af00\">300</span>),     │    <span style=\"color: #00af00; text-decoration-color: #00af00\">721,200</span> │ embedding_4[<span style=\"color: #00af00; text-decoration-color: #00af00\">0</span>][<span style=\"color: #00af00; text-decoration-color: #00af00\">0</span>… │\n",
       "│                     │ (<span style=\"color: #00d7ff; text-decoration-color: #00d7ff\">None</span>, <span style=\"color: #00af00; text-decoration-color: #00af00\">300</span>),      │            │ not_equal_5[<span style=\"color: #00af00; text-decoration-color: #00af00\">0</span>][<span style=\"color: #00af00; text-decoration-color: #00af00\">0</span>] │\n",
       "│                     │ (<span style=\"color: #00d7ff; text-decoration-color: #00d7ff\">None</span>, <span style=\"color: #00af00; text-decoration-color: #00af00\">300</span>)]      │            │                   │\n",
       "├─────────────────────┼───────────────────┼────────────┼───────────────────┤\n",
       "│ lstm_5 (<span style=\"color: #0087ff; text-decoration-color: #0087ff\">LSTM</span>)       │ [(<span style=\"color: #00d7ff; text-decoration-color: #00d7ff\">None</span>, <span style=\"color: #00d7ff; text-decoration-color: #00d7ff\">None</span>,     │    <span style=\"color: #00af00; text-decoration-color: #00af00\">721,200</span> │ embedding_5[<span style=\"color: #00af00; text-decoration-color: #00af00\">0</span>][<span style=\"color: #00af00; text-decoration-color: #00af00\">0</span>… │\n",
       "│                     │ <span style=\"color: #00af00; text-decoration-color: #00af00\">300</span>), (<span style=\"color: #00d7ff; text-decoration-color: #00d7ff\">None</span>,      │            │ lstm_4[<span style=\"color: #00af00; text-decoration-color: #00af00\">0</span>][<span style=\"color: #00af00; text-decoration-color: #00af00\">1</span>],     │\n",
       "│                     │ <span style=\"color: #00af00; text-decoration-color: #00af00\">300</span>), (<span style=\"color: #00d7ff; text-decoration-color: #00d7ff\">None</span>,      │            │ lstm_4[<span style=\"color: #00af00; text-decoration-color: #00af00\">0</span>][<span style=\"color: #00af00; text-decoration-color: #00af00\">2</span>]      │\n",
       "│                     │ <span style=\"color: #00af00; text-decoration-color: #00af00\">300</span>)]             │            │                   │\n",
       "├─────────────────────┼───────────────────┼────────────┼───────────────────┤\n",
       "│ dense_1 (<span style=\"color: #0087ff; text-decoration-color: #0087ff\">Dense</span>)     │ (<span style=\"color: #00d7ff; text-decoration-color: #00d7ff\">None</span>, <span style=\"color: #00d7ff; text-decoration-color: #00d7ff\">None</span>,      │  <span style=\"color: #00af00; text-decoration-color: #00af00\">1,483,027</span> │ lstm_5[<span style=\"color: #00af00; text-decoration-color: #00af00\">0</span>][<span style=\"color: #00af00; text-decoration-color: #00af00\">0</span>]      │\n",
       "│                     │ <span style=\"color: #00af00; text-decoration-color: #00af00\">4927</span>)             │            │                   │\n",
       "└─────────────────────┴───────────────────┴────────────┴───────────────────┘\n",
       "</pre>\n"
      ],
      "text/plain": [
       "┏━━━━━━━━━━━━━━━━━━━━━┳━━━━━━━━━━━━━━━━━━━┳━━━━━━━━━━━━┳━━━━━━━━━━━━━━━━━━━┓\n",
       "┃\u001b[1m \u001b[0m\u001b[1mLayer (type)       \u001b[0m\u001b[1m \u001b[0m┃\u001b[1m \u001b[0m\u001b[1mOutput Shape     \u001b[0m\u001b[1m \u001b[0m┃\u001b[1m \u001b[0m\u001b[1m   Param #\u001b[0m\u001b[1m \u001b[0m┃\u001b[1m \u001b[0m\u001b[1mConnected to     \u001b[0m\u001b[1m \u001b[0m┃\n",
       "┡━━━━━━━━━━━━━━━━━━━━━╇━━━━━━━━━━━━━━━━━━━╇━━━━━━━━━━━━╇━━━━━━━━━━━━━━━━━━━┩\n",
       "│ input_layer_6       │ (\u001b[38;5;45mNone\u001b[0m, \u001b[38;5;45mNone\u001b[0m)      │          \u001b[38;5;34m0\u001b[0m │ -                 │\n",
       "│ (\u001b[38;5;33mInputLayer\u001b[0m)        │                   │            │                   │\n",
       "├─────────────────────┼───────────────────┼────────────┼───────────────────┤\n",
       "│ input_layer_7       │ (\u001b[38;5;45mNone\u001b[0m, \u001b[38;5;45mNone\u001b[0m)      │          \u001b[38;5;34m0\u001b[0m │ -                 │\n",
       "│ (\u001b[38;5;33mInputLayer\u001b[0m)        │                   │            │                   │\n",
       "├─────────────────────┼───────────────────┼────────────┼───────────────────┤\n",
       "│ embedding_4         │ (\u001b[38;5;45mNone\u001b[0m, \u001b[38;5;45mNone\u001b[0m, \u001b[38;5;34m300\u001b[0m) │  \u001b[38;5;34m1,891,500\u001b[0m │ input_layer_6[\u001b[38;5;34m0\u001b[0m]… │\n",
       "│ (\u001b[38;5;33mEmbedding\u001b[0m)         │                   │            │                   │\n",
       "├─────────────────────┼───────────────────┼────────────┼───────────────────┤\n",
       "│ not_equal_5         │ (\u001b[38;5;45mNone\u001b[0m, \u001b[38;5;45mNone\u001b[0m)      │          \u001b[38;5;34m0\u001b[0m │ input_layer_6[\u001b[38;5;34m0\u001b[0m]… │\n",
       "│ (\u001b[38;5;33mNotEqual\u001b[0m)          │                   │            │                   │\n",
       "├─────────────────────┼───────────────────┼────────────┼───────────────────┤\n",
       "│ embedding_5         │ (\u001b[38;5;45mNone\u001b[0m, \u001b[38;5;45mNone\u001b[0m, \u001b[38;5;34m300\u001b[0m) │  \u001b[38;5;34m1,478,100\u001b[0m │ input_layer_7[\u001b[38;5;34m0\u001b[0m]… │\n",
       "│ (\u001b[38;5;33mEmbedding\u001b[0m)         │                   │            │                   │\n",
       "├─────────────────────┼───────────────────┼────────────┼───────────────────┤\n",
       "│ lstm_4 (\u001b[38;5;33mLSTM\u001b[0m)       │ [(\u001b[38;5;45mNone\u001b[0m, \u001b[38;5;34m300\u001b[0m),     │    \u001b[38;5;34m721,200\u001b[0m │ embedding_4[\u001b[38;5;34m0\u001b[0m][\u001b[38;5;34m0\u001b[0m… │\n",
       "│                     │ (\u001b[38;5;45mNone\u001b[0m, \u001b[38;5;34m300\u001b[0m),      │            │ not_equal_5[\u001b[38;5;34m0\u001b[0m][\u001b[38;5;34m0\u001b[0m] │\n",
       "│                     │ (\u001b[38;5;45mNone\u001b[0m, \u001b[38;5;34m300\u001b[0m)]      │            │                   │\n",
       "├─────────────────────┼───────────────────┼────────────┼───────────────────┤\n",
       "│ lstm_5 (\u001b[38;5;33mLSTM\u001b[0m)       │ [(\u001b[38;5;45mNone\u001b[0m, \u001b[38;5;45mNone\u001b[0m,     │    \u001b[38;5;34m721,200\u001b[0m │ embedding_5[\u001b[38;5;34m0\u001b[0m][\u001b[38;5;34m0\u001b[0m… │\n",
       "│                     │ \u001b[38;5;34m300\u001b[0m), (\u001b[38;5;45mNone\u001b[0m,      │            │ lstm_4[\u001b[38;5;34m0\u001b[0m][\u001b[38;5;34m1\u001b[0m],     │\n",
       "│                     │ \u001b[38;5;34m300\u001b[0m), (\u001b[38;5;45mNone\u001b[0m,      │            │ lstm_4[\u001b[38;5;34m0\u001b[0m][\u001b[38;5;34m2\u001b[0m]      │\n",
       "│                     │ \u001b[38;5;34m300\u001b[0m)]             │            │                   │\n",
       "├─────────────────────┼───────────────────┼────────────┼───────────────────┤\n",
       "│ dense_1 (\u001b[38;5;33mDense\u001b[0m)     │ (\u001b[38;5;45mNone\u001b[0m, \u001b[38;5;45mNone\u001b[0m,      │  \u001b[38;5;34m1,483,027\u001b[0m │ lstm_5[\u001b[38;5;34m0\u001b[0m][\u001b[38;5;34m0\u001b[0m]      │\n",
       "│                     │ \u001b[38;5;34m4927\u001b[0m)             │            │                   │\n",
       "└─────────────────────┴───────────────────┴────────────┴───────────────────┘\n"
      ]
     },
     "metadata": {},
     "output_type": "display_data"
    },
    {
     "data": {
      "text/html": [
       "<pre style=\"white-space:pre;overflow-x:auto;line-height:normal;font-family:Menlo,'DejaVu Sans Mono',consolas,'Courier New',monospace\"><span style=\"font-weight: bold\"> Total params: </span><span style=\"color: #00af00; text-decoration-color: #00af00\">6,295,027</span> (24.01 MB)\n",
       "</pre>\n"
      ],
      "text/plain": [
       "\u001b[1m Total params: \u001b[0m\u001b[38;5;34m6,295,027\u001b[0m (24.01 MB)\n"
      ]
     },
     "metadata": {},
     "output_type": "display_data"
    },
    {
     "data": {
      "text/html": [
       "<pre style=\"white-space:pre;overflow-x:auto;line-height:normal;font-family:Menlo,'DejaVu Sans Mono',consolas,'Courier New',monospace\"><span style=\"font-weight: bold\"> Trainable params: </span><span style=\"color: #00af00; text-decoration-color: #00af00\">6,295,027</span> (24.01 MB)\n",
       "</pre>\n"
      ],
      "text/plain": [
       "\u001b[1m Trainable params: \u001b[0m\u001b[38;5;34m6,295,027\u001b[0m (24.01 MB)\n"
      ]
     },
     "metadata": {},
     "output_type": "display_data"
    },
    {
     "data": {
      "text/html": [
       "<pre style=\"white-space:pre;overflow-x:auto;line-height:normal;font-family:Menlo,'DejaVu Sans Mono',consolas,'Courier New',monospace\"><span style=\"font-weight: bold\"> Non-trainable params: </span><span style=\"color: #00af00; text-decoration-color: #00af00\">0</span> (0.00 B)\n",
       "</pre>\n"
      ],
      "text/plain": [
       "\u001b[1m Non-trainable params: \u001b[0m\u001b[38;5;34m0\u001b[0m (0.00 B)\n"
      ]
     },
     "metadata": {},
     "output_type": "display_data"
    }
   ],
   "source": [
    "model.summary()"
   ]
  },
  {
   "cell_type": "code",
   "execution_count": 147,
   "metadata": {},
   "outputs": [],
   "source": [
    "train_samples = len(X_train)\n",
    "val_samples = len(X_test)\n",
    "batch_size = 128\n",
    "epochs = 100"
   ]
  },
  {
   "cell_type": "code",
   "execution_count": 150,
   "metadata": {},
   "outputs": [
    {
     "ename": "IndexError",
     "evalue": "index 12 is out of bounds for axis 1 with size 12",
     "output_type": "error",
     "traceback": [
      "\u001b[0;31m---------------------------------------------------------------------------\u001b[0m",
      "\u001b[0;31mIndexError\u001b[0m                                Traceback (most recent call last)",
      "Cell \u001b[0;32mIn[150], line 1\u001b[0m\n\u001b[0;32m----> 1\u001b[0m \u001b[43mmodel\u001b[49m\u001b[38;5;241;43m.\u001b[39;49m\u001b[43mfit\u001b[49m\u001b[43m(\u001b[49m\n\u001b[1;32m      2\u001b[0m \u001b[43m    \u001b[49m\u001b[43mgenerate_batch\u001b[49m\u001b[43m(\u001b[49m\u001b[43mX_train\u001b[49m\u001b[43m,\u001b[49m\u001b[43m \u001b[49m\u001b[43my_train\u001b[49m\u001b[43m,\u001b[49m\u001b[43m \u001b[49m\u001b[43mbatch_size\u001b[49m\u001b[38;5;241;43m=\u001b[39;49m\u001b[43mbatch_size\u001b[49m\u001b[43m)\u001b[49m\u001b[43m,\u001b[49m\n\u001b[1;32m      3\u001b[0m \u001b[43m    \u001b[49m\u001b[43msteps_per_epoch\u001b[49m\u001b[38;5;241;43m=\u001b[39;49m\u001b[43mtrain_samples\u001b[49m\u001b[38;5;241;43m/\u001b[39;49m\u001b[38;5;241;43m/\u001b[39;49m\u001b[43mbatch_size\u001b[49m\u001b[43m,\u001b[49m\n\u001b[1;32m      4\u001b[0m \u001b[43m    \u001b[49m\u001b[43mepochs\u001b[49m\u001b[38;5;241;43m=\u001b[39;49m\u001b[43mepochs\u001b[49m\u001b[43m,\u001b[49m\n\u001b[1;32m      5\u001b[0m \u001b[43m    \u001b[49m\u001b[43mvalidation_data\u001b[49m\u001b[38;5;241;43m=\u001b[39;49m\u001b[43mgenerate_batch\u001b[49m\u001b[43m(\u001b[49m\u001b[43mX_test\u001b[49m\u001b[43m,\u001b[49m\u001b[43m \u001b[49m\u001b[43my_test\u001b[49m\u001b[43m,\u001b[49m\u001b[43m \u001b[49m\u001b[43mbatch_size\u001b[49m\u001b[38;5;241;43m=\u001b[39;49m\u001b[43mbatch_size\u001b[49m\u001b[43m)\u001b[49m\u001b[43m,\u001b[49m\n\u001b[1;32m      6\u001b[0m \u001b[43m    \u001b[49m\u001b[43mvalidation_steps\u001b[49m\u001b[38;5;241;43m=\u001b[39;49m\u001b[43mval_samples\u001b[49m\u001b[38;5;241;43m/\u001b[39;49m\u001b[38;5;241;43m/\u001b[39;49m\u001b[43mbatch_size\u001b[49m\n\u001b[1;32m      7\u001b[0m \u001b[43m)\u001b[49m\n",
      "File \u001b[0;32m~/Downloads/All projects/ML Projects/myenv/lib/python3.12/site-packages/keras/src/utils/traceback_utils.py:122\u001b[0m, in \u001b[0;36mfilter_traceback.<locals>.error_handler\u001b[0;34m(*args, **kwargs)\u001b[0m\n\u001b[1;32m    119\u001b[0m     filtered_tb \u001b[38;5;241m=\u001b[39m _process_traceback_frames(e\u001b[38;5;241m.\u001b[39m__traceback__)\n\u001b[1;32m    120\u001b[0m     \u001b[38;5;66;03m# To get the full stack trace, call:\u001b[39;00m\n\u001b[1;32m    121\u001b[0m     \u001b[38;5;66;03m# `keras.config.disable_traceback_filtering()`\u001b[39;00m\n\u001b[0;32m--> 122\u001b[0m     \u001b[38;5;28;01mraise\u001b[39;00m e\u001b[38;5;241m.\u001b[39mwith_traceback(filtered_tb) \u001b[38;5;28;01mfrom\u001b[39;00m\u001b[38;5;250m \u001b[39m\u001b[38;5;28;01mNone\u001b[39;00m\n\u001b[1;32m    123\u001b[0m \u001b[38;5;28;01mfinally\u001b[39;00m:\n\u001b[1;32m    124\u001b[0m     \u001b[38;5;28;01mdel\u001b[39;00m filtered_tb\n",
      "Cell \u001b[0;32mIn[140], line 14\u001b[0m, in \u001b[0;36mgenerate_batch\u001b[0;34m(X, y, batch_size)\u001b[0m\n\u001b[1;32m     12\u001b[0m \u001b[38;5;28;01mfor\u001b[39;00m t, word \u001b[38;5;129;01min\u001b[39;00m \u001b[38;5;28menumerate\u001b[39m(target_text\u001b[38;5;241m.\u001b[39msplit()):\n\u001b[1;32m     13\u001b[0m     \u001b[38;5;28;01mif\u001b[39;00m t\u001b[38;5;241m<\u001b[39m\u001b[38;5;28mlen\u001b[39m(target_text\u001b[38;5;241m.\u001b[39msplit())\u001b[38;5;241m-\u001b[39m\u001b[38;5;241m1\u001b[39m:\n\u001b[0;32m---> 14\u001b[0m         \u001b[43mdecoder_input_data\u001b[49m\u001b[43m[\u001b[49m\u001b[43mi\u001b[49m\u001b[43m,\u001b[49m\u001b[43m \u001b[49m\u001b[43mt\u001b[49m\u001b[43m]\u001b[49m \u001b[38;5;241m=\u001b[39m target_token_index[word] \u001b[38;5;66;03m# decoder input seq\u001b[39;00m\n\u001b[1;32m     15\u001b[0m     \u001b[38;5;28;01mif\u001b[39;00m t\u001b[38;5;241m>\u001b[39m\u001b[38;5;241m0\u001b[39m:\n\u001b[1;32m     16\u001b[0m         \u001b[38;5;66;03m# decoder target sequence (one hot encoded)\u001b[39;00m\n\u001b[1;32m     17\u001b[0m         \u001b[38;5;66;03m# does not include the START_ token\u001b[39;00m\n\u001b[1;32m     18\u001b[0m         \u001b[38;5;66;03m# Offset by one timestep\u001b[39;00m\n\u001b[1;32m     19\u001b[0m         decoder_target_data[i, t \u001b[38;5;241m-\u001b[39m \u001b[38;5;241m1\u001b[39m, target_token_index[word]] \u001b[38;5;241m=\u001b[39m \u001b[38;5;241m1.\u001b[39m\n",
      "\u001b[0;31mIndexError\u001b[0m: index 12 is out of bounds for axis 1 with size 12"
     ]
    }
   ],
   "source": [
    "\n",
    "model.fit(\n",
    "    generate_batch(X_train, y_train, batch_size=batch_size),\n",
    "    steps_per_epoch=train_samples//batch_size,\n",
    "    epochs=epochs,\n",
    "    validation_data=generate_batch(X_test, y_test, batch_size=batch_size),\n",
    "    validation_steps=val_samples//batch_size\n",
    ")"
   ]
  },
  {
   "cell_type": "code",
   "execution_count": null,
   "metadata": {},
   "outputs": [],
   "source": []
  }
 ],
 "metadata": {
  "kernelspec": {
   "display_name": "myenv",
   "language": "python",
   "name": "python3"
  },
  "language_info": {
   "codemirror_mode": {
    "name": "ipython",
    "version": 3
   },
   "file_extension": ".py",
   "mimetype": "text/x-python",
   "name": "python",
   "nbconvert_exporter": "python",
   "pygments_lexer": "ipython3",
   "version": "3.12.8"
  }
 },
 "nbformat": 4,
 "nbformat_minor": 2
}

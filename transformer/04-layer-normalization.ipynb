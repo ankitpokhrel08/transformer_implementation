{
 "cells": [
  {
   "cell_type": "code",
   "execution_count": 1,
   "id": "57227e2e",
   "metadata": {},
   "outputs": [],
   "source": [
    "\n",
    "import torch\n",
    "from torch import nn"
   ]
  },
  {
   "cell_type": "code",
   "execution_count": 2,
   "id": "d9e847eb",
   "metadata": {},
   "outputs": [
    {
     "data": {
      "text/plain": [
       "torch.Size([2, 1, 3])"
      ]
     },
     "execution_count": 2,
     "metadata": {},
     "output_type": "execute_result"
    }
   ],
   "source": [
    "\n",
    "inputs = torch.Tensor([[[0.2, 0.1, 0.3], [0.5, 0.1, 0.1]]])\n",
    "B, S, E = inputs.size()\n",
    "inputs = inputs.reshape(S, B, E)\n",
    "inputs.size()"
   ]
  },
  {
   "cell_type": "code",
   "execution_count": 3,
   "id": "24aec8d9",
   "metadata": {},
   "outputs": [],
   "source": [
    "\n",
    "parameter_shape = inputs.size()[-2:]\n",
    "gamma = nn.Parameter(torch.ones(parameter_shape))\n",
    "beta =  nn.Parameter(torch.zeros(parameter_shape))"
   ]
  },
  {
   "cell_type": "code",
   "execution_count": 4,
   "id": "3da0120e",
   "metadata": {},
   "outputs": [
    {
     "data": {
      "text/plain": [
       "(torch.Size([1, 3]), torch.Size([1, 3]))"
      ]
     },
     "execution_count": 4,
     "metadata": {},
     "output_type": "execute_result"
    }
   ],
   "source": [
    "gamma.size(), beta.size()"
   ]
  },
  {
   "cell_type": "code",
   "execution_count": 5,
   "id": "fa000415",
   "metadata": {},
   "outputs": [],
   "source": [
    "dims = [-(i + 1) for i in range(len(parameter_shape))]"
   ]
  },
  {
   "cell_type": "code",
   "execution_count": 6,
   "id": "4bca27a7",
   "metadata": {},
   "outputs": [
    {
     "data": {
      "text/plain": [
       "[-1, -2]"
      ]
     },
     "execution_count": 6,
     "metadata": {},
     "output_type": "execute_result"
    }
   ],
   "source": [
    "\n",
    "dims"
   ]
  },
  {
   "cell_type": "code",
   "execution_count": 7,
   "id": "db363f4f",
   "metadata": {},
   "outputs": [
    {
     "data": {
      "text/plain": [
       "torch.Size([2, 1, 1])"
      ]
     },
     "execution_count": 7,
     "metadata": {},
     "output_type": "execute_result"
    }
   ],
   "source": [
    "mean = inputs.mean(dim=dims, keepdim=True)\n",
    "mean.size()"
   ]
  },
  {
   "cell_type": "code",
   "execution_count": 8,
   "id": "678a09c6",
   "metadata": {},
   "outputs": [
    {
     "data": {
      "text/plain": [
       "tensor([[[0.2000]],\n",
       "\n",
       "        [[0.2333]]])"
      ]
     },
     "execution_count": 8,
     "metadata": {},
     "output_type": "execute_result"
    }
   ],
   "source": [
    "mean"
   ]
  },
  {
   "cell_type": "code",
   "execution_count": 9,
   "id": "8ac1c38d",
   "metadata": {},
   "outputs": [
    {
     "data": {
      "text/plain": [
       "tensor([[[0.0817]],\n",
       "\n",
       "        [[0.1886]]])"
      ]
     },
     "execution_count": 9,
     "metadata": {},
     "output_type": "execute_result"
    }
   ],
   "source": [
    "var = ((inputs - mean) ** 2).mean(dim=dims, keepdim=True)\n",
    "epsilon = 1e-5\n",
    "std = (var + epsilon).sqrt()\n",
    "std"
   ]
  },
  {
   "cell_type": "code",
   "execution_count": 10,
   "id": "edce372e",
   "metadata": {},
   "outputs": [
    {
     "data": {
      "text/plain": [
       "tensor([[[ 0.0000, -1.2238,  1.2238]],\n",
       "\n",
       "        [[ 1.4140, -0.7070, -0.7070]]])"
      ]
     },
     "execution_count": 10,
     "metadata": {},
     "output_type": "execute_result"
    }
   ],
   "source": [
    "\n",
    "y = (inputs - mean) / std\n",
    "y"
   ]
  },
  {
   "cell_type": "code",
   "execution_count": 11,
   "id": "bb3e0d89",
   "metadata": {},
   "outputs": [],
   "source": [
    "\n",
    "out = gamma * y + beta"
   ]
  },
  {
   "cell_type": "code",
   "execution_count": 12,
   "id": "db6dd3a6",
   "metadata": {},
   "outputs": [
    {
     "data": {
      "text/plain": [
       "tensor([[[ 0.0000, -1.2238,  1.2238]],\n",
       "\n",
       "        [[ 1.4140, -0.7070, -0.7070]]], grad_fn=<AddBackward0>)"
      ]
     },
     "execution_count": 12,
     "metadata": {},
     "output_type": "execute_result"
    }
   ],
   "source": [
    "\n",
    "out"
   ]
  },
  {
   "cell_type": "markdown",
   "id": "93575ecb",
   "metadata": {},
   "source": [
    "class"
   ]
  },
  {
   "cell_type": "code",
   "execution_count": 13,
   "id": "1ac91390",
   "metadata": {},
   "outputs": [],
   "source": [
    "\n",
    "import torch\n",
    "from torch import nn\n",
    "\n",
    "class LayerNormalization():\n",
    "    def __init__(self, parameters_shape, eps=1e-5):\n",
    "        self.parameters_shape=parameters_shape\n",
    "        self.eps=eps\n",
    "        self.gamma = nn.Parameter(torch.ones(parameters_shape))\n",
    "        self.beta =  nn.Parameter(torch.zeros(parameters_shape))\n",
    "\n",
    "    def forward(self, input):\n",
    "        dims = [-(i + 1) for i in range(len(self.parameters_shape))]\n",
    "        mean = inputs.mean(dim=dims, keepdim=True)\n",
    "        print(f\"Mean \\n ({mean.size()}): \\n {mean}\")\n",
    "        var = ((inputs - mean) ** 2).mean(dim=dims, keepdim=True)\n",
    "        std = (var + self.eps).sqrt()\n",
    "        print(f\"Standard Deviation \\n ({std.size()}): \\n {std}\")\n",
    "        y = (inputs - mean) / std\n",
    "        print(f\"y \\n ({y.size()}) = \\n {y}\")\n",
    "        out = self.gamma * y  + self.beta\n",
    "        print(f\"out \\n ({out.size()}) = \\n {out}\")\n",
    "        return out\n",
    "     "
   ]
  },
  {
   "cell_type": "code",
   "execution_count": 14,
   "id": "223e25ac",
   "metadata": {},
   "outputs": [
    {
     "name": "stdout",
     "output_type": "stream",
     "text": [
      "input \n",
      " (torch.Size([5, 3, 8])) = \n",
      " tensor([[[-0.8423, -0.5826,  0.2249, -0.1391, -1.2348,  0.2448,  0.2864,\n",
      "          -0.0456],\n",
      "         [-0.6692, -0.8063, -0.4026, -0.5808,  0.1779, -1.6537,  0.5476,\n",
      "          -0.2312],\n",
      "         [-0.8894,  3.3253,  1.4620, -2.1106,  0.7160,  0.3866, -1.2333,\n",
      "           0.4488]],\n",
      "\n",
      "        [[ 0.3725,  0.2372,  1.4064,  0.9999,  0.9835,  0.1841, -0.2830,\n",
      "          -1.7932],\n",
      "         [ 1.1372,  1.7271, -1.3094, -1.7460, -0.4164,  1.8422, -1.7017,\n",
      "          -0.9184],\n",
      "         [ 0.6853,  0.1925, -1.2026, -1.4036, -0.0206,  0.0083, -1.9377,\n",
      "           0.8763]],\n",
      "\n",
      "        [[-0.4065, -0.4807, -1.0862, -0.4599, -0.4289,  0.2740, -0.4741,\n",
      "          -1.1042],\n",
      "         [-0.0955,  0.3661,  1.9871, -1.7051,  0.5756,  1.1697,  1.9461,\n",
      "           0.4230],\n",
      "         [ 0.1214, -0.2026, -0.0295,  0.0292,  0.9460,  1.5448,  1.2466,\n",
      "          -0.5285]],\n",
      "\n",
      "        [[ 0.4787,  2.8194, -0.5490,  0.4843, -1.8543, -0.0533, -0.4118,\n",
      "          -2.0390],\n",
      "         [-0.3916,  1.1560,  0.8500, -0.0760,  0.0996,  1.3210,  0.2431,\n",
      "          -0.6375],\n",
      "         [ 1.0893,  1.2872, -0.9282,  1.0318, -0.9567,  0.1160,  0.4299,\n",
      "           0.1441]],\n",
      "\n",
      "        [[-1.6299,  1.9778,  0.9559, -0.5623, -0.3341, -0.3707,  0.4787,\n",
      "          -0.2671],\n",
      "         [-0.0738, -0.2426, -0.3748,  1.0185,  0.7923, -0.8642,  0.8312,\n",
      "           1.9219],\n",
      "         [-1.4797, -0.8478,  0.5592,  1.8202,  0.0890, -1.6571, -0.7187,\n",
      "           0.1219]]])\n"
     ]
    }
   ],
   "source": [
    "batch_size = 3\n",
    "sentence_length = 5\n",
    "embedding_dim = 8 \n",
    "inputs = torch.randn(sentence_length, batch_size, embedding_dim)\n",
    "\n",
    "print(f\"input \\n ({inputs.size()}) = \\n {inputs}\")"
   ]
  },
  {
   "cell_type": "code",
   "execution_count": 15,
   "id": "881e2cb9",
   "metadata": {},
   "outputs": [],
   "source": [
    "\n",
    "layer_norm = LayerNormalization(inputs.size()[-1:])"
   ]
  },
  {
   "cell_type": "code",
   "execution_count": 16,
   "id": "a9d9e383",
   "metadata": {},
   "outputs": [
    {
     "name": "stdout",
     "output_type": "stream",
     "text": [
      "Mean \n",
      " (torch.Size([5, 3, 1])): \n",
      " tensor([[[-0.2610],\n",
      "         [-0.4523],\n",
      "         [ 0.2632]],\n",
      "\n",
      "        [[ 0.2634],\n",
      "         [-0.1732],\n",
      "         [-0.3503]],\n",
      "\n",
      "        [[-0.5208],\n",
      "         [ 0.5834],\n",
      "         [ 0.3909]],\n",
      "\n",
      "        [[-0.1406],\n",
      "         [ 0.3206],\n",
      "         [ 0.2767]],\n",
      "\n",
      "        [[ 0.0310],\n",
      "         [ 0.3761],\n",
      "         [-0.2641]]])\n",
      "Standard Deviation \n",
      " (torch.Size([5, 3, 1])): \n",
      " tensor([[[0.5294],\n",
      "         [0.6206],\n",
      "         [1.5918]],\n",
      "\n",
      "        [[0.9297],\n",
      "         [1.4189],\n",
      "         [0.9660]],\n",
      "\n",
      "        [[0.4063],\n",
      "         [1.1148],\n",
      "         [0.7026]],\n",
      "\n",
      "        [[1.4285],\n",
      "         [0.6724],\n",
      "         [0.8133]],\n",
      "\n",
      "        [[1.0210],\n",
      "         [0.8566],\n",
      "         [1.0760]]])\n",
      "y \n",
      " (torch.Size([5, 3, 8])) = \n",
      " tensor([[[-1.0979, -0.6073,  0.9177,  0.2303, -1.8392,  0.9554,  1.0339,\n",
      "           0.4069],\n",
      "         [-0.3496, -0.5705,  0.0801, -0.2071,  1.0155, -1.9360,  1.6113,\n",
      "           0.3563],\n",
      "         [-0.7240,  1.9237,  0.7531, -1.4912,  0.2845,  0.0776, -0.9401,\n",
      "           0.1166]],\n",
      "\n",
      "        [[ 0.1173, -0.0282,  1.2294,  0.7921,  0.7746, -0.0853, -0.5878,\n",
      "          -2.2122],\n",
      "         [ 0.9236,  1.3393, -0.8008, -1.1085, -0.1714,  1.4204, -1.0773,\n",
      "          -0.5252],\n",
      "         [ 1.0721,  0.5619, -0.8824, -1.0904,  0.3412,  0.3712, -1.6434,\n",
      "           1.2698]],\n",
      "\n",
      "        [[ 0.2814,  0.0988, -1.3915,  0.1499,  0.2262,  1.9561,  0.1149,\n",
      "          -1.4357],\n",
      "         [-0.6090, -0.1949,  1.2592, -2.0528, -0.0070,  0.5260,  1.2224,\n",
      "          -0.1439],\n",
      "         [-0.3836, -0.8447, -0.5983, -0.5148,  0.7900,  1.6422,  1.2177,\n",
      "          -1.3086]],\n",
      "\n",
      "        [[ 0.4335,  2.0721, -0.2858,  0.4375, -1.1997,  0.0611, -0.1898,\n",
      "          -1.3289],\n",
      "         [-1.0593,  1.2425,  0.7874, -0.5899, -0.3286,  1.4880, -0.1152,\n",
      "          -1.4250],\n",
      "         [ 0.9992,  1.2425, -1.4815,  0.9284, -1.5165, -0.1976,  0.1884,\n",
      "          -0.1630]],\n",
      "\n",
      "        [[-1.6267,  1.9067,  0.9058, -0.5811, -0.3576, -0.3935,  0.4384,\n",
      "          -0.2920],\n",
      "         [-0.5252, -0.7222, -0.8766,  0.7500,  0.4860, -1.4479,  0.5313,\n",
      "           1.8046],\n",
      "         [-1.1298, -0.5425,  0.7652,  1.9372,  0.3282, -1.2946, -0.4225,\n",
      "           0.3588]]])\n",
      "out \n",
      " (torch.Size([5, 3, 8])) = \n",
      " tensor([[[-1.0979, -0.6073,  0.9177,  0.2303, -1.8392,  0.9554,  1.0339,\n",
      "           0.4069],\n",
      "         [-0.3496, -0.5705,  0.0801, -0.2071,  1.0155, -1.9360,  1.6113,\n",
      "           0.3563],\n",
      "         [-0.7240,  1.9237,  0.7531, -1.4912,  0.2845,  0.0776, -0.9401,\n",
      "           0.1166]],\n",
      "\n",
      "        [[ 0.1173, -0.0282,  1.2294,  0.7921,  0.7746, -0.0853, -0.5878,\n",
      "          -2.2122],\n",
      "         [ 0.9236,  1.3393, -0.8008, -1.1085, -0.1714,  1.4204, -1.0773,\n",
      "          -0.5252],\n",
      "         [ 1.0721,  0.5619, -0.8824, -1.0904,  0.3412,  0.3712, -1.6434,\n",
      "           1.2698]],\n",
      "\n",
      "        [[ 0.2814,  0.0988, -1.3915,  0.1499,  0.2262,  1.9561,  0.1149,\n",
      "          -1.4357],\n",
      "         [-0.6090, -0.1949,  1.2592, -2.0528, -0.0070,  0.5260,  1.2224,\n",
      "          -0.1439],\n",
      "         [-0.3836, -0.8447, -0.5983, -0.5148,  0.7900,  1.6422,  1.2177,\n",
      "          -1.3086]],\n",
      "\n",
      "        [[ 0.4335,  2.0721, -0.2858,  0.4375, -1.1997,  0.0611, -0.1898,\n",
      "          -1.3289],\n",
      "         [-1.0593,  1.2425,  0.7874, -0.5899, -0.3286,  1.4880, -0.1152,\n",
      "          -1.4250],\n",
      "         [ 0.9992,  1.2425, -1.4815,  0.9284, -1.5165, -0.1976,  0.1884,\n",
      "          -0.1630]],\n",
      "\n",
      "        [[-1.6267,  1.9067,  0.9058, -0.5811, -0.3576, -0.3935,  0.4384,\n",
      "          -0.2920],\n",
      "         [-0.5252, -0.7222, -0.8766,  0.7500,  0.4860, -1.4479,  0.5313,\n",
      "           1.8046],\n",
      "         [-1.1298, -0.5425,  0.7652,  1.9372,  0.3282, -1.2946, -0.4225,\n",
      "           0.3588]]], grad_fn=<AddBackward0>)\n"
     ]
    }
   ],
   "source": [
    "\n",
    "out = layer_norm.forward(inputs)"
   ]
  },
  {
   "cell_type": "code",
   "execution_count": 17,
   "id": "70bd5e3c",
   "metadata": {},
   "outputs": [
    {
     "data": {
      "text/plain": [
       "(tensor(4.9671e-09, grad_fn=<MeanBackward0>),\n",
       " tensor(1.0215, grad_fn=<StdBackward0>))"
      ]
     },
     "execution_count": 17,
     "metadata": {},
     "output_type": "execute_result"
    }
   ],
   "source": [
    "\n",
    "\n",
    "out[0].mean(), out[0].std()"
   ]
  }
 ],
 "metadata": {
  "kernelspec": {
   "display_name": "myenv",
   "language": "python",
   "name": "python3"
  },
  "language_info": {
   "codemirror_mode": {
    "name": "ipython",
    "version": 3
   },
   "file_extension": ".py",
   "mimetype": "text/x-python",
   "name": "python",
   "nbconvert_exporter": "python",
   "pygments_lexer": "ipython3",
   "version": "3.13.1"
  }
 },
 "nbformat": 4,
 "nbformat_minor": 5
}

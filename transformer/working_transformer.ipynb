{
  "cells": [
    {
      "cell_type": "code",
      "execution_count": 43,
      "metadata": {
        "id": "FOwRggVcwtzP"
      },
      "outputs": [],
      "source": [
        "from transformer import Transformer # this is the transformer.py file\n",
        "import torch\n",
        "import numpy as np"
      ]
    },
    {
      "cell_type": "code",
      "execution_count": 64,
      "metadata": {
        "id": "6TApzOj5xCwR"
      },
      "outputs": [],
      "source": [
        "english_file = '../data/dev.en'\n",
        "sanskrit_file = '../data/dev.sn'\n",
        "\n",
        "# Generated this by filtering Appendix code\n",
        "\n",
        "START_TOKEN = '<START>'\n",
        "PADDING_TOKEN = '<PADDING>'\n",
        "END_TOKEN = '<END>'\n",
        "\n",
        "sanskrit_vocabulary = [\n",
        "    START_TOKEN, ' ', '!', '\"', \"'\", '(', ')', ',', '-', '.', '?', ':', ';',\n",
        "    '0', '1', '2', '3', '4', '5', '6', '7', '8', '9',\n",
        "\n",
        "    # Independent vowels\n",
        "    'अ', 'आ', 'इ', 'ई', 'उ', 'ऊ', 'ऋ', 'ॠ', 'ऌ', 'ॡ', 'ए', 'ऐ', 'ओ', 'औ',\n",
        "    \n",
        "    # Consonants\n",
        "    'क', 'ख', 'ग', 'घ', 'ङ',\n",
        "    'च', 'छ', 'ज', 'झ', 'ञ',\n",
        "    'ट', 'ठ', 'ड', 'ढ', 'ण',\n",
        "    'त', 'थ', 'द', 'ध', 'न',\n",
        "    'प', 'फ', 'ब', 'भ', 'म',\n",
        "    'य', 'र', 'ल', 'व',\n",
        "    'श', 'ष', 'स', 'ह',\n",
        "\n",
        "    # Vowel signs\n",
        "    'ा', 'ि', 'ी', 'ु', 'ू', 'ृ', 'ॄ', 'े', 'ै', 'ो', 'ौ',\n",
        "\n",
        "    # Other signs\n",
        "    'ं', 'ः', 'ँ', '्',  # virama, anusvara, visarga, chandrabindu\n",
        "    '।', '॥',  # danda marks\n",
        "\n",
        "    # Special tokens\n",
        "    PADDING_TOKEN, END_TOKEN\n",
        "]\n",
        "\n",
        "english_vocabulary = [START_TOKEN, ' ', '!', '\"', '#', '$', '%', '&', \"'\", '(', ')', '*', '+', ',', '-', '.', '/', \n",
        "                        '0', '1', '2', '3', '4', '5', '6', '7', '8', '9',\n",
        "                        ':', ';', '<', '=', '>', '?', '@', \n",
        "                        'A', 'B', 'C', 'D', 'E', 'F', 'G', 'H', 'I', 'J', 'K', 'L', \n",
        "                        'M', 'N', 'O', 'P', 'Q', 'R', 'S', 'T', 'U', 'V', 'W', 'X', \n",
        "                        'Y', 'Z',\n",
        "                        '_',\n",
        "                        'a', 'b', 'c', 'd', 'e', 'f', 'g', 'h', 'i', 'j', 'k', 'l',\n",
        "                        'm', 'n', 'o', 'p', 'q', 'r', 's', 't', 'u', 'v', 'w', 'x', \n",
        "                        'y', 'z', \n",
        "                        '{', '|', '}', '~', '·', 'º',\n",
        "                        \n",
        "                        # Extended Latin characters found in the data\n",
        "                        'á', 'â', 'ã', 'ä', 'å', 'ç', 'é', 'î', 'ñ', 'ú', 'ü', 'ă', 'ć', 'ę', 'ı', 'ļ', 'ł', 'ņ',\n",
        "                        'Ś', 'ś', 'Ş', 'ş', 'Š', 'š', 'ţ', 'ſ', 'ș', 'ț', 'ə',\n",
        "                        \n",
        "                        # IAST transliteration characters\n",
        "                        'ā', 'ī', 'ū', 'ṛ', 'ṝ', 'ḷ', 'ḹ', 'ṅ', 'ṭ', 'ḍ', 'ṇ', 'ṣ',\n",
        "                        'Ā', 'Ī', 'Ū', 'Ṛ', 'Ṝ', 'Ḷ', 'Ḹ', 'Ṅ', 'Ṭ', 'Ḍ', 'Ṇ', 'Ṣ','о','ả',\n",
        "                        \n",
        "                        # Vietnamese characters\n",
        "                        'ả', 'ặ', 'ị',\n",
        "                        \n",
        "                        # Cyrillic (found in data)\n",
        "                        'О',\n",
        "                        \n",
        "                        # Devanagari characters found in English text\n",
        "                        'ं', 'उ', 'ए', 'क', 'च', 'त', 'द', 'ध', 'न', 'भ', 'म', 'र', 'ल', 'व', 'श', 'स', \n",
        "                        'ा', 'ि', 'ु', 'ै', 'ो', '्', '।', '॥',\n",
        "                        \n",
        "                        # Special punctuation (en dash, em dash, curved quotes)\n",
        "                        '–', '—', '\\u2018', '\\u201c', '\\u201d',\n",
        "                        \n",
        "                        PADDING_TOKEN, END_TOKEN]"
      ]
    },
    {
      "cell_type": "code",
      "execution_count": 65,
      "metadata": {
        "id": "gA8ESmCrNoc7"
      },
      "outputs": [],
      "source": [
        "index_to_sanskrit = {k:v for k,v in enumerate(sanskrit_vocabulary)}\n",
        "sanskrit_to_index = {v:k for k,v in enumerate(sanskrit_vocabulary)}\n",
        "index_to_english = {k:v for k,v in enumerate(english_vocabulary)}\n",
        "english_to_index = {v:k for k,v in enumerate(english_vocabulary)}"
      ]
    },
    {
      "cell_type": "code",
      "execution_count": 66,
      "metadata": {
        "id": "9SYGjRdoxRg-"
      },
      "outputs": [],
      "source": [
        "with open(english_file, 'r') as file:\n",
        "    english_sentences = file.readlines()\n",
        "with open(sanskrit_file, 'r') as file:\n",
        "    sanskrit_sentences = file.readlines()\n",
        "\n",
        "# Limit Number of sentences\n",
        "TOTAL_SENTENCES = 200000\n",
        "english_sentences = english_sentences[:TOTAL_SENTENCES]\n",
        "sanskrit_sentences = sanskrit_sentences[:TOTAL_SENTENCES]\n",
        "english_sentences = [sentence.rstrip('\\n').lower() for sentence in english_sentences]\n",
        "sanskrit_sentences = [sentence.rstrip('\\n') for sentence in sanskrit_sentences]"
      ]
    },
    {
      "cell_type": "code",
      "execution_count": 67,
      "metadata": {
        "colab": {
          "base_uri": "https://localhost:8080/"
        },
        "id": "CUB-BkgFxXfM",
        "outputId": "bcf7e19c-d1df-4b69-bdfa-eb74ac1a4338"
      },
      "outputs": [
        {
          "data": {
            "text/plain": [
              "['when şītā, having a husband although seeming as if she had none, was putting on the ascetic guise, the people got into a wrath and exclaimed, “o dasaratha, fie on you!\"',\n",
              " 'aggrieved at the uproar that arose there in consequence, the lord of earth banished from his heart all regard for life, virtue, and fame. and sighing hot, that descendant of ikşvāku spoke to that wife of his, saying, o kaikeyi, sītā deserves not to go in a kuća dress.',\n",
              " 'tender, and youthful, and worthy of happiness, she is by no means capable of living in the forest. my spiritual guide has spoken the truth.',\n",
              " 'whom has this one injured that, being the daughter of the foremost of kings, she like a female ascetic, wearing a meagre garb in the presence of all, will (repair to the woods and) remain there like a beggar destitute of everything?',\n",
              " \"let janaka's daughter leave off her ascetic guise. this is not the promise that i had made to you before. let the princess go to the forest in comfort, furnished with all sorts of gems.\",\n",
              " 'my sands run out; by me has this cruel promise been made with an oath. but this (exile of sītä) has been thought of by you through your ignorance. let it not, however, consume you like a bamboo flower destroying the bamboo.',\n",
              " 'if, o wicked woman, rāma has happened to do you something unbeautiful, what wrong, o base wretch, has vaidehi done you in the world?',\n",
              " \"of eyes expanded like those of a doe, endued with a mild temperament, and virtuous, what harm has janaka's daughter done you.\",\n",
              " 'surely, o nefarious one, the banishment of ráma is enough for you. why then do you bend your mind to perpetrate these atrocious sins?',\n",
              " 'o noble dame, having heard you asking for the banishment of rāma, who had at first been intended by me for being installed, and who came here afterwards, i had promised you (his exile alone.)']"
            ]
          },
          "execution_count": 67,
          "metadata": {},
          "output_type": "execute_result"
        }
      ],
      "source": [
        "english_sentences[:10]"
      ]
    },
    {
      "cell_type": "code",
      "execution_count": 68,
      "metadata": {
        "colab": {
          "base_uri": "https://localhost:8080/"
        },
        "id": "8OT-aznAxc5U",
        "outputId": "716c4145-fdc2-4bb0-e883-c3dcad30c2da"
      },
      "outputs": [
        {
          "data": {
            "text/plain": [
              "['तस्यां चीरं वसानायां नाथवत्यामनाथवत्। प्रचुक्रोश जनः सर्वो धिक् त्वां दशरथं त्विति ॥',\n",
              " 'तेन तत्र प्रणादेन दुःखितः स महीपतिः। चिच्छेद जीविते श्रद्धां धर्मे यशसि चात्मनः॥ स निःश्वस्योष्णमैक्ष्वाकस्तां भार्यामिदमब्रवीत्। कैकेयि कुशचीरेण न सीता गन्तुमर्हति॥',\n",
              " 'सुकुमारी च बाला च सततं च सुखोचिता। नेयं वनस्य योग्येति सत्यमाह गुरुर्मम ॥',\n",
              " 'इयं हि कस्यापि करोति किंचित् तपस्विनी राजवरस्य पुत्री। या चीरमासाद्य वनस्य मध्ये जाता विसंज्ञा श्रमणीव काचित्॥',\n",
              " 'चीराण्यपास्याज्जनकस्य कन्या नेयं प्रतिज्ञा मम दत्तपूर्वा। यथासुखं गच्छतु राजपुत्री वनं समग्रा सह सर्वरत्नैः॥',\n",
              " 'अजीवनाहेण मया नृशंसा कृता प्रतिज्ञा नियमेन तावत्। त्वया हि बाल्यात् प्रतिपन्नमेतत् तन्मा दहेद् वेणुमिवात्मपुष्पम्॥',\n",
              " 'रामेण यदि ते पापे किंचित्कृतमशोभनम्। अपकारः क इह ते वैदेह्या दर्शितोऽधमे॥',\n",
              " 'मृगीवोत्फुल्लनयना मृदुशीला मनस्विनी। अपकारं कमिव ते करोति जनकात्मजा॥',\n",
              " 'ननु पर्याप्तमेवं ते पापे रामविवासनम्। किमेभिः कृपणैर्भूयः पातकैरपि ते कृतैः॥',\n",
              " 'प्रतिज्ञातं मया तावत् त्वयोक्तं देवि शृण्वता। रामं यदभिषेकाय त्वमिहागतमब्रवीः॥']"
            ]
          },
          "execution_count": 68,
          "metadata": {},
          "output_type": "execute_result"
        }
      ],
      "source": [
        "sanskrit_sentences[:10]"
      ]
    },
    {
      "cell_type": "code",
      "execution_count": 69,
      "metadata": {
        "colab": {
          "base_uri": "https://localhost:8080/"
        },
        "id": "h8VAutsTxlaR",
        "outputId": "ff8fba72-020d-4f0c-b3c5-31c102b6fe9b"
      },
      "outputs": [
        {
          "name": "stdout",
          "output_type": "stream",
          "text": [
            "97th percentile length sanskrit: 219.0\n",
            "97th percentile length English: 388.0\n"
          ]
        }
      ],
      "source": [
        "import numpy as np\n",
        "PERCENTILE = 97\n",
        "print( f\"{PERCENTILE}th percentile length sanskrit: {np.percentile([len(x) for x in sanskrit_sentences], PERCENTILE)}\" )\n",
        "print( f\"{PERCENTILE}th percentile length English: {np.percentile([len(x) for x in english_sentences], PERCENTILE)}\" )\n"
      ]
    },
    {
      "cell_type": "code",
      "execution_count": 70,
      "metadata": {
        "colab": {
          "base_uri": "https://localhost:8080/"
        },
        "id": "HG9ezqvaxl4b",
        "outputId": "d13be774-ca07-4333-856e-76186f71caae"
      },
      "outputs": [
        {
          "name": "stdout",
          "output_type": "stream",
          "text": [
            "Number of sentences: 6148\n",
            "Number of valid sentences: 3832\n"
          ]
        }
      ],
      "source": [
        "max_sequence_length = 200\n",
        "\n",
        "def is_valid_tokens(sentence, vocab):\n",
        "    for token in list(set(sentence)):\n",
        "        if token not in vocab:\n",
        "            return False\n",
        "    return True\n",
        "\n",
        "def is_valid_length(sentence, max_sequence_length):\n",
        "    return len(list(sentence)) < (max_sequence_length - 1) # need to re-add the end token so leaving 1 space\n",
        "\n",
        "valid_sentence_indicies = []\n",
        "for index in range(len(sanskrit_sentences)):\n",
        "    sanskrit_sentence, english_sentence = sanskrit_sentences[index], english_sentences[index]\n",
        "    if is_valid_length(sanskrit_sentence, max_sequence_length) \\\n",
        "      and is_valid_length(english_sentence, max_sequence_length) \\\n",
        "      and is_valid_tokens(sanskrit_sentence, sanskrit_vocabulary):\n",
        "        valid_sentence_indicies.append(index)\n",
        "\n",
        "print(f\"Number of sentences: {len(sanskrit_sentences)}\")\n",
        "print(f\"Number of valid sentences: {len(valid_sentence_indicies)}\")"
      ]
    },
    {
      "cell_type": "code",
      "execution_count": 71,
      "metadata": {
        "id": "o80QDn4CxsV7"
      },
      "outputs": [],
      "source": [
        "sanskrit_sentences = [sanskrit_sentences[i] for i in valid_sentence_indicies]\n",
        "english_sentences = [english_sentences[i] for i in valid_sentence_indicies]"
      ]
    },
    {
      "cell_type": "code",
      "execution_count": 72,
      "metadata": {
        "colab": {
          "base_uri": "https://localhost:8080/"
        },
        "id": "35xhLztQiLIQ",
        "outputId": "aa70ad04-2e45-4c78-c852-61e92c51a96a"
      },
      "outputs": [
        {
          "data": {
            "text/plain": [
              "['तस्यां चीरं वसानायां नाथवत्यामनाथवत्। प्रचुक्रोश जनः सर्वो धिक् त्वां दशरथं त्विति ॥',\n",
              " 'सुकुमारी च बाला च सततं च सुखोचिता। नेयं वनस्य योग्येति सत्यमाह गुरुर्मम ॥',\n",
              " 'चीराण्यपास्याज्जनकस्य कन्या नेयं प्रतिज्ञा मम दत्तपूर्वा। यथासुखं गच्छतु राजपुत्री वनं समग्रा सह सर्वरत्नैः॥']"
            ]
          },
          "execution_count": 72,
          "metadata": {},
          "output_type": "execute_result"
        }
      ],
      "source": [
        "sanskrit_sentences[:3]"
      ]
    },
    {
      "cell_type": "code",
      "execution_count": 73,
      "metadata": {
        "id": "xqOFnclmyxAE"
      },
      "outputs": [],
      "source": [
        "import torch\n",
        "\n",
        "d_model = 512\n",
        "batch_size = 30\n",
        "ffn_hidden = 2048\n",
        "num_heads = 8\n",
        "drop_prob = 0.1\n",
        "num_layers = 1\n",
        "max_sequence_length = 200\n",
        "kn_vocab_size = len(sanskrit_vocabulary)\n",
        "\n",
        "transformer = Transformer(d_model, \n",
        "                          ffn_hidden,\n",
        "                          num_heads, \n",
        "                          drop_prob, \n",
        "                          num_layers, \n",
        "                          max_sequence_length,\n",
        "                          kn_vocab_size,\n",
        "                          english_to_index,\n",
        "                          sanskrit_to_index,\n",
        "                          START_TOKEN, \n",
        "                          END_TOKEN, \n",
        "                          PADDING_TOKEN)"
      ]
    },
    {
      "cell_type": "code",
      "execution_count": 74,
      "metadata": {
        "colab": {
          "base_uri": "https://localhost:8080/"
        },
        "id": "Zc2hYQk9yxX0",
        "outputId": "c060f588-6a2e-4179-9475-5acafd641f1f"
      },
      "outputs": [
        {
          "data": {
            "text/plain": [
              "Transformer(\n",
              "  (encoder): Encoder(\n",
              "    (sentence_embedding): SentenceEmbedding(\n",
              "      (embedding): Embedding(182, 512)\n",
              "      (position_encoder): PositionalEncoding()\n",
              "      (dropout): Dropout(p=0.1, inplace=False)\n",
              "    )\n",
              "    (layers): SequentialEncoder(\n",
              "      (0): EncoderLayer(\n",
              "        (attention): MultiHeadAttention(\n",
              "          (qkv_layer): Linear(in_features=512, out_features=1536, bias=True)\n",
              "          (linear_layer): Linear(in_features=512, out_features=512, bias=True)\n",
              "        )\n",
              "        (norm1): LayerNormalization()\n",
              "        (dropout1): Dropout(p=0.1, inplace=False)\n",
              "        (ffn): PositionwiseFeedForward(\n",
              "          (linear1): Linear(in_features=512, out_features=2048, bias=True)\n",
              "          (linear2): Linear(in_features=2048, out_features=512, bias=True)\n",
              "          (relu): ReLU()\n",
              "          (dropout): Dropout(p=0.1, inplace=False)\n",
              "        )\n",
              "        (norm2): LayerNormalization()\n",
              "        (dropout2): Dropout(p=0.1, inplace=False)\n",
              "      )\n",
              "    )\n",
              "  )\n",
              "  (decoder): Decoder(\n",
              "    (sentence_embedding): SentenceEmbedding(\n",
              "      (embedding): Embedding(89, 512)\n",
              "      (position_encoder): PositionalEncoding()\n",
              "      (dropout): Dropout(p=0.1, inplace=False)\n",
              "    )\n",
              "    (layers): SequentialDecoder(\n",
              "      (0): DecoderLayer(\n",
              "        (self_attention): MultiHeadAttention(\n",
              "          (qkv_layer): Linear(in_features=512, out_features=1536, bias=True)\n",
              "          (linear_layer): Linear(in_features=512, out_features=512, bias=True)\n",
              "        )\n",
              "        (layer_norm1): LayerNormalization()\n",
              "        (dropout1): Dropout(p=0.1, inplace=False)\n",
              "        (encoder_decoder_attention): MultiHeadCrossAttention(\n",
              "          (kv_layer): Linear(in_features=512, out_features=1024, bias=True)\n",
              "          (q_layer): Linear(in_features=512, out_features=512, bias=True)\n",
              "          (linear_layer): Linear(in_features=512, out_features=512, bias=True)\n",
              "        )\n",
              "        (layer_norm2): LayerNormalization()\n",
              "        (dropout2): Dropout(p=0.1, inplace=False)\n",
              "        (ffn): PositionwiseFeedForward(\n",
              "          (linear1): Linear(in_features=512, out_features=2048, bias=True)\n",
              "          (linear2): Linear(in_features=2048, out_features=512, bias=True)\n",
              "          (relu): ReLU()\n",
              "          (dropout): Dropout(p=0.1, inplace=False)\n",
              "        )\n",
              "        (layer_norm3): LayerNormalization()\n",
              "        (dropout3): Dropout(p=0.1, inplace=False)\n",
              "      )\n",
              "    )\n",
              "  )\n",
              "  (linear): Linear(in_features=512, out_features=89, bias=True)\n",
              ")"
            ]
          },
          "execution_count": 74,
          "metadata": {},
          "output_type": "execute_result"
        }
      ],
      "source": [
        "transformer"
      ]
    },
    {
      "cell_type": "code",
      "execution_count": 75,
      "metadata": {
        "id": "asUJX-STy7fg"
      },
      "outputs": [],
      "source": [
        "from torch.utils.data import Dataset, DataLoader\n",
        "\n",
        "class TextDataset(Dataset):\n",
        "\n",
        "    def __init__(self, english_sentences, sanskrit_sentences):\n",
        "        self.english_sentences = english_sentences\n",
        "        self.sanskrit_sentences = sanskrit_sentences\n",
        "\n",
        "    def __len__(self):\n",
        "        return len(self.english_sentences)\n",
        "\n",
        "    def __getitem__(self, idx):\n",
        "        return self.english_sentences[idx], self.sanskrit_sentences[idx]"
      ]
    },
    {
      "cell_type": "code",
      "execution_count": 76,
      "metadata": {
        "id": "-auNWjkdzDge"
      },
      "outputs": [],
      "source": [
        "dataset = TextDataset(english_sentences, sanskrit_sentences)"
      ]
    },
    {
      "cell_type": "code",
      "execution_count": 77,
      "metadata": {
        "colab": {
          "base_uri": "https://localhost:8080/"
        },
        "id": "roH2A4m4zF4z",
        "outputId": "f4353aa8-2f37-43b6-be0f-12aab9a35145"
      },
      "outputs": [
        {
          "data": {
            "text/plain": [
              "3832"
            ]
          },
          "execution_count": 77,
          "metadata": {},
          "output_type": "execute_result"
        }
      ],
      "source": [
        "len(dataset)"
      ]
    },
    {
      "cell_type": "code",
      "execution_count": 78,
      "metadata": {
        "colab": {
          "base_uri": "https://localhost:8080/"
        },
        "id": "HGeHNlzozIGF",
        "outputId": "ec3596fe-feee-426c-dce8-373fb07080fd"
      },
      "outputs": [
        {
          "data": {
            "text/plain": [
              "('tender, and youthful, and worthy of happiness, she is by no means capable of living in the forest. my spiritual guide has spoken the truth.',\n",
              " 'सुकुमारी च बाला च सततं च सुखोचिता। नेयं वनस्य योग्येति सत्यमाह गुरुर्मम ॥')"
            ]
          },
          "execution_count": 78,
          "metadata": {},
          "output_type": "execute_result"
        }
      ],
      "source": [
        "dataset[1]"
      ]
    },
    {
      "cell_type": "code",
      "execution_count": 79,
      "metadata": {
        "id": "5YDttjQ0zMrv"
      },
      "outputs": [],
      "source": [
        "train_loader = DataLoader(dataset, batch_size)\n",
        "iterator = iter(train_loader)"
      ]
    },
    {
      "cell_type": "code",
      "execution_count": 80,
      "metadata": {
        "colab": {
          "base_uri": "https://localhost:8080/"
        },
        "id": "9EnjHKB1zM8Y",
        "outputId": "1a825e56-6706-46ee-85b5-ed7f0ac657fb"
      },
      "outputs": [
        {
          "name": "stdout",
          "output_type": "stream",
          "text": [
            "[('when şītā, having a husband although seeming as if she had none, was putting on the ascetic guise, the people got into a wrath and exclaimed, “o dasaratha, fie on you!\"', 'tender, and youthful, and worthy of happiness, she is by no means capable of living in the forest. my spiritual guide has spoken the truth.', \"let janaka's daughter leave off her ascetic guise. this is not the promise that i had made to you before. let the princess go to the forest in comfort, furnished with all sorts of gems.\", \"of eyes expanded like those of a doe, endued with a mild temperament, and virtuous, what harm has janaka's daughter done you.\", 'surely, o nefarious one, the banishment of ráma is enough for you. why then do you bend your mind to perpetrate these atrocious sins?', 'o noble dame, having heard you asking for the banishment of rāma, who had at first been intended by me for being installed, and who came here afterwards, i had promised you (his exile alone.)', \"but since, going beyond that promise of mine, you behold mithala's daughter dressed in mendicant garb, surely you wish to find your way to hell.\", 'thus commissioned to the forest, räma who was seated sealing his lips, said.', 'hearing those bold words of the ascetic, the son of that foremost of men, rāghava firm in his vows, with clasped hands answered.', 'and in the interests of brāhmaṇas, kine, and celestials, i am ready to act as desired by you of immeasurable energy.', 'and rendered almost insensible by anger, that räksasī furiously rushed in a main towards the spot whence had come the report.', 'behold, o laksmana, the terrible and hideous body of yonder yakṣiṇī! the sight of her strike terror into the hearts of even the brave.', 'mark! this irrepressible one, possessing all the resources of illusion, will i oppose, and deprive her of ears and nose.', 'but i dare not slay her, she being protected by virtue of her feminineness. i intend only to oppose her course, and deprive her of her prowess.', 'as rāma was speaking thus, tāțakā, deprived of sense through ire, uttering roars, with uplifted arms rushed against him.', 'and raising thick clouds of dust, tāțakā instantly bewildered both the descendants of raghu.', \"and then by help of illusion, she began to pour upon them a mighty shower of crags. and thereat raghu's descendant was wroth.\", 'and resisting that mighty shower of crags by vollies of shafts, rāghava with arrows cut off her hands.', \"and with the fore-parts of her arms lopped off, as she was roaring before them, sumitra's son waxing wroth deprived her of her ears and nose.\", 'thereupon that one capable of assuming forms at will, began to assume various shapes; and to vanish from sight, bewildering her antagonists with her illusory displays.', 'thus addressed, rāma, displaying his skill in aiming by sounds, enveloped with arrows that yakṣī showering crags.', 'upon seeing that grim-visaged one slain, the lord of the celestials together with the celestials themselves honouring kākutstha, exclaimed well, well!.', 'and exceedingly pleased, the thousand-eyed purandara, together with the delighted deities, said to viśvāmitra.', 'and ever following you, he, o brāhmaṇa, is fit to receive them of you. and this son of the king is to accomplish a mighty task in the interests of the celestials.', 'saying this, the deities, having paid homage to viśvāmitra, joyfully entered the celestial regions.', 'here, o rāma of gracious presence, shall we pass the night; and morrow morning, went to that hermitage of mine.', \"hearing visvāmitra's words, dasaratha's son, glad at heart, happily passed that night in the forest of tāțakā.\", 'and being thus freed from all disturbances, from that day forth that forest appeared charming, even like to the forest of caitraratha.', \"having thus slain the yakşa's daughter, rāma, eulogised by celestials and siddhas, spent there that night with the saint, being awakened by the latter at the break of day.\", 'the mighty sugrīva, bending low, proceeded before the high-souled rama and laksmana.'), ('तस्यां चीरं वसानायां नाथवत्यामनाथवत्। प्रचुक्रोश जनः सर्वो धिक् त्वां दशरथं त्विति ॥', 'सुकुमारी च बाला च सततं च सुखोचिता। नेयं वनस्य योग्येति सत्यमाह गुरुर्मम ॥', 'चीराण्यपास्याज्जनकस्य कन्या नेयं प्रतिज्ञा मम दत्तपूर्वा। यथासुखं गच्छतु राजपुत्री वनं समग्रा सह सर्वरत्नैः॥', 'मृगीवोत्फुल्लनयना मृदुशीला मनस्विनी। अपकारं कमिव ते करोति जनकात्मजा॥', 'ननु पर्याप्तमेवं ते पापे रामविवासनम्। किमेभिः कृपणैर्भूयः पातकैरपि ते कृतैः॥', 'प्रतिज्ञातं मया तावत् त्वयोक्तं देवि शृण्वता। रामं यदभिषेकाय त्वमिहागतमब्रवीः॥', 'तत्त्वेतत् समतिक्रम्य निरयं गन्तुमिच्छसि। मैथिलीमपि या हि त्वमीक्षसे चीरवासिनीम्॥', 'एवं ब्रुवन्तं पितरं रामः सम्प्रस्थितो वनम्। अवाक्शिरसमासीनमिदं वचनमब्रवीत्॥', 'मुनेर्वचनमक्लीबं श्रुत्वा नरवरात्मजः। राघवः प्राञ्जलिर्भूत्वा प्रत्युवाच दृढव्रतः॥', 'गोब्राह्मणहितार्थाय देशस्य च हिताय च। तव चैवाप्रमेयस्य वचनं कर्तुमुद्यतः॥', 'तं शब्दमभिनिध्याय राक्षसी क्रोधमूर्छिता। श्रुत्वा चाभ्यद्रवत् क्रुद्धा यत्र शब्दो विनिःसृतः॥', 'पश्य लक्ष्मण यक्षिण्या भैरवं दारुणं वपुः। भिद्येरन् दर्शनादस्या भीरूणां हृदयानि च॥', 'एतां पश्य दुराधर्षां मायाबलसमन्विताम्। विनिवृत्तां करोम्यद्य हृतकर्णाननासिकाम्॥', 'न ह्येनामुत्सहे हन्तुं स्त्रीस्वभावेन रक्षिताम्। वीर्यं चास्या गतिं चैव हन्यामिति हि मे मतिः॥', 'एवं ब्रुवाणे रामे तु ताटका क्रोधमूर्च्छिता। उद्यम्य बाहुं गर्जन्ती राममेवाभ्यधावत॥', 'उद्धन्वाना रजो घोरं ताटका राघवावुभौ। रजोमेघेन महता मुहूर्तं सा व्यमोहयत्॥', 'ततो मायां समांस्थाय शिलावर्षेण राघवौ। अवाकिरत् सुमहतां ततश्चक्रोध राघवः॥', 'शिलावर्षं महत् तस्याः शरवर्षेण राघवः। प्रतिवार्योपधावन्त्याः करौ चिच्छेद पत्रिभिः॥', 'ततश्छिन्नभुजां श्रान्तामभ्याशे परिगर्जतीम्। सौमित्रिरकरोत् क्रोधाद्धतकर्णाग्रनासिकाम्॥', 'कामरूपधरा सा तु कृत्वा रूपाण्यनेकशः। अन्तर्धानं गता यक्षी मोहयन्ती स्वमायया॥', 'इत्युक्तः स तु तां यक्षीमश्मवृष्टयाभिवर्षिणीम् ॥ दर्शयशब्दवेधित्वं तां रुरोध स सायकैः।', 'तां हतां भीमसंकाशां दृष्ट्वा सुरपतिस्तदा॥ साधु साध्विति काकुत्स्थं सुराश्चाप्यभिपूजयन्।', 'उवाच परमप्रीतः सहस्राक्षः पुरन्दरः॥ सुराश्च सर्वे संहृष्टा विश्वामित्रमथाब्रुवन्।', 'पात्रभूतश्च ते ब्रह्मस्तवानुगमने रतः॥ कर्तव्यं सुमहत् कर्म सुराणां राजसूनुना।', 'एवमुक्त्वा सुराः सर्वे जग्मुर्हष्टा विहायसम्॥ विश्वामित्रं पूजयन्तस्ततः संध्या प्रवर्तते।', 'इहाद्य रजनी राम वसाम शुभदर्शन ॥ श्वः प्रभाते गमिष्यामस्तदाश्रमपदं मम।', 'विश्वामित्रवचः श्रुत्वा हृष्टो दशरथात्मजः॥ उवास रजनी तत्र ताटकाया वने सुखम्।', 'मुक्तशापं वनं तच्च तस्मिन्नेव तदाहनि। रमणीयं विबभ्राज यथा चैत्ररथं वनम्॥', 'निहत्य तो यक्षसुतां स रामः प्रशस्यमानः सुरसिद्धसंघैः। उवास तस्मिन् मुनिना सहैव प्रभातवेलां प्रतिबोध्यमानः॥', 'अग्रतस्तु ययौ तस्य राघवस्य महात्मनः। सुग्रीवः संहतग्रीवो लक्ष्मणस्य महाबलः॥')]\n",
            "[('they were followed by the heroic hanumān, the mighty nala and neela, and the highly powerful tārā, the leader of the monkey herd.', 'they surveyed all around in the forest-land, deer ranging fearlessly at large and grazing on tender grass.', 'they proceeding quickly, rama, the descendant of raghu, beholding the forest filled with trees, spoke to sugrīva, saying.', 'by virtue of their asceticism, this asylum is walled by trees and incapable of being conquered even by indra, the celestials and the asuras.', 'there is audible, o rāghava, the sound of the dressing of apsarās, their sweet-winged accents and that of their music and drums; and herçin pervadeth the celestial fragrance.', 'and there appear the trees, having their tops saturated with smoke and cloaked with clouds, like to so many baidurya hills.', 'do you, o rāghava, o virtuous-souled one, make obeisance to them along with your brother lakṣmaṇa, with concentrated heart and folded palms.', 'there resteth no sin in their persons, o rāma, who bow to those self-controlled saints.', 'thereupon rāma, along with his younger brother lakşmaņa, made obeisance to those high-souled ones.', 'having paid homage (to the sacred memory of those great ones) the virtuous-souled rāma his (younger) brother laksmana, sugriva and other monkeys, proceeded with delighted hearts.', 'and wending a distant way from that hermitage of the seven great ones, they beheld kişkindhä, hard to conquer and occupied by vali.', \"thereupon, rāma, his younger brother and the monkeys taking their weapons, entered, to encompass the destruction of their enemies, the city (of kişkindhā) reared by the prowess of indra's son.\", 'having been thus addressed, vaidehī unaffected by fear, although exercised with grief, placing a blade of grass between herself and rāvana, answered him.', 'all the mighty rākşasas of grim visages, whom you have extolled (before me), shall be deprived of their venom before rāma, as serpents are before suparna,', 'should rāma look at you with eyes aglow with anger, you, o raksasa, would be consumed even as manmatha was by, rudra.', 'he who is able to bring down the moon or destroy him, and to drink up the ocean dry, will surely liberate sītā from here.', 'your days are numbered, and auspiciousness has bidden you adieu. you are shorn of strength, and your senses have been dulled. and it is owing to you that larkā shall be subject to widowhood.', 'that you by force have for naught carried me away from the side of my husband-this sinful act can never conduce to your felicity.', \"that exceedingly effulgent lord of mine along with my husband's younger brother, summoning up their energy, is fearlessly dwelling in the vacant dandaka.\", 'by means of an arrowy shower in conflict, he will take your prowess and strength, your hauteur and wickedness out of your person,', 'when urged by the destroyer, the destruction of creatures is perceptible, then, coming under the sway of the destroyer, men become careless in their actions.', 'a candāla cannot tread the dais reared the midst of a sacrifice beauteous with ladies, and vessels, and sanctified by the twice-born ones.', 'so i, the religiously wedded wife of that one, ever intent on virtue, and (always) firm in my vows, is incapable, you vilest of raksasas, of being touched by you, a sinner.', 'how can the female that has always ‘sported with her mate amidst lotuses, cast her eyes on a shag staying among rushes.', 'do you either bind or destroy this body deprived of sensation. this body will i not protect, nor yet this life, o rāvana;', \"and i shall not be able to bring blame on myself in this world. having said these harsh words in wrath, videha's daughter, janaki, did not there again say anything to rāvaņa.\", \"hearing sita's words, harsh and calculated to make one's down stand on end, rāvana answered her in words tending to excite one's apprehension,\", 'hear, o maithili, my words. o damsel if, o you of sweet smiles, within this time you do not turn yourself to me, the cooks shall cut you off in pieces to serve my morning mcal.', 'having herself spoken thus, ravana-challenger of foes-growing exceedingly wroth, addressed the rākşasis in these words,', 'you frightful rākşasīs terrible to behold, subsisting on flesh and gore, do you at once crush her pride.'), ('पृष्ठतो हनुमान् वीरो नलो नीलश्च वीर्यवान्। तारश्चैव महातेजा हरियूथपयूथपः॥', 'मृदुशष्पाङ्कुराहारान्निर्भयान् वनगोचरान्। चरतः सर्वतः पश्यन् स्थलीषु हरिणान् स्थितान्॥', 'तेषां तु गच्छतां तत्र त्वरितं रघुनन्दनः। दुमषण्डवनं दृष्ट्वा रामः सुग्रीवमब्रवीत्॥', 'तेषामेतत्प्रभावेण दुमप्राकारसंवृतम्। आश्रमं सुदुराधर्षमपि सेन्द्रैः सुरासुरैः॥', 'विभूषणरवाश्चात्र श्रूयन्ते सकलाक्षराः। तूर्यगीतस्वनश्चापि गन्धो दिव्यश्च राघव ॥', 'एते वृक्षाः प्रकाशन्ते धूमसंसक्तमस्तकाः। मेघजालप्रतिच्छन्ना वैदूर्यगिरयो यथा ॥', 'कुरु प्रणामं धर्मात्मस्तेषामुद्दिश्य राघव। लक्ष्मणेन सह भ्रात्रा प्रयतः संहताञ्जलिः॥', 'प्रणमन्ति हि ये तेषामृषीणां भावितात्मनाम्। न तेषामशुभं किंचिच्छरीरे राम विद्यते॥', 'ततो रामः सह भ्रात्रा लक्ष्मणेन कृताञ्जलिः। समुद्दिश्य महात्मानस्तानृषीनभ्यवादयत्॥', 'अभिवाद्य च धर्मात्मा रामो भ्राता च लक्ष्मणः। सुग्रीवो वानराश्चैव जग्मुः संहष्टमानसाः॥', 'ते गत्वा दूरमध्वानं तस्मात् सप्तजनाश्रमात्। दद्दशुस्तां दुराधर्षां किष्किन्धां वालिपालिताम्॥', 'ततस्तु रामानुजरामवानराः प्रगृह्य शस्त्राण्युदितोग्रतेजसः। पुरी सुरेशात्मजवीर्यपालितां वधाय शत्रोः पुनरागतास्त्विह॥', 'सा तथोक्ता तु वैदेही निर्भया शोककर्शिता। तृणमन्तरतः कृत्वा रावणं प्रत्यभाषत॥', 'य एते राक्षसाः प्रोक्ता घोररूपा महाबलाः। राघवे निर्विषाः सर्वे सुपर्णे पन्नगा यथा॥', 'यदि पश्येत् स रामस्त्वं रोषदीप्तेन चक्षुषा। रक्षस्त्वमद्य निर्दग्धो यथा रुद्रेण मन्मथः॥', 'यश्चन्द्रं नभसो भूमौ पातयेन्नाशयेत वा। सागरं शोषयेद् वापि स सीतां मोचयेदिह॥', 'गतासुस्त्वं गतश्रीको गतसत्त्वो गतेन्द्रियः। लङ्का वैधव्यसंयुक्ता त्वत्कृतेन भविष्यति ॥', 'न ते पापमिदं कर्म सुखोदकं भविष्यति। याहं नीता विनाभावं पतिपार्ध्वात् त्वया बलात्॥', 'स हि देवरसंयुक्तो मम भर्ता महाद्युतिः। निर्भयो वीर्यमाश्रित्य शून्ये वसति दण्डके॥', 'स ते वीर्यं बलं दर्पमुत्सेकं च तथाविधम्। व्यपनेष्यति गात्रेभ्यः शरवर्षेण संयुगे॥', 'यदा विनाशो भूतानां दृश्यते कालचोदितः। तदा कार्ये प्रमाद्यन्ति नराः कालवशं गताः॥', 'न शक्या यज्ञमध्यस्था वेदिः स्रुग्भाण्डमण्डिता। द्विजातिमन्त्रसम्पूता चण्डालेनावमर्दितुम्॥', 'तथाहं धर्मनित्यस्य धर्मपत्नी दृढव्रता। त्वया स्प्रष्टुं न शक्याहं राक्षसाधम पापिना॥', 'क्रीडन्ती राजहंसेन पद्मषण्डेषु नित्यशः। हंसी सा तृणमध्यस्थं कथं द्रक्ष्येत मद्गुकम्॥', 'इदं शरीरं नि:संज्ञं बन्ध वा घातयस्व वा। नेदं शरीरं रक्ष्यं मे जीवितं वापि राक्षस ॥', 'न तु शक्यमपक्रोशं पृथिव्यां दातुमात्मनः। एवमुक्त्वा तु वैदेही क्रोधात् सुपरुषं वचः॥', 'रावणं जानकी तत्र पुनर्नोवाच किंचन। सीताया वचनं श्रुत्वा परुषं रोमहर्षणम्॥ प्रत्युवाच ततः सीतां भयसंदर्शनं वचः।', 'शृणुमैथिलि मद्वाक्यं मासान् द्वादश भामिनि ॥ कालेनानेन नाभ्येषि यदि मां चारुहासिनि। ततस्त्वां प्रातराशार्थं सूदाश्छेत्स्यन्ति लेशशः॥', 'इत्युक्त्वा परुषं वाक्यं रावणः शत्रुरावणः। राक्षसीश्च ततः क्रुद्ध इदं वचनमब्रवीत्॥', 'शीघ्रमेव हि राक्षस्यो विरूपा घोरदर्शनाः। दर्पमस्यापनेष्यन्तु मांसशोणितभोजनाः॥')]\n",
            "[('as soon as he had said this, those frightful and terrible rākṣasīs with joined hands encircled maithili.', 'then the grim-visaged king ravana, as if riving the earth by his tread, proceeding a pace or two, said,', \"and as a doe comes under the subjection of tigresses, janaka's daughter, maithili, her frame worked up with grief, came under the sway of the raksasis.\", \"and like a female deer fast bound by a trap, janaka's timid daughter maithilī, agitated by the mighty grief, did not attain respite.\", 'and greatly up-braided by the fierce eyes (of the raksasis), maithili did not know repose; and, afflicted with grief and fear, she, remembering her beloved lord along with lakşmaņa swooned away.', 'the city of lankā is situated on the shores of the lord of rivers and streams. how can rāma get a knowledge of that blameless one, staying there?', 'having yourself from here, do you see the fair-faced sītā. having entered the city of lankā, offer excellent clarified butter.', 'in the meanwhile, that god, the thousand-eyed lord of śacī went to (sītā) staying in the woods, and spoke to her these words,', 'through my grace, he shall along with his forces cross over the ocean. and, o excellent wench, i have by my supernal power, stupified the raksasis.', 'if you partake of these from my hand, you shall never o beauteous one, be afflicted either with hunger or thirst, o you of thighs resembling rambhā (trunks), for years.', \"thus addressed, sītā, alarmed, said, how can i know you for devendra, saci's husband, staying here?\", 'by the side of rāma and lakşmaņa, i had beheld the signs of the celestials. if, o devendra, you are yourself the sovereign of the celestials, show those to me.', 'and weeping, she spoke regarding rāghava, by luck it is that i had heard of that mightyarmed one along with his brother.', 'as is my father-in-law, the king, as is the master of mithilā, so are you (to me), you whom i behold to-day; my husband has now found a protector.', 'and by your command, o devendra, will i partake of this pāyasa cooked with milk, which has been offered to me, and which shall enhance (the prosperity) of our race.', \"thereupon taking the pāyasa from indra's hands, that maithilī of luminous smiles (mentally) offered it to her husband as well as laksmana.\", 'if my mighty lord live along with his brother, let this through my reverence for them, be theirs. she then partook of the pāyasa herself.', 'having thus eaten it, that one of excellent countenance, had her hunger and rising sorrow removed; and attaining a mental tendency from indra, janaki grew glad with reference to the kakutsthas.', 'seeing śūrpanakhā speak harsh words in the midst of the courtiers, ravana, being enraged, asked her.', 'who is rāma? and what is his prowess? and what his form? and what his power? and why had he entered the forest of dandaka, difficult to range?', \"and what rāma's weapons, by means of which he had slain the rākşasas?. and khara has been slain in battle, and dūşaņa and trisirā.\", 'do you, o you of a pleasing person, tell me the truth. and who had deformed you?', 'and drawing a bow resembling that of sakra, decked with golden rings, he discharges blazing nāracas, like to serpents of virulent poison.', \"and rāma's virtuously wedded beloved wife having expansive eyes, and a face resembling the full-moon, is ever to the welfare of her lord.\", 'and that fair-haired, fair-nosed, and fairthighed illustrious one possessed of beauty, grace the forest like a goddess, as if a goddess of wealth herself.', 'of the lustre of burnished gold, with her finger nails reddish and projecting, and graceful, that surpassingly lovely wench is named sītā—the slender-waisted daughter of videha.', 'and neither a goddess, nor a gandharvi, nor a yaksi, nor a kinnari, had i seen before on earth, possessed of such beauty.', 'he that shall have sītā for his spouse, and who shall be warmly embraced by her, shall live longer in the world than the lord of celestials himself.', 'that good-natured girl, unparalleled on earth in loveliness, who can well pride herself on her person, is a worthy wife for you, and you too are a fit husband for her.', 'it is to bring over for you that one of spacious hips, and a high and well-developed bust, that i had put forth my endeavours. but, o mightyarmed one i have been disfigured by the wicked laksmana.'), ('वचनादेव तास्तस्य सुघोरा घोरदर्शनाः। कृतप्राञ्जलयो भूत्वा मैथिली पर्यवारयन्॥', 'स ताः प्रोवाच राजासौ रावणो घोरदर्शनाः। प्रचल्य चरणोत्कर्षैर्दारयन्निव मेदिनीम्॥', 'सा तु शोकपरिताङ्गी मैथिली जनकात्मजा। राक्षसीवशमापन्ना व्याघ्रीणां हरिणी यथा॥', 'शोकेन महता त्रस्ता मैथिली जनकात्मजा। न शर्म लभते भीरुः पाशबद्धा मृगी यथा॥', 'न विन्दते तत्र तु शर्म मैथिली विरूपनेत्राभिरतीव तर्जिता। पतिं स्मरन्ती दयितं च देवरं विचेतनाभूद् भयशोकपीडिता ॥', 'निविष्टा हि पुरी लङ्का तीरे नदनदीपतेः॥ कथं ज्ञास्यति तां रामस्तत्रस्थां तामनिन्दिताम्।', 'स त्वं शीघ्रमितो गत्वा सीतां पश्य शुभाननाम्। प्रविश्य नगरी लङ्कां प्रयच्छ हविरुत्तमम्॥', 'एतस्मिन्नन्तरे देवः सहस्राक्षः शचीपतिः॥ आसमाद वनस्थां तां वचनं चेदमब्रवीत् ।', 'मत्प्रसादात् समुद्रं स तरिष्यति बलैः सह। मयैवेह च राक्षस्यो मायाय मोहिताः शुभे॥', 'एतदत्स्यसि मद्धस्तान्न त्वां वाधिष्यते शुभे। क्षुधा तृषा च रम्भोरु वर्षाणामयुतैरपि॥', 'एवमुक्ता तु देवेन्द्रमुवाच परिशङ्किता। कथं जानामि देवेन्द्रं त्वामिहस्थं खजापतिम्॥', 'देवलिङ्गानि दृष्टानि रामलक्ष्मणसंनिधौ। तानि दर्शय देवेन्द्र यदि त्वं देवराट् स्वयम्॥', 'उवाच वाक्यं रुदती भगवन् राघवं प्रति। कह भ्रात्रा महाबाहुर्दिष्टयः मे श्रुतिमागतः॥', 'यथा मे श्वशुरो राजा यथा च मिथिलाधिपः। सथा त्वमद्य पश्यामि सनाथो मे पतिस्त्वया॥', 'तवाज्ञया च देवेन्द्र पयोभूतमिदं हविः। अशिष्यामि त्वया दत्तं रघूणां कुलवर्घनम्॥', 'इन्द्रहस्ताद् गृहीत्वा तत् पायसं सा शुचिस्मिता। न्यवेदयत भर्ने सा लक्ष्मणाय च मैथिली॥', 'यदि जीवति मे भर्ता सह भ्रात्रा महाबलः। इदमस्तु तयोर्भक्त्या तदाश्नात् स्वयम्॥', 'इतीव तत् प्राश्य हविर्वरानना जहौ क्षुधादुःखसमुद्भवं च तम्। इन्द्रात् प्रवृत्तिमुपलभ्य जानकी काकुत्स्थयोः प्रीतमना बभूव ॥', 'ततः शूर्पणखां दृष्ट्वा ब्रुवन्ती परुषं वचः। अमात्यमध्ये संक्रुद्धः परिपप्रच्छ रावणः॥', 'कश्च रामः कथंवीर्यः किंरूपः किंपराक्रमः। किमर्थे दण्डकारण्यं प्रविष्टश्च सुदुस्तरम्॥', 'आयुघं किं च रामस्य येन ते राक्षसा हताः। खरश्च निहतः संख्ये दूषणस्त्रिशिरास्तथा॥', 'तत्त्वं ब्रूहि मनोज्ञाङ्गि केन त्वं च विरूपिता । इत्युक्ता राक्षसेन्द्रेण राक्षसी क्रोधमूर्छिता ॥', 'शक्रचापनिभं चापं विकृष्य कनकाङ्गदम्॥ दीप्तान् त्रिपति नाराचान् सनिव महाविषान् ।', 'रामस्य तु विशालाक्षी पूर्णेन्दुसदृशानना। धर्मपत्नी प्रिया नित्यं भर्तुः प्रियहिते रता॥', 'सा सुकेशी सुनासोरू: सुरूपा च यशस्विनी। देवतेव वनस्यास्य राजते श्रीरिवापरा॥', 'तप्तकाञ्चनवर्णाभा रक्ततुङ्गनखी शुभा। सीता नाम वरारोहा वैदेही तनुमध्यमा॥', 'नैव देवी न गन्धर्वी न यक्षी न च किंनरी। तथारूपा मया नारी दृष्टपूर्वा महीतले॥', 'यस्य सीता भवेद् भार्या यं च हृष्टा परिष्वजेत्। अभिजीवेत् स सर्वेषु लोकेष्वपि पुरंदरात्॥', 'सा सुशीला वपुःश्लाध्या रूपेणाप्रतिमा भुवि। तवानुरूपा भार्या सा त्वं च तस्याः पतिर्वरः॥', 'तां तु विस्तीर्णजघनां पीनोत्तुङ्गपयोधराम्। भार्यार्थे तु तवानेतुमुद्यताहं वराननाम्॥ विरूपितास्मि क्रूरेण लक्ष्मणेन महाभुज।')]\n",
            "[('as soon as you have seen vaidehi having a countenance resembling the full moon, you shall be afflicted with the shafts of cupid.', 'if it is your purpose to have her for your wife, at once stretch forth your right leg. for attaining success.', 'if, o lord of raksasas, you relish my speech, do you then, o ravana, without fear, do as i tell you.', 'understanding their incapacity, do you, o lord of rākṣasas, for making her your wife, by force carry away the frail sītā of a blameless person.', 'hearing that rāma by means of straight coursing shafts, has slain the rākşasas that had gone to janasthāna, and seeing khara and düşaņa, killed, do you ascertaining your course, adopt it.', \"what other woman except kaikeyi lost to righteousness, having lost her deity, her lord, wishes to carry on existence in another's kingdom?\", 'that virtuous one does not know that to-day i have become helpless and been widowed. răma of eyes resembling lotus-petals has living been removed from my sight.', \"the fair daughter of videha's king unworthy of hardship, in ascetic guise is leading a life of trouble and terror in the woods.\", 'hearing at night the dreadful roars of birds and beasts crying, she exceedingly frightened takes shelter with rāghava.', 'as embracing the (dead) body, that unfortunate lady was bewailing, the courtiers had the distressed (queen) removed from there.', 'then placing the corpse of the king in a (capacious) pan with oil, the courtiers performed the mourning rites of the monarch.', 'and raising their arms, with tears trickling down their faces, they in dire affliction and extremely exercised with grief, lamented.', 'o monarch, why do you forsake us, who have been already deprived of rāma ever speaking fair and firm in promise?', 'renounced by rāma, how shall we, rendered widows, stay with the wicked kaikeyi, co-wife with us?', 'that one of free soul is our master, as he is the lord of yourself. rāma has gone to the woods, forsaking regal dignity.', 'deprived of you as well as that hero, and overwhelmed with misfortune, how shall we live reprimanded by kaikeyi?', 'she that has renounced the king, rāma, and lakşmaņa along with sītā, whom can such a one not renounce?', 'thus with tears in their eyes, the wives of that descendant of raghu, joyless and convulsed with a huge passion, displayed signs of sorrow.', 'on the lord of men having ascended heaven from grief, and the wives of the king remaining on the earth, the sun, his journey done, set, and the night began her course.', \"and on on the demise of that illustrious personage, in the city men and women in multitudes, censuring bharata's mother, became extremely distressed, and did not attain peace of mind.\", \"that lover of virtue, thinking of the miseries of the forest, resolved no to take sītā with him, who was versed in religious lore's and had spoken thus.\", 'and consoling her whose eyes were stained with tears, that virtuous-souled one spoke to her the following words with a view to prevent her from going.', 'oh sītā, you are born of an illustrious family and ever intent on the performance of religious deeds; do you practise virtue here as it may conduce to the happiness of my mind.', 'oh sītā, oh you of the weaker sex, do you act up to my counsels; there are evils enough in the forest, do you learn them from me who am about to dwell in it.', 'renounce therefore, oh sītă, your intention of flying as an exile to the forest, which for its impenetrableness is said to abound in evils.', 'it is for your welfare that i give utterance to these words; happiness there is none, it is always covered with miseries.', 'the roarings of the lions living in the caves of mountains, swelling with the sounds of the water-falls, produce a very painful impression upon the ears; so the wood is full of misery.', 'animals, all maddened, sporting in solitude, seeing (man), approach to attack him; so the wood is full of misery.', 'the rivers are full of crocodiles, sharks, and other fearful animals, muddy and impassable and always infested with infuriated elephants; so the wood is full of misery.', 'there the wayfarers are covered with creepers and thorns they are void of drinking water ever resounded with the noise of the wild fowls, so the wood is full of misery.'), ('तां तु दृष्ट्वाद्य वैदेही पूर्णचन्द्रनिभाननाम्॥ मन्मथस्य शराणां च त्वं विधेयो भविष्यसि।', 'यदि तस्यामभिप्रायो भार्यात्वे तव जायते। शीघ्रमुद्भियतां पादो जयार्थमिह दक्षिणः॥', 'रोचते यति ते वाक्यं ममैतद् राक्षसेश्वर। क्रियतां निर्विशङ्केन वचनं मम रावण ॥', 'विज्ञायैषामशक्तिं च क्रियतां च महाबल। सीता तवानवद्याङ्गी भार्यात्वे राक्षसेश्वर॥', 'हताञ्जनस्थानगतान् निशाचरान्। खरं च दृष्ट्वा निहतं च दूषणं त्वमद्य कृत्यं प्रतिपत्तुमर्हसि॥', 'भर्तारं तु परित्यज्य का स्त्री दैवतमात्मनः। इच्छेज्जीवितुमन्यत्र कैकेय्यास्त्यक्तधर्मणः॥', 'स मामनाथां विधवां नाद्य जानाति धार्मिकः। रामः कमलपत्राक्षो जीवनाशमितो गतः॥', 'विदेहराजस्य सुता तथा चारुतपस्विनी। दुःखस्यानुचिता दुःखं वने पर्युद्विजिष्यति॥', 'नदतां भीमघोषाणां निशासु मृगपक्षिणाम्। निशम्यमाना संत्रस्ता राघवं संश्रयिष्यति॥', 'तां ततः सम्परिष्वज्य विलपन्ती तपस्विनीम्। व्यपनिन्युः सुदुःखाता कौसल्यां व्यावहारिकाः॥', 'तैलद्रोण्यां तदामात्याः संवेश्य जगतीपतिम्। राज्ञः सर्वाण्यथादिष्टाश्चक्रुः कर्माण्यनन्तरम्॥', 'बाहूनुच्छ्रित्य कृपणा नेत्रप्रस्रवणैर्मुखैः। रुदत्यः शोकसंतप्ताः कृपणं पर्यदेवयन्॥', 'हा महाराज रामेण संततं प्रियवादिना। विहीनाः सत्यसंधेन किमर्थं विजहासि नः॥', 'कैकेय्या दुष्टभावाया राघवेण विवर्जिताः। कथं सपत्न्या वत्स्यामः समीपे विधवा वयम्॥', 'स हि नाथः स चास्माकं तव च प्रभुरात्मवान्। वनं रामो गतः श्रीमान् विहाय नृपतिश्रियम्॥', 'त्वया तेन च वीरेण विना व्यसनमोहिताः। कथं वयं निवत्स्यामः कैकेय्या च विदूषिताः॥', 'यया च राजा रामश्च लक्ष्मणश्च महाबलः। सीतया सह संत्यक्ताः सा कमन्यं न हास्यति ॥', 'ता बाष्पेण च संवीताः शोकेन विपुलेन च। व्यचेष्टन्त निरानन्दा राघवस्य वरस्त्रियः॥', 'गते तु शोकात् त्रिदिवं नराधिपे महीतलस्थासु नृपाङ्गनासु च। निवृत्तचारः सहसा गतो रविः प्रवृत्तचारा रजनी ह्युपस्थिता॥', 'नराश्च नार्यश्च समेत्य संघशो विगर्हमाणा भरतस्य मातरम्। तदा नगाँ नरदेवसंक्षये बभूवुरार्ता न च शर्म लेभिरे॥', 'स एवं ब्रुवती सीतां धर्मज्ञा धर्मवत्सलः। न नेतुं कुरुते बुद्धिं वने दुःखानि चिन्तयन्॥', 'सान्त्वयित्वा ततस्तां तु बाष्पदूषितलोचनाम्। निवर्तनार्थे धर्मात्मा वाक्यमेतदुवाच ह॥', 'सीते महाकुलीनासि धर्मे च निरता सदा। इहाचरस्व धर्मं त्वं यथा मे मनसः सुखम्॥', 'सीते यथा त्वां वक्ष्यामि तथा कार्यं त्वयाबले। वने दोषा हि बहवो वसतस्तान् निबोध मे॥', 'सीते विमुच्यतामेषा वनवासकृता मतिः। बहुदोषं हि कान्तारं वनमित्यभिधीयते॥', 'हितबुद्ध्या खलु वचो मयैतदभिधीयते। सदा सुखं न जानामि दुःखमेव सदा वनम्॥', 'गिरिनिर्झरसम्भूता गिरिनिर्दरिवासिनाम्। सिंहानां निनदा दुःखाः श्रोतुं दुःखमतोवनम्॥', 'क्रीडमानाश्च विस्रब्धामत्ताः शून्ये तथा मृगाः। दृष्ट्वा समभिवर्तन्ते सीते दुःखमतो वनम्॥', 'सग्राहाः सरितश्चैव पङ्कवत्यस्तु दुस्तराः। मत्तैरपि गजैर्नित्यमतो दुःखतरं वनम् ॥', 'लताकण्टकसंकीर्णाः कृकवाकूपनादिताः। निरपाश्च सुदुःखाश्च मार्गा दुःखमतो वनम्॥')]\n",
            "[('being exhausted with the toil of the day, the dwellers of the wood have to sleep in night on the bed made of leaves fallen from the trees on the surface of the ground; so the wood is full of misery.', 'with the (supply of) fruits that have fallen from the trees man of self discipline must content himself morning and evening; so the wood, o sītă, is full of misery.', 'one has to offer presents of flowers collected by his ownself to the altars, o sītā, according to the rites of the ascetics; so the wood is full of misery.', 'those that dwell in the forest will have to remain content, having practised moderation in food, o maithill, with whatever edibles are attainable in the forest; so the wood is full of misery.', 'there are always violent winds, darkness hunger, and great fear; so the wood is full of misery.', 'reptiles, many and of various kinds, creep there on the path, o excellent lady, with haughtiness; so the wood is full of misery.', 'and snakes living in the rivers and of crooked course like them, always await the wayfarers, hindering the passers-by: so the wood is full of misery.', \"birds, scorpions, insects mosquito's and wild gnats, always disturb the dwellers, o fair one' of the weaker sex; so the wood is full misery.\", 'there are trees full of thorns, having their branches moving to and fro, and the kusa and kāsa grasses with thorny blades constantly undulating; so the wood is full misery.', 'you should not therefore go to the forest, it forebodes no good to you. weighing well, have i concluded that the forest abounds in innumerable evils.', 'like to flaming fire approaching towards forest that great car-warrior encountered the enemies in a precious car coursing at will.', 'as soon as he, armed with various weapons, entered the field the celestials, at his very sight. and away to all directions.', 'be not afraid, o you celestials; do not fly away; come back to the battle; this my son, who has never been vanquished, goes to battle.', \"having encircled saci's son and encountered rāvana's son, the deities began to assail him.\", \"the encounter between mahendra's son jayanta and rāvana's son meghanāda was like one between gods and demons.\", \"thereupon rāvana's son began to assail, with shafts feathered in gold, his (jayanta's) charioteer gomukha, mātali's son.\", \"sacīs son too, enraged, assailed on all sides, rāvana's son and his charioteer. and the powerful rāvani, stricken with ire and with eyes expanded, covered sakra's son with arrows.\", \"thereupon rāvana's son struck the celestial host with thousands of huge mountain summits, śataghnīs, maces, prāsas, prāsas, clubs, daggers, paraśus and various other sharp pointed weapons.\", \"rāvana's son thus striking indra's army the quarters were enshrouded with darkness by his illusory power.\", 'being overpowered with arrows on all sides the celestial army, leaving aside jayanta, became restless.', 'the deities or the rākşasas, they could not recognise one another. and being distressed they ran about on all sides.', 'being enveloped with darkness and having their senses bewildered the celestials killed their own kith and the rākṣasas their own men, and others fled away.', 'thinking that jayanta was slain all the deities greatly sorry and distressed fled away on all sides.', \"thereupon rāvana's son, enraged and encircled by his own powerful followers, pursued the celestials emitting loud cries.\", 'not beholding his son and observing the flight of the deities the king of the celestials said to mātali, “bring the car.\"', 'by mātali was brought, the celestial, highly dreadful, huge and quick-coursing chariot, that was ready.', '(and he having) ascended the car, the huge clouds, with lightening, being driven by winds, began to emit forth loud mutterings before the chariot.', 'the gandharvas began to play on various instruments and the apsarās began to dance.', 'taking up various weapons, indra, the king of divinities, set out for the field of action, in the company of rudras, vasus, adityas, the two asvins and maruts.', 'he, having set out for battle, the winds began to blow high, the sun was divested of its brilliance and the huge fire-brands began to send out flames.'), ('सुप्यते पर्णशय्यासु स्वयंभग्नासु भूतले। रात्रिषु श्रमखिन्नेन तस्माद् दुःखमतो वनम्॥', 'अहोरात्रं च संतोषः कर्तव्यो नियतात्मना। फलैर्वृक्षावपतितैः सीते दुःखमतो वनम्॥', 'उपहारश्च कर्तव्यः कुसुमैः स्वयमाहतैः। आर्षेण विधिना वेद्यां सीते दुःखमतो वनम्॥', 'यथालब्धेन कर्तव्यः संतोषस्तेन मैथिलि। यताहारैर्वनचरैः सीते दुःखमतो वनम्॥', 'अतीव वातस्तिमिरं बुभुक्षा चास्ति नित्यशः। भयानि च महान्त्यत्र अतो दु:खतरं वनम्॥', 'सरीसृपाश्च बहवो बहुरूपाश्च भामिनि। चरन्ति पथि ते दात्ततो दुःखतरं वनम्॥', 'नदीनिलयनाः सर्पा नदीकुटिलगामिनः। तिष्ठन्त्यावृत्य पन्थानमतो दुःखतरं वनम्॥', 'पतङ्गा वृश्चिकाः कीटा दंशाश्च मशकैः सह। बाधन्ते नित्यमबले सर्वं दुःखमतो वनम्॥', 'दुमाः कण्टकिनश्चैव कुशाः काशाश्च भामिनि। वने व्याकुलशाखाग्रास्तेन दुःखमतो वनम्॥', 'तदलं ते वनं गत्वा क्षेमं नहि वनं तव। विमृशनिव पश्यामि बहुदोषकरं वनम्॥', 'स रथेन महार्हेण कामगेन महारथः। अभिदुद्राव सेनां तां वनान्यग्निरिव ज्वलन्॥', 'ततः प्रविशतस्तस्य विविधायुधधारिणः। विदुद्रुवुर्दिशः सर्वा दर्शनादेव देवताः॥', 'न भेतव्यं न गन्तव्यं निवर्तध्वं रणे सुराः। एष गच्छति पुत्रो मे युद्धार्थमपराजितः॥', 'ततस्ते त्रिदशाः सर्वे परिवार्य शचीसुतम्। रावणस्य सुतं युद्धे समासाद्य प्रजनिरे।।।।।', 'तेषां युद्धं समभवत्सदृशं देवरक्षसाम्। महेन्द्रस्य च पुत्रस्य राक्षसेन्द्रसुतस्य च ॥', 'ततो मातलिपुत्रस्य गोमुखस्य स रावणिः। सारथेः पातयामास शरान्कनकभूषणान्॥', 'शचीसुतश्चापि तथा जयन्तस्तस्य सारथिम्। तं चापि रावणिः क्रुद्धः समन्तात्प्रत्यविध्यता ॥ स हि क्रोधसमाविष्टो बली विस्फारितेक्षणः। रावणिः शक्रतनयं शरवर्षैरवाकिरत्॥', 'ततो नानाप्रहरणाञ्छितधारान्सहस्रशः। पातयामास संक्रुद्धः सुरसैन्येषु रावणिः॥ शतघ्नीमुसलप्रासगदाखङ्गपरश्वधान्। महान्ति गिरिशृङ्गाणि पातयामास रावणिः॥', 'ततः प्रव्यथिता लोकाः संजज्ञे च तमस्ततः। तस्य रावणपुत्रस्य शत्रुसैन्यानि निघ्नतः॥', 'ततस्तदैवतबलं समन्तात्तं शचीसुतम्। बहुप्रकारमस्वस्थमभवच्छरपीडितम्॥', 'नाभ्यजानन्त चान्योन्यं रक्षो वा देवताथवा। तत्र तत्र विपर्यस्तं समन्तात्परिधावत ॥', 'देवा देवानिजघ्नुस्ते राक्षसान्राक्षसास्तथा। संमूढास्तमसा छन्ना व्यद्रवनपरे तथा॥', 'ज्ञात्वा प्रणाशं तु तदा जयन्तस्याथ देवताः। अप्रहृष्टास्ततः सर्वा व्यथिताः संप्रदुद्रुवुः॥', 'रावणिस्त्वथ संक्रुद्धो बलैः परिवृतः स्वकैः। अभ्यधावत देवांस्तान्मुमोच च महास्वनम्॥', 'दृष्ट्वा प्रणाशं पुत्रस्य दैवतेषु च विद्वतन्। मातलिं चाह देवेशो रथः समुपनीयताम्॥', 'स तु दिव्या महाभीमः सज्ज एव महारथः। उपस्थितो मातलिना बाह्यमानो महाजवः॥', 'ततो मेघा रथे तस्मिंस्तडित्त्वन्तो महाबलाः। अग्रतो वायुचपला नेदुः परमनिःस्वनाः॥', 'नानावाद्यानि वाद्यन्त गन्धर्वाश्च समाहिताः। ननृतुश्चाप्सरःसङ्घा निर्याते त्रिदशेश्वरे॥', 'रुद्रैर्वसुभिरादित्यैरश्विभ्यां समरुद्गणैः। वृतो नानाप्रहरणैर्निर्ययौ त्रिदशाधिपः॥', 'निर्गच्छतस्तु शक्रस्य परुषः पवनो ववौ। भास्करो निष्प्रभश्चैव महोल्काश्च प्रपेदिरे॥')]\n"
          ]
        }
      ],
      "source": [
        "for batch_num, batch in enumerate(iterator):\n",
        "    print(batch)\n",
        "    if batch_num > 3:\n",
        "        break"
      ]
    },
    {
      "cell_type": "code",
      "execution_count": 81,
      "metadata": {
        "id": "XnanjzqtzQi8"
      },
      "outputs": [],
      "source": [
        "from torch import nn\n",
        "\n",
        "criterian = nn.CrossEntropyLoss(ignore_index=sanskrit_to_index[PADDING_TOKEN],\n",
        "                                reduction='none')\n",
        "\n",
        "# When computing the loss, we are ignoring cases when the label is the padding token\n",
        "for params in transformer.parameters():\n",
        "    if params.dim() > 1:\n",
        "        nn.init.xavier_uniform_(params)\n",
        "\n",
        "optim = torch.optim.Adam(transformer.parameters(), lr=1e-4)\n",
        "device = torch.device('cuda') if torch.cuda.is_available() else torch.device('cpu')"
      ]
    },
    {
      "cell_type": "code",
      "execution_count": 82,
      "metadata": {
        "id": "_saWU5QmVem2"
      },
      "outputs": [],
      "source": [
        "NEG_INFTY = -1e9\n",
        "\n",
        "def create_masks(eng_batch, kn_batch):\n",
        "    num_sentences = len(eng_batch)\n",
        "    look_ahead_mask = torch.full([max_sequence_length, max_sequence_length] , True)\n",
        "    look_ahead_mask = torch.triu(look_ahead_mask, diagonal=1)\n",
        "    encoder_padding_mask = torch.full([num_sentences, max_sequence_length, max_sequence_length] , False)\n",
        "    decoder_padding_mask_self_attention = torch.full([num_sentences, max_sequence_length, max_sequence_length] , False)\n",
        "    decoder_padding_mask_cross_attention = torch.full([num_sentences, max_sequence_length, max_sequence_length] , False)\n",
        "\n",
        "    for idx in range(num_sentences):\n",
        "      eng_sentence_length, kn_sentence_length = len(eng_batch[idx]), len(kn_batch[idx])\n",
        "      eng_chars_to_padding_mask = np.arange(eng_sentence_length + 1, max_sequence_length)\n",
        "      kn_chars_to_padding_mask = np.arange(kn_sentence_length + 1, max_sequence_length)\n",
        "      encoder_padding_mask[idx, :, eng_chars_to_padding_mask] = True\n",
        "      encoder_padding_mask[idx, eng_chars_to_padding_mask, :] = True\n",
        "      decoder_padding_mask_self_attention[idx, :, kn_chars_to_padding_mask] = True\n",
        "      decoder_padding_mask_self_attention[idx, kn_chars_to_padding_mask, :] = True\n",
        "      decoder_padding_mask_cross_attention[idx, :, eng_chars_to_padding_mask] = True\n",
        "      decoder_padding_mask_cross_attention[idx, kn_chars_to_padding_mask, :] = True\n",
        "\n",
        "    encoder_self_attention_mask = torch.where(encoder_padding_mask, NEG_INFTY, 0)\n",
        "    decoder_self_attention_mask =  torch.where(look_ahead_mask + decoder_padding_mask_self_attention, NEG_INFTY, 0)\n",
        "    decoder_cross_attention_mask = torch.where(decoder_padding_mask_cross_attention, NEG_INFTY, 0)\n",
        "    return encoder_self_attention_mask, decoder_self_attention_mask, decoder_cross_attention_mask"
      ]
    },
    {
      "cell_type": "markdown",
      "metadata": {
        "id": "gdgtTSKvwN9_"
      },
      "source": [
        "Modify mask such that the padding tokens cannot look ahead.\n",
        "In Encoder, tokens before it should be -1e9 while tokens after it should be -inf.\n",
        " "
      ]
    },
    {
      "cell_type": "markdown",
      "metadata": {
        "id": "xLcXI4wkMLck"
      },
      "source": [
        "Note the target mask starts with 2 rows of non masked items: https://github.com/SamLynnEvans/Transformer/blob/master/Beam.py#L55\n"
      ]
    },
    {
      "cell_type": "code",
      "execution_count": 83,
      "metadata": {
        "colab": {
          "base_uri": "https://localhost:8080/"
        },
        "id": "ju59VDGLuOqf",
        "outputId": "0ad34e31-521a-4ca2-f444-26b5374946f6"
      },
      "outputs": [
        {
          "name": "stdout",
          "output_type": "stream",
          "text": [
            "Epoch 0\n",
            "Iteration 0 : 5.540466785430908\n",
            "English: when şītā, having a husband although seeming as if she had none, was putting on the ascetic guise, the people got into a wrath and exclaimed, “o dasaratha, fie on you!\"\n",
            "sanskrit Translation: तस्यां चीरं वसानायां नाथवत्यामनाथवत्। प्रचुक्रोश जनः सर्वो धिक् त्वां दशरथं त्विति ॥\n",
            "sanskrit Prediction: लल(लललघहॡहलएलललछूटभटटॡभएएएिललऔलहहललललॡहललललललभभलललॡऌ<START><START>लऌऌललललेे2हऐलललललललभल2ूएललभलभ2भलॡलॡॡॡलॡभएएएएएलॡभलल लेेभटटभहहएएलययललेेभभहेकेकभ-ल-ऐलभहहहलहललललहलललहल ूलललऐहललहेललललललललेेललेेलललललललटलललहललेलेहेेेेे\n",
            "Evaluation translation (do work don't expect result) : ('ससससस्तततततततततततसससतततााााााासससाााााााताततततततततााततततततततााााातततततातत                      त                     ययेेेतेेेेेतततत---      ततततततततततत         ाााा    ााेेेेेेेालललेेेेलबेेेेेेेेेेेे',)\n",
            "-------------------------------------------\n",
            "Iteration 100 : 3.363590717315674\n",
            "English: king yudhishthira immediately struck him with six arrows. he then cut off the bow and the standard of his antagonist with two razorfaced arrows.\n",
            "sanskrit Translation: तं विव्याधशुगैः षड्भिर्धर्मराजस्त्वरनिव॥ कार्मुकं चास्य चिच्छेद क्षुराभ्यां ध्वजमेव च।\n",
            "sanskrit Prediction: ततत ्््ा    त्त् ्र ्् ् ्््््ाात्  ा्   ्् ् ्््  ््् ्  ्् ् ् ्् ्र्््््््रा\n",
            "Evaluation translation (do work don't expect result) : ('ततत््््््    ा्््     ्र्््र्र्र््््        ्र्र् ा ्््््््््््््््र्र््््र्र्<END>',)\n",
            "-------------------------------------------\n",
            "Epoch 1\n",
            "Iteration 0 : 3.2894723415374756\n",
            "English: when şītā, having a husband although seeming as if she had none, was putting on the ascetic guise, the people got into a wrath and exclaimed, “o dasaratha, fie on you!\"\n",
            "sanskrit Translation: तस्यां चीरं वसानायां नाथवत्यामनाथवत्। प्रचुक्रोश जनः सर्वो धिक् त्वां दशरथं त्विति ॥\n",
            "sanskrit Prediction: तत्््््् ाा  ््््  ् ््््््््तर्त्् । ।् ्  ््््््ा्  ्््ाात्र्ा ््रावा््््तता्॥\n",
            "Evaluation translation (do work don't expect result) : ('ततत्््त्त    त्त्    त्त्र्र्र्र्त्त    त त्त्ततत त त्त्त्त       त्र्त्ततत्<END>',)\n",
            "-------------------------------------------\n",
            "Iteration 100 : 3.0097944736480713\n",
            "English: king yudhishthira immediately struck him with six arrows. he then cut off the bow and the standard of his antagonist with two razorfaced arrows.\n",
            "sanskrit Translation: तं विव्याधशुगैः षड्भिर्धर्मराजस्त्वरनिव॥ कार्मुकं चास्य चिच्छेद क्षुराभ्यां ध्वजमेव च।\n",
            "sanskrit Prediction: तत प् ्ता ा् ा् त्ार्रातारत्ात््र्राा्ति।ता।्त्ता त्तायात   ता ्त्रं ् ाय \n",
            "Evaluation translation (do work don't expect result) : ('तततररररततत तररररररररररररररररररररररररररररतततरररररररररररररररररररररररररररररररर<END>',)\n",
            "-------------------------------------------\n",
            "Epoch 2\n",
            "Iteration 0 : 2.881706953048706\n",
            "English: when şītā, having a husband although seeming as if she had none, was putting on the ascetic guise, the people got into a wrath and exclaimed, “o dasaratha, fie on you!\"\n",
            "sanskrit Translation: तस्यां चीरं वसानायां नाथवत्यामनाथवत्। प्रचुक्रोश जनः सर्वो धिक् त्वां दशरथं त्विति ॥\n",
            "sanskrit Prediction: त््य प त् ् ता् ्न   न्त्््र  ््र्ि्य प्।ा त्व् ्प्् त््र् त् ्रप्रा  त्््् त्य ॥्तत\n",
            "Evaluation translation (do work don't expect result) : ('तततततततततत ततततततततततततततततततततततततततत। तततततततततततततततततततततततततततततततततत<END>',)\n",
            "-------------------------------------------\n",
            "Iteration 100 : 2.855219841003418\n",
            "English: king yudhishthira immediately struck him with six arrows. he then cut off the bow and the standard of his antagonist with two razorfaced arrows.\n",
            "sanskrit Translation: तं विव्याधशुगैः षड्भिर्धर्मराजस्त्वरनिव॥ कार्मुकं चास्य चिच्छेद क्षुराभ्यां ध्वजमेव च।\n",
            "sanskrit Prediction: त् द््ाता ा् ्त स्ारा ्या्र््ना्र्या्् ा क्र्रात् प  ्याप त या ्प्य्त्ं्रा  सारा्ा॥्पि\n",
            "Evaluation translation (do work don't expect result) : ('ततत्रतततततततततरात्र्रररररररररतरतततततततततततततततततततत तरतततततरररतरररररररररर<END>',)\n",
            "-------------------------------------------\n",
            "Epoch 3\n",
            "Iteration 0 : 2.7983450889587402\n",
            "English: when şītā, having a husband although seeming as if she had none, was putting on the ascetic guise, the people got into a wrath and exclaimed, “o dasaratha, fie on you!\"\n",
            "sanskrit Translation: तस्यां चीरं वसानायां नाथवत्यामनाथवत्। प्रचुक्रोश जनः सर्वो धिक् त्वां दशरथं त्विति ॥\n",
            "sanskrit Prediction: त््वान त ता पाात्ना  प् ाि्रा ा् ाा्त प्।् ।्य् ्प्् प््ता पात्यसारात त्््् प्॥ात्तत\n",
            "Evaluation translation (do work don't expect result) : ('ततततततततततततततत्र्र्रतततततततततततततततततततततततततततततततततततततततततततततततततत<END>',)\n",
            "-------------------------------------------\n",
            "Iteration 100 : 2.7987728118896484\n",
            "English: king yudhishthira immediately struck him with six arrows. he then cut off the bow and the standard of his antagonist with two razorfaced arrows.\n",
            "sanskrit Translation: तं विव्याधशुगैः षड्भिर्धर्मराजस्त्वरनिव॥ कार्मुकं चास्य चिच्छेद क्षुराभ्यां ध्वजमेव च।\n",
            "sanskrit Prediction: स् त ताताना्ता  त्ाव् ्त््या् ा्र्रा््ना स्न्य्त् प न्यापातारा ्प्त् ्र्यात प्॥ा्ा ाप्\n",
            "Evaluation translation (do work don't expect result) : ('ततत्र्रत्रततत्र्र्र्र्रररररररररत्रतततततरत्। त्रततततरररत्रत्रर्र्र्र्ररर<END>',)\n",
            "-------------------------------------------\n",
            "Epoch 4\n",
            "Iteration 0 : 2.7627806663513184\n",
            "English: when şītā, having a husband although seeming as if she had none, was putting on the ascetic guise, the people got into a wrath and exclaimed, “o dasaratha, fie on you!\"\n",
            "sanskrit Translation: तस्यां चीरं वसानायां नाथवत्यामनाथवत्। प्रचुक्रोश जनः सर्वो धिक् त्वां दशरथं त्विति ॥\n",
            "sanskrit Prediction: अ््रान त  ा सा्न्रा  प्नाा्ता ््नाा्र त्य् र्य् ्प्् प््यि ता ्यप् ि  प्््ा प्यि॥्॥प\n",
            "Evaluation translation (do work don't expect result) : ('तततत्ततततततततरार्र्रात्रारराराततततततततततत्। तततततततततत त त त त त्र्र त<END>',)\n",
            "-------------------------------------------\n",
            "Iteration 100 : 2.765728235244751\n",
            "English: king yudhishthira immediately struck him with six arrows. he then cut off the bow and the standard of his antagonist with two razorfaced arrows.\n",
            "sanskrit Translation: तं विव्याधशुगैः षड्भिर्धर्मराजस्त्वरनिव॥ कार्मुकं चास्य चिच्छेद क्षुराभ्यां ध्वजमेव च।\n",
            "sanskrit Prediction: तत प् ाया ा् ा  स् रा ्रा्रा् ा्र्वि््ता म्न्वा ् प  ्राप   रा ्प्य्त्म्यान पि॥ााा॥ाप्\n",
            "Evaluation translation (do work don't expect result) : ('तत्र्रत्रततता त्र्र्रारारारारार्रररततत्। त्। त्रा त त त्र्र्र्र्र्र्ररररर<END>',)\n",
            "-------------------------------------------\n",
            "Epoch 5\n",
            "Iteration 0 : 2.7436916828155518\n",
            "English: when şītā, having a husband although seeming as if she had none, was putting on the ascetic guise, the people got into a wrath and exclaimed, “o dasaratha, fie on you!\"\n",
            "sanskrit Translation: तस्यां चीरं वसानायां नाथवत्यामनाथवत्। प्रचुक्रोश जनः सर्वो धिक् त्वां दशरथं त्विति ॥\n",
            "sanskrit Prediction: त््य   त वा पा्न् ान त्नाा्ताना्ताा्। प्।् त्र् ्पा् स््या रा ्यप्यिर स््ाा प्या ् प\n",
            "Evaluation translation (do work don't expect result) : ('ततत्रततततततता त्र्रात्रातारारात्रततः। ततत्। तततता त त त त त त त त्ररररर<END>',)\n",
            "-------------------------------------------\n",
            "Iteration 100 : 2.736325979232788\n",
            "English: king yudhishthira immediately struck him with six arrows. he then cut off the bow and the standard of his antagonist with two razorfaced arrows.\n",
            "sanskrit Translation: तं विव्याधशुगैः षड्भिर्धर्मराजस्त्वरनिव॥ कार्मुकं चास्य चिच्छेद क्षुराभ्यां ध्वजमेव च।\n",
            "sanskrit Prediction: तत पा ाया ा् ा  त््या ्र््रा् ा्र्रा््ता प्ः्यात् प  ्यास   या ्स्य् ा ्या  सायि््॥ास्\n",
            "Evaluation translation (do work don't expect result) : ('ततत्र्य तततता त्रारारारारारारारारररातः। त्। त्रारा ता त्य त्रा त्र्र्ररररा॥<END>',)\n",
            "-------------------------------------------\n",
            "Epoch 6\n",
            "Iteration 0 : 2.711761713027954\n",
            "English: when şītā, having a husband although seeming as if she had none, was putting on the ascetic guise, the people got into a wrath and exclaimed, “o dasaratha, fie on you!\"\n",
            "sanskrit Translation: तस्यां चीरं वसानायां नाथवत्यामनाथवत्। प्रचुक्रोश जनः सर्वो धिक् त्वां दशरथं त्विति ॥\n",
            "sanskrit Prediction: ति्र   प ता पा्न् ा  प्नाि्य ना्राा्र वाय् त्य् ्प्् स््या सात्रप्या  प्््ा प्रा॥् प\n",
            "Evaluation translation (do work don't expect result) : ('ततत्य तततततता त्रात्रारारारारारारररतः। तत्। तताताता तात्य त त त त्रारररररर<END>',)\n",
            "-------------------------------------------\n",
            "Iteration 100 : 2.7234854698181152\n",
            "English: king yudhishthira immediately struck him with six arrows. he then cut off the bow and the standard of his antagonist with two razorfaced arrows.\n",
            "sanskrit Translation: तं विव्याधशुगैः षड्भिर्धर्मराजस्त्वरनिव॥ कार्मुकं चास्य चिच्छेद क्षुराभ्यां ध्वजमेव च।\n",
            "sanskrit Prediction: सत पा ाय  ा्रार त््रा ्यर्या् ा्र्रा््ना प्न्य्र् प न्याप   ता ्स्र् ् िया  प्॥ाा्॥ाप्\n",
            "Evaluation translation (do work don't expect result) : ('ततत त त्ररररारारारारारारारारारारररारा। तत्। त्य ता त तारा त्य त्य व व वरररा॥<END>',)\n",
            "-------------------------------------------\n",
            "Epoch 7\n",
            "Iteration 0 : 2.6952219009399414\n",
            "English: when şītā, having a husband although seeming as if she had none, was putting on the ascetic guise, the people got into a wrath and exclaimed, “o dasaratha, fie on you!\"\n",
            "sanskrit Translation: तस्यां चीरं वसानायां नाथवत्यामनाथवत्। प्रचुक्रोश जनः सर्वो धिक् त्वां दशरथं त्विति ॥\n",
            "sanskrit Prediction: तत्या  प ता पा् ्    त् ाा्त  ा् ाा्। प्त् र्य् ्प्् प्ाया पा ्रत्या  प्््ा प्यात् प\n",
            "Evaluation translation (do work don't expect result) : ('ततत त ततत तरारारात्राराताता तारारतः। तः। ताताता ता ता त त त त त ताता तररा॥<END>',)\n",
            "-------------------------------------------\n",
            "Iteration 100 : 2.702704429626465\n",
            "English: king yudhishthira immediately struck him with six arrows. he then cut off the bow and the standard of his antagonist with two razorfaced arrows.\n",
            "sanskrit Translation: तं विव्याधशुगैः षड्भिर्धर्मराजस्त्वरनिव॥ कार्मुकं चास्य चिच्छेद क्षुराभ्यां ध्वजमेव च।\n",
            "sanskrit Prediction: तत मा ाराना्रार स्ररार्रााया्र््य्रा्िता प् ्यार् प्न्यात   रा ्प्र्त्रारान पा॥ि््॥ाप \n",
            "Evaluation translation (do work don't expect result) : ('ततस त त्राररारारारारारारारारारारारारः। तः। तारारारारारारारारा व व व वरररररारा॥<END>',)\n",
            "-------------------------------------------\n",
            "Epoch 8\n",
            "Iteration 0 : 2.6935548782348633\n",
            "English: when şītā, having a husband although seeming as if she had none, was putting on the ascetic guise, the people got into a wrath and exclaimed, “o dasaratha, fie on you!\"\n",
            "sanskrit Translation: तस्यां चीरं वसानायां नाथवत्यामनाथवत्। प्रचुक्रोश जनः सर्वो धिक् त्वां दशरथं त्विति ॥\n",
            "sanskrit Prediction: तत्त   उ ता पा्र् ान त् ाा्या ्् ाि्य प्र् त्य् ्पा् प््या त् ्यप्वा  प्््ा स्रा॥्तप\n",
            "Evaluation translation (do work don't expect result) : ('ततस त तत तततत तारात्राता तारारातः। तः। तः। तात ताता त त त त त त त त तररररत<END>',)\n",
            "-------------------------------------------\n",
            "Iteration 100 : 2.690326452255249\n",
            "English: king yudhishthira immediately struck him with six arrows. he then cut off the bow and the standard of his antagonist with two razorfaced arrows.\n",
            "sanskrit Translation: तं विव्याधशुगैः षड्भिर्धर्मराजस्त्वरनिव॥ कार्मुकं चास्य चिच्छेद क्षुराभ्यां ध्वजमेव च।\n",
            "sanskrit Prediction: अत पा ावा ा्र्र स्ारार्रर्राारा्य्वि्् ा स् ्य्त् प न्रास  ारा ्प्य्र्राराम स्यिा्॥ाप \n",
            "Evaluation translation (do work don't expect result) : ('ततस्य वात तरारारात तरारारारारारारमरः। वरातः। व व व व तारारारा व व वराररररातः॥<END>',)\n",
            "-------------------------------------------\n",
            "Epoch 9\n",
            "Iteration 0 : 2.6690526008605957\n",
            "English: when şītā, having a husband although seeming as if she had none, was putting on the ascetic guise, the people got into a wrath and exclaimed, “o dasaratha, fie on you!\"\n",
            "sanskrit Translation: तस्यां चीरं वसानायां नाथवत्यामनाथवत्। प्रचुक्रोश जनः सर्वो धिक् त्वां दशरथं त्विति ॥\n",
            "sanskrit Prediction: तत्या  सात् वा्र् ा  प्नाा् ा ा् ाा्। स्र् र्य् ्प्् प््या पा ्यप्या  प्््ा प्यि ्तप\n",
            "Evaluation translation (do work don't expect result) : ('ततस त तत ततत तारात तराराता तराररतः। तः। तः। ततत त ता त त त त त त तरारररररतः॥<END>',)\n",
            "-------------------------------------------\n",
            "Iteration 100 : 2.651811361312866\n",
            "English: king yudhishthira immediately struck him with six arrows. he then cut off the bow and the standard of his antagonist with two razorfaced arrows.\n",
            "sanskrit Translation: तं विव्याधशुगैः षड्भिर्धर्मराजस्त्वरनिव॥ कार्मुकं चास्य चिच्छेद क्षुराभ्यां ध्वजमेव च।\n",
            "sanskrit Prediction: तत पाराया ा्र्  प्ारित्र््या् ््र्रा्् ा प्म्य् ् पा ्तास त रा ्प्र्र्म्वत  पायाा् ापा\n",
            "Evaluation translation (do work don't expect result) : ('ततस त वरारररारार्त तररारारारारारमरः। वरररातः वरारारा तरारा व व वराराराररमरा॥<END>',)\n",
            "-------------------------------------------\n"
          ]
        }
      ],
      "source": [
        "transformer.train()\n",
        "transformer.to(device)\n",
        "total_loss = 0\n",
        "num_epochs = 10\n",
        "\n",
        "for epoch in range(num_epochs):\n",
        "    print(f\"Epoch {epoch}\")\n",
        "    iterator = iter(train_loader)\n",
        "    for batch_num, batch in enumerate(iterator):\n",
        "        transformer.train()\n",
        "        eng_batch, kn_batch = batch\n",
        "        encoder_self_attention_mask, decoder_self_attention_mask, decoder_cross_attention_mask = create_masks(eng_batch, kn_batch)\n",
        "        optim.zero_grad()\n",
        "        kn_predictions = transformer(eng_batch,\n",
        "                                     kn_batch,\n",
        "                                     encoder_self_attention_mask.to(device), \n",
        "                                     decoder_self_attention_mask.to(device), \n",
        "                                     decoder_cross_attention_mask.to(device),\n",
        "                                     enc_start_token=False,\n",
        "                                     enc_end_token=False,\n",
        "                                     dec_start_token=True,\n",
        "                                     dec_end_token=True)\n",
        "        labels = transformer.decoder.sentence_embedding.batch_tokenize(kn_batch, start_token=False, end_token=True)\n",
        "        loss = criterian(\n",
        "            kn_predictions.view(-1, kn_vocab_size).to(device),\n",
        "            labels.view(-1).to(device)\n",
        "        ).to(device)\n",
        "        valid_indicies = torch.where(labels.view(-1) == sanskrit_to_index[PADDING_TOKEN], False, True)\n",
        "        loss = loss.sum() / valid_indicies.sum()\n",
        "        loss.backward()\n",
        "        optim.step()\n",
        "        #train_losses.append(loss.item())\n",
        "        if batch_num % 100 == 0:\n",
        "            print(f\"Iteration {batch_num} : {loss.item()}\")\n",
        "            print(f\"English: {eng_batch[0]}\")\n",
        "            print(f\"sanskrit Translation: {kn_batch[0]}\")\n",
        "            kn_sentence_predicted = torch.argmax(kn_predictions[0], axis=1)\n",
        "            predicted_sentence = \"\"\n",
        "            for idx in kn_sentence_predicted:\n",
        "              if idx == sanskrit_to_index[END_TOKEN]:\n",
        "                break\n",
        "              predicted_sentence += index_to_sanskrit[idx.item()]\n",
        "            print(f\"sanskrit Prediction: {predicted_sentence}\")\n",
        "\n",
        "\n",
        "            transformer.eval()\n",
        "            kn_sentence = (\"\",)\n",
        "            eng_sentence = (\"Do work don't expect result\",)\n",
        "            for word_counter in range(max_sequence_length):\n",
        "                encoder_self_attention_mask, decoder_self_attention_mask, decoder_cross_attention_mask= create_masks(eng_sentence, kn_sentence)\n",
        "                predictions = transformer(eng_sentence,\n",
        "                                          kn_sentence,\n",
        "                                          encoder_self_attention_mask.to(device), \n",
        "                                          decoder_self_attention_mask.to(device), \n",
        "                                          decoder_cross_attention_mask.to(device),\n",
        "                                          enc_start_token=False,\n",
        "                                          enc_end_token=False,\n",
        "                                          dec_start_token=True,\n",
        "                                          dec_end_token=False)\n",
        "                next_token_prob_distribution = predictions[0][word_counter] # not actual probs\n",
        "                next_token_index = torch.argmax(next_token_prob_distribution).item()\n",
        "                next_token = index_to_sanskrit[next_token_index]\n",
        "                kn_sentence = (kn_sentence[0] + next_token, )\n",
        "                if next_token == END_TOKEN:\n",
        "                  break\n",
        "            \n",
        "            print(f\"Evaluation translation (do work don't expect result) : {kn_sentence}\")\n",
        "            print(\"-------------------------------------------\")"
      ]
    },
    {
      "cell_type": "code",
      "execution_count": 88,
      "metadata": {},
      "outputs": [
        {
          "name": "stdout",
          "output_type": "stream",
          "text": [
            "Checkpoint saved.\n"
          ]
        }
      ],
      "source": [
        "torch.save({\n",
        "    'epoch': 9,  # last epoch you finished\n",
        "    'model_state_dict': transformer.state_dict(),\n",
        "    'optimizer_state_dict': optim.state_dict(),\n",
        "    'loss': loss.item() if 'loss' in locals() else 0  # use 0 if loss is not defined\n",
        "}, 'checkpoint.pth')\n",
        "\n",
        "print(\"Checkpoint saved.\")\n"
      ]
    },
    {
      "cell_type": "code",
      "execution_count": 89,
      "metadata": {},
      "outputs": [
        {
          "name": "stdout",
          "output_type": "stream",
          "text": [
            "Checkpoint loaded. Resuming training from epoch 10\n",
            "Epoch 10\n",
            "Iteration 0 : 2.645613670349121\n",
            "English: when şītā, having a husband although seeming as if she had none, was putting on the ascetic guise, the people got into a wrath and exclaimed, “o dasaratha, fie on you!\"\n",
            "sanskrit Translation: तस्यां चीरं वसानायां नाथवत्यामनाथवत्। प्रचुक्रोश जनः सर्वो धिक् त्वां दशरथं त्विति ॥\n",
            "sanskrit Prediction: तत्मा  उ व् सा्न्ं   प्राा्र  ्् ाा्। प्य् र्र् ्प्् प््या तात्रप्यान स्््ा प्यात्तप\n",
            "Evaluation translation (do work don't expect result) : ('ततस त तरवरररारात्त तररातस वररररररः। तररः। तः। तरारा तरात त त त त तरारारः॥<END>',)\n",
            "-------------------------------------------\n",
            "Iteration 100 : 2.632965326309204\n",
            "English: king yudhishthira immediately struck him with six arrows. he then cut off the bow and the standard of his antagonist with two razorfaced arrows.\n",
            "sanskrit Translation: तं विव्याधशुगैः षड्भिर्धर्मराजस्त्वरनिव॥ कार्मुकं चास्य चिच्छेद क्षुराभ्यां ध्वजमेव च।\n",
            "sanskrit Prediction: तत साराया ा्रार प्ारिताति्वा्र््व्मि्् ा प्म्र्त् प र्यास त रा ्स्र्र्ःायान सारा््॥ासा\n",
            "Evaluation translation (do work don't expect result) : ('ततस त वरारररारात तरर्रारास्य वररररः। वरररः। वरररारा तरारार्य वररार्रारररः<END>',)\n",
            "-------------------------------------------\n",
            "Epoch 11\n",
            "Iteration 0 : 2.6131701469421387\n",
            "English: when şītā, having a husband although seeming as if she had none, was putting on the ascetic guise, the people got into a wrath and exclaimed, “o dasaratha, fie on you!\"\n",
            "sanskrit Translation: तस्यां चीरं वसानायां नाथवत्यामनाथवत्। प्रचुक्रोश जनः सर्वो धिक् त्वां दशरथं त्विति ॥\n",
            "sanskrit Prediction: त््य   त त् पा्ज्    स्नाि्ता ा्नाा्। सुर् त्त् ्दा् प््या सरत्यस्यान स्््ा प्रित्॥प\n",
            "Evaluation translation (do work don't expect result) : ('ततस त तरररररारात तरररात तरररररररः। परररः। तरररमरात तरात तर तर तर तररातः॥<END>',)\n",
            "-------------------------------------------\n",
            "Iteration 100 : 2.616246223449707\n",
            "English: king yudhishthira immediately struck him with six arrows. he then cut off the bow and the standard of his antagonist with two razorfaced arrows.\n",
            "sanskrit Translation: तं विव्याधशुगैः षड्भिर्धर्मराजस्त्वरनिव॥ कार्मुकं चास्य चिच्छेद क्षुराभ्यां ध्वजमेव च।\n",
            "sanskrit Prediction: तत मिरारा ा्र्र प्ररात्यि्ता्म््म्मिा् ि स्र्यार् पैरररापात यात्प्र्र्नियान पररि््॥िमि\n",
            "Evaluation translation (do work don't expect result) : ('ततस तर वररररारात तरररा वरारासरररः सरररः। वरररमर्रार वरररार्य वररररसर्रररमरः<END>',)\n",
            "-------------------------------------------\n",
            "Epoch 12\n",
            "Iteration 0 : 2.592038631439209\n",
            "English: when şītā, having a husband although seeming as if she had none, was putting on the ascetic guise, the people got into a wrath and exclaimed, “o dasaratha, fie on you!\"\n",
            "sanskrit Translation: तस्यां चीरं वसानायां नाथवत्यामनाथवत्। प्रचुक्रोश जनः सर्वो धिक् त्वां दशरथं त्विति ॥\n",
            "sanskrit Prediction: तत्य   त त् पा्ज्    पिनाा् ा ््  ाः  पार् र्या ्सा् प््या परत्रप्या  पा््ा प्रि ् व\n",
            "Evaluation translation (do work don't expect result) : ('ततस तर रररररात ररर्तर तररारातर वरररः। तररः। तरररात तर तर तरर्य तर वरसरसरः<END>',)\n",
            "-------------------------------------------\n",
            "Iteration 100 : 2.5956361293792725\n",
            "English: king yudhishthira immediately struck him with six arrows. he then cut off the bow and the standard of his antagonist with two razorfaced arrows.\n",
            "sanskrit Translation: तं विव्याधशुगैः षड्भिर्धर्मराजस्त्वरनिव॥ कार्मुकं चास्य चिच्छेद क्षुराभ्यां ध्वजमेव च।\n",
            "sanskrit Prediction: तत दाषारा ा् ्र र््रित्रि्वा्र््य्या््।ा मृर्य् ् स र्याप त या ्प्र्र् ावान पारिा्॥िप्\n",
            "Evaluation translation (do work don't expect result) : ('ततस तर वरररारार्य वरररासर्य वररररः वरररः। वररमरमर वरर वरर्र वररर्व वरररमरः<END>',)\n",
            "-------------------------------------------\n",
            "Epoch 13\n",
            "Iteration 0 : 2.5790834426879883\n",
            "English: when şītā, having a husband although seeming as if she had none, was putting on the ascetic guise, the people got into a wrath and exclaimed, “o dasaratha, fie on you!\"\n",
            "sanskrit Translation: तस्यां चीरं वसानायां नाथवत्यामनाथवत्। प्रचुक्रोश जनः सर्वो धिक् त्वां दशरथं त्विति ॥\n",
            "sanskrit Prediction: तत्य   उ त् पा्न्    पिजाा् ा ््नाा्। प्रा त्या ्पा् पर्रा ताष्यप्रान पर््ा प्यात्॥प\n",
            "Evaluation translation (do work don't expect result) : ('ततस तर ररवरसरातः तरर्व तरवरातर पररवः। तरव तरस तररात तरातः तर तर तरसरसरः<END>',)\n",
            "-------------------------------------------\n",
            "Iteration 100 : 2.570852041244507\n",
            "English: king yudhishthira immediately struck him with six arrows. he then cut off the bow and the standard of his antagonist with two razorfaced arrows.\n",
            "sanskrit Translation: तं विव्याधशुगैः षड्भिर्धर्मराजस्त्वरनिव॥ कार्मुकं चास्य चिच्छेद क्षुराभ्यां ध्वजमेव च।\n",
            "sanskrit Prediction: अत माराव  ््र्ः प्ावात्या्राान््त्रा्् ा स्र्षात् पैर्यावैत यान्प्रार्रारा  पररि््॥िप \n",
            "Evaluation translation (do work don't expect result) : ('ततस तर वरररारात रर्व ररवरास्य वररमः पररवः। तरममम वरास तर तर वर्व वररारमरः<END>',)\n",
            "-------------------------------------------\n",
            "Epoch 14\n",
            "Iteration 0 : 2.5593955516815186\n",
            "English: when şītā, having a husband although seeming as if she had none, was putting on the ascetic guise, the people got into a wrath and exclaimed, “o dasaratha, fie on you!\"\n",
            "sanskrit Translation: तस्यां चीरं वसानायां नाथवत्यामनाथवत्। प्रचुक्रोश जनः सर्वो धिक् त्वां दशरथं त्विति ॥\n",
            "sanskrit Prediction: तत्य   स त् पा्न् ान पि ाा् ा ा् ाि्। स्रा।र्षा ्पा् तर्रा परत्तप्या  पा््ा त्या ि प\n",
            "Evaluation translation (do work don't expect result) : ('ततस्त रवरसरातः तर्य तरव तरव तररव पररः। तरव तसरममह तसरातः तर तरात तसरः<END>',)\n",
            "-------------------------------------------\n",
            "Iteration 100 : 2.553903102874756\n",
            "English: king yudhishthira immediately struck him with six arrows. he then cut off the bow and the standard of his antagonist with two razorfaced arrows.\n",
            "sanskrit Translation: तं विव्याधशुगैः षड्भिर्धर्मराजस्त्वरनिव॥ कार्मुकं चास्य चिच्छेद क्षुराभ्यां ध्वजमेव च।\n",
            "sanskrit Prediction: तत तातायाचि् ्व सा्रित्य््याानन्त्मा्् ा स्र्यार् प र्यतस त्या ्प्र्र्रियान पररिा्॥ाप॥\n",
            "Evaluation translation (do work don't expect result) : ('तस्य तर तररा ररात्व तररास्य वररमहः पररः। तर्य वरव वरास तर्य वर्य वरव पररममः<END>',)\n",
            "-------------------------------------------\n",
            "Epoch 15\n",
            "Iteration 0 : 2.5359010696411133\n",
            "English: when şītā, having a husband although seeming as if she had none, was putting on the ascetic guise, the people got into a wrath and exclaimed, “o dasaratha, fie on you!\"\n",
            "sanskrit Translation: तस्यां चीरं वसानायां नाथवत्यामनाथवत्। प्रचुक्रोश जनः सर्वो धिक् त्वां दशरथं त्विति ॥\n",
            "sanskrit Prediction: त््य न प त् सा्न्ना  सिनाा्या ा्नाा्। प्रा्त्षात्पा् पर्या पात्षप्यान प्््ा प्यात् प\n",
            "Evaluation translation (do work don't expect result) : ('ततस्त रवाच तरातः तर्व तवरातः पररवः। परवरः। तसरमह तसरातः तसर्य तरव परव परव परव॥<END>',)\n",
            "-------------------------------------------\n",
            "Iteration 100 : 2.529188394546509\n",
            "English: king yudhishthira immediately struck him with six arrows. he then cut off the bow and the standard of his antagonist with two razorfaced arrows.\n",
            "sanskrit Translation: तं विव्याधशुगैः षड्भिर्धर्मराजस्त्वरनिव॥ कार्मुकं चास्य चिच्छेद क्षुराभ्यां ध्वजमेव च।\n",
            "sanskrit Prediction: तत रि ावा ््र्व स््विताया्ता्न््य्याा् ा पार्यात् प र्ताव त वात्प्र्र् िवा  पररिा्॥ामि\n",
            "Evaluation translation (do work don't expect result) : ('तस तस तस तरममा तर्य तरास्य पररर्य पररः तरः तस तर तर तर तर तर्य वरर्य पररमह॥<END>',)\n",
            "-------------------------------------------\n",
            "Epoch 16\n",
            "Iteration 0 : 2.5045952796936035\n",
            "English: when şītā, having a husband although seeming as if she had none, was putting on the ascetic guise, the people got into a wrath and exclaimed, “o dasaratha, fie on you!\"\n",
            "sanskrit Translation: तस्यां चीरं वसानायां नाथवत्यामनाथवत्। प्रचुक्रोश जनः सर्वो धिक् त्वां दशरथं त्विति ॥\n",
            "sanskrit Prediction: तत्या  स र् पा्न् ा  पिनाा्ता ि्निा्र क्रा्त्षा ्सा् पर्या तरत्षकेवान पृ््् प्यि ्ःप\n",
            "Evaluation translation (do work don't expect result) : ('ततस तस तसरः तरातः तर्व तव तरासरः पररः। तरः॥<END>',)\n",
            "-------------------------------------------\n",
            "Iteration 100 : 2.511504650115967\n",
            "English: king yudhishthira immediately struck him with six arrows. he then cut off the bow and the standard of his antagonist with two razorfaced arrows.\n",
            "sanskrit Translation: तं विव्याधशुगैः षड्भिर्धर्मराजस्त्वरनिव॥ कार्मुकं चास्य चिच्छेद क्षुराभ्यां ध्वजमेव च।\n",
            "sanskrit Prediction: तत तिराय  ््र्व त््वित्व््वाान््व्वाा्ता त्र्षार् प र्तास त्या ्पार्त्मिरतन वारिा्॥ाप॥\n",
            "Evaluation translation (do work don't expect result) : ('तस तस तस तर राच रर्य रव राव रररमहः पररः। तस तस तर तर तरः तर रर्य तरमहः<END>',)\n",
            "-------------------------------------------\n",
            "Epoch 17\n",
            "Iteration 0 : 2.4937310218811035\n",
            "English: when şītā, having a husband although seeming as if she had none, was putting on the ascetic guise, the people got into a wrath and exclaimed, “o dasaratha, fie on you!\"\n",
            "sanskrit Translation: तस्यां चीरं वसानायां नाथवत्यामनाथवत्। प्रचुक्रोश जनः सर्वो धिक् त्वां दशरथं त्विति ॥\n",
            "sanskrit Prediction: तस्त   सार् ति् ्नान प जाा्ता ा्नाा्। त्राार्षा ्पन् पर्या सरर्तप्या  स्््् स्रित्॥प\n",
            "Evaluation translation (do work don't expect result) : ('तस तस तस तरमहः तर्य तरव तसर्य पररः तरः। तरः तसरमह तर तरः तर तर तर तरः<END>',)\n",
            "-------------------------------------------\n",
            "Iteration 100 : 2.4834492206573486\n",
            "English: king yudhishthira immediately struck him with six arrows. he then cut off the bow and the standard of his antagonist with two razorfaced arrows.\n",
            "sanskrit Translation: तं विव्याधशुगैः षड्भिर्धर्मराजस्त्वरनिव॥ कार्मुकं चास्य चिच्छेद क्षुराभ्यां ध्वजमेव च।\n",
            "sanskrit Prediction: त् सि ाया ््र्व ता्यित्वर्वा्नन्तेराा्ता प्र्मार् प र्य पित्च् ्प्ष्र्र्यतन सररिा्॥ाम॥\n",
            "Evaluation translation (do work don't expect result) : ('तस रव उवच रवरं रर्य रराव ररं ररहरः पररः ररमह तरमह पररातः<END>',)\n",
            "-------------------------------------------\n",
            "Epoch 18\n",
            "Iteration 0 : 2.473957061767578\n",
            "English: when şītā, having a husband although seeming as if she had none, was putting on the ascetic guise, the people got into a wrath and exclaimed, “o dasaratha, fie on you!\"\n",
            "sanskrit Translation: तस्यां चीरं वसानायां नाथवत्यामनाथवत्। प्रचुक्रोश जनः सर्वो धिक् त्वां दशरथं त्विति ॥\n",
            "sanskrit Prediction: तत्तान प त् पा्न्ना  पिजाा्   ा्निा्। पुरा्त्षाध्प्् पर्वा सरत्षप्या  प्््ा प्वित्॥प\n",
            "Evaluation translation (do work don't expect result) : ('तस तस तस तरमहः<END>',)\n",
            "-------------------------------------------\n",
            "Iteration 100 : 2.472849130630493\n",
            "English: king yudhishthira immediately struck him with six arrows. he then cut off the bow and the standard of his antagonist with two razorfaced arrows.\n",
            "sanskrit Translation: तं विव्याधशुगैः षड्भिर्धर्मराजस्त्वरनिव॥ कार्मुकं चास्य चिच्छेद क्षुराभ्यां ध्वजमेव च।\n",
            "sanskrit Prediction: सत सिताया ि्र्र ता्वित्मर्वा्णन्तिराा्।ा तरर्वाध् स ज्तासैर्या ्पुष्र्रिराम परराा्॥ामि\n",
            "Evaluation translation (do work don't expect result) : ('तस रव उवच तं राजर्य रराजव रहरं रहरः सररः तस तसं ररमहरामहरं ररमहर्य रवरमह॥<END>',)\n",
            "-------------------------------------------\n",
            "Epoch 19\n",
            "Iteration 0 : 2.467000722885132\n",
            "English: when şītā, having a husband although seeming as if she had none, was putting on the ascetic guise, the people got into a wrath and exclaimed, “o dasaratha, fie on you!\"\n",
            "sanskrit Translation: तस्यां चीरं वसानायां नाथवत्यामनाथवत्। प्रचुक्रोश जनः सर्वो धिक् त्वां दशरथं त्विति ॥\n",
            "sanskrit Prediction: नत्ता  च त् ति्त्ना  कि ाा्रा ््नाा्र प्रा्र्षात्प््।पर्वा सात्षपेया  पा््ा प्रा ् प\n",
            "Evaluation translation (do work don't expect result) : ('तस तस तस तरमहामहा तर्य रवर्य पररमहः। दरः। तस तरमह दरामहः<END>',)\n",
            "-------------------------------------------\n",
            "Iteration 100 : 2.4420502185821533\n",
            "English: king yudhishthira immediately struck him with six arrows. he then cut off the bow and the standard of his antagonist with two razorfaced arrows.\n",
            "sanskrit Translation: तं विव्याधशुगैः षड्भिर्धर्मराजस्त्वरनिव॥ कार्मुकं चास्य चिच्छेद क्षुराभ्यां ध्वजमेव च।\n",
            "sanskrit Prediction: तत तिषाचा र् ्व प््टात्वर्मा्णा्त्ता््ता पुर्वात् प र्ताप त्चेष्सुर्द्रिवान सररि््॥ाम॥\n",
            "Evaluation translation (do work don't expect result) : ('तस रज उवच तं राजर्य रवराजव रहरमहः पररः। तः तस तं रं रहरं ररमहर्य वच<END>',)\n",
            "-------------------------------------------\n"
          ]
        }
      ],
      "source": [
        "import torch\n",
        "import os\n",
        "\n",
        "# Load model and optimizer state\n",
        "checkpoint_path = \"checkpoint.pth\"\n",
        "start_epoch = 0\n",
        "\n",
        "if os.path.exists(checkpoint_path):\n",
        "    checkpoint = torch.load(checkpoint_path, map_location=device)\n",
        "    transformer.load_state_dict(checkpoint['model_state_dict'])\n",
        "    optim.load_state_dict(checkpoint['optimizer_state_dict'])\n",
        "    start_epoch = checkpoint['epoch'] + 1\n",
        "    print(f\"Checkpoint loaded. Resuming training from epoch {start_epoch}\")\n",
        "else:\n",
        "    print(\"No checkpoint found. Starting from scratch.\")\n",
        "\n",
        "# Continue training from saved state\n",
        "transformer.train()\n",
        "transformer.to(device)\n",
        "total_loss = 0\n",
        "num_epochs = 20  # set this to any number higher than start_epoch\n",
        "\n",
        "for epoch in range(start_epoch, num_epochs):\n",
        "    print(f\"Epoch {epoch}\")\n",
        "    iterator = iter(train_loader)\n",
        "    for batch_num, batch in enumerate(iterator):\n",
        "        transformer.train()\n",
        "        eng_batch, kn_batch = batch\n",
        "        encoder_self_attention_mask, decoder_self_attention_mask, decoder_cross_attention_mask = create_masks(eng_batch, kn_batch)\n",
        "        optim.zero_grad()\n",
        "        kn_predictions = transformer(eng_batch,\n",
        "                                     kn_batch,\n",
        "                                     encoder_self_attention_mask.to(device), \n",
        "                                     decoder_self_attention_mask.to(device), \n",
        "                                     decoder_cross_attention_mask.to(device),\n",
        "                                     enc_start_token=False,\n",
        "                                     enc_end_token=False,\n",
        "                                     dec_start_token=True,\n",
        "                                     dec_end_token=True)\n",
        "        labels = transformer.decoder.sentence_embedding.batch_tokenize(kn_batch, start_token=False, end_token=True)\n",
        "        loss = criterian(\n",
        "            kn_predictions.view(-1, kn_vocab_size).to(device),\n",
        "            labels.view(-1).to(device)\n",
        "        ).to(device)\n",
        "        valid_indicies = torch.where(labels.view(-1) == sanskrit_to_index[PADDING_TOKEN], False, True)\n",
        "        loss = loss.sum() / valid_indicies.sum()\n",
        "        loss.backward()\n",
        "        optim.step()\n",
        "\n",
        "        if batch_num % 100 == 0:\n",
        "            print(f\"Iteration {batch_num} : {loss.item()}\")\n",
        "            print(f\"English: {eng_batch[0]}\")\n",
        "            print(f\"sanskrit Translation: {kn_batch[0]}\")\n",
        "            kn_sentence_predicted = torch.argmax(kn_predictions[0], axis=1)\n",
        "            predicted_sentence = \"\"\n",
        "            for idx in kn_sentence_predicted:\n",
        "                if idx == sanskrit_to_index[END_TOKEN]:\n",
        "                    break\n",
        "                predicted_sentence += index_to_sanskrit[idx.item()]\n",
        "            print(f\"sanskrit Prediction: {predicted_sentence}\")\n",
        "\n",
        "            transformer.eval()\n",
        "            kn_sentence = (\"\",)\n",
        "            eng_sentence = (\"Do work don't expect result\",)\n",
        "            for word_counter in range(max_sequence_length):\n",
        "                encoder_self_attention_mask, decoder_self_attention_mask, decoder_cross_attention_mask= create_masks(eng_sentence, kn_sentence)\n",
        "                predictions = transformer(eng_sentence,\n",
        "                                          kn_sentence,\n",
        "                                          encoder_self_attention_mask.to(device), \n",
        "                                          decoder_self_attention_mask.to(device), \n",
        "                                          decoder_cross_attention_mask.to(device),\n",
        "                                          enc_start_token=False,\n",
        "                                          enc_end_token=False,\n",
        "                                          dec_start_token=True,\n",
        "                                          dec_end_token=False)\n",
        "                next_token_prob_distribution = predictions[0][word_counter]\n",
        "                next_token_index = torch.argmax(next_token_prob_distribution).item()\n",
        "                next_token = index_to_sanskrit[next_token_index]\n",
        "                kn_sentence = (kn_sentence[0] + next_token, )\n",
        "                if next_token == END_TOKEN:\n",
        "                    break\n",
        "\n",
        "            print(f\"Evaluation translation (do work don't expect result) : {kn_sentence}\")\n",
        "            print(\"-------------------------------------------\")\n",
        "\n",
        "    # ✅ Save checkpoint after each epoch\n",
        "    torch.save({\n",
        "        'epoch': epoch,\n",
        "        'model_state_dict': transformer.state_dict(),\n",
        "        'optimizer_state_dict': optim.state_dict(),\n",
        "        'loss': loss.item()\n",
        "    }, checkpoint_path)\n"
      ]
    },
    {
      "cell_type": "code",
      "execution_count": 96,
      "metadata": {},
      "outputs": [],
      "source": [
        "torch.save({\n",
        "    'epoch': 19,\n",
        "    'model_state_dict': transformer.state_dict(),\n",
        "    'optimizer_state_dict': optim.state_dict(),\n",
        "    'loss': loss.item()\n",
        "}, 'checkpoint.pth')\n"
      ]
    },
    {
      "cell_type": "code",
      "execution_count": 97,
      "metadata": {},
      "outputs": [
        {
          "name": "stdout",
          "output_type": "stream",
          "text": [
            "Loaded checkpoint from epoch 19, resuming from epoch 20\n",
            "Epoch 20\n",
            "Iteration 0 : 2.4425156116485596\n",
            "English: when şītā, having a husband although seeming as if she had none, was putting on the ascetic guise, the people got into a wrath and exclaimed, “o dasaratha, fie on you!\"\n",
            "Sanskrit Target: तस्यां चीरं वसानायां नाथवत्यामनाथवत्। प्रचुक्रोश जनः सर्वो धिक् त्वां दशरथं त्विति ॥\n",
            "Sanskrit Prediction: त््तान प र् सि्न् ां पिराा्रा ि्नाा्। सुरा्त्षा ्पन् प््वा सरत्षपेरा  पु््ा प्॥ाति प\n",
            "Eval (Do work don't expect result): ('तस रज उवच तरामहान तर्य रवर्षरमहरः पररः। दर्य दरमहराजराजव दर्य तसर्य रव<END>',)\n",
            "--------------------------------------------------\n",
            "Iteration 100 : 2.4286437034606934\n",
            "English: king yudhishthira immediately struck him with six arrows. he then cut off the bow and the standard of his antagonist with two razorfaced arrows.\n",
            "Sanskrit Target: तं विव्याधशुगैः षड्भिर्धर्मराजस्त्वरनिव॥ कार्मुकं चास्य चिच्छेद क्षुराभ्यां ध्वजमेव च।\n",
            "Sanskrit Prediction: तत रि ायानि् ्र तु्रूत्वि्मााता्त्राा्ता तरर्मात् पाज्याव त्चात्सार्र्रारा  परररि्॥ाप॥\n",
            "Eval (Do work don't expect result): ('तस रज उवच तं राजजर्य रवच रवरं वरहरः वच। रक्षमहरमहरं रहरं ररमहरमहरमह॥<END>',)\n",
            "--------------------------------------------------\n",
            "Epoch 21\n",
            "Iteration 0 : 2.428614854812622\n",
            "English: when şītā, having a husband although seeming as if she had none, was putting on the ascetic guise, the people got into a wrath and exclaimed, “o dasaratha, fie on you!\"\n",
            "Sanskrit Target: तस्यां चीरं वसानायां नाथवत्यामनाथवत्। प्रचुक्रोश जनः सर्वो धिक् त्वां दशरथं त्विति ॥\n",
            "Sanskrit Prediction: त््यान प म् सा्न्नां पिनाा् ा ा्नाा्। प्राित्षाक्स्् तर्या सरर्षप्वा  स्््ा पेवात्॥च\n",
            "Eval (Do work don't expect result): ('तस च राजव तु राजल वर्य वराजव वरहरः। पररः। तस दर्य रहराजव दर्य वरमहस्य परमह॥<END>',)\n",
            "--------------------------------------------------\n",
            "Iteration 100 : 2.4120330810546875\n",
            "English: king yudhishthira immediately struck him with six arrows. he then cut off the bow and the standard of his antagonist with two razorfaced arrows.\n",
            "Sanskrit Target: तं विव्याधशुगैः षड्भिर्धर्मराजस्त्वरनिव॥ कार्मुकं चास्य चिच्छेद क्षुराभ्यां ध्वजमेव च।\n",
            "Sanskrit Prediction: तत तिताय नि्र्र सा्रित्वि्थााजा्वेवाा् ा व्र्मात् प र्ताप द्ये ्परर्त्णिरान परराा्॥ाप॥\n",
            "Eval (Do work don't expect result): ('तस रज उवच तं राजजल रवच रवच रहरमहरः पररः। तस तस्य रमहरमहरं ररमहरमहरमह॥<END>',)\n",
            "--------------------------------------------------\n",
            "Epoch 22\n",
            "Iteration 0 : 2.4092462062835693\n",
            "English: when şītā, having a husband although seeming as if she had none, was putting on the ascetic guise, the people got into a wrath and exclaimed, “o dasaratha, fie on you!\"\n",
            "Sanskrit Target: तस्यां चीरं वसानायां नाथवत्यामनाथवत्। प्रचुक्रोश जनः सर्वो धिक् त्वां दशरथं त्विति ॥\n",
            "Sanskrit Prediction: तत्ता  प म् सि् ्ंा  प नाा्रा ा्नाा्। पाराित्षा ्पन्।सं्म  पर ्षवुवा  वे््ा प्वात् प\n",
            "Eval (Do work don't expect result): ('तस च राजव रवामहाल दर्षव राजव रहरः पररः। दर्। वरमहलमहरः<END>',)\n",
            "--------------------------------------------------\n",
            "Iteration 100 : 2.399768352508545\n",
            "English: king yudhishthira immediately struck him with six arrows. he then cut off the bow and the standard of his antagonist with two razorfaced arrows.\n",
            "Sanskrit Target: तं विव्याधशुगैः षड्भिर्धर्मराजस्त्वरनिव॥ कार्मुकं चास्य चिच्छेद क्षुराभ्यां ध्वजमेव च।\n",
            "Sanskrit Prediction: तत तिदाय  ि्र्व पा्रित्वा्माानन्त्याा् ा प्र्मात् स ज्ताप ष्चाष्प्ष्र्तिरा  परराा्॥िव॥\n",
            "Eval (Do work don't expect result): ('तस च<END>',)\n",
            "--------------------------------------------------\n",
            "Epoch 23\n",
            "Iteration 0 : 2.3923957347869873\n",
            "English: when şītā, having a husband although seeming as if she had none, was putting on the ascetic guise, the people got into a wrath and exclaimed, “o dasaratha, fie on you!\"\n",
            "Sanskrit Target: तस्यां चीरं वसानायां नाथवत्यामनाथवत्। प्रचुक्रोश जनः सर्वो धिक् त्वां दशरथं त्विति ॥\n",
            "Sanskrit Prediction: तस्या  द र् पा् ्नान प  ा ्   ि्नाा्र प्रा्त्षा ्पन् सर्वे सरर्षस्वा  प्््ा पदवात् प\n",
            "Eval (Do work don't expect result): ('तस च राजव रवच<END>',)\n",
            "--------------------------------------------------\n",
            "Iteration 100 : 2.369875192642212\n",
            "English: king yudhishthira immediately struck him with six arrows. he then cut off the bow and the standard of his antagonist with two razorfaced arrows.\n",
            "Sanskrit Target: तं विव्याधशुगैः षड्भिर्धर्मराजस्त्वरनिव॥ कार्मुकं चास्य चिच्छेद क्षुराभ्यां ध्वजमेव च।\n",
            "Sanskrit Prediction: तत तिदाया ि्र्व वा्टित्म््थााजन्त्राा्।ा तेर्मात् त र्त त त्च्त्परर्र् िवात मररिय्॥ात॥\n",
            "Eval (Do work don't expect result): ('तस रज उवच<END>',)\n",
            "--------------------------------------------------\n",
            "Epoch 24\n",
            "Iteration 0 : 2.383488416671753\n",
            "English: when şītā, having a husband although seeming as if she had none, was putting on the ascetic guise, the people got into a wrath and exclaimed, “o dasaratha, fie on you!\"\n",
            "Sanskrit Target: तस्यां चीरं वसानायां नाथवत्यामनाथवत्। प्रचुक्रोश जनः सर्वो धिक् त्वां दशरथं त्विति ॥\n",
            "Sanskrit Prediction: नत्य   प र् पि्न्ंान सारा ् ा ि्ंााः  पुरा्र्तात्पन  पर्वा पर ्षप्वा  पि््ा पतवात्॥प\n",
            "Eval (Do work don't expect result): ('तस रजय उवच रवाजल वच रवच रवच वरहरः<END>',)\n",
            "--------------------------------------------------\n",
            "Iteration 100 : 2.3782379627227783\n",
            "English: king yudhishthira immediately struck him with six arrows. he then cut off the bow and the standard of his antagonist with two razorfaced arrows.\n",
            "Sanskrit Target: तं विव्याधशुगैः षड्भिर्धर्मराजस्त्वरनिव॥ कार्मुकं चास्य चिच्छेद क्षुराभ्यां ध्वजमेव च।\n",
            "Sanskrit Prediction: तत पिशाया ि्र्र त्ववित्म््तााणन्य्राा्।ा तृल्याक् प न्तापात्छेत्पृष्र्णिरत  पररिा्॥ाप॥\n",
            "Eval (Do work don't expect result): ('तस रज उवच तु राजल रकर्षव रामहरं वच पररमह॥<END>',)\n",
            "--------------------------------------------------\n",
            "Epoch 25\n",
            "Iteration 0 : 2.3667054176330566\n",
            "English: when şītā, having a husband although seeming as if she had none, was putting on the ascetic guise, the people got into a wrath and exclaimed, “o dasaratha, fie on you!\"\n",
            "Sanskrit Target: तस्यां चीरं वसानायां नाथवत्यामनाथवत्। प्रचुक्रोश जनः सर्वो धिक् त्वां दशरथं त्विति ॥\n",
            "Sanskrit Prediction: तत्य   प च् वि्त्ंां पि ाा् ा ा्नाा्। पररा्त्षाण्पा् सर्वा वरत्षपतवा  प्््ा प्वात् प\n",
            "Eval (Do work don't expect result): ('तस्म उवच रवच<END>',)\n",
            "--------------------------------------------------\n",
            "Iteration 100 : 2.353499174118042\n",
            "English: king yudhishthira immediately struck him with six arrows. he then cut off the bow and the standard of his antagonist with two razorfaced arrows.\n",
            "Sanskrit Target: तं विव्याधशुगैः षड्भिर्धर्मराजस्त्वरनिव॥ कार्मुकं चास्य चिच्छेद क्षुराभ्यां ध्वजमेव च।\n",
            "Sanskrit Prediction: तत तिशाया ि्र्र प््वित्व््वााणन्तिराा्।ा प्र्माक् प ज्त पाश्चेश्पाष्र्ंिया  तररान्॥ प॥॥॥यनय ा॥ााावनावायनाननव नननािाि िि॥ेियि िि िििािििाााा  ााािय  ााेाे    वि  वया िििािेेेाेेावनविनानिानिेि  ेििेाािा\n",
            "Eval (Do work don't expect result): ('ततः रथ<END>',)\n",
            "--------------------------------------------------\n",
            "Epoch 26\n",
            "Iteration 0 : 2.3537020683288574\n",
            "English: when şītā, having a husband although seeming as if she had none, was putting on the ascetic guise, the people got into a wrath and exclaimed, “o dasaratha, fie on you!\"\n",
            "Sanskrit Target: तस्यां चीरं वसानायां नाथवत्यामनाथवत्। प्रचुक्रोश जनः सर्वो धिक् त्वां दशरथं त्विति ॥\n",
            "Sanskrit Prediction: तत्त न प र् सि्द्ंा  सिताा् ा ि्नाा्। सुराित्षा ्पनि पु्वा पर ्तस्वा  पु््ा प्वात् प\n",
            "Eval (Do work don't expect result): ('तस च<END>',)\n",
            "--------------------------------------------------\n",
            "Iteration 100 : 2.3436315059661865\n",
            "English: king yudhishthira immediately struck him with six arrows. he then cut off the bow and the standard of his antagonist with two razorfaced arrows.\n",
            "Sanskrit Target: तं विव्याधशुगैः षड्भिर्धर्मराजस्त्वरनिव॥ कार्मुकं चास्य चिच्छेद क्षुराभ्यां ध्वजमेव च।\n",
            "Sanskrit Prediction: तत सिदायानि्र्र पा्यात्या्मााद््तिता््।ा त्र्मात् प प्त पात्छात्मृष्र्हिवान पारिन्॥ाप॥॥॥वयवननना॥ााानवयािााावावाााािििवििििििव वििाििििििाा  िािााि यनाााा      ववनावाििाााााािािााववननाेििििेनिििििाेेाव\n",
            "Eval (Do work don't expect result): ('ततः त वच तत तं राजजय तं पररं वच पररमह। तः तस तस वच ररजजय तं रथ तसर्वरमह॥<END>',)\n",
            "--------------------------------------------------\n",
            "Epoch 27\n",
            "Iteration 0 : 2.3495986461639404\n",
            "English: when şītā, having a husband although seeming as if she had none, was putting on the ascetic guise, the people got into a wrath and exclaimed, “o dasaratha, fie on you!\"\n",
            "Sanskrit Target: तस्यां चीरं वसानायां नाथवत्यामनाथवत्। प्रचुक्रोश जनः सर्वो धिक् त्वां दशरथं त्विति ॥\n",
            "Sanskrit Prediction: अस्ता  पार् सा् ्ं ं पिताा् ा ि्नाा्। प्रा्त्षा ्सा् पर्वा पर ्तप्वा  पे््ा प्वात्॥प\n",
            "Eval (Do work don't expect result): ('तस्महस उवच तरं रजजल जन परर्षव पररजलः। पररः। पररजजलमहः पररं पररं पररव॥<END>',)\n",
            "--------------------------------------------------\n",
            "Iteration 100 : 2.33193302154541\n",
            "English: king yudhishthira immediately struck him with six arrows. he then cut off the bow and the standard of his antagonist with two razorfaced arrows.\n",
            "Sanskrit Target: तं विव्याधशुगैः षड्भिर्धर्मराजस्त्वरनिव॥ कार्मुकं चास्य चिच्छेद क्षुराभ्यां ध्वजमेव च।\n",
            "Sanskrit Prediction: तत सिशाया ि्र्र सणवरित्व््मा्तन्त्राा्।ा तार्माद् साप्त पात्छेन्पिष्र् िवान तररिन्॥ाप \n",
            "Eval (Do work don't expect result): ('ततस रव त वच तो राजजय तस रवच ररजजहरमह॥<END>',)\n",
            "--------------------------------------------------\n",
            "Epoch 28\n",
            "Iteration 0 : 2.3355541229248047\n",
            "English: when şītā, having a husband although seeming as if she had none, was putting on the ascetic guise, the people got into a wrath and exclaimed, “o dasaratha, fie on you!\"\n",
            "Sanskrit Target: तस्यां चीरं वसानायां नाथवत्यामनाथवत्। प्रचुक्रोश जनः सर्वो धिक् त्वां दशरथं त्विति ॥\n",
            "Sanskrit Prediction: तत्या  प र् सि्द्न ं पिनाा् ा ि्ंाा्म प्रा्र्षाण्प्् सर्वा सर ्षसेवा  से््ा प्वात् प\n",
            "Eval (Do work don't expect result): ('अथ च<END>',)\n",
            "--------------------------------------------------\n",
            "Iteration 100 : 2.333726406097412\n",
            "English: king yudhishthira immediately struck him with six arrows. he then cut off the bow and the standard of his antagonist with two razorfaced arrows.\n",
            "Sanskrit Target: तं विव्याधशुगैः षड्भिर्धर्मराजस्त्वरनिव॥ कार्मुकं चास्य चिच्छेद क्षुराभ्यां ध्वजमेव च।\n",
            "Sanskrit Prediction: तत तिशायानि्र्ः सा्यात्वा्मा् ््त्या््।ा पृर्मणप् प प्त स द्छेत्तुर्त्तियतन मरयिा्॥ प॥\n",
            "Eval (Do work don't expect result): ('अथ चचच<END>',)\n",
            "--------------------------------------------------\n",
            "Epoch 29\n",
            "Iteration 0 : 2.3125360012054443\n",
            "English: when şītā, having a husband although seeming as if she had none, was putting on the ascetic guise, the people got into a wrath and exclaimed, “o dasaratha, fie on you!\"\n",
            "Sanskrit Target: तस्यां चीरं वसानायां नाथवत्यामनाथवत्। प्रचुक्रोश जनः सर्वो धिक् त्वां दशरथं त्विति ॥\n",
            "Sanskrit Prediction: तत्म   प र् सि् ्ं   प नाा् ा ि्ंाा्। प्रि्त्षा ्पन् पं्वा पर ्तसेरा  पि््ा प्वात् प\n",
            "Eval (Do work don't expect result): ('सरजज उ<END>',)\n",
            "--------------------------------------------------\n",
            "Iteration 100 : 2.3215794563293457\n",
            "English: king yudhishthira immediately struck him with six arrows. he then cut off the bow and the standard of his antagonist with two razorfaced arrows.\n",
            "Sanskrit Target: तं विव्याधशुगैः षड्भिर्धर्मराजस्त्वरनिव॥ कार्मुकं चास्य चिच्छेद क्षुराभ्यां ध्वजमेव च।\n",
            "Sanskrit Prediction: तथ तिशाया ि्र्र पाोरित्वा्मा्णन्त्राा् ा तरल्ताप् म त्त प तिछे ्प्ष्त्जियान पररिा्॥ म॥\n",
            "Eval (Do work don't expect result): ('सरजज उवच<END>',)\n",
            "--------------------------------------------------\n",
            "Epoch 30\n",
            "Iteration 0 : 2.2989931106567383\n",
            "English: when şītā, having a husband although seeming as if she had none, was putting on the ascetic guise, the people got into a wrath and exclaimed, “o dasaratha, fie on you!\"\n",
            "Sanskrit Target: तस्यां चीरं वसानायां नाथवत्यामनाथवत्। प्रचुक्रोश जनः सर्वो धिक् त्वां दशरथं त्विति ॥\n",
            "Sanskrit Prediction: तत्यान प र् पि् ्ं   प  ाा्ता ि्माा्। प्रा्त्षा ्पग् सर्वा सर ्षस्वा  पे््ा च्वाति प\n",
            "Eval (Do work don't expect result): ('अथज च<END>',)\n",
            "--------------------------------------------------\n",
            "Iteration 100 : 2.310781955718994\n",
            "English: king yudhishthira immediately struck him with six arrows. he then cut off the bow and the standard of his antagonist with two razorfaced arrows.\n",
            "Sanskrit Target: तं विव्याधशुगैः षड्भिर्धर्मराजस्त्वरनिव॥ कार्मुकं चास्य चिच्छेद क्षुराभ्यां ध्वजमेव च।\n",
            "Sanskrit Prediction: तत ति ाया ि्र्र स््टित्वा्माा ा्त्याा् ा त्ल्मात् प प्त व द्छेत्त्ष्ण्णिराप पररिय्  म॥\n",
            "Eval (Do work don't expect result): ('ततस त वच तत तं रतं वचचचचचचच<END>',)\n",
            "--------------------------------------------------\n",
            "Epoch 31\n",
            "Iteration 0 : 2.291825294494629\n",
            "English: when şītā, having a husband although seeming as if she had none, was putting on the ascetic guise, the people got into a wrath and exclaimed, “o dasaratha, fie on you!\"\n",
            "Sanskrit Target: तस्यां चीरं वसानायां नाथवत्यामनाथवत्। प्रचुक्रोश जनः सर्वो धिक् त्वां दशरथं त्विति ॥\n",
            "Sanskrit Prediction: तत्म ं प र् पि्द्ं ं प राा्ता ि्ंाा्। कुरा्क्षा ्पन् सर्वा वर ्षप्रा  पु््ा प्वात् प\n",
            "Eval (Do work don't expect result): ('अतस्महस उवच<END>',)\n",
            "--------------------------------------------------\n",
            "Iteration 100 : 2.29691481590271\n",
            "English: king yudhishthira immediately struck him with six arrows. he then cut off the bow and the standard of his antagonist with two razorfaced arrows.\n",
            "Sanskrit Target: तं विव्याधशुगैः षड्भिर्धर्मराजस्त्वरनिव॥ कार्मुकं चास्य चिच्छेद क्षुराभ्यां ध्वजमेव च।\n",
            "Sanskrit Prediction: तत तिकायापि्र्ः स्ोरूत्वा्मा्जा्तिरिा्।ा त्र्षणत् त प्त व तिछेत्तृर्व्जियाम पररिय्  त \n",
            "Eval (Do work don't expect result): ('ततस्महत तत तस रत्व तर वचचचचच<END>',)\n",
            "--------------------------------------------------\n",
            "Epoch 32\n",
            "Iteration 0 : 2.283090829849243\n",
            "English: when şītā, having a husband although seeming as if she had none, was putting on the ascetic guise, the people got into a wrath and exclaimed, “o dasaratha, fie on you!\"\n",
            "Sanskrit Target: तस्यां चीरं वसानायां नाथवत्यामनाथवत्। प्रचुक्रोश जनः सर्वो धिक् त्वां दशरथं त्विति ॥\n",
            "Sanskrit Prediction: तत्य न प र् पि् ्  न पिनाा् ा ि्नाा्। प्रा्त्षा ्प्् कर्वाकपर ्तस्वा  पे््ा पदवाता॥म\n",
            "Eval (Do work don't expect result): ('तस्महस उवच<END>',)\n",
            "--------------------------------------------------\n",
            "Iteration 100 : 2.2873685359954834\n",
            "English: king yudhishthira immediately struck him with six arrows. he then cut off the bow and the standard of his antagonist with two razorfaced arrows.\n",
            "Sanskrit Target: तं विव्याधशुगैः षड्भिर्धर्मराजस्त्वरनिव॥ कार्मुकं चास्य चिच्छेद क्षुराभ्यां ध्वजमेव च।\n",
            "Sanskrit Prediction: तत विशाया ि्ः्र पावरित्या्मााणन्तिरिा्।ा तरर्यणक् व प्त प तिछेन्मरषतर्तिमतन मरवरा्॥ प॥\n",
            "Eval (Do work don't expect result): ('ततस्महत ततः सरमहस्वरत तं पररतः सरवचचचच।<END>',)\n",
            "--------------------------------------------------\n",
            "Epoch 33\n",
            "Iteration 0 : 2.257035255432129\n",
            "English: when şītā, having a husband although seeming as if she had none, was putting on the ascetic guise, the people got into a wrath and exclaimed, “o dasaratha, fie on you!\"\n",
            "Sanskrit Target: तस्यां चीरं वसानायां नाथवत्यामनाथवत्। प्रचुक्रोश जनः सर्वो धिक् त्वां दशरथं त्विति ॥\n",
            "Sanskrit Prediction: तत्य ं प र् पि् ्ं   पिताि्ता ि्नाा्। पुरा्त्ता ्चग्।पर्वे नर ्तस्वा  ने््ा प्वरता॥व\n",
            "Eval (Do work don't expect result): ('अतस्वच<END>',)\n",
            "--------------------------------------------------\n",
            "Iteration 100 : 2.2694966793060303\n",
            "English: king yudhishthira immediately struck him with six arrows. he then cut off the bow and the standard of his antagonist with two razorfaced arrows.\n",
            "Sanskrit Target: तं विव्याधशुगैः षड्भिर्धर्मराजस्त्वरनिव॥ कार्मुकं चास्य चिच्छेद क्षुराभ्यां ध्वजमेव च।\n",
            "Sanskrit Prediction: तत तिदाया ि्र्र सावरित्वा्माो ा्तिरा््।ा त्ल्थणत् त प्त प त्छेत्सुरतण्जियतः वररिा्॥ाप॥\n",
            "Eval (Do work don't expect result): ('ततस्वरत वच तं रजयत त्व तं वचचच<END>',)\n",
            "--------------------------------------------------\n",
            "Epoch 34\n",
            "Iteration 0 : 2.2673914432525635\n",
            "English: when şītā, having a husband although seeming as if she had none, was putting on the ascetic guise, the people got into a wrath and exclaimed, “o dasaratha, fie on you!\"\n",
            "Sanskrit Target: तस्यां चीरं वसानायां नाथवत्यामनाथवत्। प्रचुक्रोश जनः सर्वो धिक् त्वां दशरथं त्विति ॥\n",
            "Sanskrit Prediction: तत्म न प र् सि् ्ं   प राा् ा ि्नाा्। सारा्त्षा ्पग् सर्वा वर ्षपेरा  ने््ा वतवित्॥प\n",
            "Eval (Do work don't expect result): ('ततस्वरजय वच<END>',)\n",
            "--------------------------------------------------\n",
            "Iteration 100 : 2.262932777404785\n",
            "English: king yudhishthira immediately struck him with six arrows. he then cut off the bow and the standard of his antagonist with two razorfaced arrows.\n",
            "Sanskrit Target: तं विव्याधशुगैः षड्भिर्धर्मराजस्त्वरनिव॥ कार्मुकं चास्य चिच्छेद क्षुराभ्यां ध्वजमेव च।\n",
            "Sanskrit Prediction: तत तिदाया ि्र्र शावटिः्त््मा् ््तथराा्।ा तरर्यणत् प प्त त व्छेत्वुष् ्जियतन पायिा्॥ प॥\n",
            "Eval (Do work don't expect result): ('ततस्वरत त तं तत तं वचचचचचचचचच<END>',)\n",
            "--------------------------------------------------\n",
            "Epoch 35\n",
            "Iteration 0 : 2.259242057800293\n",
            "English: when şītā, having a husband although seeming as if she had none, was putting on the ascetic guise, the people got into a wrath and exclaimed, “o dasaratha, fie on you!\"\n",
            "Sanskrit Target: तस्यां चीरं वसानायां नाथवत्यामनाथवत्। प्रचुक्रोश जनः सर्वो धिक् त्वां दशरथं त्विति ॥\n",
            "Sanskrit Prediction: तत्म न प र् सि् ्  ं प नाा् ा ि्ं ा्  पुरा्क्ता ्चन् पर्वा तर ्षप्वा  पि््ा प्वात् प\n",
            "Eval (Do work don't expect result): ('तसस्वरसमहसममहसं तरस्वरत सरसममह॥<END>',)\n",
            "--------------------------------------------------\n",
            "Iteration 100 : 2.2452681064605713\n",
            "English: king yudhishthira immediately struck him with six arrows. he then cut off the bow and the standard of his antagonist with two razorfaced arrows.\n",
            "Sanskrit Target: तं विव्याधशुगैः षड्भिर्धर्मराजस्त्वरनिव॥ कार्मुकं चास्य चिच्छेद क्षुराभ्यां ध्वजमेव च।\n",
            "Sanskrit Prediction: तत तिशाया ््र्र पा्टात्ता्मा् न्तथराा्ःा ताल्षणत् म प्त व द्छेद्पुरतण्णियतन परररा्॥ाम॥\n",
            "Eval (Do work don't expect result): ('ततस्वरत तं तं तत तं वचचचचचचचच<END>',)\n",
            "--------------------------------------------------\n",
            "Epoch 36\n",
            "Iteration 0 : 2.2316086292266846\n",
            "English: when şītā, having a husband although seeming as if she had none, was putting on the ascetic guise, the people got into a wrath and exclaimed, “o dasaratha, fie on you!\"\n",
            "Sanskrit Target: तस्यां चीरं वसानायां नाथवत्यामनाथवत्। प्रचुक्रोश जनः सर्वो धिक् त्वां दशरथं त्विति ॥\n",
            "Sanskrit Prediction: तत्यान प र् वि् ्ं ं पिनाा्ता ि्माा्। अारा्ः्षा ्पन्।पर्वा पर ्षप्वा  पेिाा पेराति प\n",
            "Eval (Do work don't expect result): ('तसस्वरय चचच<END>',)\n",
            "--------------------------------------------------\n",
            "Iteration 100 : 2.250671625137329\n",
            "English: king yudhishthira immediately struck him with six arrows. he then cut off the bow and the standard of his antagonist with two razorfaced arrows.\n",
            "Sanskrit Target: तं विव्याधशुगैः षड्भिर्धर्मराजस्त्वरनिव॥ कार्मुकं चास्य चिच्छेद क्षुराभ्यां ध्वजमेव च।\n",
            "Sanskrit Prediction: तत तिदाया ि्र्र काोणाताता्मााजन्त्रा््ःा तुम्यणत् म प्त व तनछे ्तारतण्जियान तररिा्॥ व॥\n",
            "Eval (Do work don't expect result): ('ततस्वरत तं तं तत्व तर तं समत त वचचचचचचच॥<END>',)\n",
            "--------------------------------------------------\n",
            "Epoch 37\n",
            "Iteration 0 : 2.2212507724761963\n",
            "English: when şītā, having a husband although seeming as if she had none, was putting on the ascetic guise, the people got into a wrath and exclaimed, “o dasaratha, fie on you!\"\n",
            "Sanskrit Target: तस्यां चीरं वसानायां नाथवत्यामनाथवत्। प्रचुक्रोश जनः सर्वो धिक् त्वां दशरथं त्विति ॥\n",
            "Sanskrit Prediction: तत्म   व र् पि् ्ं ं निमाा् ा ि्म  ्। पुरा्त्ता ्दी् पर्वा वर ्षपुरा  प्््ा व्वाता॥प\n",
            "Eval (Do work don't expect result): ('तसस्वरय उवच<END>',)\n",
            "--------------------------------------------------\n",
            "Iteration 100 : 2.2494289875030518\n",
            "English: king yudhishthira immediately struck him with six arrows. he then cut off the bow and the standard of his antagonist with two razorfaced arrows.\n",
            "Sanskrit Target: तं विव्याधशुगैः षड्भिर्धर्मराजस्त्वरनिव॥ कार्मुकं चास्य चिच्छेद क्षुराभ्यां ध्वजमेव च।\n",
            "Sanskrit Prediction: तत तादाया ि्ः्र शा्रित्ता्मााजन्तथराा्ःा तरल्यणप् व र्त त त्छेद्ताषतभ्षियतम तरविा्॥ाम॥\n",
            "Eval (Do work don't expect result): ('ततस्वरत तत तं तत्व तं तथ तं वचचचचचचचचचचचचचचचचचचचचचचचचचचचचचचचचचचचचचच<END>',)\n",
            "--------------------------------------------------\n",
            "Epoch 38\n",
            "Iteration 0 : 2.211841344833374\n",
            "English: when şītā, having a husband although seeming as if she had none, was putting on the ascetic guise, the people got into a wrath and exclaimed, “o dasaratha, fie on you!\"\n",
            "Sanskrit Target: तस्यां चीरं वसानायां नाथवत्यामनाथवत्। प्रचुक्रोश जनः सर्वो धिक् त्वां दशरथं त्विति ॥\n",
            "Sanskrit Prediction: तत्य न प र् दि्द्ं ं न नाि् ा ि्माा्। पारा्त्ता ्पा् पर्वे वर ्तप्वा  पु््ा पेवाता च\n",
            "Eval (Do work don't expect result): ('अथ तत तत ततः परसंजजय न परसमममह॥<END>',)\n",
            "--------------------------------------------------\n",
            "Iteration 100 : 2.2333626747131348\n",
            "English: king yudhishthira immediately struck him with six arrows. he then cut off the bow and the standard of his antagonist with two razorfaced arrows.\n",
            "Sanskrit Target: तं विव्याधशुगैः षड्भिर्धर्मराजस्त्वरनिव॥ कार्मुकं चास्य चिच्छेद क्षुराभ्यां ध्वजमेव च।\n",
            "Sanskrit Prediction: तत तिदाय  ि्र्र सा याम्ता्म ्जस्व्याः्।ा तिर्यणत् म प्त व रिछेत्वारतणाषियान पररिा्॥ च॥॥व ववम ॥॥व॥॥वयवववनययन वन     वव॥॥य॥िय     ेक िििय  ा    ि    ेव  ा       वव  वे  यि     यववववसननननना न ि  वेि  स ि\n",
            "Eval (Do work don't expect result): ('ततस्वर उवच<END>',)\n",
            "--------------------------------------------------\n",
            "Epoch 39\n",
            "Iteration 0 : 2.2133336067199707\n",
            "English: when şītā, having a husband although seeming as if she had none, was putting on the ascetic guise, the people got into a wrath and exclaimed, “o dasaratha, fie on you!\"\n",
            "Sanskrit Target: तस्यां चीरं वसानायां नाथवत्यामनाथवत्। प्रचुक्रोश जनः सर्वो धिक् त्वां दशरथं त्विति ॥\n",
            "Sanskrit Prediction: तत्यान न र् पि् ्ं ं पिराा्ता ि्म िा। प्रा्भ्ताकामग् पर्वे नर ्तस्वा  प्््ा प्वाजा च\n",
            "Eval (Do work don't expect result): ('अथ तं वचचच<END>',)\n",
            "--------------------------------------------------\n",
            "Iteration 100 : 2.2125604152679443\n",
            "English: king yudhishthira immediately struck him with six arrows. he then cut off the bow and the standard of his antagonist with two razorfaced arrows.\n",
            "Sanskrit Target: तं विव्याधशुगैः षड्भिर्धर्मराजस्त्वरनिव॥ कार्मुकं चास्य चिच्छेद क्षुराभ्यां ध्वजमेव च।\n",
            "Sanskrit Prediction: तत पिपाया ि्र्र पाोविरतता्मा्जन्तथराा्।ा तृल्तणत् म प्त त द्छेष्वाषतर्म्मतत पररिा्॥ म॥\n",
            "Eval (Do work don't expect result): ('ततस्वर उवच<END>',)\n",
            "--------------------------------------------------\n",
            "Epoch 40\n",
            "Iteration 0 : 2.1956357955932617\n",
            "English: when şītā, having a husband although seeming as if she had none, was putting on the ascetic guise, the people got into a wrath and exclaimed, “o dasaratha, fie on you!\"\n",
            "Sanskrit Target: तस्यां चीरं वसानायां नाथवत्यामनाथवत्। प्रचुक्रोश जनः सर्वो धिक् त्वां दशरथं त्विति ॥\n",
            "Sanskrit Prediction: तत्य न प र् पि् ्ं   प  ाा् ा ि्म  ्। अुरा्त्ता ्वग् स््वा यरष्तव्वा  प्््ा पेवाता॥म\n",
            "Eval (Do work don't expect result): ('अथ वचचचच<END>',)\n",
            "--------------------------------------------------\n",
            "Iteration 100 : 2.208688974380493\n",
            "English: king yudhishthira immediately struck him with six arrows. he then cut off the bow and the standard of his antagonist with two razorfaced arrows.\n",
            "Sanskrit Target: तं विव्याधशुगैः षड्भिर्धर्मराजस्त्वरनिव॥ कार्मुकं चास्य चिच्छेद क्षुराभ्यां ध्वजमेव च।\n",
            "Sanskrit Prediction: तत पिवायं ि्भ्र पत्ठित्वर्माा स्तुरा््वा तार्यणत् म प्त प तिछेन्पुषतणातियतत परयिा्॥ प॥\n",
            "Eval (Do work don't expect result): ('ततस्वर उवच<END>',)\n",
            "--------------------------------------------------\n",
            "Epoch 41\n",
            "Iteration 0 : 2.193258762359619\n",
            "English: when şītā, having a husband although seeming as if she had none, was putting on the ascetic guise, the people got into a wrath and exclaimed, “o dasaratha, fie on you!\"\n",
            "Sanskrit Target: तस्यां चीरं वसानायां नाथवत्यामनाथवत्। प्रचुक्रोश जनः सर्वो धिक् त्वां दशरथं त्विति ॥\n",
            "Sanskrit Prediction: तत्त न प र् ति् ्ं ं वि ाा्ता ि्माि्। अ्राित्षा ्वग् स््वे वर ्तव्वा  प्््ा प्वाता प\n",
            "Eval (Do work don't expect result): ('अथ वचेछ वच<END>',)\n",
            "--------------------------------------------------\n",
            "Iteration 100 : 2.1893551349639893\n",
            "English: king yudhishthira immediately struck him with six arrows. he then cut off the bow and the standard of his antagonist with two razorfaced arrows.\n",
            "Sanskrit Target: तं विव्याधशुगैः षड्भिर्धर्मराजस्त्वरनिव॥ कार्मुकं चास्य चिच्छेद क्षुराभ्यां ध्वजमेव च।\n",
            "Sanskrit Prediction: तत तिवाया ि्र्र पा्रिर्ता्मा्तस्त्राा्।ः तरर्जणत् प प्त त तिछेष्सुरतष्धियान परयिा्श त।॥॥ि॥नननम॥िववववववनययविेवकनन न्नयि॥ियि    कि कि ििययय      य य  य व             े          ाववेननन    ल   न       वि\n",
            "Eval (Do work don't expect result): ('समतस्वरय उवच<END>',)\n",
            "--------------------------------------------------\n",
            "Epoch 42\n",
            "Iteration 0 : 2.1743078231811523\n",
            "English: when şītā, having a husband although seeming as if she had none, was putting on the ascetic guise, the people got into a wrath and exclaimed, “o dasaratha, fie on you!\"\n",
            "Sanskrit Target: तस्यां चीरं वसानायां नाथवत्यामनाथवत्। प्रचुक्रोश जनः सर्वो धिक् त्वां दशरथं त्विति ॥\n",
            "Sanskrit Prediction: तत्तां प र् पि् ्ं   स   ा्ता ि्म ा्। प्रा्ष्ता ्वग् पम्वे दरत्षसेवा  प्््ा प्वाता प\n",
            "Eval (Do work don't expect result): ('यथ वच उवच<END>',)\n",
            "--------------------------------------------------\n",
            "Iteration 100 : 2.1743409633636475\n",
            "English: king yudhishthira immediately struck him with six arrows. he then cut off the bow and the standard of his antagonist with two razorfaced arrows.\n",
            "Sanskrit Target: तं विव्याधशुगैः षड्भिर्धर्मराजस्त्वरनिव॥ कार्मुकं चास्य चिच्छेद क्षुराभ्यां ध्वजमेव च।\n",
            "Sanskrit Prediction: तत तिदिय  ि्र्र पा ठित्ता्म ा स्य्राा्।ा तार्याप् च प्त तात्छेष्वुरतष्ः्याः परररा्  म॥\n",
            "Eval (Do work don't expect result): ('तस्वर उवच<END>',)\n",
            "--------------------------------------------------\n",
            "Epoch 43\n",
            "Iteration 0 : 2.178575277328491\n",
            "English: when şītā, having a husband although seeming as if she had none, was putting on the ascetic guise, the people got into a wrath and exclaimed, “o dasaratha, fie on you!\"\n",
            "Sanskrit Target: तस्यां चीरं वसानायां नाथवत्यामनाथवत्। प्रचुक्रोश जनः सर्वो धिक् त्वां दशरथं त्विति ॥\n",
            "Sanskrit Prediction: तत्म प प र् सि् ्ं   द राा्ता ि्माा्। सुरािक्तुक्वग् सर्वे वरत्षव्वं  नु््ा व्वाता प\n",
            "Eval (Do work don't expect result): ('यथ वचेछ वच ते वय स्वरय स्वसमम त्वय स्ववय॥<END>',)\n",
            "--------------------------------------------------\n",
            "Iteration 100 : 2.162173271179199\n",
            "English: king yudhishthira immediately struck him with six arrows. he then cut off the bow and the standard of his antagonist with two razorfaced arrows.\n",
            "Sanskrit Target: तं विव्याधशुगैः षड्भिर्धर्मराजस्त्वरनिव॥ कार्मुकं चास्य चिच्छेद क्षुराभ्यां ध्वजमेव च।\n",
            "Sanskrit Prediction: तत तिनाया ि्र्र सा्टिर्तर्मााजस्त्रा््।ः तृर्यणत् च प्त प त्छेद्पृष्र्धियात सरयरा्॥ म॥\n",
            "Eval (Do work don't expect result): ('समतस्वय उवच<END>',)\n",
            "--------------------------------------------------\n",
            "Epoch 44\n",
            "Iteration 0 : 2.14631986618042\n",
            "English: when şītā, having a husband although seeming as if she had none, was putting on the ascetic guise, the people got into a wrath and exclaimed, “o dasaratha, fie on you!\"\n",
            "Sanskrit Target: तस्यां चीरं वसानायां नाथवत्यामनाथवत्। प्रचुक्रोश जनः सर्वो धिक् त्वां दशरथं त्विति ॥\n",
            "Sanskrit Prediction: तत्त न प र् पि् ्ं   प माा्ता ि्म ि्। पुरा्क्ता ्नन् पर्वे वर ्षस्वा  पि््ा व्वाता॥म\n",
            "Eval (Do work don't expect result): ('यथ वचेछ चचचच<END>',)\n",
            "--------------------------------------------------\n",
            "Iteration 100 : 2.169386625289917\n",
            "English: king yudhishthira immediately struck him with six arrows. he then cut off the bow and the standard of his antagonist with two razorfaced arrows.\n",
            "Sanskrit Target: तं विव्याधशुगैः षड्भिर्धर्मराजस्त्वरनिव॥ कार्मुकं चास्य चिच्छेद क्षुराभ्यां ध्वजमेव च।\n",
            "Sanskrit Prediction: तत तिशाया ा्र्र पा्णिर्वा्माातन्तथराः्ःा तुल्मणत् व प्त व त्छेत्वरष्ष्ः्यतत परयिा्॥ म॥\n",
            "Eval (Do work don't expect result): ('यथ तथे वय उवा तथ त्व सरस्वसमम त्वय संयय स समय स संजय तथ त्वय संयय स स्वव॥<END>',)\n",
            "--------------------------------------------------\n",
            "Epoch 45\n",
            "Iteration 0 : 2.152709722518921\n",
            "English: when şītā, having a husband although seeming as if she had none, was putting on the ascetic guise, the people got into a wrath and exclaimed, “o dasaratha, fie on you!\"\n",
            "Sanskrit Target: तस्यां चीरं वसानायां नाथवत्यामनाथवत्। प्रचुक्रोश जनः सर्वो धिक् त्वां दशरथं त्विति ॥\n",
            "Sanskrit Prediction: तत्माय व र् पि् ्ं ं प न ाितं ि्माा्। अ्रािप्तम ्द्् पर्वा वर ्षव्वा  पु््ा पेवयता म\n",
            "Eval (Do work don't expect result): ('यथ वचेछ वच<END>',)\n",
            "--------------------------------------------------\n",
            "Iteration 100 : 2.1495752334594727\n",
            "English: king yudhishthira immediately struck him with six arrows. he then cut off the bow and the standard of his antagonist with two razorfaced arrows.\n",
            "Sanskrit Target: तं विव्याधशुगैः षड्भिर्धर्मराजस्त्वरनिव॥ कार्मुकं चास्य चिच्छेद क्षुराभ्यां ध्वजमेव च।\n",
            "Sanskrit Prediction: तत विदाय  ि्र्र पा्रार्यर्माा ा्तथराा्ःा तुर्यणक् प प्त त त्छेद्वाषतण् ्यतन तररिा्व प॥\n",
            "Eval (Do work don't expect result): ('ततस्वर उवच<END>',)\n",
            "--------------------------------------------------\n",
            "Epoch 46\n",
            "Iteration 0 : 2.1308481693267822\n",
            "English: when şītā, having a husband although seeming as if she had none, was putting on the ascetic guise, the people got into a wrath and exclaimed, “o dasaratha, fie on you!\"\n",
            "Sanskrit Target: तस्यां चीरं वसानायां नाथवत्यामनाथवत्। प्रचुक्रोश जनः सर्वो धिक् त्वां दशरथं त्विति ॥\n",
            "Sanskrit Prediction: तत्म   प र् पि् ां   प  ाा्ता ि्ं ा्। प्रा्त्ता ्ना् पर्वे यरत्तस्वं  व्््ा प्वाजा म\n",
            "Eval (Do work don't expect result): ('यथ उवा यथा तं तत्व सरवजय स्वसमम त्वय स्ववय त्व वचचचचचचच<END>',)\n",
            "--------------------------------------------------\n",
            "Iteration 100 : 2.131826877593994\n",
            "English: king yudhishthira immediately struck him with six arrows. he then cut off the bow and the standard of his antagonist with two razorfaced arrows.\n",
            "Sanskrit Target: तं विव्याधशुगैः षड्भिर्धर्मराजस्त्वरनिव॥ कार्मुकं चास्य चिच्छेद क्षुराभ्यां ध्वजमेव च।\n",
            "Sanskrit Prediction: तत चिपाया ि्र्र सा्रिर्ता्मण्जन्त्रा््ःा तृर्यणत् त प्त त त्छेत्सुषतष्ध्याः पररि््॥ म॥॥ि॥॥॥  ॥॥॥वा॥य ॥ननयस॥ मक   नक॥ ि॥ि॥ य   क यि   ि          य  ेययेा      ॥     ॥         न  म॥सने न    न         वम\n",
            "Eval (Do work don't expect result): ('ततस्वर उवाच<END>',)\n",
            "--------------------------------------------------\n",
            "Epoch 47\n",
            "Iteration 0 : 2.1237475872039795\n",
            "English: when şītā, having a husband although seeming as if she had none, was putting on the ascetic guise, the people got into a wrath and exclaimed, “o dasaratha, fie on you!\"\n",
            "Sanskrit Target: तस्यां चीरं वसानायां नाथवत्यामनाथवत्। प्रचुक्रोश जनः सर्वो धिक् त्वां दशरथं त्विति ॥\n",
            "Sanskrit Prediction: यत्म ं प र् पि् ां   त माा्तं ि्म ा्। त्रा्र्ता ्वग् पर्वे वरत्षस् ा  पु््ा प्वयता च\n",
            "Eval (Do work don't expect result): ('यथा उवा वच<END>',)\n",
            "--------------------------------------------------\n",
            "Iteration 100 : 2.125263214111328\n",
            "English: king yudhishthira immediately struck him with six arrows. he then cut off the bow and the standard of his antagonist with two razorfaced arrows.\n",
            "Sanskrit Target: तं विव्याधशुगैः षड्भिर्धर्मराजस्त्वरनिव॥ कार्मुकं चास्य चिच्छेद क्षुराभ्यां ध्वजमेव च।\n",
            "Sanskrit Prediction: तत तिदाया ि्र्र शो्ठवत्ता्माा न्तमराा्।र त्ल्यणत् प प्त त त्छ्द तुषतषाधियाः पररिा्॥ प॥\n",
            "Eval (Do work don't expect result): ('यथ उवा उवा वचच<END>',)\n",
            "--------------------------------------------------\n",
            "Epoch 48\n",
            "Iteration 0 : 2.0940804481506348\n",
            "English: when şītā, having a husband although seeming as if she had none, was putting on the ascetic guise, the people got into a wrath and exclaimed, “o dasaratha, fie on you!\"\n",
            "Sanskrit Target: तस्यां चीरं वसानायां नाथवत्यामनाथवत्। प्रचुक्रोश जनः सर्वो धिक् त्वां दशरथं त्विति ॥\n",
            "Sanskrit Prediction: अत्म   प र् दि् ांिं पिम ा्तं ि्न ि्। अ्रा्त्ता ानग् सर्व  या ्षस्वं  प्््ा प्वाता॥प\n",
            "Eval (Do work don't expect result): ('यथा उवा वच<END>',)\n",
            "--------------------------------------------------\n",
            "Iteration 100 : 2.1109771728515625\n",
            "English: king yudhishthira immediately struck him with six arrows. he then cut off the bow and the standard of his antagonist with two razorfaced arrows.\n",
            "Sanskrit Target: तं विव्याधशुगैः षड्भिर्धर्मराजस्त्वरनिव॥ कार्मुकं चास्य चिच्छेद क्षुराभ्यां ध्वजमेव च।\n",
            "Sanskrit Prediction: तत तिव्यासि्र्र सा्रिर्तर्मा्तन्तथरा््।ा तुर्यणत् मास्त त तनछेत्वुर् ाः्यान परवि््॥ म॥\n",
            "Eval (Do work don't expect result): ('उवच<END>',)\n",
            "--------------------------------------------------\n",
            "Epoch 49\n",
            "Iteration 0 : 2.1224122047424316\n",
            "English: when şītā, having a husband although seeming as if she had none, was putting on the ascetic guise, the people got into a wrath and exclaimed, “o dasaratha, fie on you!\"\n",
            "Sanskrit Target: तस्यां चीरं वसानायां नाथवत्यामनाथवत्। प्रचुक्रोश जनः सर्वो धिक् त्वां दशरथं त्विति ॥\n",
            "Sanskrit Prediction: तत्म ं प र् ति् ्ं ं दि  ा्ता ि्म ि्। पुरत्त्षु नमन् सम्वे ना ्षस्वंं प्््ा प्वयजः॥म\n",
            "Eval (Do work don't expect result): ('यथा तथेन उवा तं तत्व त्वं वय वचचचवच। प्रवजजय त्व वचचचचचच<END>',)\n",
            "--------------------------------------------------\n",
            "Iteration 100 : 2.0996406078338623\n",
            "English: king yudhishthira immediately struck him with six arrows. he then cut off the bow and the standard of his antagonist with two razorfaced arrows.\n",
            "Sanskrit Target: तं विव्याधशुगैः षड्भिर्धर्मराजस्त्वरनिव॥ कार्मुकं चास्य चिच्छेद क्षुराभ्यां ध्वजमेव च।\n",
            "Sanskrit Prediction: तत तिदाया ि्र्र पा्रिर्तर्मा्  ्तमरा््।र तृर्यणत् द प्त त तिछाद्वररतभाःियात मररिय्व च॥\n",
            "Eval (Do work don't expect result): ('यथ उवा उवाच<END>',)\n",
            "--------------------------------------------------\n"
          ]
        }
      ],
      "source": [
        "import torch\n",
        "import os\n",
        "\n",
        "checkpoint_path = \"checkpoint.pth\"\n",
        "start_epoch = 0\n",
        "total_epochs = 50  # You want to train up to epoch 49\n",
        "\n",
        "if os.path.exists(checkpoint_path):\n",
        "    checkpoint = torch.load(checkpoint_path, map_location=device)\n",
        "    transformer.load_state_dict(checkpoint['model_state_dict'])\n",
        "    optim.load_state_dict(checkpoint['optimizer_state_dict'])\n",
        "    start_epoch = checkpoint['epoch'] + 1\n",
        "    print(f\"Loaded checkpoint from epoch {checkpoint['epoch']}, resuming from epoch {start_epoch}\")\n",
        "else:\n",
        "    print(\"No checkpoint found. Starting from epoch 0.\")\n",
        "\n",
        "# === Resume training from epoch 20 up to 49 ===\n",
        "transformer.train()\n",
        "transformer.to(device)\n",
        "\n",
        "for epoch in range(start_epoch, total_epochs):\n",
        "    print(f\"Epoch {epoch}\")\n",
        "    iterator = iter(train_loader)\n",
        "    for batch_num, batch in enumerate(iterator):\n",
        "        transformer.train()\n",
        "        eng_batch, kn_batch = batch\n",
        "        encoder_self_attention_mask, decoder_self_attention_mask, decoder_cross_attention_mask = create_masks(eng_batch, kn_batch)\n",
        "        optim.zero_grad()\n",
        "        kn_predictions = transformer(eng_batch,\n",
        "                                     kn_batch,\n",
        "                                     encoder_self_attention_mask.to(device), \n",
        "                                     decoder_self_attention_mask.to(device), \n",
        "                                     decoder_cross_attention_mask.to(device),\n",
        "                                     enc_start_token=False,\n",
        "                                     enc_end_token=False,\n",
        "                                     dec_start_token=True,\n",
        "                                     dec_end_token=True)\n",
        "        labels = transformer.decoder.sentence_embedding.batch_tokenize(kn_batch, start_token=False, end_token=True)\n",
        "        loss = criterian(\n",
        "            kn_predictions.view(-1, kn_vocab_size).to(device),\n",
        "            labels.view(-1).to(device)\n",
        "        ).to(device)\n",
        "        valid_indicies = torch.where(labels.view(-1) == sanskrit_to_index[PADDING_TOKEN], False, True)\n",
        "        loss = loss.sum() / valid_indicies.sum()\n",
        "        loss.backward()\n",
        "        optim.step()\n",
        "\n",
        "        if batch_num % 100 == 0:\n",
        "            print(f\"Iteration {batch_num} : {loss.item()}\")\n",
        "            print(f\"English: {eng_batch[0]}\")\n",
        "            print(f\"Sanskrit Target: {kn_batch[0]}\")\n",
        "            kn_sentence_predicted = torch.argmax(kn_predictions[0], axis=1)\n",
        "            predicted_sentence = \"\"\n",
        "            for idx in kn_sentence_predicted:\n",
        "                if idx == sanskrit_to_index[END_TOKEN]:\n",
        "                    break\n",
        "                predicted_sentence += index_to_sanskrit[idx.item()]\n",
        "            print(f\"Sanskrit Prediction: {predicted_sentence}\")\n",
        "\n",
        "            # Evaluation example\n",
        "            transformer.eval()\n",
        "            kn_sentence = (\"\",)\n",
        "            eng_sentence = (\"Do work don't expect result\",)\n",
        "            for word_counter in range(max_sequence_length):\n",
        "                encoder_self_attention_mask, decoder_self_attention_mask, decoder_cross_attention_mask = create_masks(eng_sentence, kn_sentence)\n",
        "                predictions = transformer(eng_sentence,\n",
        "                                          kn_sentence,\n",
        "                                          encoder_self_attention_mask.to(device), \n",
        "                                          decoder_self_attention_mask.to(device), \n",
        "                                          decoder_cross_attention_mask.to(device),\n",
        "                                          enc_start_token=False,\n",
        "                                          enc_end_token=False,\n",
        "                                          dec_start_token=True,\n",
        "                                          dec_end_token=False)\n",
        "                next_token_prob_distribution = predictions[0][word_counter]\n",
        "                next_token_index = torch.argmax(next_token_prob_distribution).item()\n",
        "                next_token = index_to_sanskrit[next_token_index]\n",
        "                kn_sentence = (kn_sentence[0] + next_token, )\n",
        "                if next_token == END_TOKEN:\n",
        "                    break\n",
        "            print(f\"Eval (Do work don't expect result): {kn_sentence}\")\n",
        "            print(\"--------------------------------------------------\")\n",
        "\n",
        "    # ✅ Save checkpoint after each epoch\n",
        "    torch.save({\n",
        "        'epoch': epoch,\n",
        "        'model_state_dict': transformer.state_dict(),\n",
        "        'optimizer_state_dict': optim.state_dict(),\n",
        "        'loss': loss.item()\n",
        "    }, checkpoint_path)\n"
      ]
    },
    {
      "cell_type": "markdown",
      "metadata": {
        "id": "1nosVPGVijId"
      },
      "source": [
        "## Inference"
      ]
    },
    {
      "cell_type": "code",
      "execution_count": 98,
      "metadata": {
        "id": "ZOQe-juylBiJ"
      },
      "outputs": [],
      "source": [
        "transformer.eval()\n",
        "def translate(eng_sentence):\n",
        "  eng_sentence = (eng_sentence,)\n",
        "  kn_sentence = (\"\",)\n",
        "  for word_counter in range(max_sequence_length):\n",
        "    encoder_self_attention_mask, decoder_self_attention_mask, decoder_cross_attention_mask= create_masks(eng_sentence, kn_sentence)\n",
        "    predictions = transformer(eng_sentence,\n",
        "                              kn_sentence,\n",
        "                              encoder_self_attention_mask.to(device), \n",
        "                              decoder_self_attention_mask.to(device), \n",
        "                              decoder_cross_attention_mask.to(device),\n",
        "                              enc_start_token=False,\n",
        "                              enc_end_token=False,\n",
        "                              dec_start_token=True,\n",
        "                              dec_end_token=False)\n",
        "    next_token_prob_distribution = predictions[0][word_counter]\n",
        "    next_token_index = torch.argmax(next_token_prob_distribution).item()\n",
        "    next_token = index_to_sanskrit[next_token_index]\n",
        "    kn_sentence = (kn_sentence[0] + next_token, )\n",
        "    if next_token == END_TOKEN:\n",
        "      break\n",
        "  return kn_sentence[0]"
      ]
    },
    {
      "cell_type": "code",
      "execution_count": 111,
      "metadata": {
        "colab": {
          "base_uri": "https://localhost:8080/"
        },
        "id": "BDVH_YsxlK6q",
        "outputId": "83c47f99-53c0-4c2d-c26a-aaa426f50563"
      },
      "outputs": [
        {
          "name": "stdout",
          "output_type": "stream",
          "text": [
            "ततो मा महार्थानां तु प्रत्ये तव त्वं त्वं त्वं त्वं त्वं तेन तेन महान्॥<END>\n"
          ]
        }
      ],
      "source": [
        "#Epoch of 20\n",
        "translation = translate(\"Your right is to perform your duty only, but never to its fruits.\")\n",
        "print(translation)\n",
        "#कर्मण्येवाधिकारस्ते मा फलेषु कदाचन\n"
      ]
    },
    {
      "cell_type": "code",
      "execution_count": 99,
      "metadata": {},
      "outputs": [
        {
          "name": "stdout",
          "output_type": "stream",
          "text": [
            "ततो युद्धा महाराज न पुन्त्रामि प्रति। अन्त्र समान्यां प्राप्य संग्राणां प्रवीत्॥<END>\n"
          ]
        }
      ],
      "source": [
        "#Epoch of 50\n",
        "translation = translate(\"\"\"Your right is to perform your duty only, but never to its fruits.\" This quote emphasizes focusing on action rather than the outcome\"\"\")\n",
        "print(translation)\n",
        "#कर्मण्येवाधिकारस्ते मा फलेषु कदाचन"
      ]
    },
    {
      "cell_type": "code",
      "execution_count": 95,
      "metadata": {},
      "outputs": [
        {
          "name": "stdout",
          "output_type": "stream",
          "text": [
            "तत्राण्या सम्या काल्वा प्राण्या प्राण्डवान्। प्राज्च प्राण्या प्राण्या प्राज्यान्ति प्राज्ट्ट्राणा प्राज्या सराज्यान्या प्यान्यान्यानित्या स्यारि प्या स्या प्यास्यामानितिते॥<END>\n"
          ]
        }
      ],
      "source": [
        "#After 20 epoches\n",
        "translation = translate(\"\"\"When Şītā, having a husband although seeming as if she had none, was putting on the ascetic guise, the people got into a wrath and exclaimed, “O Dasaratha, fie on you!\" \"\"\")\n",
        "print(translation)"
      ]
    },
    {
      "cell_type": "code",
      "execution_count": 100,
      "metadata": {},
      "outputs": [
        {
          "name": "stdout",
          "output_type": "stream",
          "text": [
            "ततः स तु सुमुख्यान् सर्वे प्राप्तथा। प्राप्ता न विद्धा न त्वं प्राप्ता न च पुनः॥<END>\n"
          ]
        }
      ],
      "source": [
        "#After 50 epoches\n",
        "translation = translate(\"\"\"When Şītā, having a husband although seeming as if she had none, was putting on the ascetic guise, the people got into a wrath and exclaimed, “O Dasaratha, fie on you!\" \"\"\")\n",
        "print(translation)"
      ]
    },
    {
      "cell_type": "code",
      "execution_count": 93,
      "metadata": {
        "colab": {
          "base_uri": "https://localhost:8080/"
        },
        "id": "BQwDbuWBlmmA",
        "outputId": "7ae0e2c0-02c0-4c74-bc47-26b67da55a06"
      },
      "outputs": [
        {
          "name": "stdout",
          "output_type": "stream",
          "text": [
            "स<END>\n"
          ]
        }
      ],
      "source": [
        "#After 20 epoches\n",
        "translation = translate(\"i am here\")\n",
        "print(translation)"
      ]
    },
    {
      "cell_type": "code",
      "execution_count": 101,
      "metadata": {},
      "outputs": [
        {
          "name": "stdout",
          "output_type": "stream",
          "text": [
            "यथ<END>\n"
          ]
        }
      ],
      "source": [
        "#After 50 epoches\n",
        "translation = translate(\"i am here\")\n",
        "print(translation)"
      ]
    },
    {
      "cell_type": "code",
      "execution_count": 102,
      "metadata": {
        "colab": {
          "base_uri": "https://localhost:8080/"
        },
        "id": "FSrsqEGmtcl2",
        "outputId": "1b8b8faa-5370-426a-f2f2-fe852696bf7a"
      },
      "outputs": [
        {
          "name": "stdout",
          "output_type": "stream",
          "text": [
            "यथे वय उवा वय तस्वव क्षव प्रवय वयस्वय त्वय तस्वव वय त्वयस्वस्वय वय वय॥<END>\n"
          ]
        }
      ],
      "source": [
        "translation = translate(\"why did they do this?\")\n",
        "print(translation)\n"
      ]
    },
    {
      "cell_type": "code",
      "execution_count": 103,
      "metadata": {
        "colab": {
          "base_uri": "https://localhost:8080/"
        },
        "id": "zjTcH2HFtyld",
        "outputId": "9dea5498-f139-4cbd-ee8c-6108e1b92fc4"
      },
      "outputs": [
        {
          "name": "stdout",
          "output_type": "stream",
          "text": [
            "यस उवा वच<END>\n"
          ]
        }
      ],
      "source": [
        "translation = translate(\"i am well.\")\n",
        "print(translation)\n"
      ]
    },
    {
      "cell_type": "code",
      "execution_count": 108,
      "metadata": {},
      "outputs": [
        {
          "data": {
            "text/plain": [
              "'ततः स्थेवा तु ते ते तव त्वं ते तव ते तव ते॥<END>'"
            ]
          },
          "execution_count": 108,
          "metadata": {},
          "output_type": "execute_result"
        }
      ],
      "source": [
        "translation = translate(\" do you enjoy this kingdom rid of your thorn\")\n",
        "translation"
      ]
    },
    {
      "cell_type": "code",
      "execution_count": 119,
      "metadata": {},
      "outputs": [
        {
          "name": "stdout",
          "output_type": "stream",
          "text": [
            "यथा तं यवच ते वय त्वं तं पररिच प्रववच। ते वं तं वच ते वय त्वं संय वचेव तं तव॥<END>\n"
          ]
        }
      ],
      "source": [
        "translation = translate(\"your exertions are to no purpose\")\n",
        "print(translation)\n"
      ]
    },
    {
      "cell_type": "code",
      "execution_count": null,
      "metadata": {},
      "outputs": [
        {
          "name": "stdout",
          "output_type": "stream",
          "text": [
            "✅ Sanskrit vocabulary data exported to: ../models/sanskrit_vocabulary.pkl\n",
            "📊 Contents saved:\n",
            "   - Sanskrit vocabulary: 89 tokens\n",
            "   - English vocabulary: 183 tokens\n",
            "   - Index mappings for both languages\n",
            "   - Special tokens: <START>, <END>, <PADDING>\n",
            "   - Model parameters\n",
            "📁 File size: 3,910 bytes\n"
          ]
        }
      ],
      "source": [
        "# import pickle\n",
        "# import os\n",
        "\n",
        "# # Create models directory if it doesn't exist\n",
        "# models_dir = '../models'\n",
        "# os.makedirs(models_dir, exist_ok=True)\n",
        "\n",
        "# # Create comprehensive vocabulary data structure\n",
        "# vocabulary_data = {\n",
        "#     'sanskrit_vocabulary': sanskrit_vocabulary,\n",
        "#     'english_vocabulary': english_vocabulary,\n",
        "#     'sanskrit_to_index': sanskrit_to_index,\n",
        "#     'index_to_sanskrit': index_to_sanskrit,\n",
        "#     'english_to_index': english_to_index,\n",
        "#     'index_to_english': index_to_english,\n",
        "#     'special_tokens': {\n",
        "#         'START_TOKEN': START_TOKEN,\n",
        "#         'END_TOKEN': END_TOKEN,\n",
        "#         'PADDING_TOKEN': PADDING_TOKEN\n",
        "#     },\n",
        "#     'vocab_sizes': {\n",
        "#         'sanskrit_vocab_size': len(sanskrit_vocabulary),\n",
        "#         'english_vocab_size': len(english_vocabulary)\n",
        "#     },\n",
        "#     'model_params': {\n",
        "#         'max_sequence_length': max_sequence_length,\n",
        "#         'd_model': d_model,\n",
        "#         'num_heads': num_heads,\n",
        "#         'num_layers': num_layers,\n",
        "#         'ffn_hidden': ffn_hidden,\n",
        "#         'drop_prob': drop_prob\n",
        "#     }\n",
        "# }\n",
        "\n",
        "# # Save to pickle file\n",
        "# pkl_file_path = os.path.join(models_dir, 'sanskrit_vocabulary.pkl')\n",
        "# with open(pkl_file_path, 'wb') as f:\n",
        "#     pickle.dump(vocabulary_data, f)\n",
        "\n",
        "# print(f\"✅ Sanskrit vocabulary data exported to: {pkl_file_path}\")\n",
        "# print(f\"📊 Contents saved:\")\n",
        "# print(f\"   - Sanskrit vocabulary: {len(sanskrit_vocabulary)} tokens\")\n",
        "# print(f\"   - English vocabulary: {len(english_vocabulary)} tokens\")\n",
        "# print(f\"   - Index mappings for both languages\")\n",
        "# print(f\"   - Special tokens: {START_TOKEN}, {END_TOKEN}, {PADDING_TOKEN}\")\n",
        "# print(f\"   - Model parameters\")\n",
        "\n",
        "# # Verify the file was created\n",
        "# if os.path.exists(pkl_file_path):\n",
        "#     file_size = os.path.getsize(pkl_file_path)\n",
        "#     print(f\"📁 File size: {file_size:,} bytes\")\n",
        "# else:\n",
        "#     print(\"❌ Error: File was not created successfully\")"
      ]
    },
    {
      "cell_type": "code",
      "execution_count": null,
      "metadata": {},
      "outputs": [
        {
          "name": "stdout",
          "output_type": "stream",
          "text": [
            "Sanskrit vocabulary exported to: ../models/sanskrit_vocabulary.pkl\n",
            "Vocabulary size: 89 characters\n",
            "Contains: 8 data fields\n",
            "\n",
            "Exported data includes:\n",
            "  - sanskrit_vocabulary: 89 items\n",
            "  - english_vocabulary: 183 items\n",
            "  - sanskrit_to_index: 89 items\n",
            "  - index_to_sanskrit: 89 items\n",
            "  - english_to_index: 182 items\n",
            "  - index_to_english: 183 items\n",
            "  - vocab_size: 89\n",
            "  - special_tokens: 3 items\n"
          ]
        }
      ],
      "source": [
        "# import pickle\n",
        "# import os\n",
        "\n",
        "# # Export Sanskrit vocabulary and mappings to pickle file\n",
        "# vocabulary_data = {\n",
        "#     'sanskrit_vocabulary': sanskrit_vocabulary,\n",
        "#     'english_vocabulary': english_vocabulary,\n",
        "#     'sanskrit_to_index': sanskrit_to_index,\n",
        "#     'index_to_sanskrit': index_to_sanskrit,\n",
        "#     'english_to_index': english_to_index,\n",
        "#     'index_to_english': index_to_english,\n",
        "#     'vocab_size': len(sanskrit_vocabulary),\n",
        "#     'special_tokens': {\n",
        "#         'START_TOKEN': START_TOKEN,\n",
        "#         'PADDING_TOKEN': PADDING_TOKEN,\n",
        "#         'END_TOKEN': END_TOKEN\n",
        "#     }\n",
        "# }\n",
        "\n",
        "# # Create output directory if it doesn't exist\n",
        "# os.makedirs('../models', exist_ok=True)\n",
        "\n",
        "# # Save vocabulary to pickle file\n",
        "# vocab_file_path = '../models/sanskrit_vocabulary.pkl'\n",
        "# with open(vocab_file_path, 'wb') as f:\n",
        "#     pickle.dump(vocabulary_data, f)\n",
        "\n",
        "# print(f\"Sanskrit vocabulary exported to: {vocab_file_path}\")\n",
        "# print(f\"Vocabulary size: {len(sanskrit_vocabulary)} characters\")\n",
        "# print(f\"Contains: {len(vocabulary_data)} data fields\")\n",
        "# print(\"\\nExported data includes:\")\n",
        "# for key in vocabulary_data.keys():\n",
        "#     if isinstance(vocabulary_data[key], dict):\n",
        "#         print(f\"  - {key}: {len(vocabulary_data[key])} items\")\n",
        "#     elif isinstance(vocabulary_data[key], list):\n",
        "#         print(f\"  - {key}: {len(vocabulary_data[key])} items\")\n",
        "#     else:\n",
        "#         print(f\"  - {key}: {vocabulary_data[key]}\")"
      ]
    },
    {
      "cell_type": "code",
      "execution_count": null,
      "metadata": {},
      "outputs": [],
      "source": []
    }
  ],
  "metadata": {
    "accelerator": "GPU",
    "colab": {
      "provenance": []
    },
    "gpuClass": "standard",
    "kernelspec": {
      "display_name": "myenv",
      "language": "python",
      "name": "python3"
    },
    "language_info": {
      "codemirror_mode": {
        "name": "ipython",
        "version": 3
      },
      "file_extension": ".py",
      "mimetype": "text/x-python",
      "name": "python",
      "nbconvert_exporter": "python",
      "pygments_lexer": "ipython3",
      "version": "3.13.1"
    }
  },
  "nbformat": 4,
  "nbformat_minor": 0
}

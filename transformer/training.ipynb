{
 "cells": [
  {
   "cell_type": "code",
   "execution_count": 1,
   "id": "fc42d5ae",
   "metadata": {},
   "outputs": [],
   "source": [
    "from transformer import Transformer # this is the transformer.py file\n",
    "import torch\n",
    "import numpy as np"
   ]
  },
  {
   "cell_type": "code",
   "execution_count": 2,
   "id": "e814c77d",
   "metadata": {},
   "outputs": [],
   "source": [
    "english_file = '../data/train.en'\n",
    "sanskrit_file = '../data/train.sn'\n",
    "\n",
    "START_TOKEN = ''\n",
    "PADDING_TOKEN = ''\n",
    "END_TOKEN = ''\n",
    "\n",
    "sanskrit_vocabulary = [\n",
    "    START_TOKEN, ' ', '!', '\"', \"'\", '(', ')', ',', '-', '.', '?', ':', ';',\n",
    "    '0', '1', '2', '3', '4', '5', '6', '7', '8', '9',\n",
    "\n",
    "    # Independent vowels\n",
    "    'अ', 'आ', 'इ', 'ई', 'उ', 'ऊ', 'ऋ', 'ॠ', 'ऌ', 'ॡ', 'ए', 'ऐ', 'ओ', 'औ',\n",
    "    \n",
    "    # Consonants\n",
    "    'क', 'ख', 'ग', 'घ', 'ङ',\n",
    "    'च', 'छ', 'ज', 'झ', 'ञ',\n",
    "    'ट', 'ठ', 'ड', 'ढ', 'ण',\n",
    "    'त', 'थ', 'द', 'ध', 'न',\n",
    "    'प', 'फ', 'ब', 'भ', 'म',\n",
    "    'य', 'र', 'ल', 'व',\n",
    "    'श', 'ष', 'स', 'ह',\n",
    "\n",
    "    # Vowel signs\n",
    "    'ा', 'ि', 'ी', 'ु', 'ू', 'ृ', 'ॄ', 'े', 'ै', 'ो', 'ौ',\n",
    "\n",
    "    # Other signs\n",
    "    'ं', 'ः', 'ँ', '्',  # virama, anusvara, visarga, chandrabindu\n",
    "    '।', '॥',  # danda marks\n",
    "\n",
    "    # Special tokens\n",
    "    PADDING_TOKEN, END_TOKEN\n",
    "]\n",
    "\n",
    "english_vocabulary = [START_TOKEN, ' ', '!', '\"', '#', '$', '%', '&', \"'\", '(', ')', '*', '+', ',', '-', '.', '/', \n",
    "                        '0', '1', '2', '3', '4', '5', '6', '7', '8', '9',\n",
    "                        ':', '<', '=', '>', '?', '@', \n",
    "                        'A', 'B', 'C', 'D', 'E', 'F', 'G', 'H', 'I', 'J', 'K', 'L', \n",
    "                        'M', 'N', 'O', 'P', 'Q', 'R', 'S', 'T', 'U', 'V', 'W', 'X', \n",
    "                        'Y', 'Z',\n",
    "                            # Diacritic letters used in IAST transliteration\n",
    "    'ā', 'ī', 'ū', 'ṛ', 'ṝ', 'ḷ', 'ḹ',\n",
    "    'ṅ', 'ñ', 'ṭ', 'ḍ', 'ṇ',\n",
    "    'ś', 'ṣ', 'ḻ',\n",
    "\n",
    "    # Capital versions (if any)\n",
    "    'Ā', 'Ī', 'Ū', 'Ṛ', 'Ṝ', 'Ḷ', 'Ḹ',\n",
    "    'Ṅ', 'Ñ', 'Ṭ', 'Ḍ', 'Ṇ',\n",
    "    'Ś', 'Ṣ', 'Ḻ',\n",
    "                        '_',\n",
    "                        'a', 'b', 'c', 'd', 'e', 'f', 'g', 'h', 'i', 'j', 'k', 'l',\n",
    "                        'm', 'n', 'o', 'p', 'q', 'r', 's', 't', 'u', 'v', 'w', 'x', \n",
    "                        'y', 'z', \n",
    "                        '{', '|', '}', '~', PADDING_TOKEN, END_TOKEN]"
   ]
  },
  {
   "cell_type": "code",
   "execution_count": null,
   "id": "00fbe3f4",
   "metadata": {},
   "outputs": [],
   "source": []
  }
 ],
 "metadata": {
  "kernelspec": {
   "display_name": "myenv",
   "language": "python",
   "name": "python3"
  },
  "language_info": {
   "codemirror_mode": {
    "name": "ipython",
    "version": 3
   },
   "file_extension": ".py",
   "mimetype": "text/x-python",
   "name": "python",
   "nbconvert_exporter": "python",
   "pygments_lexer": "ipython3",
   "version": "3.13.1"
  }
 },
 "nbformat": 4,
 "nbformat_minor": 5
}

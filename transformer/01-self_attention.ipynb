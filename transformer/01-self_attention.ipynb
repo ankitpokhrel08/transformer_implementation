{
 "cells": [
  {
   "cell_type": "code",
   "execution_count": 1,
   "id": "88022958",
   "metadata": {},
   "outputs": [],
   "source": [
    "import numpy as np\n",
    "import math\n",
    "\n",
    "L, d_k, d_v = 4, 8, 8\n",
    "q = np.random.randn(L, d_k)\n",
    "k = np.random.randn(L, d_k)\n",
    "v = np.random.randn(L, d_v)"
   ]
  },
  {
   "cell_type": "code",
   "execution_count": 2,
   "id": "955015ce",
   "metadata": {},
   "outputs": [
    {
     "name": "stdout",
     "output_type": "stream",
     "text": [
      "Q\n",
      " [[-0.53021291  0.17351938 -2.80372733  1.36853866 -0.62573526 -0.78760894\n",
      "   0.87646577 -0.29423695]\n",
      " [-0.61079107 -0.28797028  0.19836336  0.16409689 -0.31869415  1.38278105\n",
      "   0.25201184  1.22194168]\n",
      " [ 0.47424825  1.86374193 -0.18145084 -0.2654385  -0.01710023  1.4925224\n",
      "   0.04318913 -1.14576111]\n",
      " [-0.67504673  1.13966909 -0.18227342 -0.89253254 -1.11796724 -0.47959207\n",
      "  -1.61684476 -0.38093655]]\n",
      "K\n",
      " [[-1.50791136e+00 -1.02548933e+00  1.32186843e+00  6.69433702e-01\n",
      "  -7.11392191e-01 -6.09670864e-04  3.10016980e-01 -5.51820988e-01]\n",
      " [-6.25872602e-01  1.85842578e+00  6.16654571e-01 -1.36516740e-01\n",
      "  -8.68447851e-01  3.19752629e-01  5.32315132e-01 -1.88929267e+00]\n",
      " [-1.74681454e-01 -6.22473374e-01 -2.06277244e+00 -1.45441534e-01\n",
      "  -1.31098537e+00  1.86493034e-01 -3.30760078e-01  1.82804623e+00]\n",
      " [-1.94555521e-01 -6.24075896e-01 -1.43470780e+00 -7.47771927e-01\n",
      "   6.39369278e-01 -2.50337344e+00  1.21469967e+00  3.35458618e-01]]\n",
      "V\n",
      " [[-0.75019022  0.40213689  0.87469443 -0.08750707  0.30595976  0.57752085\n",
      "  -0.66289836 -1.41503872]\n",
      " [-0.23395663 -0.26539431 -0.6784999  -0.7527228  -0.97216284  1.15868743\n",
      "   0.31064158 -0.41829304]\n",
      " [-0.1504113   1.23816146  1.47606625  1.35739857  1.8365123  -1.27824809\n",
      "   0.47251054 -0.36114874]\n",
      " [ 0.79733874 -1.33763958 -0.66016079  1.67229083  2.64740769 -1.09484413\n",
      "   0.52757604 -1.46474318]]\n"
     ]
    }
   ],
   "source": [
    "print(\"Q\\n\", q)\n",
    "print(\"K\\n\", k)\n",
    "print(\"V\\n\", v)"
   ]
  },
  {
   "cell_type": "code",
   "execution_count": null,
   "id": "439b0f9b",
   "metadata": {},
   "outputs": [
    {
     "data": {
      "text/plain": [
       "array([[-1.2887322 ,  0.05259302,  5.41468384,  5.53158304],\n",
       "       [ 1.21809987, -1.50851289,  2.67899554, -3.05810347],\n",
       "       [-2.38702001,  5.77090827, -2.63810085, -4.87573555],\n",
       "       [-0.48467569,  3.22650468,  1.12892056, -1.25695118]])"
      ]
     },
     "execution_count": 3,
     "metadata": {},
     "output_type": "execute_result"
    }
   ],
   "source": [
    "\n",
    "#Self-attention\n",
    "np.matmul(q, k.T)"
   ]
  },
  {
   "cell_type": "code",
   "execution_count": 4,
   "id": "8a8d87e1",
   "metadata": {},
   "outputs": [
    {
     "data": {
      "text/plain": [
       "(np.float64(0.9364650972271772),\n",
       " np.float64(1.086444058695338),\n",
       " np.float64(10.097741326679849))"
      ]
     },
     "execution_count": 4,
     "metadata": {},
     "output_type": "execute_result"
    }
   ],
   "source": [
    "\n",
    "# Why we need sqrt(d_k) in denominator\n",
    "q.var(), k.var(), np.matmul(q, k.T).var()"
   ]
  },
  {
   "cell_type": "code",
   "execution_count": 5,
   "id": "c9704c9f",
   "metadata": {},
   "outputs": [
    {
     "data": {
      "text/plain": [
       "(np.float64(0.9364650972271772),\n",
       " np.float64(1.086444058695338),\n",
       " np.float64(1.262217665834981))"
      ]
     },
     "execution_count": 5,
     "metadata": {},
     "output_type": "execute_result"
    }
   ],
   "source": [
    "\n",
    "scaled = np.matmul(q, k.T) / math.sqrt(d_k)\n",
    "q.var(), k.var(), scaled.var()"
   ]
  },
  {
   "cell_type": "code",
   "execution_count": 6,
   "id": "778a4aa6",
   "metadata": {},
   "outputs": [
    {
     "data": {
      "text/plain": [
       "(np.float64(0.9364650972271772),\n",
       " np.float64(1.086444058695338),\n",
       " np.float64(1.262217665834981))"
      ]
     },
     "execution_count": 6,
     "metadata": {},
     "output_type": "execute_result"
    }
   ],
   "source": [
    "scaled = np.matmul(q, k.T) / math.sqrt(d_k)\n",
    "q.var(), k.var(), scaled.var()"
   ]
  },
  {
   "cell_type": "code",
   "execution_count": null,
   "id": "a56f2f07",
   "metadata": {},
   "outputs": [
    {
     "data": {
      "text/plain": [
       "array([[-0.45563564,  0.01859444,  1.91437983,  1.95570994],\n",
       "       [ 0.43066334, -0.53333985,  0.94716796, -1.08120285],\n",
       "       [-0.84393902,  2.04032419, -0.9327095 , -1.72383284],\n",
       "       [-0.17135873,  1.14074167,  0.39913369, -0.44439935]])"
      ]
     },
     "execution_count": 7,
     "metadata": {},
     "output_type": "execute_result"
    }
   ],
   "source": [
    "scaled"
   ]
  },
  {
   "cell_type": "code",
   "execution_count": 8,
   "id": "d01e2dc9",
   "metadata": {},
   "outputs": [
    {
     "data": {
      "text/plain": [
       "array([[1., 0., 0., 0.],\n",
       "       [1., 1., 0., 0.],\n",
       "       [1., 1., 1., 0.],\n",
       "       [1., 1., 1., 1.]])"
      ]
     },
     "execution_count": 8,
     "metadata": {},
     "output_type": "execute_result"
    }
   ],
   "source": [
    "#Masking\n",
    "\n",
    "mask = np.tril(np.ones( (L, L) ))\n",
    "mask"
   ]
  },
  {
   "cell_type": "code",
   "execution_count": 12,
   "id": "2ea888d3",
   "metadata": {},
   "outputs": [],
   "source": [
    "mask[mask == 0] = -np.inf\n",
    "mask[mask == 1] = 0"
   ]
  },
  {
   "cell_type": "code",
   "execution_count": 13,
   "id": "4ebc27ae",
   "metadata": {},
   "outputs": [
    {
     "data": {
      "text/plain": [
       "array([[  0., -inf, -inf, -inf],\n",
       "       [  0.,   0., -inf, -inf],\n",
       "       [  0.,   0.,   0., -inf],\n",
       "       [  0.,   0.,   0.,   0.]])"
      ]
     },
     "execution_count": 13,
     "metadata": {},
     "output_type": "execute_result"
    }
   ],
   "source": [
    "mask"
   ]
  },
  {
   "cell_type": "code",
   "execution_count": null,
   "id": "7b63e9f6",
   "metadata": {},
   "outputs": [
    {
     "data": {
      "text/plain": [
       "array([[-0.45563564,        -inf,        -inf,        -inf],\n",
       "       [ 0.43066334, -0.53333985,        -inf,        -inf],\n",
       "       [-0.84393902,  2.04032419, -0.9327095 ,        -inf],\n",
       "       [-0.17135873,  1.14074167,  0.39913369, -0.44439935]])"
      ]
     },
     "execution_count": 14,
     "metadata": {},
     "output_type": "execute_result"
    }
   ],
   "source": [
    "scaled + mask"
   ]
  },
  {
   "cell_type": "code",
   "execution_count": 15,
   "id": "ac2b24f2",
   "metadata": {},
   "outputs": [],
   "source": [
    "#Now we use softmax to get attention weights\n",
    "\n",
    "def softmax(x):\n",
    "  return (np.exp(x).T / np.sum(np.exp(x), axis=-1)).T"
   ]
  },
  {
   "cell_type": "code",
   "execution_count": null,
   "id": "d63b2cdc",
   "metadata": {},
   "outputs": [],
   "source": [
    "\n",
    "#With mask we remove data leakage\n",
    "attention = softmax(scaled + mask)"
   ]
  },
  {
   "cell_type": "code",
   "execution_count": 18,
   "id": "5b2d2d31",
   "metadata": {},
   "outputs": [
    {
     "data": {
      "text/plain": [
       "array([[1.        , 0.        , 0.        , 0.        ],\n",
       "       [0.72392259, 0.27607741, 0.        , 0.        ],\n",
       "       [0.05049119, 0.90330657, 0.04620224, 0.        ],\n",
       "       [0.13804211, 0.51268376, 0.24421555, 0.10505859]])"
      ]
     },
     "execution_count": 18,
     "metadata": {},
     "output_type": "execute_result"
    }
   ],
   "source": [
    "attention"
   ]
  },
  {
   "cell_type": "code",
   "execution_count": 19,
   "id": "4c0805e0",
   "metadata": {},
   "outputs": [
    {
     "data": {
      "text/plain": [
       "array([[-0.75019022,  0.40213689,  0.87469443, -0.08750707,  0.30595976,\n",
       "         0.57752085, -0.66289836, -1.41503872],\n",
       "       [-0.60766979,  0.21784661,  0.44589257, -0.27115811, -0.04690101,\n",
       "         0.73796781, -0.39412598, -1.13985976],\n",
       "       [-0.25616189, -0.16222222, -0.50053149, -0.62164293, -0.77786182,\n",
       "         1.01675176,  0.2689651 , -0.46597971],\n",
       "       [-0.1764691 ,  0.08129623,  0.06401155,  0.10919793,  0.270461  ,\n",
       "         0.24657159,  0.23857381, -0.65186896]])"
      ]
     },
     "execution_count": 19,
     "metadata": {},
     "output_type": "execute_result"
    }
   ],
   "source": [
    "\n",
    "new_v = np.matmul(attention, v)\n",
    "new_v"
   ]
  },
  {
   "cell_type": "code",
   "execution_count": 20,
   "id": "cf992767",
   "metadata": {},
   "outputs": [
    {
     "data": {
      "text/plain": [
       "array([[-0.75019022,  0.40213689,  0.87469443, -0.08750707,  0.30595976,\n",
       "         0.57752085, -0.66289836, -1.41503872],\n",
       "       [-0.23395663, -0.26539431, -0.6784999 , -0.7527228 , -0.97216284,\n",
       "         1.15868743,  0.31064158, -0.41829304],\n",
       "       [-0.1504113 ,  1.23816146,  1.47606625,  1.35739857,  1.8365123 ,\n",
       "        -1.27824809,  0.47251054, -0.36114874],\n",
       "       [ 0.79733874, -1.33763958, -0.66016079,  1.67229083,  2.64740769,\n",
       "        -1.09484413,  0.52757604, -1.46474318]])"
      ]
     },
     "execution_count": 20,
     "metadata": {},
     "output_type": "execute_result"
    }
   ],
   "source": [
    "v"
   ]
  },
  {
   "cell_type": "markdown",
   "id": "a99288a0",
   "metadata": {},
   "source": [
    "### Final function to summarize whole thing!"
   ]
  },
  {
   "cell_type": "code",
   "execution_count": 21,
   "id": "75112440",
   "metadata": {},
   "outputs": [],
   "source": [
    "def softmax(x):\n",
    "  return (np.exp(x).T / np.sum(np.exp(x), axis=-1)).T\n",
    "\n",
    "def scaled_dot_product_attention(q, k, v, mask=None):\n",
    "  d_k = q.shape[-1]\n",
    "  scaled = np.matmul(q, k.T) / math.sqrt(d_k)\n",
    "  if mask is not None:\n",
    "    scaled = scaled + mask\n",
    "  attention = softmax(scaled)\n",
    "  out = np.matmul(attention, v)\n",
    "  return out, attention"
   ]
  },
  {
   "cell_type": "code",
   "execution_count": 22,
   "id": "062a130a",
   "metadata": {},
   "outputs": [
    {
     "name": "stdout",
     "output_type": "stream",
     "text": [
      "Q\n",
      " [[-0.53021291  0.17351938 -2.80372733  1.36853866 -0.62573526 -0.78760894\n",
      "   0.87646577 -0.29423695]\n",
      " [-0.61079107 -0.28797028  0.19836336  0.16409689 -0.31869415  1.38278105\n",
      "   0.25201184  1.22194168]\n",
      " [ 0.47424825  1.86374193 -0.18145084 -0.2654385  -0.01710023  1.4925224\n",
      "   0.04318913 -1.14576111]\n",
      " [-0.67504673  1.13966909 -0.18227342 -0.89253254 -1.11796724 -0.47959207\n",
      "  -1.61684476 -0.38093655]]\n",
      "K\n",
      " [[-1.50791136e+00 -1.02548933e+00  1.32186843e+00  6.69433702e-01\n",
      "  -7.11392191e-01 -6.09670864e-04  3.10016980e-01 -5.51820988e-01]\n",
      " [-6.25872602e-01  1.85842578e+00  6.16654571e-01 -1.36516740e-01\n",
      "  -8.68447851e-01  3.19752629e-01  5.32315132e-01 -1.88929267e+00]\n",
      " [-1.74681454e-01 -6.22473374e-01 -2.06277244e+00 -1.45441534e-01\n",
      "  -1.31098537e+00  1.86493034e-01 -3.30760078e-01  1.82804623e+00]\n",
      " [-1.94555521e-01 -6.24075896e-01 -1.43470780e+00 -7.47771927e-01\n",
      "   6.39369278e-01 -2.50337344e+00  1.21469967e+00  3.35458618e-01]]\n",
      "V\n",
      " [[-0.75019022  0.40213689  0.87469443 -0.08750707  0.30595976  0.57752085\n",
      "  -0.66289836 -1.41503872]\n",
      " [-0.23395663 -0.26539431 -0.6784999  -0.7527228  -0.97216284  1.15868743\n",
      "   0.31064158 -0.41829304]\n",
      " [-0.1504113   1.23816146  1.47606625  1.35739857  1.8365123  -1.27824809\n",
      "   0.47251054 -0.36114874]\n",
      " [ 0.79733874 -1.33763958 -0.66016079  1.67229083  2.64740769 -1.09484413\n",
      "   0.52757604 -1.46474318]]\n",
      "New V\n",
      " [[-0.75019022  0.40213689  0.87469443 -0.08750707  0.30595976  0.57752085\n",
      "  -0.66289836 -1.41503872]\n",
      " [-0.60766979  0.21784661  0.44589257 -0.27115811 -0.04690101  0.73796781\n",
      "  -0.39412598 -1.13985976]\n",
      " [-0.25616189 -0.16222222 -0.50053149 -0.62164293 -0.77786182  1.01675176\n",
      "   0.2689651  -0.46597971]\n",
      " [-0.1764691   0.08129623  0.06401155  0.10919793  0.270461    0.24657159\n",
      "   0.23857381 -0.65186896]]\n",
      "Attention\n",
      " [[1.         0.         0.         0.        ]\n",
      " [0.72392259 0.27607741 0.         0.        ]\n",
      " [0.05049119 0.90330657 0.04620224 0.        ]\n",
      " [0.13804211 0.51268376 0.24421555 0.10505859]]\n"
     ]
    }
   ],
   "source": [
    "values, attention = scaled_dot_product_attention(q, k, v, mask=mask)\n",
    "print(\"Q\\n\", q)\n",
    "print(\"K\\n\", k)\n",
    "print(\"V\\n\", v)\n",
    "print(\"New V\\n\", values)\n",
    "print(\"Attention\\n\", attention)"
   ]
  },
  {
   "cell_type": "code",
   "execution_count": null,
   "id": "be474dc4",
   "metadata": {},
   "outputs": [],
   "source": []
  }
 ],
 "metadata": {
  "kernelspec": {
   "display_name": "myenv",
   "language": "python",
   "name": "python3"
  },
  "language_info": {
   "codemirror_mode": {
    "name": "ipython",
    "version": 3
   },
   "file_extension": ".py",
   "mimetype": "text/x-python",
   "name": "python",
   "nbconvert_exporter": "python",
   "pygments_lexer": "ipython3",
   "version": "3.13.1"
  }
 },
 "nbformat": 4,
 "nbformat_minor": 5
}

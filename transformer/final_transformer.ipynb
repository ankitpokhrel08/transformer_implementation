{
  "cells": [
    {
      "cell_type": "code",
      "execution_count": 111,
      "metadata": {
        "id": "FOwRggVcwtzP"
      },
      "outputs": [
        {
          "name": "stdout",
          "output_type": "stream",
          "text": [
            "CUDA available: False\n",
            "CUDA not available - will use CPU\n",
            "Using device: cpu\n"
          ]
        }
      ],
      "source": [
        "from transformer import Transformer # this is the transformer.py file\n",
        "import torch\n",
        "import numpy as np\n",
        "\n",
        "# Check CUDA availability\n",
        "print(\"CUDA available:\", torch.cuda.is_available())\n",
        "if torch.cuda.is_available():\n",
        "    print(\"CUDA version:\", torch.version.cuda)\n",
        "    print(\"Number of GPUs:\", torch.cuda.device_count())\n",
        "    print(\"Current GPU:\", torch.cuda.current_device())\n",
        "    print(\"GPU name:\", torch.cuda.get_device_name(0))\n",
        "    print(\"GPU memory:\", f\"{torch.cuda.get_device_properties(0).total_memory / 1024**3:.1f} GB\")\n",
        "else:\n",
        "    print(\"CUDA not available - will use CPU\")\n",
        "\n",
        "# Set device\n",
        "device = torch.device('cuda' if torch.cuda.is_available() else 'cpu')\n",
        "print(f\"Using device: {device}\")"
      ]
    },
    {
      "cell_type": "code",
      "execution_count": 112,
      "metadata": {},
      "outputs": [
        {
          "name": "stdout",
          "output_type": "stream",
          "text": [
            "CUDA not available\n",
            "CUDA not available\n"
          ]
        }
      ],
      "source": [
        "# GPU Memory Management Utilities\n",
        "def clear_gpu_memory():\n",
        "    \"\"\"Clear GPU memory cache\"\"\"\n",
        "    if torch.cuda.is_available():\n",
        "        torch.cuda.empty_cache()\n",
        "        print(\"GPU memory cache cleared\")\n",
        "    else:\n",
        "        print(\"CUDA not available\")\n",
        "\n",
        "def print_gpu_memory():\n",
        "    \"\"\"Print current GPU memory usage\"\"\"\n",
        "    if torch.cuda.is_available():\n",
        "        allocated = torch.cuda.memory_allocated() / 1024**3\n",
        "        cached = torch.cuda.memory_reserved() / 1024**3\n",
        "        total = torch.cuda.get_device_properties(0).total_memory / 1024**3\n",
        "        print(f\"GPU Memory - Allocated: {allocated:.2f} GB, Cached: {cached:.2f} GB, Total: {total:.1f} GB\")\n",
        "    else:\n",
        "        print(\"CUDA not available\")\n",
        "\n",
        "# Clear any existing GPU memory\n",
        "clear_gpu_memory()\n",
        "print_gpu_memory()"
      ]
    },
    {
      "cell_type": "code",
      "execution_count": 113,
      "metadata": {
        "id": "6TApzOj5xCwR"
      },
      "outputs": [],
      "source": [
        "english_file = '../data/dev.en'\n",
        "sanskrit_file = '../data/dev.sn'\n",
        "\n",
        "START_TOKEN = ''\n",
        "PADDING_TOKEN = ''\n",
        "END_TOKEN = ''\n",
        "\n",
        "sanskrit_vocabulary = [\n",
        "    START_TOKEN, ' ', '!', '\"', \"'\", '(', ')', ',', '-', '.', '?', ':', ';',\n",
        "    '0', '1', '2', '3', '4', '5', '6', '7', '8', '9',\n",
        "\n",
        "    # Independent vowels\n",
        "    'अ', 'आ', 'इ', 'ई', 'उ', 'ऊ', 'ऋ', 'ॠ', 'ऌ', 'ॡ', 'ए', 'ऐ', 'ओ', 'औ',\n",
        "    \n",
        "    # Consonants\n",
        "    'क', 'ख', 'ग', 'घ', 'ङ',\n",
        "    'च', 'छ', 'ज', 'झ', 'ञ',\n",
        "    'ट', 'ठ', 'ड', 'ढ', 'ण',\n",
        "    'त', 'थ', 'द', 'ध', 'न',\n",
        "    'प', 'फ', 'ब', 'भ', 'म',\n",
        "    'य', 'र', 'ल', 'व',\n",
        "    'श', 'ष', 'स', 'ह',\n",
        "\n",
        "    # Vowel signs\n",
        "    'ा', 'ि', 'ी', 'ु', 'ू', 'ृ', 'ॄ', 'े', 'ै', 'ो', 'ौ',\n",
        "\n",
        "    # Other signs\n",
        "    'ं', 'ः', 'ँ', '्',  # virama, anusvara, visarga, chandrabindu\n",
        "    '।', '॥',  # danda marks\n",
        "\n",
        "    # Special tokens\n",
        "    PADDING_TOKEN, END_TOKEN\n",
        "]\n",
        "\n",
        "english_vocabulary = [START_TOKEN, ' ', '!', '\"', '#', '$', '%', '&', \"'\", '(', ')', '*', '+', ',', '-', '.', '/', \n",
        "                        '0', '1', '2', '3', '4', '5', '6', '7', '8', '9',\n",
        "                        ':', ';', '<', '=', '>', '?', '@', \n",
        "                        'A', 'B', 'C', 'D', 'E', 'F', 'G', 'H', 'I', 'J', 'K', 'L', \n",
        "                        'M', 'N', 'O', 'P', 'Q', 'R', 'S', 'T', 'U', 'V', 'W', 'X', \n",
        "                        'Y', 'Z',\n",
        "                        '_',\n",
        "                        'a', 'b', 'c', 'd', 'e', 'f', 'g', 'h', 'i', 'j', 'k', 'l',\n",
        "                        'm', 'n', 'o', 'p', 'q', 'r', 's', 't', 'u', 'v', 'w', 'x', \n",
        "                        'y', 'z', \n",
        "                        '{', '|', '}', '~', '·', 'º',\n",
        "                        \n",
        "                        # Extended Latin characters found in the data\n",
        "                        'á', 'â', 'ã', 'ä', 'å', 'ç', 'é', 'î', 'ñ', 'ú', 'ü', 'ă', 'ć', 'ę', 'ı', 'ļ', 'ł', 'ņ',\n",
        "                        'Ś', 'ś', 'Ş', 'ş', 'Š', 'š', 'ţ', 'ſ', 'ș', 'ț', 'ə',\n",
        "                        \n",
        "                        # IAST transliteration characters\n",
        "                        'ā', 'ī', 'ū', 'ṛ', 'ṝ', 'ḷ', 'ḹ', 'ṅ', 'ṭ', 'ḍ', 'ṇ', 'ṣ',\n",
        "                        'Ā', 'Ī', 'Ū', 'Ṛ', 'Ṝ', 'Ḷ', 'Ḹ', 'Ṅ', 'Ṭ', 'Ḍ', 'Ṇ', 'Ṣ',\n",
        "                        \n",
        "                        # Vietnamese characters\n",
        "                        'ả', 'ặ', 'ị',\n",
        "                        \n",
        "                        # Cyrillic (found in data)\n",
        "                        'О',\n",
        "                        \n",
        "                        # Devanagari characters found in English text\n",
        "                        'ं', 'उ', 'ए', 'क', 'च', 'त', 'द', 'ध', 'न', 'भ', 'म', 'र', 'ल', 'व', 'श', 'स', \n",
        "                        'ा', 'ि', 'ु', 'ै', 'ो', '्', '।', '॥',\n",
        "                        \n",
        "                        # Special punctuation (en dash, em dash, curved quotes)\n",
        "                        '–', '—', '\\u2018', '\\u201c', '\\u201d',\n",
        "                        \n",
        "                        PADDING_TOKEN, END_TOKEN]"
      ]
    },
    {
      "cell_type": "code",
      "execution_count": 114,
      "metadata": {
        "id": "gA8ESmCrNoc7"
      },
      "outputs": [],
      "source": [
        "index_to_sanskrit = {k:v for k,v in enumerate(sanskrit_vocabulary)}\n",
        "sanskrit_to_index = {v:k for k,v in enumerate(sanskrit_vocabulary)}\n",
        "index_to_english = {k:v for k,v in enumerate(english_vocabulary)}\n",
        "english_to_index = {v:k for k,v in enumerate(english_vocabulary)}"
      ]
    },
    {
      "cell_type": "code",
      "execution_count": 115,
      "metadata": {
        "id": "9SYGjRdoxRg-"
      },
      "outputs": [],
      "source": [
        "with open(english_file, 'r') as file:\n",
        "    english_sentences = file.readlines()\n",
        "with open(sanskrit_file, 'r') as file:\n",
        "    sanskrit_sentences = file.readlines()\n",
        "\n",
        "# Limit Number of sentences\n",
        "TOTAL_SENTENCES = 200000\n",
        "english_sentences = english_sentences[:TOTAL_SENTENCES]\n",
        "sanskrit_sentences = sanskrit_sentences[:TOTAL_SENTENCES]\n",
        "english_sentences = [sentence.rstrip('\\n').lower() for sentence in english_sentences]\n",
        "sanskrit_sentences = [sentence.rstrip('\\n') for sentence in sanskrit_sentences]"
      ]
    },
    {
      "cell_type": "code",
      "execution_count": 116,
      "metadata": {
        "colab": {
          "base_uri": "https://localhost:8080/"
        },
        "id": "CUB-BkgFxXfM",
        "outputId": "bcf7e19c-d1df-4b69-bdfa-eb74ac1a4338"
      },
      "outputs": [
        {
          "data": {
            "text/plain": [
              "['when şītā, having a husband although seeming as if she had none, was putting on the ascetic guise, the people got into a wrath and exclaimed, “o dasaratha, fie on you!\"',\n",
              " 'aggrieved at the uproar that arose there in consequence, the lord of earth banished from his heart all regard for life, virtue, and fame. and sighing hot, that descendant of ikşvāku spoke to that wife of his, saying, o kaikeyi, sītā deserves not to go in a kuća dress.',\n",
              " 'tender, and youthful, and worthy of happiness, she is by no means capable of living in the forest. my spiritual guide has spoken the truth.',\n",
              " 'whom has this one injured that, being the daughter of the foremost of kings, she like a female ascetic, wearing a meagre garb in the presence of all, will (repair to the woods and) remain there like a beggar destitute of everything?',\n",
              " \"let janaka's daughter leave off her ascetic guise. this is not the promise that i had made to you before. let the princess go to the forest in comfort, furnished with all sorts of gems.\",\n",
              " 'my sands run out; by me has this cruel promise been made with an oath. but this (exile of sītä) has been thought of by you through your ignorance. let it not, however, consume you like a bamboo flower destroying the bamboo.',\n",
              " 'if, o wicked woman, rāma has happened to do you something unbeautiful, what wrong, o base wretch, has vaidehi done you in the world?',\n",
              " \"of eyes expanded like those of a doe, endued with a mild temperament, and virtuous, what harm has janaka's daughter done you.\",\n",
              " 'surely, o nefarious one, the banishment of ráma is enough for you. why then do you bend your mind to perpetrate these atrocious sins?',\n",
              " 'o noble dame, having heard you asking for the banishment of rāma, who had at first been intended by me for being installed, and who came here afterwards, i had promised you (his exile alone.)']"
            ]
          },
          "execution_count": 116,
          "metadata": {},
          "output_type": "execute_result"
        }
      ],
      "source": [
        "english_sentences[:10]"
      ]
    },
    {
      "cell_type": "code",
      "execution_count": 117,
      "metadata": {
        "colab": {
          "base_uri": "https://localhost:8080/"
        },
        "id": "8OT-aznAxc5U",
        "outputId": "716c4145-fdc2-4bb0-e883-c3dcad30c2da"
      },
      "outputs": [
        {
          "data": {
            "text/plain": [
              "['तस्यां चीरं वसानायां नाथवत्यामनाथवत्। प्रचुक्रोश जनः सर्वो धिक् त्वां दशरथं त्विति ॥',\n",
              " 'तेन तत्र प्रणादेन दुःखितः स महीपतिः। चिच्छेद जीविते श्रद्धां धर्मे यशसि चात्मनः॥ स निःश्वस्योष्णमैक्ष्वाकस्तां भार्यामिदमब्रवीत्। कैकेयि कुशचीरेण न सीता गन्तुमर्हति॥',\n",
              " 'सुकुमारी च बाला च सततं च सुखोचिता। नेयं वनस्य योग्येति सत्यमाह गुरुर्मम ॥',\n",
              " 'इयं हि कस्यापि करोति किंचित् तपस्विनी राजवरस्य पुत्री। या चीरमासाद्य वनस्य मध्ये जाता विसंज्ञा श्रमणीव काचित्॥',\n",
              " 'चीराण्यपास्याज्जनकस्य कन्या नेयं प्रतिज्ञा मम दत्तपूर्वा। यथासुखं गच्छतु राजपुत्री वनं समग्रा सह सर्वरत्नैः॥',\n",
              " 'अजीवनाहेण मया नृशंसा कृता प्रतिज्ञा नियमेन तावत्। त्वया हि बाल्यात् प्रतिपन्नमेतत् तन्मा दहेद् वेणुमिवात्मपुष्पम्॥',\n",
              " 'रामेण यदि ते पापे किंचित्कृतमशोभनम्। अपकारः क इह ते वैदेह्या दर्शितोऽधमे॥',\n",
              " 'मृगीवोत्फुल्लनयना मृदुशीला मनस्विनी। अपकारं कमिव ते करोति जनकात्मजा॥',\n",
              " 'ननु पर्याप्तमेवं ते पापे रामविवासनम्। किमेभिः कृपणैर्भूयः पातकैरपि ते कृतैः॥',\n",
              " 'प्रतिज्ञातं मया तावत् त्वयोक्तं देवि शृण्वता। रामं यदभिषेकाय त्वमिहागतमब्रवीः॥']"
            ]
          },
          "execution_count": 117,
          "metadata": {},
          "output_type": "execute_result"
        }
      ],
      "source": [
        "sanskrit_sentences[:10]"
      ]
    },
    {
      "cell_type": "code",
      "execution_count": 118,
      "metadata": {
        "colab": {
          "base_uri": "https://localhost:8080/"
        },
        "id": "h8VAutsTxlaR",
        "outputId": "ff8fba72-020d-4f0c-b3c5-31c102b6fe9b"
      },
      "outputs": [
        {
          "name": "stdout",
          "output_type": "stream",
          "text": [
            "97th percentile length sanskrit: 219.0\n",
            "97th percentile length English: 388.0\n"
          ]
        }
      ],
      "source": [
        "import numpy as np\n",
        "PERCENTILE = 97\n",
        "print( f\"{PERCENTILE}th percentile length sanskrit: {np.percentile([len(x) for x in sanskrit_sentences], PERCENTILE)}\" )\n",
        "print( f\"{PERCENTILE}th percentile length English: {np.percentile([len(x) for x in english_sentences], PERCENTILE)}\" )\n"
      ]
    },
    {
      "cell_type": "code",
      "execution_count": 119,
      "metadata": {
        "colab": {
          "base_uri": "https://localhost:8080/"
        },
        "id": "HG9ezqvaxl4b",
        "outputId": "d13be774-ca07-4333-856e-76186f71caae"
      },
      "outputs": [
        {
          "name": "stdout",
          "output_type": "stream",
          "text": [
            "Number of sentences: 6148\n",
            "Number of valid sentences: 3832\n"
          ]
        }
      ],
      "source": [
        "max_sequence_length = 200\n",
        "\n",
        "def is_valid_tokens(sentence, vocab):\n",
        "    for token in list(set(sentence)):\n",
        "        if token not in vocab:\n",
        "            return False\n",
        "    return True\n",
        "\n",
        "def is_valid_length(sentence, max_sequence_length):\n",
        "    return len(list(sentence)) < (max_sequence_length - 1) # need to re-add the end token so leaving 1 space\n",
        "\n",
        "valid_sentence_indicies = []\n",
        "for index in range(len(sanskrit_sentences)):\n",
        "    sanskrit_sentence, english_sentence = sanskrit_sentences[index], english_sentences[index]\n",
        "    if is_valid_length(sanskrit_sentence, max_sequence_length) \\\n",
        "      and is_valid_length(english_sentence, max_sequence_length) \\\n",
        "      and is_valid_tokens(sanskrit_sentence, sanskrit_vocabulary):\n",
        "        valid_sentence_indicies.append(index)\n",
        "\n",
        "print(f\"Number of sentences: {len(sanskrit_sentences)}\")\n",
        "print(f\"Number of valid sentences: {len(valid_sentence_indicies)}\")"
      ]
    },
    {
      "cell_type": "code",
      "execution_count": 120,
      "metadata": {
        "id": "o80QDn4CxsV7"
      },
      "outputs": [],
      "source": [
        "sanskrit_sentences = [sanskrit_sentences[i] for i in valid_sentence_indicies]\n",
        "english_sentences = [english_sentences[i] for i in valid_sentence_indicies]"
      ]
    },
    {
      "cell_type": "code",
      "execution_count": 121,
      "metadata": {
        "colab": {
          "base_uri": "https://localhost:8080/"
        },
        "id": "35xhLztQiLIQ",
        "outputId": "aa70ad04-2e45-4c78-c852-61e92c51a96a"
      },
      "outputs": [
        {
          "data": {
            "text/plain": [
              "['तस्यां चीरं वसानायां नाथवत्यामनाथवत्। प्रचुक्रोश जनः सर्वो धिक् त्वां दशरथं त्विति ॥',\n",
              " 'सुकुमारी च बाला च सततं च सुखोचिता। नेयं वनस्य योग्येति सत्यमाह गुरुर्मम ॥',\n",
              " 'चीराण्यपास्याज्जनकस्य कन्या नेयं प्रतिज्ञा मम दत्तपूर्वा। यथासुखं गच्छतु राजपुत्री वनं समग्रा सह सर्वरत्नैः॥']"
            ]
          },
          "execution_count": 121,
          "metadata": {},
          "output_type": "execute_result"
        }
      ],
      "source": [
        "sanskrit_sentences[:3]"
      ]
    },
    {
      "cell_type": "code",
      "execution_count": 122,
      "metadata": {
        "id": "xqOFnclmyxAE"
      },
      "outputs": [
        {
          "name": "stdout",
          "output_type": "stream",
          "text": [
            "Added missing Cyrillic character 'о' to English vocabulary\n",
            "English vocabulary size: 182\n",
            "Sanskrit vocabulary size: 89\n"
          ]
        }
      ],
      "source": [
        "# Add missing character to English vocabulary\n",
        "if 'о' not in english_vocabulary:\n",
        "    english_vocabulary.append('о')  # Cyrillic small letter O\n",
        "    print(\"Added missing Cyrillic character 'о' to English vocabulary\")\n",
        "\n",
        "# Recreate the vocabularies\n",
        "index_to_english = {k:v for k,v in enumerate(english_vocabulary)}\n",
        "english_to_index = {v:k for k,v in enumerate(english_vocabulary)}\n",
        "\n",
        "import torch\n",
        "\n",
        "d_model = 512\n",
        "batch_size = 30\n",
        "ffn_hidden = 2048\n",
        "num_heads = 8\n",
        "drop_prob = 0.1\n",
        "num_layers = 1\n",
        "max_sequence_length = 200\n",
        "kn_vocab_size = len(sanskrit_vocabulary)\n",
        "en_vocab_size = len(english_vocabulary)  # Updated English vocab size\n",
        "\n",
        "transformer = Transformer(d_model, \n",
        "                          ffn_hidden,\n",
        "                          num_heads, \n",
        "                          drop_prob, \n",
        "                          num_layers, \n",
        "                          max_sequence_length,\n",
        "                          kn_vocab_size,\n",
        "                          english_to_index,\n",
        "                          sanskrit_to_index,\n",
        "                          START_TOKEN, \n",
        "                          END_TOKEN, \n",
        "                          PADDING_TOKEN)\n",
        "\n",
        "print(f\"English vocabulary size: {en_vocab_size}\")\n",
        "print(f\"Sanskrit vocabulary size: {kn_vocab_size}\")"
      ]
    },
    {
      "cell_type": "code",
      "execution_count": 123,
      "metadata": {
        "colab": {
          "base_uri": "https://localhost:8080/"
        },
        "id": "Zc2hYQk9yxX0",
        "outputId": "c060f588-6a2e-4179-9475-5acafd641f1f"
      },
      "outputs": [
        {
          "data": {
            "text/plain": [
              "Transformer(\n",
              "  (encoder): Encoder(\n",
              "    (sentence_embedding): SentenceEmbedding(\n",
              "      (embedding): Embedding(180, 512)\n",
              "      (position_encoder): PositionalEncoding()\n",
              "      (dropout): Dropout(p=0.1, inplace=False)\n",
              "    )\n",
              "    (layers): SequentialEncoder(\n",
              "      (0): EncoderLayer(\n",
              "        (attention): MultiHeadAttention(\n",
              "          (qkv_layer): Linear(in_features=512, out_features=1536, bias=True)\n",
              "          (linear_layer): Linear(in_features=512, out_features=512, bias=True)\n",
              "        )\n",
              "        (norm1): LayerNormalization()\n",
              "        (dropout1): Dropout(p=0.1, inplace=False)\n",
              "        (ffn): PositionwiseFeedForward(\n",
              "          (linear1): Linear(in_features=512, out_features=2048, bias=True)\n",
              "          (linear2): Linear(in_features=2048, out_features=512, bias=True)\n",
              "          (relu): ReLU()\n",
              "          (dropout): Dropout(p=0.1, inplace=False)\n",
              "        )\n",
              "        (norm2): LayerNormalization()\n",
              "        (dropout2): Dropout(p=0.1, inplace=False)\n",
              "      )\n",
              "    )\n",
              "  )\n",
              "  (decoder): Decoder(\n",
              "    (sentence_embedding): SentenceEmbedding(\n",
              "      (embedding): Embedding(87, 512)\n",
              "      (position_encoder): PositionalEncoding()\n",
              "      (dropout): Dropout(p=0.1, inplace=False)\n",
              "    )\n",
              "    (layers): SequentialDecoder(\n",
              "      (0): DecoderLayer(\n",
              "        (self_attention): MultiHeadAttention(\n",
              "          (qkv_layer): Linear(in_features=512, out_features=1536, bias=True)\n",
              "          (linear_layer): Linear(in_features=512, out_features=512, bias=True)\n",
              "        )\n",
              "        (layer_norm1): LayerNormalization()\n",
              "        (dropout1): Dropout(p=0.1, inplace=False)\n",
              "        (encoder_decoder_attention): MultiHeadCrossAttention(\n",
              "          (kv_layer): Linear(in_features=512, out_features=1024, bias=True)\n",
              "          (q_layer): Linear(in_features=512, out_features=512, bias=True)\n",
              "          (linear_layer): Linear(in_features=512, out_features=512, bias=True)\n",
              "        )\n",
              "        (layer_norm2): LayerNormalization()\n",
              "        (dropout2): Dropout(p=0.1, inplace=False)\n",
              "        (ffn): PositionwiseFeedForward(\n",
              "          (linear1): Linear(in_features=512, out_features=2048, bias=True)\n",
              "          (linear2): Linear(in_features=2048, out_features=512, bias=True)\n",
              "          (relu): ReLU()\n",
              "          (dropout): Dropout(p=0.1, inplace=False)\n",
              "        )\n",
              "        (layer_norm3): LayerNormalization()\n",
              "        (dropout3): Dropout(p=0.1, inplace=False)\n",
              "      )\n",
              "    )\n",
              "  )\n",
              "  (linear): Linear(in_features=512, out_features=89, bias=True)\n",
              ")"
            ]
          },
          "execution_count": 123,
          "metadata": {},
          "output_type": "execute_result"
        }
      ],
      "source": [
        "transformer"
      ]
    },
    {
      "cell_type": "code",
      "execution_count": 124,
      "metadata": {
        "id": "asUJX-STy7fg"
      },
      "outputs": [],
      "source": [
        "from torch.utils.data import Dataset, DataLoader\n",
        "\n",
        "class TextDataset(Dataset):\n",
        "\n",
        "    def __init__(self, english_sentences, sanskrit_sentences):\n",
        "        self.english_sentences = english_sentences\n",
        "        self.sanskrit_sentences = sanskrit_sentences\n",
        "\n",
        "    def __len__(self):\n",
        "        return len(self.english_sentences)\n",
        "\n",
        "    def __getitem__(self, idx):\n",
        "        return self.english_sentences[idx], self.sanskrit_sentences[idx]"
      ]
    },
    {
      "cell_type": "code",
      "execution_count": 125,
      "metadata": {
        "id": "-auNWjkdzDge"
      },
      "outputs": [],
      "source": [
        "dataset = TextDataset(english_sentences, sanskrit_sentences)"
      ]
    },
    {
      "cell_type": "code",
      "execution_count": 126,
      "metadata": {
        "colab": {
          "base_uri": "https://localhost:8080/"
        },
        "id": "roH2A4m4zF4z",
        "outputId": "f4353aa8-2f37-43b6-be0f-12aab9a35145"
      },
      "outputs": [
        {
          "data": {
            "text/plain": [
              "3832"
            ]
          },
          "execution_count": 126,
          "metadata": {},
          "output_type": "execute_result"
        }
      ],
      "source": [
        "len(dataset)"
      ]
    },
    {
      "cell_type": "code",
      "execution_count": 127,
      "metadata": {
        "colab": {
          "base_uri": "https://localhost:8080/"
        },
        "id": "HGeHNlzozIGF",
        "outputId": "ec3596fe-feee-426c-dce8-373fb07080fd"
      },
      "outputs": [
        {
          "data": {
            "text/plain": [
              "('tender, and youthful, and worthy of happiness, she is by no means capable of living in the forest. my spiritual guide has spoken the truth.',\n",
              " 'सुकुमारी च बाला च सततं च सुखोचिता। नेयं वनस्य योग्येति सत्यमाह गुरुर्मम ॥')"
            ]
          },
          "execution_count": 127,
          "metadata": {},
          "output_type": "execute_result"
        }
      ],
      "source": [
        "dataset[1]"
      ]
    },
    {
      "cell_type": "code",
      "execution_count": 128,
      "metadata": {
        "id": "5YDttjQ0zMrv"
      },
      "outputs": [],
      "source": [
        "train_loader = DataLoader(dataset, batch_size)\n",
        "iterator = iter(train_loader)"
      ]
    },
    {
      "cell_type": "code",
      "execution_count": 129,
      "metadata": {
        "colab": {
          "base_uri": "https://localhost:8080/"
        },
        "id": "9EnjHKB1zM8Y",
        "outputId": "1a825e56-6706-46ee-85b5-ed7f0ac657fb"
      },
      "outputs": [
        {
          "name": "stdout",
          "output_type": "stream",
          "text": [
            "[('when şītā, having a husband although seeming as if she had none, was putting on the ascetic guise, the people got into a wrath and exclaimed, “o dasaratha, fie on you!\"', 'tender, and youthful, and worthy of happiness, she is by no means capable of living in the forest. my spiritual guide has spoken the truth.', \"let janaka's daughter leave off her ascetic guise. this is not the promise that i had made to you before. let the princess go to the forest in comfort, furnished with all sorts of gems.\", \"of eyes expanded like those of a doe, endued with a mild temperament, and virtuous, what harm has janaka's daughter done you.\", 'surely, o nefarious one, the banishment of ráma is enough for you. why then do you bend your mind to perpetrate these atrocious sins?', 'o noble dame, having heard you asking for the banishment of rāma, who had at first been intended by me for being installed, and who came here afterwards, i had promised you (his exile alone.)', \"but since, going beyond that promise of mine, you behold mithala's daughter dressed in mendicant garb, surely you wish to find your way to hell.\", 'thus commissioned to the forest, räma who was seated sealing his lips, said.', 'hearing those bold words of the ascetic, the son of that foremost of men, rāghava firm in his vows, with clasped hands answered.', 'and in the interests of brāhmaṇas, kine, and celestials, i am ready to act as desired by you of immeasurable energy.', 'and rendered almost insensible by anger, that räksasī furiously rushed in a main towards the spot whence had come the report.', 'behold, o laksmana, the terrible and hideous body of yonder yakṣiṇī! the sight of her strike terror into the hearts of even the brave.', 'mark! this irrepressible one, possessing all the resources of illusion, will i oppose, and deprive her of ears and nose.', 'but i dare not slay her, she being protected by virtue of her feminineness. i intend only to oppose her course, and deprive her of her prowess.', 'as rāma was speaking thus, tāțakā, deprived of sense through ire, uttering roars, with uplifted arms rushed against him.', 'and raising thick clouds of dust, tāțakā instantly bewildered both the descendants of raghu.', \"and then by help of illusion, she began to pour upon them a mighty shower of crags. and thereat raghu's descendant was wroth.\", 'and resisting that mighty shower of crags by vollies of shafts, rāghava with arrows cut off her hands.', \"and with the fore-parts of her arms lopped off, as she was roaring before them, sumitra's son waxing wroth deprived her of her ears and nose.\", 'thereupon that one capable of assuming forms at will, began to assume various shapes; and to vanish from sight, bewildering her antagonists with her illusory displays.', 'thus addressed, rāma, displaying his skill in aiming by sounds, enveloped with arrows that yakṣī showering crags.', 'upon seeing that grim-visaged one slain, the lord of the celestials together with the celestials themselves honouring kākutstha, exclaimed well, well!.', 'and exceedingly pleased, the thousand-eyed purandara, together with the delighted deities, said to viśvāmitra.', 'and ever following you, he, o brāhmaṇa, is fit to receive them of you. and this son of the king is to accomplish a mighty task in the interests of the celestials.', 'saying this, the deities, having paid homage to viśvāmitra, joyfully entered the celestial regions.', 'here, o rāma of gracious presence, shall we pass the night; and morrow morning, went to that hermitage of mine.', \"hearing visvāmitra's words, dasaratha's son, glad at heart, happily passed that night in the forest of tāțakā.\", 'and being thus freed from all disturbances, from that day forth that forest appeared charming, even like to the forest of caitraratha.', \"having thus slain the yakşa's daughter, rāma, eulogised by celestials and siddhas, spent there that night with the saint, being awakened by the latter at the break of day.\", 'the mighty sugrīva, bending low, proceeded before the high-souled rama and laksmana.'), ('तस्यां चीरं वसानायां नाथवत्यामनाथवत्। प्रचुक्रोश जनः सर्वो धिक् त्वां दशरथं त्विति ॥', 'सुकुमारी च बाला च सततं च सुखोचिता। नेयं वनस्य योग्येति सत्यमाह गुरुर्मम ॥', 'चीराण्यपास्याज्जनकस्य कन्या नेयं प्रतिज्ञा मम दत्तपूर्वा। यथासुखं गच्छतु राजपुत्री वनं समग्रा सह सर्वरत्नैः॥', 'मृगीवोत्फुल्लनयना मृदुशीला मनस्विनी। अपकारं कमिव ते करोति जनकात्मजा॥', 'ननु पर्याप्तमेवं ते पापे रामविवासनम्। किमेभिः कृपणैर्भूयः पातकैरपि ते कृतैः॥', 'प्रतिज्ञातं मया तावत् त्वयोक्तं देवि शृण्वता। रामं यदभिषेकाय त्वमिहागतमब्रवीः॥', 'तत्त्वेतत् समतिक्रम्य निरयं गन्तुमिच्छसि। मैथिलीमपि या हि त्वमीक्षसे चीरवासिनीम्॥', 'एवं ब्रुवन्तं पितरं रामः सम्प्रस्थितो वनम्। अवाक्शिरसमासीनमिदं वचनमब्रवीत्॥', 'मुनेर्वचनमक्लीबं श्रुत्वा नरवरात्मजः। राघवः प्राञ्जलिर्भूत्वा प्रत्युवाच दृढव्रतः॥', 'गोब्राह्मणहितार्थाय देशस्य च हिताय च। तव चैवाप्रमेयस्य वचनं कर्तुमुद्यतः॥', 'तं शब्दमभिनिध्याय राक्षसी क्रोधमूर्छिता। श्रुत्वा चाभ्यद्रवत् क्रुद्धा यत्र शब्दो विनिःसृतः॥', 'पश्य लक्ष्मण यक्षिण्या भैरवं दारुणं वपुः। भिद्येरन् दर्शनादस्या भीरूणां हृदयानि च॥', 'एतां पश्य दुराधर्षां मायाबलसमन्विताम्। विनिवृत्तां करोम्यद्य हृतकर्णाननासिकाम्॥', 'न ह्येनामुत्सहे हन्तुं स्त्रीस्वभावेन रक्षिताम्। वीर्यं चास्या गतिं चैव हन्यामिति हि मे मतिः॥', 'एवं ब्रुवाणे रामे तु ताटका क्रोधमूर्च्छिता। उद्यम्य बाहुं गर्जन्ती राममेवाभ्यधावत॥', 'उद्धन्वाना रजो घोरं ताटका राघवावुभौ। रजोमेघेन महता मुहूर्तं सा व्यमोहयत्॥', 'ततो मायां समांस्थाय शिलावर्षेण राघवौ। अवाकिरत् सुमहतां ततश्चक्रोध राघवः॥', 'शिलावर्षं महत् तस्याः शरवर्षेण राघवः। प्रतिवार्योपधावन्त्याः करौ चिच्छेद पत्रिभिः॥', 'ततश्छिन्नभुजां श्रान्तामभ्याशे परिगर्जतीम्। सौमित्रिरकरोत् क्रोधाद्धतकर्णाग्रनासिकाम्॥', 'कामरूपधरा सा तु कृत्वा रूपाण्यनेकशः। अन्तर्धानं गता यक्षी मोहयन्ती स्वमायया॥', 'इत्युक्तः स तु तां यक्षीमश्मवृष्टयाभिवर्षिणीम् ॥ दर्शयशब्दवेधित्वं तां रुरोध स सायकैः।', 'तां हतां भीमसंकाशां दृष्ट्वा सुरपतिस्तदा॥ साधु साध्विति काकुत्स्थं सुराश्चाप्यभिपूजयन्।', 'उवाच परमप्रीतः सहस्राक्षः पुरन्दरः॥ सुराश्च सर्वे संहृष्टा विश्वामित्रमथाब्रुवन्।', 'पात्रभूतश्च ते ब्रह्मस्तवानुगमने रतः॥ कर्तव्यं सुमहत् कर्म सुराणां राजसूनुना।', 'एवमुक्त्वा सुराः सर्वे जग्मुर्हष्टा विहायसम्॥ विश्वामित्रं पूजयन्तस्ततः संध्या प्रवर्तते।', 'इहाद्य रजनी राम वसाम शुभदर्शन ॥ श्वः प्रभाते गमिष्यामस्तदाश्रमपदं मम।', 'विश्वामित्रवचः श्रुत्वा हृष्टो दशरथात्मजः॥ उवास रजनी तत्र ताटकाया वने सुखम्।', 'मुक्तशापं वनं तच्च तस्मिन्नेव तदाहनि। रमणीयं विबभ्राज यथा चैत्ररथं वनम्॥', 'निहत्य तो यक्षसुतां स रामः प्रशस्यमानः सुरसिद्धसंघैः। उवास तस्मिन् मुनिना सहैव प्रभातवेलां प्रतिबोध्यमानः॥', 'अग्रतस्तु ययौ तस्य राघवस्य महात्मनः। सुग्रीवः संहतग्रीवो लक्ष्मणस्य महाबलः॥')]\n",
            "[('they were followed by the heroic hanumān, the mighty nala and neela, and the highly powerful tārā, the leader of the monkey herd.', 'they surveyed all around in the forest-land, deer ranging fearlessly at large and grazing on tender grass.', 'they proceeding quickly, rama, the descendant of raghu, beholding the forest filled with trees, spoke to sugrīva, saying.', 'by virtue of their asceticism, this asylum is walled by trees and incapable of being conquered even by indra, the celestials and the asuras.', 'there is audible, o rāghava, the sound of the dressing of apsarās, their sweet-winged accents and that of their music and drums; and herçin pervadeth the celestial fragrance.', 'and there appear the trees, having their tops saturated with smoke and cloaked with clouds, like to so many baidurya hills.', 'do you, o rāghava, o virtuous-souled one, make obeisance to them along with your brother lakṣmaṇa, with concentrated heart and folded palms.', 'there resteth no sin in their persons, o rāma, who bow to those self-controlled saints.', 'thereupon rāma, along with his younger brother lakşmaņa, made obeisance to those high-souled ones.', 'having paid homage (to the sacred memory of those great ones) the virtuous-souled rāma his (younger) brother laksmana, sugriva and other monkeys, proceeded with delighted hearts.', 'and wending a distant way from that hermitage of the seven great ones, they beheld kişkindhä, hard to conquer and occupied by vali.', \"thereupon, rāma, his younger brother and the monkeys taking their weapons, entered, to encompass the destruction of their enemies, the city (of kişkindhā) reared by the prowess of indra's son.\", 'having been thus addressed, vaidehī unaffected by fear, although exercised with grief, placing a blade of grass between herself and rāvana, answered him.', 'all the mighty rākşasas of grim visages, whom you have extolled (before me), shall be deprived of their venom before rāma, as serpents are before suparna,', 'should rāma look at you with eyes aglow with anger, you, o raksasa, would be consumed even as manmatha was by, rudra.', 'he who is able to bring down the moon or destroy him, and to drink up the ocean dry, will surely liberate sītā from here.', 'your days are numbered, and auspiciousness has bidden you adieu. you are shorn of strength, and your senses have been dulled. and it is owing to you that larkā shall be subject to widowhood.', 'that you by force have for naught carried me away from the side of my husband-this sinful act can never conduce to your felicity.', \"that exceedingly effulgent lord of mine along with my husband's younger brother, summoning up their energy, is fearlessly dwelling in the vacant dandaka.\", 'by means of an arrowy shower in conflict, he will take your prowess and strength, your hauteur and wickedness out of your person,', 'when urged by the destroyer, the destruction of creatures is perceptible, then, coming under the sway of the destroyer, men become careless in their actions.', 'a candāla cannot tread the dais reared the midst of a sacrifice beauteous with ladies, and vessels, and sanctified by the twice-born ones.', 'so i, the religiously wedded wife of that one, ever intent on virtue, and (always) firm in my vows, is incapable, you vilest of raksasas, of being touched by you, a sinner.', 'how can the female that has always ‘sported with her mate amidst lotuses, cast her eyes on a shag staying among rushes.', 'do you either bind or destroy this body deprived of sensation. this body will i not protect, nor yet this life, o rāvana;', \"and i shall not be able to bring blame on myself in this world. having said these harsh words in wrath, videha's daughter, janaki, did not there again say anything to rāvaņa.\", \"hearing sita's words, harsh and calculated to make one's down stand on end, rāvana answered her in words tending to excite one's apprehension,\", 'hear, o maithili, my words. o damsel if, o you of sweet smiles, within this time you do not turn yourself to me, the cooks shall cut you off in pieces to serve my morning mcal.', 'having herself spoken thus, ravana-challenger of foes-growing exceedingly wroth, addressed the rākşasis in these words,', 'you frightful rākşasīs terrible to behold, subsisting on flesh and gore, do you at once crush her pride.'), ('पृष्ठतो हनुमान् वीरो नलो नीलश्च वीर्यवान्। तारश्चैव महातेजा हरियूथपयूथपः॥', 'मृदुशष्पाङ्कुराहारान्निर्भयान् वनगोचरान्। चरतः सर्वतः पश्यन् स्थलीषु हरिणान् स्थितान्॥', 'तेषां तु गच्छतां तत्र त्वरितं रघुनन्दनः। दुमषण्डवनं दृष्ट्वा रामः सुग्रीवमब्रवीत्॥', 'तेषामेतत्प्रभावेण दुमप्राकारसंवृतम्। आश्रमं सुदुराधर्षमपि सेन्द्रैः सुरासुरैः॥', 'विभूषणरवाश्चात्र श्रूयन्ते सकलाक्षराः। तूर्यगीतस्वनश्चापि गन्धो दिव्यश्च राघव ॥', 'एते वृक्षाः प्रकाशन्ते धूमसंसक्तमस्तकाः। मेघजालप्रतिच्छन्ना वैदूर्यगिरयो यथा ॥', 'कुरु प्रणामं धर्मात्मस्तेषामुद्दिश्य राघव। लक्ष्मणेन सह भ्रात्रा प्रयतः संहताञ्जलिः॥', 'प्रणमन्ति हि ये तेषामृषीणां भावितात्मनाम्। न तेषामशुभं किंचिच्छरीरे राम विद्यते॥', 'ततो रामः सह भ्रात्रा लक्ष्मणेन कृताञ्जलिः। समुद्दिश्य महात्मानस्तानृषीनभ्यवादयत्॥', 'अभिवाद्य च धर्मात्मा रामो भ्राता च लक्ष्मणः। सुग्रीवो वानराश्चैव जग्मुः संहष्टमानसाः॥', 'ते गत्वा दूरमध्वानं तस्मात् सप्तजनाश्रमात्। दद्दशुस्तां दुराधर्षां किष्किन्धां वालिपालिताम्॥', 'ततस्तु रामानुजरामवानराः प्रगृह्य शस्त्राण्युदितोग्रतेजसः। पुरी सुरेशात्मजवीर्यपालितां वधाय शत्रोः पुनरागतास्त्विह॥', 'सा तथोक्ता तु वैदेही निर्भया शोककर्शिता। तृणमन्तरतः कृत्वा रावणं प्रत्यभाषत॥', 'य एते राक्षसाः प्रोक्ता घोररूपा महाबलाः। राघवे निर्विषाः सर्वे सुपर्णे पन्नगा यथा॥', 'यदि पश्येत् स रामस्त्वं रोषदीप्तेन चक्षुषा। रक्षस्त्वमद्य निर्दग्धो यथा रुद्रेण मन्मथः॥', 'यश्चन्द्रं नभसो भूमौ पातयेन्नाशयेत वा। सागरं शोषयेद् वापि स सीतां मोचयेदिह॥', 'गतासुस्त्वं गतश्रीको गतसत्त्वो गतेन्द्रियः। लङ्का वैधव्यसंयुक्ता त्वत्कृतेन भविष्यति ॥', 'न ते पापमिदं कर्म सुखोदकं भविष्यति। याहं नीता विनाभावं पतिपार्ध्वात् त्वया बलात्॥', 'स हि देवरसंयुक्तो मम भर्ता महाद्युतिः। निर्भयो वीर्यमाश्रित्य शून्ये वसति दण्डके॥', 'स ते वीर्यं बलं दर्पमुत्सेकं च तथाविधम्। व्यपनेष्यति गात्रेभ्यः शरवर्षेण संयुगे॥', 'यदा विनाशो भूतानां दृश्यते कालचोदितः। तदा कार्ये प्रमाद्यन्ति नराः कालवशं गताः॥', 'न शक्या यज्ञमध्यस्था वेदिः स्रुग्भाण्डमण्डिता। द्विजातिमन्त्रसम्पूता चण्डालेनावमर्दितुम्॥', 'तथाहं धर्मनित्यस्य धर्मपत्नी दृढव्रता। त्वया स्प्रष्टुं न शक्याहं राक्षसाधम पापिना॥', 'क्रीडन्ती राजहंसेन पद्मषण्डेषु नित्यशः। हंसी सा तृणमध्यस्थं कथं द्रक्ष्येत मद्गुकम्॥', 'इदं शरीरं नि:संज्ञं बन्ध वा घातयस्व वा। नेदं शरीरं रक्ष्यं मे जीवितं वापि राक्षस ॥', 'न तु शक्यमपक्रोशं पृथिव्यां दातुमात्मनः। एवमुक्त्वा तु वैदेही क्रोधात् सुपरुषं वचः॥', 'रावणं जानकी तत्र पुनर्नोवाच किंचन। सीताया वचनं श्रुत्वा परुषं रोमहर्षणम्॥ प्रत्युवाच ततः सीतां भयसंदर्शनं वचः।', 'शृणुमैथिलि मद्वाक्यं मासान् द्वादश भामिनि ॥ कालेनानेन नाभ्येषि यदि मां चारुहासिनि। ततस्त्वां प्रातराशार्थं सूदाश्छेत्स्यन्ति लेशशः॥', 'इत्युक्त्वा परुषं वाक्यं रावणः शत्रुरावणः। राक्षसीश्च ततः क्रुद्ध इदं वचनमब्रवीत्॥', 'शीघ्रमेव हि राक्षस्यो विरूपा घोरदर्शनाः। दर्पमस्यापनेष्यन्तु मांसशोणितभोजनाः॥')]\n",
            "[('as soon as he had said this, those frightful and terrible rākṣasīs with joined hands encircled maithili.', 'then the grim-visaged king ravana, as if riving the earth by his tread, proceeding a pace or two, said,', \"and as a doe comes under the subjection of tigresses, janaka's daughter, maithili, her frame worked up with grief, came under the sway of the raksasis.\", \"and like a female deer fast bound by a trap, janaka's timid daughter maithilī, agitated by the mighty grief, did not attain respite.\", 'and greatly up-braided by the fierce eyes (of the raksasis), maithili did not know repose; and, afflicted with grief and fear, she, remembering her beloved lord along with lakşmaņa swooned away.', 'the city of lankā is situated on the shores of the lord of rivers and streams. how can rāma get a knowledge of that blameless one, staying there?', 'having yourself from here, do you see the fair-faced sītā. having entered the city of lankā, offer excellent clarified butter.', 'in the meanwhile, that god, the thousand-eyed lord of śacī went to (sītā) staying in the woods, and spoke to her these words,', 'through my grace, he shall along with his forces cross over the ocean. and, o excellent wench, i have by my supernal power, stupified the raksasis.', 'if you partake of these from my hand, you shall never o beauteous one, be afflicted either with hunger or thirst, o you of thighs resembling rambhā (trunks), for years.', \"thus addressed, sītā, alarmed, said, how can i know you for devendra, saci's husband, staying here?\", 'by the side of rāma and lakşmaņa, i had beheld the signs of the celestials. if, o devendra, you are yourself the sovereign of the celestials, show those to me.', 'and weeping, she spoke regarding rāghava, by luck it is that i had heard of that mightyarmed one along with his brother.', 'as is my father-in-law, the king, as is the master of mithilā, so are you (to me), you whom i behold to-day; my husband has now found a protector.', 'and by your command, o devendra, will i partake of this pāyasa cooked with milk, which has been offered to me, and which shall enhance (the prosperity) of our race.', \"thereupon taking the pāyasa from indra's hands, that maithilī of luminous smiles (mentally) offered it to her husband as well as laksmana.\", 'if my mighty lord live along with his brother, let this through my reverence for them, be theirs. she then partook of the pāyasa herself.', 'having thus eaten it, that one of excellent countenance, had her hunger and rising sorrow removed; and attaining a mental tendency from indra, janaki grew glad with reference to the kakutsthas.', 'seeing śūrpanakhā speak harsh words in the midst of the courtiers, ravana, being enraged, asked her.', 'who is rāma? and what is his prowess? and what his form? and what his power? and why had he entered the forest of dandaka, difficult to range?', \"and what rāma's weapons, by means of which he had slain the rākşasas?. and khara has been slain in battle, and dūşaņa and trisirā.\", 'do you, o you of a pleasing person, tell me the truth. and who had deformed you?', 'and drawing a bow resembling that of sakra, decked with golden rings, he discharges blazing nāracas, like to serpents of virulent poison.', \"and rāma's virtuously wedded beloved wife having expansive eyes, and a face resembling the full-moon, is ever to the welfare of her lord.\", 'and that fair-haired, fair-nosed, and fairthighed illustrious one possessed of beauty, grace the forest like a goddess, as if a goddess of wealth herself.', 'of the lustre of burnished gold, with her finger nails reddish and projecting, and graceful, that surpassingly lovely wench is named sītā—the slender-waisted daughter of videha.', 'and neither a goddess, nor a gandharvi, nor a yaksi, nor a kinnari, had i seen before on earth, possessed of such beauty.', 'he that shall have sītā for his spouse, and who shall be warmly embraced by her, shall live longer in the world than the lord of celestials himself.', 'that good-natured girl, unparalleled on earth in loveliness, who can well pride herself on her person, is a worthy wife for you, and you too are a fit husband for her.', 'it is to bring over for you that one of spacious hips, and a high and well-developed bust, that i had put forth my endeavours. but, o mightyarmed one i have been disfigured by the wicked laksmana.'), ('वचनादेव तास्तस्य सुघोरा घोरदर्शनाः। कृतप्राञ्जलयो भूत्वा मैथिली पर्यवारयन्॥', 'स ताः प्रोवाच राजासौ रावणो घोरदर्शनाः। प्रचल्य चरणोत्कर्षैर्दारयन्निव मेदिनीम्॥', 'सा तु शोकपरिताङ्गी मैथिली जनकात्मजा। राक्षसीवशमापन्ना व्याघ्रीणां हरिणी यथा॥', 'शोकेन महता त्रस्ता मैथिली जनकात्मजा। न शर्म लभते भीरुः पाशबद्धा मृगी यथा॥', 'न विन्दते तत्र तु शर्म मैथिली विरूपनेत्राभिरतीव तर्जिता। पतिं स्मरन्ती दयितं च देवरं विचेतनाभूद् भयशोकपीडिता ॥', 'निविष्टा हि पुरी लङ्का तीरे नदनदीपतेः॥ कथं ज्ञास्यति तां रामस्तत्रस्थां तामनिन्दिताम्।', 'स त्वं शीघ्रमितो गत्वा सीतां पश्य शुभाननाम्। प्रविश्य नगरी लङ्कां प्रयच्छ हविरुत्तमम्॥', 'एतस्मिन्नन्तरे देवः सहस्राक्षः शचीपतिः॥ आसमाद वनस्थां तां वचनं चेदमब्रवीत् ।', 'मत्प्रसादात् समुद्रं स तरिष्यति बलैः सह। मयैवेह च राक्षस्यो मायाय मोहिताः शुभे॥', 'एतदत्स्यसि मद्धस्तान्न त्वां वाधिष्यते शुभे। क्षुधा तृषा च रम्भोरु वर्षाणामयुतैरपि॥', 'एवमुक्ता तु देवेन्द्रमुवाच परिशङ्किता। कथं जानामि देवेन्द्रं त्वामिहस्थं खजापतिम्॥', 'देवलिङ्गानि दृष्टानि रामलक्ष्मणसंनिधौ। तानि दर्शय देवेन्द्र यदि त्वं देवराट् स्वयम्॥', 'उवाच वाक्यं रुदती भगवन् राघवं प्रति। कह भ्रात्रा महाबाहुर्दिष्टयः मे श्रुतिमागतः॥', 'यथा मे श्वशुरो राजा यथा च मिथिलाधिपः। सथा त्वमद्य पश्यामि सनाथो मे पतिस्त्वया॥', 'तवाज्ञया च देवेन्द्र पयोभूतमिदं हविः। अशिष्यामि त्वया दत्तं रघूणां कुलवर्घनम्॥', 'इन्द्रहस्ताद् गृहीत्वा तत् पायसं सा शुचिस्मिता। न्यवेदयत भर्ने सा लक्ष्मणाय च मैथिली॥', 'यदि जीवति मे भर्ता सह भ्रात्रा महाबलः। इदमस्तु तयोर्भक्त्या तदाश्नात् स्वयम्॥', 'इतीव तत् प्राश्य हविर्वरानना जहौ क्षुधादुःखसमुद्भवं च तम्। इन्द्रात् प्रवृत्तिमुपलभ्य जानकी काकुत्स्थयोः प्रीतमना बभूव ॥', 'ततः शूर्पणखां दृष्ट्वा ब्रुवन्ती परुषं वचः। अमात्यमध्ये संक्रुद्धः परिपप्रच्छ रावणः॥', 'कश्च रामः कथंवीर्यः किंरूपः किंपराक्रमः। किमर्थे दण्डकारण्यं प्रविष्टश्च सुदुस्तरम्॥', 'आयुघं किं च रामस्य येन ते राक्षसा हताः। खरश्च निहतः संख्ये दूषणस्त्रिशिरास्तथा॥', 'तत्त्वं ब्रूहि मनोज्ञाङ्गि केन त्वं च विरूपिता । इत्युक्ता राक्षसेन्द्रेण राक्षसी क्रोधमूर्छिता ॥', 'शक्रचापनिभं चापं विकृष्य कनकाङ्गदम्॥ दीप्तान् त्रिपति नाराचान् सनिव महाविषान् ।', 'रामस्य तु विशालाक्षी पूर्णेन्दुसदृशानना। धर्मपत्नी प्रिया नित्यं भर्तुः प्रियहिते रता॥', 'सा सुकेशी सुनासोरू: सुरूपा च यशस्विनी। देवतेव वनस्यास्य राजते श्रीरिवापरा॥', 'तप्तकाञ्चनवर्णाभा रक्ततुङ्गनखी शुभा। सीता नाम वरारोहा वैदेही तनुमध्यमा॥', 'नैव देवी न गन्धर्वी न यक्षी न च किंनरी। तथारूपा मया नारी दृष्टपूर्वा महीतले॥', 'यस्य सीता भवेद् भार्या यं च हृष्टा परिष्वजेत्। अभिजीवेत् स सर्वेषु लोकेष्वपि पुरंदरात्॥', 'सा सुशीला वपुःश्लाध्या रूपेणाप्रतिमा भुवि। तवानुरूपा भार्या सा त्वं च तस्याः पतिर्वरः॥', 'तां तु विस्तीर्णजघनां पीनोत्तुङ्गपयोधराम्। भार्यार्थे तु तवानेतुमुद्यताहं वराननाम्॥ विरूपितास्मि क्रूरेण लक्ष्मणेन महाभुज।')]\n",
            "[('as soon as you have seen vaidehi having a countenance resembling the full moon, you shall be afflicted with the shafts of cupid.', 'if it is your purpose to have her for your wife, at once stretch forth your right leg. for attaining success.', 'if, o lord of raksasas, you relish my speech, do you then, o ravana, without fear, do as i tell you.', 'understanding their incapacity, do you, o lord of rākṣasas, for making her your wife, by force carry away the frail sītā of a blameless person.', 'hearing that rāma by means of straight coursing shafts, has slain the rākşasas that had gone to janasthāna, and seeing khara and düşaņa, killed, do you ascertaining your course, adopt it.', \"what other woman except kaikeyi lost to righteousness, having lost her deity, her lord, wishes to carry on existence in another's kingdom?\", 'that virtuous one does not know that to-day i have become helpless and been widowed. răma of eyes resembling lotus-petals has living been removed from my sight.', \"the fair daughter of videha's king unworthy of hardship, in ascetic guise is leading a life of trouble and terror in the woods.\", 'hearing at night the dreadful roars of birds and beasts crying, she exceedingly frightened takes shelter with rāghava.', 'as embracing the (dead) body, that unfortunate lady was bewailing, the courtiers had the distressed (queen) removed from there.', 'then placing the corpse of the king in a (capacious) pan with oil, the courtiers performed the mourning rites of the monarch.', 'and raising their arms, with tears trickling down their faces, they in dire affliction and extremely exercised with grief, lamented.', 'o monarch, why do you forsake us, who have been already deprived of rāma ever speaking fair and firm in promise?', 'renounced by rāma, how shall we, rendered widows, stay with the wicked kaikeyi, co-wife with us?', 'that one of free soul is our master, as he is the lord of yourself. rāma has gone to the woods, forsaking regal dignity.', 'deprived of you as well as that hero, and overwhelmed with misfortune, how shall we live reprimanded by kaikeyi?', 'she that has renounced the king, rāma, and lakşmaņa along with sītā, whom can such a one not renounce?', 'thus with tears in their eyes, the wives of that descendant of raghu, joyless and convulsed with a huge passion, displayed signs of sorrow.', 'on the lord of men having ascended heaven from grief, and the wives of the king remaining on the earth, the sun, his journey done, set, and the night began her course.', \"and on on the demise of that illustrious personage, in the city men and women in multitudes, censuring bharata's mother, became extremely distressed, and did not attain peace of mind.\", \"that lover of virtue, thinking of the miseries of the forest, resolved no to take sītā with him, who was versed in religious lore's and had spoken thus.\", 'and consoling her whose eyes were stained with tears, that virtuous-souled one spoke to her the following words with a view to prevent her from going.', 'oh sītā, you are born of an illustrious family and ever intent on the performance of religious deeds; do you practise virtue here as it may conduce to the happiness of my mind.', 'oh sītā, oh you of the weaker sex, do you act up to my counsels; there are evils enough in the forest, do you learn them from me who am about to dwell in it.', 'renounce therefore, oh sītă, your intention of flying as an exile to the forest, which for its impenetrableness is said to abound in evils.', 'it is for your welfare that i give utterance to these words; happiness there is none, it is always covered with miseries.', 'the roarings of the lions living in the caves of mountains, swelling with the sounds of the water-falls, produce a very painful impression upon the ears; so the wood is full of misery.', 'animals, all maddened, sporting in solitude, seeing (man), approach to attack him; so the wood is full of misery.', 'the rivers are full of crocodiles, sharks, and other fearful animals, muddy and impassable and always infested with infuriated elephants; so the wood is full of misery.', 'there the wayfarers are covered with creepers and thorns they are void of drinking water ever resounded with the noise of the wild fowls, so the wood is full of misery.'), ('तां तु दृष्ट्वाद्य वैदेही पूर्णचन्द्रनिभाननाम्॥ मन्मथस्य शराणां च त्वं विधेयो भविष्यसि।', 'यदि तस्यामभिप्रायो भार्यात्वे तव जायते। शीघ्रमुद्भियतां पादो जयार्थमिह दक्षिणः॥', 'रोचते यति ते वाक्यं ममैतद् राक्षसेश्वर। क्रियतां निर्विशङ्केन वचनं मम रावण ॥', 'विज्ञायैषामशक्तिं च क्रियतां च महाबल। सीता तवानवद्याङ्गी भार्यात्वे राक्षसेश्वर॥', 'हताञ्जनस्थानगतान् निशाचरान्। खरं च दृष्ट्वा निहतं च दूषणं त्वमद्य कृत्यं प्रतिपत्तुमर्हसि॥', 'भर्तारं तु परित्यज्य का स्त्री दैवतमात्मनः। इच्छेज्जीवितुमन्यत्र कैकेय्यास्त्यक्तधर्मणः॥', 'स मामनाथां विधवां नाद्य जानाति धार्मिकः। रामः कमलपत्राक्षो जीवनाशमितो गतः॥', 'विदेहराजस्य सुता तथा चारुतपस्विनी। दुःखस्यानुचिता दुःखं वने पर्युद्विजिष्यति॥', 'नदतां भीमघोषाणां निशासु मृगपक्षिणाम्। निशम्यमाना संत्रस्ता राघवं संश्रयिष्यति॥', 'तां ततः सम्परिष्वज्य विलपन्ती तपस्विनीम्। व्यपनिन्युः सुदुःखाता कौसल्यां व्यावहारिकाः॥', 'तैलद्रोण्यां तदामात्याः संवेश्य जगतीपतिम्। राज्ञः सर्वाण्यथादिष्टाश्चक्रुः कर्माण्यनन्तरम्॥', 'बाहूनुच्छ्रित्य कृपणा नेत्रप्रस्रवणैर्मुखैः। रुदत्यः शोकसंतप्ताः कृपणं पर्यदेवयन्॥', 'हा महाराज रामेण संततं प्रियवादिना। विहीनाः सत्यसंधेन किमर्थं विजहासि नः॥', 'कैकेय्या दुष्टभावाया राघवेण विवर्जिताः। कथं सपत्न्या वत्स्यामः समीपे विधवा वयम्॥', 'स हि नाथः स चास्माकं तव च प्रभुरात्मवान्। वनं रामो गतः श्रीमान् विहाय नृपतिश्रियम्॥', 'त्वया तेन च वीरेण विना व्यसनमोहिताः। कथं वयं निवत्स्यामः कैकेय्या च विदूषिताः॥', 'यया च राजा रामश्च लक्ष्मणश्च महाबलः। सीतया सह संत्यक्ताः सा कमन्यं न हास्यति ॥', 'ता बाष्पेण च संवीताः शोकेन विपुलेन च। व्यचेष्टन्त निरानन्दा राघवस्य वरस्त्रियः॥', 'गते तु शोकात् त्रिदिवं नराधिपे महीतलस्थासु नृपाङ्गनासु च। निवृत्तचारः सहसा गतो रविः प्रवृत्तचारा रजनी ह्युपस्थिता॥', 'नराश्च नार्यश्च समेत्य संघशो विगर्हमाणा भरतस्य मातरम्। तदा नगाँ नरदेवसंक्षये बभूवुरार्ता न च शर्म लेभिरे॥', 'स एवं ब्रुवती सीतां धर्मज्ञा धर्मवत्सलः। न नेतुं कुरुते बुद्धिं वने दुःखानि चिन्तयन्॥', 'सान्त्वयित्वा ततस्तां तु बाष्पदूषितलोचनाम्। निवर्तनार्थे धर्मात्मा वाक्यमेतदुवाच ह॥', 'सीते महाकुलीनासि धर्मे च निरता सदा। इहाचरस्व धर्मं त्वं यथा मे मनसः सुखम्॥', 'सीते यथा त्वां वक्ष्यामि तथा कार्यं त्वयाबले। वने दोषा हि बहवो वसतस्तान् निबोध मे॥', 'सीते विमुच्यतामेषा वनवासकृता मतिः। बहुदोषं हि कान्तारं वनमित्यभिधीयते॥', 'हितबुद्ध्या खलु वचो मयैतदभिधीयते। सदा सुखं न जानामि दुःखमेव सदा वनम्॥', 'गिरिनिर्झरसम्भूता गिरिनिर्दरिवासिनाम्। सिंहानां निनदा दुःखाः श्रोतुं दुःखमतोवनम्॥', 'क्रीडमानाश्च विस्रब्धामत्ताः शून्ये तथा मृगाः। दृष्ट्वा समभिवर्तन्ते सीते दुःखमतो वनम्॥', 'सग्राहाः सरितश्चैव पङ्कवत्यस्तु दुस्तराः। मत्तैरपि गजैर्नित्यमतो दुःखतरं वनम् ॥', 'लताकण्टकसंकीर्णाः कृकवाकूपनादिताः। निरपाश्च सुदुःखाश्च मार्गा दुःखमतो वनम्॥')]\n",
            "[('being exhausted with the toil of the day, the dwellers of the wood have to sleep in night on the bed made of leaves fallen from the trees on the surface of the ground; so the wood is full of misery.', 'with the (supply of) fruits that have fallen from the trees man of self discipline must content himself morning and evening; so the wood, o sītă, is full of misery.', 'one has to offer presents of flowers collected by his ownself to the altars, o sītā, according to the rites of the ascetics; so the wood is full of misery.', 'those that dwell in the forest will have to remain content, having practised moderation in food, o maithill, with whatever edibles are attainable in the forest; so the wood is full of misery.', 'there are always violent winds, darkness hunger, and great fear; so the wood is full of misery.', 'reptiles, many and of various kinds, creep there on the path, o excellent lady, with haughtiness; so the wood is full of misery.', 'and snakes living in the rivers and of crooked course like them, always await the wayfarers, hindering the passers-by: so the wood is full of misery.', \"birds, scorpions, insects mosquito's and wild gnats, always disturb the dwellers, o fair one' of the weaker sex; so the wood is full misery.\", 'there are trees full of thorns, having their branches moving to and fro, and the kusa and kāsa grasses with thorny blades constantly undulating; so the wood is full misery.', 'you should not therefore go to the forest, it forebodes no good to you. weighing well, have i concluded that the forest abounds in innumerable evils.', 'like to flaming fire approaching towards forest that great car-warrior encountered the enemies in a precious car coursing at will.', 'as soon as he, armed with various weapons, entered the field the celestials, at his very sight. and away to all directions.', 'be not afraid, o you celestials; do not fly away; come back to the battle; this my son, who has never been vanquished, goes to battle.', \"having encircled saci's son and encountered rāvana's son, the deities began to assail him.\", \"the encounter between mahendra's son jayanta and rāvana's son meghanāda was like one between gods and demons.\", \"thereupon rāvana's son began to assail, with shafts feathered in gold, his (jayanta's) charioteer gomukha, mātali's son.\", \"sacīs son too, enraged, assailed on all sides, rāvana's son and his charioteer. and the powerful rāvani, stricken with ire and with eyes expanded, covered sakra's son with arrows.\", \"thereupon rāvana's son struck the celestial host with thousands of huge mountain summits, śataghnīs, maces, prāsas, prāsas, clubs, daggers, paraśus and various other sharp pointed weapons.\", \"rāvana's son thus striking indra's army the quarters were enshrouded with darkness by his illusory power.\", 'being overpowered with arrows on all sides the celestial army, leaving aside jayanta, became restless.', 'the deities or the rākşasas, they could not recognise one another. and being distressed they ran about on all sides.', 'being enveloped with darkness and having their senses bewildered the celestials killed their own kith and the rākṣasas their own men, and others fled away.', 'thinking that jayanta was slain all the deities greatly sorry and distressed fled away on all sides.', \"thereupon rāvana's son, enraged and encircled by his own powerful followers, pursued the celestials emitting loud cries.\", 'not beholding his son and observing the flight of the deities the king of the celestials said to mātali, “bring the car.\"', 'by mātali was brought, the celestial, highly dreadful, huge and quick-coursing chariot, that was ready.', '(and he having) ascended the car, the huge clouds, with lightening, being driven by winds, began to emit forth loud mutterings before the chariot.', 'the gandharvas began to play on various instruments and the apsarās began to dance.', 'taking up various weapons, indra, the king of divinities, set out for the field of action, in the company of rudras, vasus, adityas, the two asvins and maruts.', 'he, having set out for battle, the winds began to blow high, the sun was divested of its brilliance and the huge fire-brands began to send out flames.'), ('सुप्यते पर्णशय्यासु स्वयंभग्नासु भूतले। रात्रिषु श्रमखिन्नेन तस्माद् दुःखमतो वनम्॥', 'अहोरात्रं च संतोषः कर्तव्यो नियतात्मना। फलैर्वृक्षावपतितैः सीते दुःखमतो वनम्॥', 'उपहारश्च कर्तव्यः कुसुमैः स्वयमाहतैः। आर्षेण विधिना वेद्यां सीते दुःखमतो वनम्॥', 'यथालब्धेन कर्तव्यः संतोषस्तेन मैथिलि। यताहारैर्वनचरैः सीते दुःखमतो वनम्॥', 'अतीव वातस्तिमिरं बुभुक्षा चास्ति नित्यशः। भयानि च महान्त्यत्र अतो दु:खतरं वनम्॥', 'सरीसृपाश्च बहवो बहुरूपाश्च भामिनि। चरन्ति पथि ते दात्ततो दुःखतरं वनम्॥', 'नदीनिलयनाः सर्पा नदीकुटिलगामिनः। तिष्ठन्त्यावृत्य पन्थानमतो दुःखतरं वनम्॥', 'पतङ्गा वृश्चिकाः कीटा दंशाश्च मशकैः सह। बाधन्ते नित्यमबले सर्वं दुःखमतो वनम्॥', 'दुमाः कण्टकिनश्चैव कुशाः काशाश्च भामिनि। वने व्याकुलशाखाग्रास्तेन दुःखमतो वनम्॥', 'तदलं ते वनं गत्वा क्षेमं नहि वनं तव। विमृशनिव पश्यामि बहुदोषकरं वनम्॥', 'स रथेन महार्हेण कामगेन महारथः। अभिदुद्राव सेनां तां वनान्यग्निरिव ज्वलन्॥', 'ततः प्रविशतस्तस्य विविधायुधधारिणः। विदुद्रुवुर्दिशः सर्वा दर्शनादेव देवताः॥', 'न भेतव्यं न गन्तव्यं निवर्तध्वं रणे सुराः। एष गच्छति पुत्रो मे युद्धार्थमपराजितः॥', 'ततस्ते त्रिदशाः सर्वे परिवार्य शचीसुतम्। रावणस्य सुतं युद्धे समासाद्य प्रजनिरे।।।।।', 'तेषां युद्धं समभवत्सदृशं देवरक्षसाम्। महेन्द्रस्य च पुत्रस्य राक्षसेन्द्रसुतस्य च ॥', 'ततो मातलिपुत्रस्य गोमुखस्य स रावणिः। सारथेः पातयामास शरान्कनकभूषणान्॥', 'शचीसुतश्चापि तथा जयन्तस्तस्य सारथिम्। तं चापि रावणिः क्रुद्धः समन्तात्प्रत्यविध्यता ॥ स हि क्रोधसमाविष्टो बली विस्फारितेक्षणः। रावणिः शक्रतनयं शरवर्षैरवाकिरत्॥', 'ततो नानाप्रहरणाञ्छितधारान्सहस्रशः। पातयामास संक्रुद्धः सुरसैन्येषु रावणिः॥ शतघ्नीमुसलप्रासगदाखङ्गपरश्वधान्। महान्ति गिरिशृङ्गाणि पातयामास रावणिः॥', 'ततः प्रव्यथिता लोकाः संजज्ञे च तमस्ततः। तस्य रावणपुत्रस्य शत्रुसैन्यानि निघ्नतः॥', 'ततस्तदैवतबलं समन्तात्तं शचीसुतम्। बहुप्रकारमस्वस्थमभवच्छरपीडितम्॥', 'नाभ्यजानन्त चान्योन्यं रक्षो वा देवताथवा। तत्र तत्र विपर्यस्तं समन्तात्परिधावत ॥', 'देवा देवानिजघ्नुस्ते राक्षसान्राक्षसास्तथा। संमूढास्तमसा छन्ना व्यद्रवनपरे तथा॥', 'ज्ञात्वा प्रणाशं तु तदा जयन्तस्याथ देवताः। अप्रहृष्टास्ततः सर्वा व्यथिताः संप्रदुद्रुवुः॥', 'रावणिस्त्वथ संक्रुद्धो बलैः परिवृतः स्वकैः। अभ्यधावत देवांस्तान्मुमोच च महास्वनम्॥', 'दृष्ट्वा प्रणाशं पुत्रस्य दैवतेषु च विद्वतन्। मातलिं चाह देवेशो रथः समुपनीयताम्॥', 'स तु दिव्या महाभीमः सज्ज एव महारथः। उपस्थितो मातलिना बाह्यमानो महाजवः॥', 'ततो मेघा रथे तस्मिंस्तडित्त्वन्तो महाबलाः। अग्रतो वायुचपला नेदुः परमनिःस्वनाः॥', 'नानावाद्यानि वाद्यन्त गन्धर्वाश्च समाहिताः। ननृतुश्चाप्सरःसङ्घा निर्याते त्रिदशेश्वरे॥', 'रुद्रैर्वसुभिरादित्यैरश्विभ्यां समरुद्गणैः। वृतो नानाप्रहरणैर्निर्ययौ त्रिदशाधिपः॥', 'निर्गच्छतस्तु शक्रस्य परुषः पवनो ववौ। भास्करो निष्प्रभश्चैव महोल्काश्च प्रपेदिरे॥')]\n"
          ]
        }
      ],
      "source": [
        "for batch_num, batch in enumerate(iterator):\n",
        "    print(batch)\n",
        "    if batch_num > 3:\n",
        "        break"
      ]
    },
    {
      "cell_type": "code",
      "execution_count": 130,
      "metadata": {
        "id": "XnanjzqtzQi8"
      },
      "outputs": [
        {
          "name": "stdout",
          "output_type": "stream",
          "text": [
            "Using device: cpu\n",
            "CUDA not available, using CPU\n",
            "Transformer parameters: 7,538,777\n"
          ]
        }
      ],
      "source": [
        "from torch import nn\n",
        "\n",
        "# Check for GPU availability and set device\n",
        "device = torch.device('cuda' if torch.cuda.is_available() else 'cpu')\n",
        "print(f\"Using device: {device}\")\n",
        "\n",
        "if torch.cuda.is_available():\n",
        "    print(f\"GPU: {torch.cuda.get_device_name(0)}\")\n",
        "    print(f\"GPU Memory: {torch.cuda.get_device_properties(0).total_memory / 1024**3:.1f} GB\")\n",
        "else:\n",
        "    print(\"CUDA not available, using CPU\")\n",
        "\n",
        "criterian = nn.CrossEntropyLoss(ignore_index=sanskrit_to_index[PADDING_TOKEN],\n",
        "                                reduction='none')\n",
        "\n",
        "# When computing the loss, we are ignoring cases when the label is the padding token\n",
        "for params in transformer.parameters():\n",
        "    if params.dim() > 1:\n",
        "        nn.init.xavier_uniform_(params)\n",
        "\n",
        "optim = torch.optim.Adam(transformer.parameters(), lr=1e-4)\n",
        "\n",
        "print(f\"Transformer parameters: {sum(p.numel() for p in transformer.parameters()):,}\")"
      ]
    },
    {
      "cell_type": "code",
      "execution_count": 131,
      "metadata": {
        "id": "_saWU5QmVem2"
      },
      "outputs": [],
      "source": [
        "NEG_INFTY = -1e9\n",
        "\n",
        "def create_masks(eng_batch, kn_batch):\n",
        "    num_sentences = len(eng_batch)\n",
        "    look_ahead_mask = torch.full([max_sequence_length, max_sequence_length] , True)\n",
        "    look_ahead_mask = torch.triu(look_ahead_mask, diagonal=1)\n",
        "    encoder_padding_mask = torch.full([num_sentences, max_sequence_length, max_sequence_length] , False)\n",
        "    decoder_padding_mask_self_attention = torch.full([num_sentences, max_sequence_length, max_sequence_length] , False)\n",
        "    decoder_padding_mask_cross_attention = torch.full([num_sentences, max_sequence_length, max_sequence_length] , False)\n",
        "\n",
        "    for idx in range(num_sentences):\n",
        "      eng_sentence_length, kn_sentence_length = len(eng_batch[idx]), len(kn_batch[idx])\n",
        "      eng_chars_to_padding_mask = np.arange(eng_sentence_length + 1, max_sequence_length)\n",
        "      kn_chars_to_padding_mask = np.arange(kn_sentence_length + 1, max_sequence_length)\n",
        "      encoder_padding_mask[idx, :, eng_chars_to_padding_mask] = True\n",
        "      encoder_padding_mask[idx, eng_chars_to_padding_mask, :] = True\n",
        "      decoder_padding_mask_self_attention[idx, :, kn_chars_to_padding_mask] = True\n",
        "      decoder_padding_mask_self_attention[idx, kn_chars_to_padding_mask, :] = True\n",
        "      decoder_padding_mask_cross_attention[idx, :, eng_chars_to_padding_mask] = True\n",
        "      decoder_padding_mask_cross_attention[idx, kn_chars_to_padding_mask, :] = True\n",
        "\n",
        "    encoder_self_attention_mask = torch.where(encoder_padding_mask, NEG_INFTY, 0)\n",
        "    decoder_self_attention_mask =  torch.where(look_ahead_mask + decoder_padding_mask_self_attention, NEG_INFTY, 0)\n",
        "    decoder_cross_attention_mask = torch.where(decoder_padding_mask_cross_attention, NEG_INFTY, 0)\n",
        "    return encoder_self_attention_mask, decoder_self_attention_mask, decoder_cross_attention_mask"
      ]
    },
    {
      "cell_type": "markdown",
      "metadata": {
        "id": "gdgtTSKvwN9_"
      },
      "source": [
        "Modify mask such that the padding tokens cannot look ahead.\n",
        "In Encoder, tokens before it should be -1e9 while tokens after it should be -inf.\n",
        " "
      ]
    },
    {
      "cell_type": "markdown",
      "metadata": {
        "id": "xLcXI4wkMLck"
      },
      "source": [
        "Note the target mask starts with 2 rows of non masked items: https://github.com/SamLynnEvans/Transformer/blob/master/Beam.py#L55\n"
      ]
    },
    {
      "cell_type": "code",
      "execution_count": 132,
      "metadata": {},
      "outputs": [
        {
          "name": "stdout",
          "output_type": "stream",
          "text": [
            "Building vocabularies from actual data...\n",
            "Total sentences: 6148\n",
            "English vocabulary size: 157\n",
            "Sanskrit vocabulary size: 114\n",
            "✓ Complete vocabularies built from actual data\n",
            "Testing transformer forward pass with real data...\n",
            "✗ Error: index out of range in self\n",
            "Total sentences: 6148\n",
            "English vocabulary size: 157\n",
            "Sanskrit vocabulary size: 114\n",
            "✓ Complete vocabularies built from actual data\n",
            "Testing transformer forward pass with real data...\n",
            "✗ Error: index out of range in self\n"
          ]
        },
        {
          "name": "stderr",
          "output_type": "stream",
          "text": [
            "Traceback (most recent call last):\n",
            "  File \"/var/folders/4j/n0rl6b3s0657t_7z21qxxz6w0000gn/T/ipykernel_29778/2414974385.py\", line 78, in <module>\n",
            "    kn_predictions = transformer(eng_batch,\n",
            "                                 kn_batch,\n",
            "    ...<5 lines>...\n",
            "                                 dec_start_token=True,\n",
            "                                 dec_end_token=True)\n",
            "  File \"/Users/ankitpokhrel/Downloads/All projects/ML_Projects/sanskrit_to_english/myenv/lib/python3.13/site-packages/torch/nn/modules/module.py\", line 1751, in _wrapped_call_impl\n",
            "    return self._call_impl(*args, **kwargs)\n",
            "           ~~~~~~~~~~~~~~~^^^^^^^^^^^^^^^^^\n",
            "  File \"/Users/ankitpokhrel/Downloads/All projects/ML_Projects/sanskrit_to_english/myenv/lib/python3.13/site-packages/torch/nn/modules/module.py\", line 1762, in _call_impl\n",
            "    return forward_call(*args, **kwargs)\n",
            "  File \"/Users/ankitpokhrel/Downloads/All projects/ML_Projects/sanskrit_to_english/transformer/transformer.py\", line 301, in forward\n",
            "    x = self.encoder(x, encoder_self_attention_mask, start_token=enc_start_token, end_token=enc_end_token)\n",
            "  File \"/Users/ankitpokhrel/Downloads/All projects/ML_Projects/sanskrit_to_english/myenv/lib/python3.13/site-packages/torch/nn/modules/module.py\", line 1751, in _wrapped_call_impl\n",
            "    return self._call_impl(*args, **kwargs)\n",
            "           ~~~~~~~~~~~~~~~^^^^^^^^^^^^^^^^^\n",
            "  File \"/Users/ankitpokhrel/Downloads/All projects/ML_Projects/sanskrit_to_english/myenv/lib/python3.13/site-packages/torch/nn/modules/module.py\", line 1762, in _call_impl\n",
            "    return forward_call(*args, **kwargs)\n",
            "  File \"/Users/ankitpokhrel/Downloads/All projects/ML_Projects/sanskrit_to_english/transformer/transformer.py\", line 178, in forward\n",
            "    x = self.sentence_embedding(x, start_token, end_token)\n",
            "  File \"/Users/ankitpokhrel/Downloads/All projects/ML_Projects/sanskrit_to_english/myenv/lib/python3.13/site-packages/torch/nn/modules/module.py\", line 1751, in _wrapped_call_impl\n",
            "    return self._call_impl(*args, **kwargs)\n",
            "           ~~~~~~~~~~~~~~~^^^^^^^^^^^^^^^^^\n",
            "  File \"/Users/ankitpokhrel/Downloads/All projects/ML_Projects/sanskrit_to_english/myenv/lib/python3.13/site-packages/torch/nn/modules/module.py\", line 1762, in _call_impl\n",
            "    return forward_call(*args, **kwargs)\n",
            "  File \"/Users/ankitpokhrel/Downloads/All projects/ML_Projects/sanskrit_to_english/transformer/transformer.py\", line 71, in forward\n",
            "    x = self.embedding(x)\n",
            "  File \"/Users/ankitpokhrel/Downloads/All projects/ML_Projects/sanskrit_to_english/myenv/lib/python3.13/site-packages/torch/nn/modules/module.py\", line 1751, in _wrapped_call_impl\n",
            "    return self._call_impl(*args, **kwargs)\n",
            "           ~~~~~~~~~~~~~~~^^^^^^^^^^^^^^^^^\n",
            "  File \"/Users/ankitpokhrel/Downloads/All projects/ML_Projects/sanskrit_to_english/myenv/lib/python3.13/site-packages/torch/nn/modules/module.py\", line 1762, in _call_impl\n",
            "    return forward_call(*args, **kwargs)\n",
            "  File \"/Users/ankitpokhrel/Downloads/All projects/ML_Projects/sanskrit_to_english/myenv/lib/python3.13/site-packages/torch/nn/modules/sparse.py\", line 190, in forward\n",
            "    return F.embedding(\n",
            "           ~~~~~~~~~~~^\n",
            "        input,\n",
            "        ^^^^^^\n",
            "    ...<5 lines>...\n",
            "        self.sparse,\n",
            "        ^^^^^^^^^^^^\n",
            "    )\n",
            "    ^\n",
            "  File \"/Users/ankitpokhrel/Downloads/All projects/ML_Projects/sanskrit_to_english/myenv/lib/python3.13/site-packages/torch/nn/functional.py\", line 2551, in embedding\n",
            "    return torch.embedding(weight, input, padding_idx, scale_grad_by_freq, sparse)\n",
            "           ~~~~~~~~~~~~~~~^^^^^^^^^^^^^^^^^^^^^^^^^^^^^^^^^^^^^^^^^^^^^^^^^^^^^^^^\n",
            "IndexError: index out of range in self\n"
          ]
        }
      ],
      "source": [
        "# Build complete vocabularies from the actual data\n",
        "print(\"Building vocabularies from actual data...\")\n",
        "\n",
        "# Read the original data again\n",
        "with open(english_file, 'r') as file:\n",
        "    all_english_sentences = file.readlines()\n",
        "with open(sanskrit_file, 'r') as file:\n",
        "    all_sanskrit_sentences = file.readlines()\n",
        "\n",
        "# Limit and clean\n",
        "all_english_sentences = all_english_sentences[:TOTAL_SENTENCES]\n",
        "all_sanskrit_sentences = all_sanskrit_sentences[:TOTAL_SENTENCES]\n",
        "all_english_sentences = [sentence.rstrip('\\n').lower() for sentence in all_english_sentences]\n",
        "all_sanskrit_sentences = [sentence.rstrip('\\n') for sentence in all_sanskrit_sentences]\n",
        "\n",
        "print(f\"Total sentences: {len(all_english_sentences)}\")\n",
        "\n",
        "# Build vocabularies from ALL characters in the data\n",
        "def build_vocabulary_from_data(sentences, base_vocab):\n",
        "    \"\"\"Build vocabulary including ALL characters found in the data\"\"\"\n",
        "    vocab_set = set(base_vocab)\n",
        "    \n",
        "    for sentence in sentences:\n",
        "        for char in sentence:\n",
        "            vocab_set.add(char)\n",
        "    \n",
        "    return sorted(list(vocab_set))\n",
        "\n",
        "# Base vocabularies\n",
        "base_english_vocab = [START_TOKEN, ' ', '!', '\"', '#', '$', '%', '&', \"'\", '(', ')', '*', '+', ',', '-', '.', '/', \n",
        "                      '0', '1', '2', '3', '4', '5', '6', '7', '8', '9',\n",
        "                      ':', ';', '<', '=', '>', '?', '@', \n",
        "                      'A', 'B', 'C', 'D', 'E', 'F', 'G', 'H', 'I', 'J', 'K', 'L', \n",
        "                      'M', 'N', 'O', 'P', 'Q', 'R', 'S', 'T', 'U', 'V', 'W', 'X', \n",
        "                      'Y', 'Z', '_',\n",
        "                      'a', 'b', 'c', 'd', 'e', 'f', 'g', 'h', 'i', 'j', 'k', 'l',\n",
        "                      'm', 'n', 'o', 'p', 'q', 'r', 's', 't', 'u', 'v', 'w', 'x', \n",
        "                      'y', 'z', '{', '|', '}', '~', PADDING_TOKEN, END_TOKEN]\n",
        "\n",
        "base_sanskrit_vocab = [START_TOKEN, ' ', '!', '\"', \"'\", '(', ')', ',', '-', '.', '?', ':', ';',\n",
        "                       '0', '1', '2', '3', '4', '5', '6', '7', '8', '9',\n",
        "                       # Devanagari characters\n",
        "                       'अ', 'आ', 'इ', 'ई', 'उ', 'ऊ', 'ऋ', 'ॠ', 'ऌ', 'ॡ', 'ए', 'ऐ', 'ओ', 'औ',\n",
        "                       'क', 'ख', 'ग', 'घ', 'ङ', 'च', 'छ', 'ज', 'झ', 'ञ', 'ट', 'ठ', 'ड', 'ढ', 'ण',\n",
        "                       'त', 'थ', 'द', 'ध', 'न', 'प', 'फ', 'ब', 'भ', 'म', 'य', 'र', 'ल', 'व',\n",
        "                       'श', 'ष', 'स', 'ह', 'ा', 'ि', 'ी', 'ु', 'ू', 'ृ', 'ॄ', 'े', 'ै', 'ो', 'ौ',\n",
        "                       'ं', 'ः', 'ँ', '्', '।', '॥', PADDING_TOKEN, END_TOKEN]\n",
        "\n",
        "# Build complete vocabularies\n",
        "english_vocabulary = build_vocabulary_from_data(all_english_sentences, base_english_vocab)\n",
        "sanskrit_vocabulary = build_vocabulary_from_data(all_sanskrit_sentences, base_sanskrit_vocab)\n",
        "\n",
        "print(f\"English vocabulary size: {len(english_vocabulary)}\")\n",
        "print(f\"Sanskrit vocabulary size: {len(sanskrit_vocabulary)}\")\n",
        "\n",
        "# Create the mappings\n",
        "index_to_english = {k:v for k,v in enumerate(english_vocabulary)}\n",
        "english_to_index = {v:k for k,v in enumerate(english_vocabulary)}\n",
        "index_to_sanskrit = {k:v for k,v in enumerate(sanskrit_vocabulary)}\n",
        "sanskrit_to_index = {v:k for k,v in enumerate(sanskrit_vocabulary)}\n",
        "\n",
        "print(\"✓ Complete vocabularies built from actual data\")\n",
        "\n",
        "# Final test to ensure the vocabulary issue is resolved\n",
        "train_loader = DataLoader(dataset, batch_size)\n",
        "iterator = iter(train_loader)\n",
        "batch = next(iterator)\n",
        "eng_batch, kn_batch = batch\n",
        "\n",
        "print(\"Testing transformer forward pass with real data...\")\n",
        "try:\n",
        "    # Create masks\n",
        "    encoder_self_attention_mask, decoder_self_attention_mask, decoder_cross_attention_mask = create_masks(eng_batch, kn_batch)\n",
        "    \n",
        "    # Test forward pass\n",
        "    transformer.eval()\n",
        "    with torch.no_grad():\n",
        "        kn_predictions = transformer(eng_batch,\n",
        "                                     kn_batch,\n",
        "                                     encoder_self_attention_mask.to(device), \n",
        "                                     decoder_self_attention_mask.to(device), \n",
        "                                     decoder_cross_attention_mask.to(device),\n",
        "                                     enc_start_token=False,\n",
        "                                     enc_end_token=False,\n",
        "                                     dec_start_token=True,\n",
        "                                     dec_end_token=True)\n",
        "    \n",
        "    print(f\"✓ Forward pass successful!\")\n",
        "    print(f\"Output shape: {kn_predictions.shape}\")\n",
        "    print(f\"First sentence: '{eng_batch[0][:50]}...'\")\n",
        "    \n",
        "except Exception as e:\n",
        "    print(f\"✗ Error: {e}\")\n",
        "    import traceback\n",
        "    traceback.print_exc()"
      ]
    },
    {
      "cell_type": "code",
      "execution_count": 133,
      "metadata": {},
      "outputs": [
        {
          "name": "stdout",
          "output_type": "stream",
          "text": [
            "Valid sentences: 4633 out of 6148\n",
            "\n",
            "✓ Sanskrit-to-English transformer created!\n",
            "Device: cpu\n",
            "Dataset size: 4633\n",
            "Sanskrit vocab (input): 114\n",
            "English vocab (output): 157\n",
            "Transformer params: 7,575,709\n",
            "✓ Sanskrit-to-English transformer created!\n",
            "Device: cpu\n",
            "Dataset size: 4633\n",
            "Sanskrit vocab (input): 114\n",
            "English vocab (output): 157\n",
            "Transformer params: 7,575,709\n"
          ]
        }
      ],
      "source": [
        "# Filter sentences using the complete vocabularies\n",
        "valid_sentence_indicies = []\n",
        "for index in range(len(all_english_sentences)):\n",
        "    sanskrit_sentence, english_sentence = all_sanskrit_sentences[index], all_english_sentences[index]\n",
        "    if (is_valid_length(sanskrit_sentence, max_sequence_length) and \n",
        "        is_valid_length(english_sentence, max_sequence_length) and \n",
        "        is_valid_tokens(sanskrit_sentence, sanskrit_vocabulary) and\n",
        "        is_valid_tokens(english_sentence, english_vocabulary)):\n",
        "        valid_sentence_indicies.append(index)\n",
        "\n",
        "print(f\"Valid sentences: {len(valid_sentence_indicies)} out of {len(all_english_sentences)}\")\n",
        "\n",
        "# Create the filtered datasets\n",
        "english_sentences = [all_english_sentences[i] for i in valid_sentence_indicies]\n",
        "sanskrit_sentences = [all_sanskrit_sentences[i] for i in valid_sentence_indicies]\n",
        "\n",
        "# Recreate the dataset - NOTE: Now Sanskrit is input, English is output\n",
        "dataset = TextDataset(sanskrit_sentences, english_sentences)\n",
        "\n",
        "# Set device for GPU usage\n",
        "device = torch.device('cuda' if torch.cuda.is_available() else 'cpu')\n",
        "\n",
        "# Create the transformer: Sanskrit input -> English output\n",
        "transformer = Transformer(d_model, \n",
        "                          ffn_hidden,\n",
        "                          num_heads, \n",
        "                          drop_prob, \n",
        "                          num_layers, \n",
        "                          max_sequence_length,\n",
        "                          len(english_vocabulary),  # English is now the output vocabulary\n",
        "                          sanskrit_to_index,        # Sanskrit is now the input (encoder)\n",
        "                          english_to_index,         # English is now the output (decoder)\n",
        "                          START_TOKEN, \n",
        "                          END_TOKEN, \n",
        "                          PADDING_TOKEN)\n",
        "\n",
        "# Move transformer to GPU\n",
        "transformer = transformer.to(device)\n",
        "\n",
        "# Reinitialize everything\n",
        "criterian = nn.CrossEntropyLoss(ignore_index=english_to_index[PADDING_TOKEN], reduction='none')\n",
        "\n",
        "for params in transformer.parameters():\n",
        "    if params.dim() > 1:\n",
        "        nn.init.xavier_uniform_(params)\n",
        "\n",
        "optim = torch.optim.Adam(transformer.parameters(), lr=1e-4)\n",
        "\n",
        "print(f\"✓ Sanskrit-to-English transformer created!\")\n",
        "print(f\"Device: {device}\")\n",
        "print(f\"Dataset size: {len(dataset)}\")\n",
        "print(f\"Sanskrit vocab (input): {len(sanskrit_vocabulary)}\")\n",
        "print(f\"English vocab (output): {len(english_vocabulary)}\")\n",
        "print(f\"Transformer params: {sum(p.numel() for p in transformer.parameters()):,}\")\n",
        "\n",
        "if torch.cuda.is_available():\n",
        "    print(f\"GPU Memory allocated: {torch.cuda.memory_allocated(device) / 1024**3:.2f} GB\")\n",
        "    print(f\"GPU Memory cached: {torch.cuda.memory_reserved(device) / 1024**3:.2f} GB\")"
      ]
    },
    {
      "cell_type": "code",
      "execution_count": 134,
      "metadata": {},
      "outputs": [
        {
          "name": "stdout",
          "output_type": "stream",
          "text": [
            "Testing Sanskrit-to-English transformer...\n",
            "✅ SUCCESS! Forward pass completed\n",
            "Output shape: torch.Size([30, 200, 157])\n",
            "Sample Sanskrit input: 'तस्यां चीरं वसानायां नाथवत्यामनाथवत्। प्रचुक्रोश ज...'\n",
            "Sample English target: 'when şītā, having a husband although seeming as if...'\n",
            "\n",
            "🎉 Sanskrit-to-English transformer is working!\n",
            "You can now proceed with training.\n",
            "✅ SUCCESS! Forward pass completed\n",
            "Output shape: torch.Size([30, 200, 157])\n",
            "Sample Sanskrit input: 'तस्यां चीरं वसानायां नाथवत्यामनाथवत्। प्रचुक्रोश ज...'\n",
            "Sample English target: 'when şītā, having a husband although seeming as if...'\n",
            "\n",
            "🎉 Sanskrit-to-English transformer is working!\n",
            "You can now proceed with training.\n"
          ]
        }
      ],
      "source": [
        "# Test the Sanskrit-to-English transformer\n",
        "train_loader = DataLoader(dataset, batch_size)\n",
        "iterator = iter(train_loader)\n",
        "batch = next(iterator)\n",
        "skt_batch, eng_batch = batch  # Sanskrit input, English output\n",
        "\n",
        "print(\"Testing Sanskrit-to-English transformer...\")\n",
        "try:\n",
        "    # Test forward pass\n",
        "    encoder_self_attention_mask, decoder_self_attention_mask, decoder_cross_attention_mask = create_masks(skt_batch, eng_batch)\n",
        "    \n",
        "    transformer.eval()\n",
        "    with torch.no_grad():\n",
        "        eng_predictions = transformer(skt_batch,\n",
        "                                      eng_batch,\n",
        "                                      encoder_self_attention_mask.to(device), \n",
        "                                      decoder_self_attention_mask.to(device), \n",
        "                                      decoder_cross_attention_mask.to(device),\n",
        "                                      enc_start_token=False,\n",
        "                                      enc_end_token=False,\n",
        "                                      dec_start_token=True,\n",
        "                                      dec_end_token=True)\n",
        "    \n",
        "    print(f\"✅ SUCCESS! Forward pass completed\")\n",
        "    print(f\"Output shape: {eng_predictions.shape}\")\n",
        "    print(f\"Sample Sanskrit input: '{skt_batch[0][:50]}...'\")\n",
        "    print(f\"Sample English target: '{eng_batch[0][:50]}...'\")\n",
        "    print(\"\\n🎉 Sanskrit-to-English transformer is working!\")\n",
        "    print(\"You can now proceed with training.\")\n",
        "    \n",
        "except Exception as e:\n",
        "    print(f\"❌ Error: {e}\")\n",
        "    import traceback\n",
        "    traceback.print_exc()"
      ]
    },
    {
      "cell_type": "code",
      "execution_count": 135,
      "metadata": {
        "colab": {
          "base_uri": "https://localhost:8080/"
        },
        "id": "ju59VDGLuOqf",
        "outputId": "0ad34e31-521a-4ca2-f444-26b5374946f6"
      },
      "outputs": [
        {
          "name": "stdout",
          "output_type": "stream",
          "text": [
            "Starting Sanskrit-to-English training...\n",
            "Device: cpu\n",
            "Dataset size: 4633\n",
            "Sanskrit vocab size: 114\n",
            "English vocab size: 157\n",
            "\n",
            "Epoch 0\n",
            "Iteration 0 : 5.5575\n",
            "Sanskrit: तस्यां चीरं वसानायां नाथवत्यामनाथवत्। प्रचुक्रोश जनः सर्वो धिक् त्वां दशरथं त्वि...\n",
            "English Translation: when şītā, having a husband although seeming as if she had none, was putting on ...\n",
            "English Prediction: dş00åभNकककककककककFसPī॥॥3ससo003šकc00ş00şककdšकFककककbšīकककīoīcकcbककcīīīīīīīचभभभşdīचभ...\n",
            "Iteration 0 : 5.5575\n",
            "Sanskrit: तस्यां चीरं वसानायां नाथवत्यामनाथवत्। प्रचुक्रोश जनः सर्वो धिक् त्वां दशरथं त्वि...\n",
            "English Translation: when şītā, having a husband although seeming as if she had none, was putting on ...\n",
            "English Prediction: dş00åभNकककककककककFसPī॥॥3ससo003šकc00ş00şककdšकFककककbšīकककīoīcकcbककcīīīīīīīचभभभşdīचभ...\n",
            "Evaluation translation (नमस्ते):          mmmmaaaaPPPoooooo  ooo  oooommmmmmmoooooooooooooooooooooooooooooooooo oooo    ooooo   PP     oooooooooooooooooooo  oo  oooooooooooooooooooooooooooooooooooooooooīī  ooooooooooo    oooooooooooo\n",
            "-------------------------------------------\n",
            "Evaluation translation (नमस्ते):          mmmmaaaaPPPoooooo  ooo  oooommmmmmmoooooooooooooooooooooooooooooooooo oooo    ooooo   PP     oooooooooooooooooooo  oo  oooooooooooooooooooooooooooooooooooooooooīī  ooooooooooo    oooooooooooo\n",
            "-------------------------------------------\n",
            "Iteration 100 : 2.9737\n",
            "Sanskrit: लोकेषु पाण्डवाश्चैव गताः ख्याति द्विजोत्तम। एतत् ते सर्वमाख्यातं यन्मां त्वं परि...\n",
            "English Translation: the pandavas also, o best of brahmanas have acquired great fame. i have these to...\n",
            "English Prediction: taa    e     n    e     n    t   an a  t   d na     o       r e   e  n    ee ar ...\n",
            "Iteration 100 : 2.9737\n",
            "Sanskrit: लोकेषु पाण्डवाश्चैव गताः ख्याति द्विजोत्तम। एतत् ते सर्वमाख्यातं यन्मां त्वं परि...\n",
            "English Translation: the pandavas also, o best of brahmanas have acquired great fame. i have these to...\n",
            "English Prediction: taa    e     n    e     n    t   an a  t   d na     o       r e   e  n    ee ar ...\n",
            "Evaluation translation (नमस्ते): th                                                                                                                                            a                         a                   an t t n    \n",
            "-------------------------------------------\n",
            "Evaluation translation (नमस्ते): th                                                                                                                                            a                         a                   an t t n    \n",
            "-------------------------------------------\n",
            "Epoch 0 completed. Average loss: 3.0466\n",
            "\n",
            "Epoch 1\n",
            "Epoch 0 completed. Average loss: 3.0466\n",
            "\n",
            "Epoch 1\n",
            "Iteration 0 : 2.9935\n",
            "Sanskrit: तस्यां चीरं वसानायां नाथवत्यामनाथवत्। प्रचुक्रोश जनः सर्वो धिक् त्वां दशरथं त्वि...\n",
            "English Translation: when şītā, having a husband although seeming as if she had none, was putting on ...\n",
            "English Prediction: tte  n e   saaa   a  a  saa s a     ea       aa a    e a e a a   t        t   a ...\n",
            "Iteration 0 : 2.9935\n",
            "Sanskrit: तस्यां चीरं वसानायां नाथवत्यामनाथवत्। प्रचुक्रोश जनः सर्वो धिक् त्वां दशरथं त्वि...\n",
            "English Translation: when şītā, having a husband although seeming as if she had none, was putting on ...\n",
            "English Prediction: tte  n e   saaa   a  a  saa s a     ea       aa a    e a e a a   t        t   a ...\n",
            "Evaluation translation (नमस्ते): the a aa a a a a a a a aa a a a a a a a a   a a a a a a a a a a a a a a a a a a a a a a a a a a  a a a a a a a a a a a a a a t    a a a a t a a a o t t  o a a a     a aaa a t t o a t a a aaaatttas as \n",
            "-------------------------------------------\n",
            "Evaluation translation (नमस्ते): the a aa a a a a a a a aa a a a a a a a a   a a a a a a a a a a a a a a a a a a a a a a a a a a  a a a a a a a a a a a a a a t    a a a a t a a a o t t  o a a a     a aaa a t t o a t a a aaaatttas as \n",
            "-------------------------------------------\n",
            "Iteration 100 : 2.6373\n",
            "Sanskrit: लोकेषु पाण्डवाश्चैव गताः ख्याति द्विजोत्तम। एतत् ते सर्वमाख्यातं यन्मां त्वं परि...\n",
            "English Translation: the pandavas also, o best of brahmanas have acquired great fame. i have these to...\n",
            "English Prediction: ohe ae   n n tn    t ae  ht  baenea an wene ooe tn   a e tho n   tntan  aha   ah...\n",
            "Iteration 100 : 2.6373\n",
            "Sanskrit: लोकेषु पाण्डवाश्चैव गताः ख्याति द्विजोत्तम। एतत् ते सर्वमाख्यातं यन्मां त्वं परि...\n",
            "English Translation: the pandavas also, o best of brahmanas have acquired great fame. i have these to...\n",
            "English Prediction: ohe ae   n n tn    t ae  ht  baenea an wene ooe tn   a e tho n   tntan  aha   ah...\n",
            "Evaluation translation (नमस्ते): the aaaaaaaaaaaaaaaaaaaathaaaaaaaaaaaaaaathe aaaaaaaaaaaathe aaathe aaaaathe aathe athathe aaathe aathe athe athe aathe aaathe aaaaaaaaaathe aaaaathe at aaaaaaathe thaaaaathe the t.. a. a........... o\n",
            "-------------------------------------------\n",
            "Evaluation translation (नमस्ते): the aaaaaaaaaaaaaaaaaaaathaaaaaaaaaaaaaaathe aaaaaaaaaaaathe aaathe aaaaathe aathe athathe aaathe aathe athe athe aathe aaathe aaaaaaaaaathe aaaaathe at aaaaaaathe thaaaaathe the t.. a. a........... o\n",
            "-------------------------------------------\n",
            "Epoch 1 completed. Average loss: 2.7259\n",
            "\n",
            "Epoch 2\n",
            "Epoch 1 completed. Average loss: 2.7259\n",
            "\n",
            "Epoch 2\n",
            "Iteration 0 : 2.6814\n",
            "Sanskrit: तस्यां चीरं वसानायां नाथवत्यामनाथवत्। प्रचुक्रोश जनः सर्वो धिक् त्वां दशरथं त्वि...\n",
            "English Translation: when şītā, having a husband although seeming as if she had none, was putting on ...\n",
            "English Prediction: the  i  he aere   broas ar  ttehefs ea  rend t  an t e aer t f   aen te hhn  and...\n",
            "Iteration 0 : 2.6814\n",
            "Sanskrit: तस्यां चीरं वसानायां नाथवत्यामनाथवत्। प्रचुक्रोश जनः सर्वो धिक् त्वां दशरथं त्वि...\n",
            "English Translation: when şītā, having a husband although seeming as if she had none, was putting on ...\n",
            "English Prediction: the  i  he aere   broas ar  ttehefs ea  rend t  an t e aer t f   aen te hhn  and...\n",
            "Evaluation translation (नमस्ते): the aaaaaa a aaaatha athathathathathatha thathaaaaaaaaathe aaatoathe athe at athathe athe aat the athathe athe the athe athe the atooaaathe aaaaatooothe tooaaathe the aaa thothe the. the. a....... aso\n",
            "-------------------------------------------\n",
            "Evaluation translation (नमस्ते): the aaaaaa a aaaatha athathathathathatha thathaaaaaaaaathe aaatoathe athe at athathe athe aat the athathe athe the athe athe the atooaaathe aaaaatooothe tooaaathe the aaa thothe the. the. a....... aso\n",
            "-------------------------------------------\n",
            "Iteration 100 : 2.5301\n",
            "Sanskrit: लोकेषु पाण्डवाश्चैव गताः ख्याति द्विजोत्तम। एतत् ते सर्वमाख्यातं यन्मां त्वं परि...\n",
            "English Translation: the pandavas also, o best of brahmanas have acquired great fame. i have these to...\n",
            "English Prediction: the oal   e  t e u tnte  htf tee een n tene tne  n   a ednht no  tntene ahe   ah...\n",
            "Iteration 100 : 2.5301\n",
            "Sanskrit: लोकेषु पाण्डवाश्चैव गताः ख्याति द्विजोत्तम। एतत् ते सर्वमाख्यातं यन्मां त्वं परि...\n",
            "English Translation: the pandavas also, o best of brahmanas have acquired great fame. i have these to...\n",
            "English Prediction: the oal   e  t e u tnte  htf tee een n tene tne  n   a ednht no  tntene ahe   ah...\n",
            "Evaluation translation (नमस्ते): oo o o oo o o oooo o o o oooo o o o o o o o o oo o athe the o o o the o o the the the o ooo o o outhe o o o o ou o as ou o o the a oooa athe aaan oo the ooo as o o the o o the o the. o a. a....... o. \n",
            "-------------------------------------------\n",
            "Evaluation translation (नमस्ते): oo o o oo o o oooo o o o oooo o o o o o o o o oo o athe the o o o the o o the the the o ooo o o outhe o o o o ou o as ou o o the a oooa athe aaan oo the ooo as o o the o o the o the. o a. a....... o. \n",
            "-------------------------------------------\n"
          ]
        },
        {
          "ename": "KeyboardInterrupt",
          "evalue": "",
          "output_type": "error",
          "traceback": [
            "\u001b[31m---------------------------------------------------------------------------\u001b[39m",
            "\u001b[31mKeyboardInterrupt\u001b[39m                         Traceback (most recent call last)",
            "\u001b[36mCell\u001b[39m\u001b[36m \u001b[39m\u001b[32mIn[135]\u001b[39m\u001b[32m, line 57\u001b[39m\n\u001b[32m     54\u001b[39m valid_indicies = torch.where(labels.view(-\u001b[32m1\u001b[39m) == english_to_index[PADDING_TOKEN], \u001b[38;5;28;01mFalse\u001b[39;00m, \u001b[38;5;28;01mTrue\u001b[39;00m)\n\u001b[32m     55\u001b[39m loss = loss.sum() / valid_indicies.sum()\n\u001b[32m---> \u001b[39m\u001b[32m57\u001b[39m \u001b[43mloss\u001b[49m\u001b[43m.\u001b[49m\u001b[43mbackward\u001b[49m\u001b[43m(\u001b[49m\u001b[43m)\u001b[49m\n\u001b[32m     58\u001b[39m optim.step()\n\u001b[32m     60\u001b[39m epoch_loss += loss.item()\n",
            "\u001b[36mFile \u001b[39m\u001b[32m~/Downloads/All projects/ML_Projects/sanskrit_to_english/myenv/lib/python3.13/site-packages/torch/_tensor.py:648\u001b[39m, in \u001b[36mTensor.backward\u001b[39m\u001b[34m(self, gradient, retain_graph, create_graph, inputs)\u001b[39m\n\u001b[32m    638\u001b[39m \u001b[38;5;28;01mif\u001b[39;00m has_torch_function_unary(\u001b[38;5;28mself\u001b[39m):\n\u001b[32m    639\u001b[39m     \u001b[38;5;28;01mreturn\u001b[39;00m handle_torch_function(\n\u001b[32m    640\u001b[39m         Tensor.backward,\n\u001b[32m    641\u001b[39m         (\u001b[38;5;28mself\u001b[39m,),\n\u001b[32m   (...)\u001b[39m\u001b[32m    646\u001b[39m         inputs=inputs,\n\u001b[32m    647\u001b[39m     )\n\u001b[32m--> \u001b[39m\u001b[32m648\u001b[39m \u001b[43mtorch\u001b[49m\u001b[43m.\u001b[49m\u001b[43mautograd\u001b[49m\u001b[43m.\u001b[49m\u001b[43mbackward\u001b[49m\u001b[43m(\u001b[49m\n\u001b[32m    649\u001b[39m \u001b[43m    \u001b[49m\u001b[38;5;28;43mself\u001b[39;49m\u001b[43m,\u001b[49m\u001b[43m \u001b[49m\u001b[43mgradient\u001b[49m\u001b[43m,\u001b[49m\u001b[43m \u001b[49m\u001b[43mretain_graph\u001b[49m\u001b[43m,\u001b[49m\u001b[43m \u001b[49m\u001b[43mcreate_graph\u001b[49m\u001b[43m,\u001b[49m\u001b[43m \u001b[49m\u001b[43minputs\u001b[49m\u001b[43m=\u001b[49m\u001b[43minputs\u001b[49m\n\u001b[32m    650\u001b[39m \u001b[43m\u001b[49m\u001b[43m)\u001b[49m\n",
            "\u001b[36mFile \u001b[39m\u001b[32m~/Downloads/All projects/ML_Projects/sanskrit_to_english/myenv/lib/python3.13/site-packages/torch/autograd/__init__.py:353\u001b[39m, in \u001b[36mbackward\u001b[39m\u001b[34m(tensors, grad_tensors, retain_graph, create_graph, grad_variables, inputs)\u001b[39m\n\u001b[32m    348\u001b[39m     retain_graph = create_graph\n\u001b[32m    350\u001b[39m \u001b[38;5;66;03m# The reason we repeat the same comment below is that\u001b[39;00m\n\u001b[32m    351\u001b[39m \u001b[38;5;66;03m# some Python versions print out the first line of a multi-line function\u001b[39;00m\n\u001b[32m    352\u001b[39m \u001b[38;5;66;03m# calls in the traceback and some print out the last line\u001b[39;00m\n\u001b[32m--> \u001b[39m\u001b[32m353\u001b[39m \u001b[43m_engine_run_backward\u001b[49m\u001b[43m(\u001b[49m\n\u001b[32m    354\u001b[39m \u001b[43m    \u001b[49m\u001b[43mtensors\u001b[49m\u001b[43m,\u001b[49m\n\u001b[32m    355\u001b[39m \u001b[43m    \u001b[49m\u001b[43mgrad_tensors_\u001b[49m\u001b[43m,\u001b[49m\n\u001b[32m    356\u001b[39m \u001b[43m    \u001b[49m\u001b[43mretain_graph\u001b[49m\u001b[43m,\u001b[49m\n\u001b[32m    357\u001b[39m \u001b[43m    \u001b[49m\u001b[43mcreate_graph\u001b[49m\u001b[43m,\u001b[49m\n\u001b[32m    358\u001b[39m \u001b[43m    \u001b[49m\u001b[43minputs\u001b[49m\u001b[43m,\u001b[49m\n\u001b[32m    359\u001b[39m \u001b[43m    \u001b[49m\u001b[43mallow_unreachable\u001b[49m\u001b[43m=\u001b[49m\u001b[38;5;28;43;01mTrue\u001b[39;49;00m\u001b[43m,\u001b[49m\n\u001b[32m    360\u001b[39m \u001b[43m    \u001b[49m\u001b[43maccumulate_grad\u001b[49m\u001b[43m=\u001b[49m\u001b[38;5;28;43;01mTrue\u001b[39;49;00m\u001b[43m,\u001b[49m\n\u001b[32m    361\u001b[39m \u001b[43m\u001b[49m\u001b[43m)\u001b[49m\n",
            "\u001b[36mFile \u001b[39m\u001b[32m~/Downloads/All projects/ML_Projects/sanskrit_to_english/myenv/lib/python3.13/site-packages/torch/autograd/graph.py:824\u001b[39m, in \u001b[36m_engine_run_backward\u001b[39m\u001b[34m(t_outputs, *args, **kwargs)\u001b[39m\n\u001b[32m    822\u001b[39m     unregister_hooks = _register_logging_hooks_on_whole_graph(t_outputs)\n\u001b[32m    823\u001b[39m \u001b[38;5;28;01mtry\u001b[39;00m:\n\u001b[32m--> \u001b[39m\u001b[32m824\u001b[39m     \u001b[38;5;28;01mreturn\u001b[39;00m \u001b[43mVariable\u001b[49m\u001b[43m.\u001b[49m\u001b[43m_execution_engine\u001b[49m\u001b[43m.\u001b[49m\u001b[43mrun_backward\u001b[49m\u001b[43m(\u001b[49m\u001b[43m  \u001b[49m\u001b[38;5;66;43;03m# Calls into the C++ engine to run the backward pass\u001b[39;49;00m\n\u001b[32m    825\u001b[39m \u001b[43m        \u001b[49m\u001b[43mt_outputs\u001b[49m\u001b[43m,\u001b[49m\u001b[43m \u001b[49m\u001b[43m*\u001b[49m\u001b[43margs\u001b[49m\u001b[43m,\u001b[49m\u001b[43m \u001b[49m\u001b[43m*\u001b[49m\u001b[43m*\u001b[49m\u001b[43mkwargs\u001b[49m\n\u001b[32m    826\u001b[39m \u001b[43m    \u001b[49m\u001b[43m)\u001b[49m  \u001b[38;5;66;03m# Calls into the C++ engine to run the backward pass\u001b[39;00m\n\u001b[32m    827\u001b[39m \u001b[38;5;28;01mfinally\u001b[39;00m:\n\u001b[32m    828\u001b[39m     \u001b[38;5;28;01mif\u001b[39;00m attach_logging_hooks:\n",
            "\u001b[31mKeyboardInterrupt\u001b[39m: "
          ]
        }
      ],
      "source": [
        "# Training Sanskrit-to-English transformer on GPU\n",
        "transformer.train()\n",
        "# Ensure transformer is on the correct device\n",
        "transformer = transformer.to(device)\n",
        "total_loss = 0\n",
        "num_epochs = 10\n",
        "\n",
        "# Use the updated vocabulary size\n",
        "eng_vocab_size = len(english_vocabulary)\n",
        "\n",
        "print(f\"Starting Sanskrit-to-English training...\")\n",
        "print(f\"Device: {device}\")\n",
        "print(f\"Dataset size: {len(dataset)}\")\n",
        "print(f\"Sanskrit vocab size: {len(sanskrit_vocabulary)}\")\n",
        "print(f\"English vocab size: {len(english_vocabulary)}\")\n",
        "\n",
        "if torch.cuda.is_available():\n",
        "    print(f\"GPU: {torch.cuda.get_device_name(0)}\")\n",
        "    print(f\"Initial GPU Memory: {torch.cuda.memory_allocated(device) / 1024**3:.2f} GB\")\n",
        "\n",
        "for epoch in range(num_epochs):\n",
        "    print(f\"\\nEpoch {epoch}\")\n",
        "    iterator = iter(train_loader)\n",
        "    epoch_loss = 0\n",
        "    num_batches = 0\n",
        "    \n",
        "    for batch_num, batch in enumerate(iterator):\n",
        "        transformer.train()\n",
        "        skt_batch, eng_batch = batch  # Sanskrit input, English output\n",
        "        encoder_self_attention_mask, decoder_self_attention_mask, decoder_cross_attention_mask = create_masks(skt_batch, eng_batch)\n",
        "        \n",
        "        # Move masks to device\n",
        "        encoder_self_attention_mask = encoder_self_attention_mask.to(device)\n",
        "        decoder_self_attention_mask = decoder_self_attention_mask.to(device)\n",
        "        decoder_cross_attention_mask = decoder_cross_attention_mask.to(device)\n",
        "        \n",
        "        optim.zero_grad()\n",
        "        \n",
        "        eng_predictions = transformer(skt_batch,\n",
        "                                      eng_batch,\n",
        "                                      encoder_self_attention_mask, \n",
        "                                      decoder_self_attention_mask, \n",
        "                                      decoder_cross_attention_mask,\n",
        "                                      enc_start_token=False,\n",
        "                                      enc_end_token=False,\n",
        "                                      dec_start_token=True,\n",
        "                                      dec_end_token=True)\n",
        "        \n",
        "        labels = transformer.decoder.sentence_embedding.batch_tokenize(eng_batch, start_token=False, end_token=True)\n",
        "        loss = criterian(\n",
        "            eng_predictions.view(-1, eng_vocab_size),\n",
        "            labels.view(-1)\n",
        "        )\n",
        "        valid_indicies = torch.where(labels.view(-1) == english_to_index[PADDING_TOKEN], False, True)\n",
        "        loss = loss.sum() / valid_indicies.sum()\n",
        "        \n",
        "        loss.backward()\n",
        "        optim.step()\n",
        "        \n",
        "        epoch_loss += loss.item()\n",
        "        num_batches += 1\n",
        "        \n",
        "        if batch_num % 100 == 0:\n",
        "            print(f\"Iteration {batch_num} : {loss.item():.4f}\")\n",
        "            print(f\"Sanskrit: {skt_batch[0][:80]}...\")\n",
        "            print(f\"English Translation: {eng_batch[0][:80]}...\")\n",
        "            \n",
        "            # Predicted translation\n",
        "            eng_sentence_predicted = torch.argmax(eng_predictions[0], axis=1)\n",
        "            predicted_sentence = \"\"\n",
        "            for idx in eng_sentence_predicted:\n",
        "              if idx == english_to_index[END_TOKEN]:\n",
        "                break\n",
        "              predicted_sentence += index_to_english[idx.item()]\n",
        "            print(f\"English Prediction: {predicted_sentence[:80]}...\")\n",
        "\n",
        "            # Evaluation on a sample Sanskrit sentence\n",
        "            transformer.eval()\n",
        "            with torch.no_grad():\n",
        "                eng_sentence = (\"\",)\n",
        "                skt_sentence = (\"नमस्ते\",)  # \"Hello\" in Sanskrit\n",
        "                for word_counter in range(max_sequence_length):\n",
        "                    encoder_self_attention_mask, decoder_self_attention_mask, decoder_cross_attention_mask = create_masks(skt_sentence, eng_sentence)\n",
        "                    encoder_self_attention_mask = encoder_self_attention_mask.to(device)\n",
        "                    decoder_self_attention_mask = decoder_self_attention_mask.to(device)\n",
        "                    decoder_cross_attention_mask = decoder_cross_attention_mask.to(device)\n",
        "                    \n",
        "                    predictions = transformer(skt_sentence,\n",
        "                                              eng_sentence,\n",
        "                                              encoder_self_attention_mask, \n",
        "                                              decoder_self_attention_mask, \n",
        "                                              decoder_cross_attention_mask,\n",
        "                                              enc_start_token=False,\n",
        "                                              enc_end_token=False,\n",
        "                                              dec_start_token=True,\n",
        "                                              dec_end_token=False)\n",
        "                    next_token_prob_distribution = predictions[0][word_counter]\n",
        "                    next_token_index = torch.argmax(next_token_prob_distribution).item()\n",
        "                    next_token = index_to_english[next_token_index]\n",
        "                    eng_sentence = (eng_sentence[0] + next_token, )\n",
        "                    if next_token == END_TOKEN:\n",
        "                      break\n",
        "            \n",
        "            print(f\"Evaluation translation (नमस्ते): {eng_sentence[0]}\")\n",
        "            \n",
        "            # GPU memory info\n",
        "            if torch.cuda.is_available():\n",
        "                print(f\"GPU Memory: {torch.cuda.memory_allocated(device) / 1024**3:.2f} GB\")\n",
        "            print(\"-------------------------------------------\")\n",
        "    \n",
        "    avg_loss = epoch_loss / num_batches\n",
        "    print(f\"Epoch {epoch} completed. Average loss: {avg_loss:.4f}\")\n",
        "    \n",
        "    if torch.cuda.is_available():\n",
        "        print(f\"GPU Memory after epoch: {torch.cuda.memory_allocated(device) / 1024**3:.2f} GB\")"
      ]
    },
    {
      "cell_type": "markdown",
      "metadata": {
        "id": "1nosVPGVijId"
      },
      "source": [
        "## Inference"
      ]
    },
    {
      "cell_type": "code",
      "execution_count": null,
      "metadata": {
        "id": "ZOQe-juylBiJ"
      },
      "outputs": [],
      "source": [
        "transformer.eval()\n",
        "def translate_sanskrit_to_english(skt_sentence):\n",
        "    \"\"\"Translate Sanskrit sentence to English using GPU if available\"\"\"\n",
        "    transformer.eval()\n",
        "    with torch.no_grad():\n",
        "        skt_sentence = (skt_sentence,)\n",
        "        eng_sentence = (\"\",)\n",
        "        for word_counter in range(max_sequence_length):\n",
        "            encoder_self_attention_mask, decoder_self_attention_mask, decoder_cross_attention_mask = create_masks(skt_sentence, eng_sentence)\n",
        "            \n",
        "            # Move masks to device\n",
        "            encoder_self_attention_mask = encoder_self_attention_mask.to(device)\n",
        "            decoder_self_attention_mask = decoder_self_attention_mask.to(device)\n",
        "            decoder_cross_attention_mask = decoder_cross_attention_mask.to(device)\n",
        "            \n",
        "            predictions = transformer(skt_sentence,\n",
        "                                      eng_sentence,\n",
        "                                      encoder_self_attention_mask, \n",
        "                                      decoder_self_attention_mask, \n",
        "                                      decoder_cross_attention_mask,\n",
        "                                      enc_start_token=False,\n",
        "                                      enc_end_token=False,\n",
        "                                      dec_start_token=True,\n",
        "                                      dec_end_token=False)\n",
        "            next_token_prob_distribution = predictions[0][word_counter]\n",
        "            next_token_index = torch.argmax(next_token_prob_distribution).item()\n",
        "            next_token = index_to_english[next_token_index]\n",
        "            eng_sentence = (eng_sentence[0] + next_token, )\n",
        "            if next_token == END_TOKEN:\n",
        "                break\n",
        "        return eng_sentence[0]"
      ]
    },
    {
      "cell_type": "code",
      "execution_count": null,
      "metadata": {
        "colab": {
          "base_uri": "https://localhost:8080/"
        },
        "id": "BDVH_YsxlK6q",
        "outputId": "83c47f99-53c0-4c2d-c26a-aaa426f50563"
      },
      "outputs": [
        {
          "name": "stdout",
          "output_type": "stream",
          "text": [
            "ಇದರ ಬಗ್ಗೆ ಏನು ಮಾಡಬೇಕು?<END>\n"
          ]
        }
      ],
      "source": [
        "translation = translate(\"what should we do when the day starts?\")\n",
        "print(translation)\n",
        "#ದಿನ ಪ್ರಾರಂಭವಾದಾಗ ನಾವು ಏನು ಮಾಡಬೇಕು?\n",
        "\n",
        "# Test Sanskrit-to-English translations\n",
        "translation = translate_sanskrit_to_english(\"नमस्ते\")\n",
        "print(f\"Sanskrit: नमस्ते\")\n",
        "print(f\"English: {translation}\")\n",
        "print()"
      ]
    },
    {
      "cell_type": "code",
      "execution_count": null,
      "metadata": {
        "colab": {
          "base_uri": "https://localhost:8080/"
        },
        "id": "l9yfawBnul0W",
        "outputId": "d9e6e6b7-683b-45f9-f013-c53c31038306"
      },
      "outputs": [
        {
          "name": "stdout",
          "output_type": "stream",
          "text": [
            "ಹೇಗೆ ಇದು ಹೇಗೆ ಹೇಗೆ?<END>\n"
          ]
        }
      ],
      "source": [
        "translation = translate_sanskrit_to_english(\"सत्यं किम्?\")\n",
        "print(f\"Sanskrit: सत्यं ಕಿಮ್?\")\n",
        "print(f\"English: {translation}\")\n",
        "print()"
      ]
    },
    {
      "cell_type": "code",
      "execution_count": null,
      "metadata": {
        "colab": {
          "base_uri": "https://localhost:8080/"
        },
        "id": "jpdYBk5-urcQ",
        "outputId": "ca7249c5-efda-4f41-f052-ecef9691be82"
      },
      "outputs": [
        {
          "name": "stdout",
          "output_type": "stream",
          "text": [
            "ಇದರಿಂದ ಮೂಲಕ ಸಂಬಂಧಿಸಿದ ಮೇಲೆ ಮಾಡಿದ್ದಾರೆ<END>\n"
          ]
        }
      ],
      "source": [
        "translation = translate_sanskrit_to_english(\"जगत् एकः महान् स्थानः अस्ति\")\n",
        "print(f\"Sanskrit: जगत् एकः महान् स्थानः अस्ति\")\n",
        "print(f\"English: {translation}\")\n",
        "print()"
      ]
    },
    {
      "cell_type": "code",
      "execution_count": null,
      "metadata": {
        "colab": {
          "base_uri": "https://localhost:8080/"
        },
        "id": "Ni9e2UYUuxi3",
        "outputId": "b93968e6-3f12-4794-b277-3a3821af221e"
      },
      "outputs": [
        {
          "name": "stdout",
          "output_type": "stream",
          "text": [
            "ನಾನು ಕುಟುಂಬದ ಹೆಸರು<END>\n"
          ]
        }
      ],
      "source": [
        "translation = translate_sanskrit_to_english(\"मम नाम अजयः\")\n",
        "print(f\"Sanskrit: मम नाम ಅಜಯ್\")\n",
        "print(f\"English: {translation}\")\n",
        "print()"
      ]
    },
    {
      "cell_type": "code",
      "execution_count": null,
      "metadata": {
        "colab": {
          "base_uri": "https://localhost:8080/"
        },
        "id": "sJuJKHqFldW3",
        "outputId": "71aa2c6c-ec77-4b02-d39b-bd724012fb53"
      },
      "outputs": [
        {
          "name": "stdout",
          "output_type": "stream",
          "text": [
            "ನಾನು ಅಂತರ ಸಂಗತಿ ನಾನು ಕೊಡುವುದಿಲ್ಲ<END>\n"
          ]
        }
      ],
      "source": [
        "translation = translate_sanskrit_to_english(\"अहं एतं गन्धं न सहे\")\n",
        "print(f\"Sanskrit: अहं एतं गन्धं न सहे\")\n",
        "print(f\"English: {translation}\")\n",
        "print()"
      ]
    },
    {
      "cell_type": "code",
      "execution_count": null,
      "metadata": {
        "colab": {
          "base_uri": "https://localhost:8080/"
        },
        "id": "AB6TEJfGlkRT",
        "outputId": "adb465d5-b0ed-4be4-9251-62c079f49491"
      },
      "outputs": [
        {
          "name": "stdout",
          "output_type": "stream",
          "text": [
            "ಇದು ಅತ್ಯಂತ ಹೊರತಾಗಿದೆ<END>\n"
          ]
        }
      ],
      "source": [
        "translation = translate_sanskrit_to_english(\"इदं सर्वोत्तमं वस्तु\")\n",
        "print(f\"Sanskrit: इदं सर्वोत्तमं वस्तु\")\n",
        "print(f\"English: {translation}\")\n",
        "print()"
      ]
    },
    {
      "cell_type": "code",
      "execution_count": null,
      "metadata": {
        "colab": {
          "base_uri": "https://localhost:8080/"
        },
        "id": "BQwDbuWBlmmA",
        "outputId": "7ae0e2c0-02c0-4c74-bc47-26b67da55a06"
      },
      "outputs": [
        {
          "name": "stdout",
          "output_type": "stream",
          "text": [
            "ನಾನು ಕೇಳಿದ್ದೇನೆ.<END>\n"
          ]
        }
      ],
      "source": [
        "translation = translate_sanskrit_to_english(\"अहं अत्र अस्मि\")\n",
        "print(f\"Sanskrit: अहं अत्र अस्मि\")\n",
        "print(f\"English: {translation}\")\n",
        "print()"
      ]
    },
    {
      "cell_type": "markdown",
      "metadata": {
        "id": "BzrOcNUk1-e5"
      },
      "source": [
        "## Insights for Sanskrit-to-English Translation\n",
        "\n",
        "- **Character-level tokenization**: While we're using character-level tokenization, word-based or BPE-based tokenization might yield better results for Sanskrit, especially considering its complex morphology.\n",
        "- **Dataset quality**: Ensure the training set has diverse Sanskrit texts (classical literature, modern usage, different domains) paired with accurate English translations.\n",
        "- **Model capacity**: Consider increasing the number of encoder/decoder layers for better translation quality. Currently set to 1 layer each for faster training.\n",
        "- **Sanskrit script complexity**: Devanagari script has conjuncts and complex character combinations that might benefit from specialized preprocessing.\n",
        "- **Evaluation metrics**: Consider implementing BLEU score or other translation quality metrics for better evaluation during training.\n",
        "- **Fine-tuning**: Start with a smaller learning rate and consider learning rate scheduling for better convergence."
      ]
    },
    {
      "cell_type": "markdown",
      "metadata": {
        "id": "cd6_k0Uu5V7f"
      },
      "source": [
        "## Conclusion\n",
        "\n",
        "This transformer model is now configured for **Sanskrit-to-English translation**. The model architecture includes:\n",
        "\n",
        "- **Input**: Sanskrit text (Devanagari script)\n",
        "- **Output**: English text\n",
        "- **Vocabulary**: Complete character-level vocabularies built from the actual dataset\n",
        "- **Model**: Single-layer encoder-decoder transformer (can be increased for better performance)\n",
        "\n",
        "The model should learn to translate Sanskrit sentences to English. For production use, consider:\n",
        "1. Increasing model layers and capacity\n",
        "2. Using larger datasets\n",
        "3. Implementing proper evaluation metrics\n",
        "4. Adding beam search for better decoding\n",
        "5. Experimenting with subword tokenization (BPE/SentencePiece)"
      ]
    }
  ],
  "metadata": {
    "accelerator": "GPU",
    "colab": {
      "provenance": []
    },
    "gpuClass": "standard",
    "kernelspec": {
      "display_name": "myenv",
      "language": "python",
      "name": "python3"
    },
    "language_info": {
      "codemirror_mode": {
        "name": "ipython",
        "version": 3
      },
      "file_extension": ".py",
      "mimetype": "text/x-python",
      "name": "python",
      "nbconvert_exporter": "python",
      "pygments_lexer": "ipython3",
      "version": "3.13.1"
    }
  },
  "nbformat": 4,
  "nbformat_minor": 0
}

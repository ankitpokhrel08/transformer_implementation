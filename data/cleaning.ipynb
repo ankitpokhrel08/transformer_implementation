{
 "cells": [
  {
   "cell_type": "code",
   "execution_count": null,
   "id": "faee50b6",
   "metadata": {},
   "outputs": [],
   "source": [
    "### The data was scraped from github: https://github.com/rahular/itihasa and \n",
    "# I just concad it with another data scraped from web "
   ]
  },
  {
   "cell_type": "code",
   "execution_count": 1,
   "id": "f04d5d69",
   "metadata": {},
   "outputs": [],
   "source": [
    "import pandas as pd"
   ]
  },
  {
   "cell_type": "code",
   "execution_count": 4,
   "id": "e8568def",
   "metadata": {},
   "outputs": [],
   "source": [
    "with open('dev.sn', 'r', encoding='utf-8') as sn_file, \\\n",
    "     open('dev.en', 'r', encoding='utf-8') as en_file, \\\n",
    "     open('dev.mixed', 'w', encoding='utf-8') as out_file:\n",
    "\n",
    "    for s_line, e_line in zip(sn_file, en_file):\n",
    "        out_file.write(s_line.strip() + '\\n')\n",
    "        out_file.write(e_line.strip() + '\\n')\n",
    "        out_file.write('\\n')"
   ]
  },
  {
   "cell_type": "code",
   "execution_count": 5,
   "id": "125658c9",
   "metadata": {},
   "outputs": [],
   "source": [
    "with open('dev.mixed', 'r', encoding='utf-8') as file1, \\\n",
    "     open('geeta.txt', 'r', encoding='utf-8') as file2, \\\n",
    "     open('combined.txt', 'w', encoding='utf-8') as outfile:\n",
    "\n",
    "    outfile.writelines(file1)\n",
    "    outfile.write('\\n')\n",
    "    outfile.writelines(file2)"
   ]
  },
  {
   "cell_type": "code",
   "execution_count": 3,
   "id": "e1dc3b69",
   "metadata": {},
   "outputs": [
    {
     "name": "stdout",
     "output_type": "stream",
     "text": [
      "✅ Files 'train.sn' and 'train.en' created successfully.\n"
     ]
    }
   ],
   "source": [
    " # Open the source file\n",
    "with open(\"final_data.txt\", \"r\", encoding=\"utf-8\") as f:\n",
    "    lines = [line.strip() for line in f if line.strip() != \"\"]\n",
    "\n",
    "# Initialize lists\n",
    "sanskrit_lines = []\n",
    "english_lines = []\n",
    "\n",
    "# Since it's [Sanskrit, English, Sanskrit, English, ...]\n",
    "for i in range(0, len(lines), 2):\n",
    "    sanskrit_lines.append(lines[i])\n",
    "    if i + 1 < len(lines):\n",
    "        english_lines.append(lines[i + 1])\n",
    "\n",
    "# Write to train.sn (Sanskrit)\n",
    "with open(\"train.sn\", \"w\", encoding=\"utf-8\") as sn_file:\n",
    "    sn_file.write(\"\\n\".join(sanskrit_lines))\n",
    "\n",
    "# Write to train.en (English)\n",
    "with open(\"train.en\", \"w\", encoding=\"utf-8\") as en_file:\n",
    "    en_file.write(\"\\n\".join(english_lines))\n",
    "\n",
    "print(\"✅ Files 'train.sn' and 'train.en' created successfully.\")\n"
   ]
  },
  {
   "cell_type": "code",
   "execution_count": null,
   "id": "4ab6a316",
   "metadata": {},
   "outputs": [],
   "source": []
  }
 ],
 "metadata": {
  "kernelspec": {
   "display_name": "myenv",
   "language": "python",
   "name": "python3"
  },
  "language_info": {
   "codemirror_mode": {
    "name": "ipython",
    "version": 3
   },
   "file_extension": ".py",
   "mimetype": "text/x-python",
   "name": "python",
   "nbconvert_exporter": "python",
   "pygments_lexer": "ipython3",
   "version": "3.13.1"
  }
 },
 "nbformat": 4,
 "nbformat_minor": 5
}
